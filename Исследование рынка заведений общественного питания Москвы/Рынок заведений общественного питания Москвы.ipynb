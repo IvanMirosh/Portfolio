{
 "cells": [
  {
   "cell_type": "markdown",
   "metadata": {},
   "source": [
    "#      Рынок заведений общественного питания Москвы"
   ]
  },
  {
   "cell_type": "markdown",
   "metadata": {},
   "source": [
    "## Контекст\n",
    "\n",
    "Мы проводим исследование рынка общественного питания Москвы для выявления критериев перспективного заведения.\n",
    "\n",
    "## Задача\n",
    "\n",
    "Нам необходимо подобрать подходящий тип заведения, определить его общие характеристики, а так же перспективное местоположение.\n",
    "\n",
    "## План работы\n",
    "\n",
    "> * Загрузим библиотеки.\n",
    "> * Загрузим данные о заведениях общественного питания Москвы.\n",
    "> * Проверим, что тип данных в каждой колонке — корректный, а также пропуски и дубликаты.\n",
    "> * Обработаем пропуски и дубликаты.\n",
    "> * Исследуем соотношение видов объектов общественного питания по количеству. Построим график.\n",
    "> * Исследуем соотношение сетевых и несетевых заведений по количеству. Построим график.\n",
    "> * Определим для каких объектов общественного питания характерно сетевое распространение.\n",
    "> * Определим, характерны ли для сетевых заведений следующие характеристики: \n",
    "> >  - много заведений с небольшим числом посадочных мест в каждом; \n",
    "> >  - мало заведений с большим количеством посадочных мест;\n",
    "> * Опишем среднее количество посадочных мест для каждого вида объекта общественного питания. \n",
    "> * Определим, какой вид предоставляет в среднем самое большое количество посадочных мест. Построим график.\n",
    "> * Выделим в отдельный столбец информацию об улице из столбца address.\n",
    "> * Построим график топ-10 улиц по количеству объектов общественного питания. Воспользуемся внешней информацией для ответа на вопрос — в каких районах Москвы находятся эти улицы.\n",
    "> * Найдем число улиц с одним объектом общественного питания.\n",
    "> * Подведем итоги и сделаем выводы.\n",
    "\n",
    "## Описание данных\n",
    "\n",
    "Данные для анализа таблица rest_data:\n",
    "\n",
    "> * id — идентификатор объекта;\n",
    "> * object_name — название объекта общественного питания;\n",
    "> * chain — сетевой ресторан;\n",
    "> * object_type — тип объекта общественного питания;\n",
    "> * address — адрес;\n",
    "> * number — количество посадочных мест.\n"
   ]
  },
  {
   "cell_type": "markdown",
   "metadata": {},
   "source": [
    "## Обзор данных <a id=\"some_id\"></a>"
   ]
  },
  {
   "cell_type": "markdown",
   "metadata": {},
   "source": [
    "Загрузим библиотеки"
   ]
  },
  {
   "cell_type": "code",
   "execution_count": 7,
   "metadata": {},
   "outputs": [],
   "source": [
    "import pandas as pd\n",
    "import matplotlib.pyplot as plt\n",
    "import seaborn as sns"
   ]
  },
  {
   "cell_type": "markdown",
   "metadata": {},
   "source": [
    "Прочитаем данные из файла"
   ]
  },
  {
   "cell_type": "code",
   "execution_count": 8,
   "metadata": {},
   "outputs": [],
   "source": [
    "try:\n",
    "    rest_df = pd.read_csv('/datasets/rest_data.csv')\n",
    "except:\n",
    "    rest_df = pd.read_csv('/Users/ivan_miroshnichenko/Downloads/rest_data.csv')"
   ]
  },
  {
   "cell_type": "markdown",
   "metadata": {},
   "source": [
    "Взглянем на общую информацию"
   ]
  },
  {
   "cell_type": "code",
   "execution_count": 9,
   "metadata": {
    "scrolled": true
   },
   "outputs": [
    {
     "data": {
      "text/html": [
       "<div>\n",
       "<style scoped>\n",
       "    .dataframe tbody tr th:only-of-type {\n",
       "        vertical-align: middle;\n",
       "    }\n",
       "\n",
       "    .dataframe tbody tr th {\n",
       "        vertical-align: top;\n",
       "    }\n",
       "\n",
       "    .dataframe thead th {\n",
       "        text-align: right;\n",
       "    }\n",
       "</style>\n",
       "<table border=\"1\" class=\"dataframe\">\n",
       "  <thead>\n",
       "    <tr style=\"text-align: right;\">\n",
       "      <th></th>\n",
       "      <th>id</th>\n",
       "      <th>object_name</th>\n",
       "      <th>chain</th>\n",
       "      <th>object_type</th>\n",
       "      <th>address</th>\n",
       "      <th>number</th>\n",
       "    </tr>\n",
       "  </thead>\n",
       "  <tbody>\n",
       "    <tr>\n",
       "      <th>0</th>\n",
       "      <td>151635</td>\n",
       "      <td>СМЕТАНА</td>\n",
       "      <td>нет</td>\n",
       "      <td>кафе</td>\n",
       "      <td>город Москва, улица Егора Абакумова, дом 9</td>\n",
       "      <td>48</td>\n",
       "    </tr>\n",
       "    <tr>\n",
       "      <th>1</th>\n",
       "      <td>77874</td>\n",
       "      <td>Родник</td>\n",
       "      <td>нет</td>\n",
       "      <td>кафе</td>\n",
       "      <td>город Москва, улица Талалихина, дом 2/1, корпус 1</td>\n",
       "      <td>35</td>\n",
       "    </tr>\n",
       "    <tr>\n",
       "      <th>2</th>\n",
       "      <td>24309</td>\n",
       "      <td>Кафе «Академия»</td>\n",
       "      <td>нет</td>\n",
       "      <td>кафе</td>\n",
       "      <td>город Москва, Абельмановская улица, дом 6</td>\n",
       "      <td>95</td>\n",
       "    </tr>\n",
       "    <tr>\n",
       "      <th>3</th>\n",
       "      <td>21894</td>\n",
       "      <td>ПИЦЦЕТОРИЯ</td>\n",
       "      <td>да</td>\n",
       "      <td>кафе</td>\n",
       "      <td>город Москва, Абрамцевская улица, дом 1</td>\n",
       "      <td>40</td>\n",
       "    </tr>\n",
       "    <tr>\n",
       "      <th>4</th>\n",
       "      <td>119365</td>\n",
       "      <td>Кафе «Вишневая метель»</td>\n",
       "      <td>нет</td>\n",
       "      <td>кафе</td>\n",
       "      <td>город Москва, Абрамцевская улица, дом 9, корпус 1</td>\n",
       "      <td>50</td>\n",
       "    </tr>\n",
       "    <tr>\n",
       "      <th>5</th>\n",
       "      <td>27429</td>\n",
       "      <td>СТОЛ. ПРИ ГОУ СОШ № 1051</td>\n",
       "      <td>нет</td>\n",
       "      <td>столовая</td>\n",
       "      <td>город Москва, Абрамцевская улица, дом 15, корп...</td>\n",
       "      <td>240</td>\n",
       "    </tr>\n",
       "    <tr>\n",
       "      <th>6</th>\n",
       "      <td>148815</td>\n",
       "      <td>Брусника</td>\n",
       "      <td>да</td>\n",
       "      <td>кафе</td>\n",
       "      <td>город Москва, переулок Сивцев Вражек, дом 6/2</td>\n",
       "      <td>10</td>\n",
       "    </tr>\n",
       "    <tr>\n",
       "      <th>7</th>\n",
       "      <td>20957</td>\n",
       "      <td>Буфет МТУСИ</td>\n",
       "      <td>нет</td>\n",
       "      <td>столовая</td>\n",
       "      <td>город Москва, Авиамоторная улица, дом 8, строе...</td>\n",
       "      <td>90</td>\n",
       "    </tr>\n",
       "    <tr>\n",
       "      <th>8</th>\n",
       "      <td>20958</td>\n",
       "      <td>КПФ СЕМЬЯ-1</td>\n",
       "      <td>нет</td>\n",
       "      <td>столовая</td>\n",
       "      <td>город Москва, Авиамоторная улица, дом 8, строе...</td>\n",
       "      <td>150</td>\n",
       "    </tr>\n",
       "    <tr>\n",
       "      <th>9</th>\n",
       "      <td>28858</td>\n",
       "      <td>Столовая МТУСИ</td>\n",
       "      <td>нет</td>\n",
       "      <td>столовая</td>\n",
       "      <td>город Москва, Авиамоторная улица, дом 8, строе...</td>\n",
       "      <td>120</td>\n",
       "    </tr>\n",
       "  </tbody>\n",
       "</table>\n",
       "</div>"
      ],
      "text/plain": [
       "       id               object_name chain object_type  \\\n",
       "0  151635                   СМЕТАНА   нет        кафе   \n",
       "1   77874                    Родник   нет        кафе   \n",
       "2   24309           Кафе «Академия»   нет        кафе   \n",
       "3   21894                ПИЦЦЕТОРИЯ    да        кафе   \n",
       "4  119365    Кафе «Вишневая метель»   нет        кафе   \n",
       "5   27429  СТОЛ. ПРИ ГОУ СОШ № 1051   нет    столовая   \n",
       "6  148815                  Брусника    да        кафе   \n",
       "7   20957               Буфет МТУСИ   нет    столовая   \n",
       "8   20958               КПФ СЕМЬЯ-1   нет    столовая   \n",
       "9   28858            Столовая МТУСИ   нет    столовая   \n",
       "\n",
       "                                             address  number  \n",
       "0         город Москва, улица Егора Абакумова, дом 9      48  \n",
       "1  город Москва, улица Талалихина, дом 2/1, корпус 1      35  \n",
       "2          город Москва, Абельмановская улица, дом 6      95  \n",
       "3            город Москва, Абрамцевская улица, дом 1      40  \n",
       "4  город Москва, Абрамцевская улица, дом 9, корпус 1      50  \n",
       "5  город Москва, Абрамцевская улица, дом 15, корп...     240  \n",
       "6      город Москва, переулок Сивцев Вражек, дом 6/2      10  \n",
       "7  город Москва, Авиамоторная улица, дом 8, строе...      90  \n",
       "8  город Москва, Авиамоторная улица, дом 8, строе...     150  \n",
       "9  город Москва, Авиамоторная улица, дом 8, строе...     120  "
      ]
     },
     "metadata": {},
     "output_type": "display_data"
    },
    {
     "name": "stdout",
     "output_type": "stream",
     "text": [
      "<class 'pandas.core.frame.DataFrame'>\n",
      "RangeIndex: 15366 entries, 0 to 15365\n",
      "Data columns (total 6 columns):\n",
      " #   Column       Non-Null Count  Dtype \n",
      "---  ------       --------------  ----- \n",
      " 0   id           15366 non-null  int64 \n",
      " 1   object_name  15366 non-null  object\n",
      " 2   chain        15366 non-null  object\n",
      " 3   object_type  15366 non-null  object\n",
      " 4   address      15366 non-null  object\n",
      " 5   number       15366 non-null  int64 \n",
      "dtypes: int64(2), object(4)\n",
      "memory usage: 720.4+ KB\n"
     ]
    }
   ],
   "source": [
    "display(rest_df.head(10))\n",
    "rest_df.info()"
   ]
  },
  {
   "cell_type": "markdown",
   "metadata": {},
   "source": [
    "## Предобработка данных"
   ]
  },
  {
   "cell_type": "markdown",
   "metadata": {},
   "source": [
    "Проверим имеются ли явные дубликаты"
   ]
  },
  {
   "cell_type": "code",
   "execution_count": 10,
   "metadata": {},
   "outputs": [
    {
     "name": "stdout",
     "output_type": "stream",
     "text": [
      "Количество дубликатов: 0\n"
     ]
    }
   ],
   "source": [
    "rest_df['object_name'] = rest_df['object_name'].str.lower()\n",
    "print('Количество дубликатов:', rest_df.duplicated().sum())"
   ]
  },
  {
   "cell_type": "markdown",
   "metadata": {},
   "source": [
    "Проверим на наличие пропусков"
   ]
  },
  {
   "cell_type": "code",
   "execution_count": 11,
   "metadata": {
    "scrolled": true
   },
   "outputs": [
    {
     "name": "stdout",
     "output_type": "stream",
     "text": [
      "Количество дубликатов: id             0\n",
      "object_name    0\n",
      "chain          0\n",
      "object_type    0\n",
      "address        0\n",
      "number         0\n",
      "dtype: int64\n"
     ]
    }
   ],
   "source": [
    "print('Количество дубликатов:', rest_df.isna().sum())"
   ]
  },
  {
   "cell_type": "markdown",
   "metadata": {},
   "source": [
    "Посмотрим на уникальные значения 'chain' и 'object_type'. Рассмотрим два эти столбца потому что они дают наиболее важные категориальные данные из всей таблицы."
   ]
  },
  {
   "cell_type": "code",
   "execution_count": 18,
   "metadata": {},
   "outputs": [
    {
     "ename": "TypeError",
     "evalue": "'numpy.int64' object is not iterable",
     "output_type": "error",
     "traceback": [
      "\u001b[0;31m---------------------------------------------------------------------------\u001b[0m",
      "\u001b[0;31mTypeError\u001b[0m                                 Traceback (most recent call last)",
      "\u001b[0;32m/var/folders/3p/zgn1x_510s161b53xt86ml8c0000gn/T/ipykernel_65426/1328326482.py\u001b[0m in \u001b[0;36m<module>\u001b[0;34m\u001b[0m\n\u001b[0;32m----> 1\u001b[0;31m \u001b[0mprint\u001b[0m\u001b[0;34m(\u001b[0m\u001b[0;34m'Уникальные значения в столбце chain:\\n'\u001b[0m\u001b[0;34m,\u001b[0m \u001b[0mtabulate\u001b[0m\u001b[0;34m(\u001b[0m\u001b[0mrest_df\u001b[0m\u001b[0;34m[\u001b[0m\u001b[0;34m'chain'\u001b[0m\u001b[0;34m]\u001b[0m\u001b[0;34m.\u001b[0m\u001b[0mvalue_counts\u001b[0m\u001b[0;34m(\u001b[0m\u001b[0;34m)\u001b[0m\u001b[0;34m)\u001b[0m\u001b[0;34m)\u001b[0m\u001b[0;34m\u001b[0m\u001b[0;34m\u001b[0m\u001b[0m\n\u001b[0m\u001b[1;32m      2\u001b[0m \u001b[0mprint\u001b[0m\u001b[0;34m(\u001b[0m\u001b[0;34m'Уникальные значения в столбце object_type:\\n'\u001b[0m\u001b[0;34m,\u001b[0m \u001b[0mrest_df\u001b[0m\u001b[0;34m[\u001b[0m\u001b[0;34m'object_type'\u001b[0m\u001b[0;34m]\u001b[0m\u001b[0;34m.\u001b[0m\u001b[0mvalue_counts\u001b[0m\u001b[0;34m(\u001b[0m\u001b[0;34m)\u001b[0m\u001b[0;34m)\u001b[0m\u001b[0;34m\u001b[0m\u001b[0;34m\u001b[0m\u001b[0m\n",
      "\u001b[0;32m~/opt/anaconda3/lib/python3.9/site-packages/tabulate/__init__.py\u001b[0m in \u001b[0;36mtabulate\u001b[0;34m(tabular_data, headers, tablefmt, floatfmt, intfmt, numalign, stralign, missingval, showindex, disable_numparse, colalign, maxcolwidths, rowalign, maxheadercolwidths)\u001b[0m\n\u001b[1;32m   2046\u001b[0m         \u001b[0mtabular_data\u001b[0m \u001b[0;34m=\u001b[0m \u001b[0;34m[\u001b[0m\u001b[0;34m]\u001b[0m\u001b[0;34m\u001b[0m\u001b[0;34m\u001b[0m\u001b[0m\n\u001b[1;32m   2047\u001b[0m \u001b[0;34m\u001b[0m\u001b[0m\n\u001b[0;32m-> 2048\u001b[0;31m     list_of_lists, headers = _normalize_tabular_data(\n\u001b[0m\u001b[1;32m   2049\u001b[0m         \u001b[0mtabular_data\u001b[0m\u001b[0;34m,\u001b[0m \u001b[0mheaders\u001b[0m\u001b[0;34m,\u001b[0m \u001b[0mshowindex\u001b[0m\u001b[0;34m=\u001b[0m\u001b[0mshowindex\u001b[0m\u001b[0;34m\u001b[0m\u001b[0;34m\u001b[0m\u001b[0m\n\u001b[1;32m   2050\u001b[0m     )\n",
      "\u001b[0;32m~/opt/anaconda3/lib/python3.9/site-packages/tabulate/__init__.py\u001b[0m in \u001b[0;36m_normalize_tabular_data\u001b[0;34m(tabular_data, headers, showindex)\u001b[0m\n\u001b[1;32m   1369\u001b[0m             \u001b[0;31m# for DataFrames add an index per default\u001b[0m\u001b[0;34m\u001b[0m\u001b[0;34m\u001b[0m\u001b[0m\n\u001b[1;32m   1370\u001b[0m             \u001b[0mindex\u001b[0m \u001b[0;34m=\u001b[0m \u001b[0mlist\u001b[0m\u001b[0;34m(\u001b[0m\u001b[0mtabular_data\u001b[0m\u001b[0;34m.\u001b[0m\u001b[0mindex\u001b[0m\u001b[0;34m)\u001b[0m\u001b[0;34m\u001b[0m\u001b[0;34m\u001b[0m\u001b[0m\n\u001b[0;32m-> 1371\u001b[0;31m             \u001b[0mrows\u001b[0m \u001b[0;34m=\u001b[0m \u001b[0;34m[\u001b[0m\u001b[0mlist\u001b[0m\u001b[0;34m(\u001b[0m\u001b[0mrow\u001b[0m\u001b[0;34m)\u001b[0m \u001b[0;32mfor\u001b[0m \u001b[0mrow\u001b[0m \u001b[0;32min\u001b[0m \u001b[0mvals\u001b[0m\u001b[0;34m]\u001b[0m\u001b[0;34m\u001b[0m\u001b[0;34m\u001b[0m\u001b[0m\n\u001b[0m\u001b[1;32m   1372\u001b[0m         \u001b[0;32melse\u001b[0m\u001b[0;34m:\u001b[0m\u001b[0;34m\u001b[0m\u001b[0;34m\u001b[0m\u001b[0m\n\u001b[1;32m   1373\u001b[0m             \u001b[0;32mraise\u001b[0m \u001b[0mValueError\u001b[0m\u001b[0;34m(\u001b[0m\u001b[0;34m\"tabular data doesn't appear to be a dict or a DataFrame\"\u001b[0m\u001b[0;34m)\u001b[0m\u001b[0;34m\u001b[0m\u001b[0;34m\u001b[0m\u001b[0m\n",
      "\u001b[0;32m~/opt/anaconda3/lib/python3.9/site-packages/tabulate/__init__.py\u001b[0m in \u001b[0;36m<listcomp>\u001b[0;34m(.0)\u001b[0m\n\u001b[1;32m   1369\u001b[0m             \u001b[0;31m# for DataFrames add an index per default\u001b[0m\u001b[0;34m\u001b[0m\u001b[0;34m\u001b[0m\u001b[0m\n\u001b[1;32m   1370\u001b[0m             \u001b[0mindex\u001b[0m \u001b[0;34m=\u001b[0m \u001b[0mlist\u001b[0m\u001b[0;34m(\u001b[0m\u001b[0mtabular_data\u001b[0m\u001b[0;34m.\u001b[0m\u001b[0mindex\u001b[0m\u001b[0;34m)\u001b[0m\u001b[0;34m\u001b[0m\u001b[0;34m\u001b[0m\u001b[0m\n\u001b[0;32m-> 1371\u001b[0;31m             \u001b[0mrows\u001b[0m \u001b[0;34m=\u001b[0m \u001b[0;34m[\u001b[0m\u001b[0mlist\u001b[0m\u001b[0;34m(\u001b[0m\u001b[0mrow\u001b[0m\u001b[0;34m)\u001b[0m \u001b[0;32mfor\u001b[0m \u001b[0mrow\u001b[0m \u001b[0;32min\u001b[0m \u001b[0mvals\u001b[0m\u001b[0;34m]\u001b[0m\u001b[0;34m\u001b[0m\u001b[0;34m\u001b[0m\u001b[0m\n\u001b[0m\u001b[1;32m   1372\u001b[0m         \u001b[0;32melse\u001b[0m\u001b[0;34m:\u001b[0m\u001b[0;34m\u001b[0m\u001b[0;34m\u001b[0m\u001b[0m\n\u001b[1;32m   1373\u001b[0m             \u001b[0;32mraise\u001b[0m \u001b[0mValueError\u001b[0m\u001b[0;34m(\u001b[0m\u001b[0;34m\"tabular data doesn't appear to be a dict or a DataFrame\"\u001b[0m\u001b[0;34m)\u001b[0m\u001b[0;34m\u001b[0m\u001b[0;34m\u001b[0m\u001b[0m\n",
      "\u001b[0;31mTypeError\u001b[0m: 'numpy.int64' object is not iterable"
     ]
    }
   ],
   "source": [
    "print('Уникальные значения в столбце chain:\\n', rest_df['chain'].value_counts())\n",
    "print('Уникальные значения в столбце object_type:\\n', rest_df['object_type'].value_counts())"
   ]
  },
  {
   "cell_type": "markdown",
   "metadata": {},
   "source": [
    "Из данных видно, что заведения либо сетевые, либо нет. Неявных дубликатов в обоих столбцах не обнаружено. "
   ]
  },
  {
   "cell_type": "markdown",
   "metadata": {},
   "source": [
    "Так же важную информацию сообщает нам столбец 'number'. Посмотрим нет ли в нем отрицательных значений."
   ]
  },
  {
   "cell_type": "code",
   "execution_count": 13,
   "metadata": {},
   "outputs": [
    {
     "name": "stdout",
     "output_type": "stream",
     "text": [
      "Минимальное количество посадочных мест — 0\n"
     ]
    }
   ],
   "source": [
    "print('Минимальное количество посадочных мест —', rest_df['number'].min())"
   ]
  },
  {
   "cell_type": "markdown",
   "metadata": {},
   "source": [
    "Посмотрим как этот критерий распределен по типу заведения общественного питания"
   ]
  },
  {
   "cell_type": "code",
   "execution_count": 17,
   "metadata": {
    "scrolled": true
   },
   "outputs": [
    {
     "data": {
      "text/plain": [
       "предприятие быстрого обслуживания    704\n",
       "кафе                                 310\n",
       "закусочная                           189\n",
       "магазин (отдел кулинарии)            145\n",
       "кафетерий                            113\n",
       "буфет                                 68\n",
       "ресторан                              45\n",
       "бар                                   28\n",
       "столовая                              19\n",
       "Name: object_type, dtype: int64"
      ]
     },
     "execution_count": 17,
     "metadata": {},
     "output_type": "execute_result"
    }
   ],
   "source": [
    "rest_df[rest_df['number'] == rest_df['number'].min()]['object_type'].value_counts()"
   ]
  },
  {
   "cell_type": "markdown",
   "metadata": {},
   "source": [
    "Видим, что самой большой группой является предприятия быстрого обслуживания, что довольно закономерно."
   ]
  },
  {
   "cell_type": "markdown",
   "metadata": {},
   "source": [
    "\"Предприятие быстрого обслуживания\" - довольно громоздкое название для представления на графиках. Заменим его на \"фаст-фуд\". "
   ]
  },
  {
   "cell_type": "code",
   "execution_count": 81,
   "metadata": {},
   "outputs": [],
   "source": [
    "rest_df.loc[rest_df['object_type']=='предприятие быстрого обслуживания', 'object_type'] = 'фаст-фуд'"
   ]
  },
  {
   "cell_type": "markdown",
   "metadata": {},
   "source": [
    "Дополнительная обработка данных не требуется. Можем приступить к анализу данных."
   ]
  },
  {
   "cell_type": "markdown",
   "metadata": {},
   "source": [
    "## Исследовательский анализ данных"
   ]
  },
  {
   "cell_type": "markdown",
   "metadata": {},
   "source": [
    "Посмотрим на соотношение видов объектов общественного питания по их количеству. Для этого построим столбчатую диаграмму."
   ]
  },
  {
   "cell_type": "code",
   "execution_count": 82,
   "metadata": {},
   "outputs": [],
   "source": [
    "values = rest_df.pivot_table(index='object_type',values='number',aggfunc='count').sort_values(by='number').reset_index()\n",
    "values.columns = ['type', 'count']"
   ]
  },
  {
   "cell_type": "code",
   "execution_count": 83,
   "metadata": {},
   "outputs": [
    {
     "data": {
      "image/png": "[encoded data removed]",
      "text/plain": [
       "<Figure size 1008x504 with 1 Axes>"
      ]
     },
     "metadata": {
      "needs_background": "light"
     },
     "output_type": "display_data"
    }
   ],
   "source": [
    "plt.figure(figsize =(14,7))\n",
    "\n",
    "ax = sns.barplot(data=values, x='type', y='count', palette=\"ch:s=.2,rot=-.2\")\n",
    "ax.set_xlabel('')\n",
    "ax.set_ylabel('Количество заведений', size=12)\n",
    "ax.set_xticklabels(ax.get_xticklabels(),rotation = 30, size = 12)\n",
    "ax.set_title('Виды объектов общественного питания и их количество', size=15)\n",
    "\n",
    "    \n",
    "\n",
    "patches = ax.patches\n",
    "for i in range(len(patches)):\n",
    "    x = patches[i].get_x() + patches[i].get_width()/2\n",
    "    y = patches[i].get_height()\n",
    "    ax.annotate(values.iloc[i, 1], (x, y), ha='center', size=12) \n",
    "    \n",
    "sns.despine()"
   ]
  },
  {
   "cell_type": "markdown",
   "metadata": {},
   "source": [
    "Посмотрим на соотношение сетевых и несетевых заведений по количеству."
   ]
  },
  {
   "cell_type": "markdown",
   "metadata": {},
   "source": [
    "Посмотрим детальнее на значения и найдем тип заведений с наибольшим количеством сетевых заведений от общего числа."
   ]
  },
  {
   "cell_type": "code",
   "execution_count": 84,
   "metadata": {},
   "outputs": [
    {
     "data": {
      "text/html": [
       "<div>\n",
       "<style scoped>\n",
       "    .dataframe tbody tr th:only-of-type {\n",
       "        vertical-align: middle;\n",
       "    }\n",
       "\n",
       "    .dataframe tbody tr th {\n",
       "        vertical-align: top;\n",
       "    }\n",
       "\n",
       "    .dataframe thead th {\n",
       "        text-align: right;\n",
       "    }\n",
       "</style>\n",
       "<table border=\"1\" class=\"dataframe\">\n",
       "  <thead>\n",
       "    <tr style=\"text-align: right;\">\n",
       "      <th>chain</th>\n",
       "      <th>object_type</th>\n",
       "      <th>да</th>\n",
       "      <th>нет</th>\n",
       "      <th>total</th>\n",
       "      <th>percent_of_chain</th>\n",
       "    </tr>\n",
       "  </thead>\n",
       "  <tbody>\n",
       "    <tr>\n",
       "      <th>0</th>\n",
       "      <td>фаст-фуд</td>\n",
       "      <td>791</td>\n",
       "      <td>1132</td>\n",
       "      <td>1923</td>\n",
       "      <td>41.1</td>\n",
       "    </tr>\n",
       "    <tr>\n",
       "      <th>1</th>\n",
       "      <td>магазин (отдел кулинарии)</td>\n",
       "      <td>78</td>\n",
       "      <td>195</td>\n",
       "      <td>273</td>\n",
       "      <td>28.6</td>\n",
       "    </tr>\n",
       "    <tr>\n",
       "      <th>2</th>\n",
       "      <td>ресторан</td>\n",
       "      <td>544</td>\n",
       "      <td>1741</td>\n",
       "      <td>2285</td>\n",
       "      <td>23.8</td>\n",
       "    </tr>\n",
       "    <tr>\n",
       "      <th>3</th>\n",
       "      <td>кафе</td>\n",
       "      <td>1396</td>\n",
       "      <td>4703</td>\n",
       "      <td>6099</td>\n",
       "      <td>22.9</td>\n",
       "    </tr>\n",
       "    <tr>\n",
       "      <th>4</th>\n",
       "      <td>закусочная</td>\n",
       "      <td>56</td>\n",
       "      <td>304</td>\n",
       "      <td>360</td>\n",
       "      <td>15.6</td>\n",
       "    </tr>\n",
       "    <tr>\n",
       "      <th>5</th>\n",
       "      <td>кафетерий</td>\n",
       "      <td>52</td>\n",
       "      <td>346</td>\n",
       "      <td>398</td>\n",
       "      <td>13.1</td>\n",
       "    </tr>\n",
       "    <tr>\n",
       "      <th>6</th>\n",
       "      <td>бар</td>\n",
       "      <td>37</td>\n",
       "      <td>819</td>\n",
       "      <td>856</td>\n",
       "      <td>4.3</td>\n",
       "    </tr>\n",
       "    <tr>\n",
       "      <th>7</th>\n",
       "      <td>буфет</td>\n",
       "      <td>11</td>\n",
       "      <td>574</td>\n",
       "      <td>585</td>\n",
       "      <td>1.9</td>\n",
       "    </tr>\n",
       "    <tr>\n",
       "      <th>8</th>\n",
       "      <td>столовая</td>\n",
       "      <td>3</td>\n",
       "      <td>2584</td>\n",
       "      <td>2587</td>\n",
       "      <td>0.1</td>\n",
       "    </tr>\n",
       "  </tbody>\n",
       "</table>\n",
       "</div>"
      ],
      "text/plain": [
       "chain                object_type    да   нет  total  percent_of_chain\n",
       "0                       фаст-фуд   791  1132   1923              41.1\n",
       "1      магазин (отдел кулинарии)    78   195    273              28.6\n",
       "2                       ресторан   544  1741   2285              23.8\n",
       "3                           кафе  1396  4703   6099              22.9\n",
       "4                     закусочная    56   304    360              15.6\n",
       "5                      кафетерий    52   346    398              13.1\n",
       "6                            бар    37   819    856               4.3\n",
       "7                          буфет    11   574    585               1.9\n",
       "8                       столовая     3  2584   2587               0.1"
      ]
     },
     "metadata": {},
     "output_type": "display_data"
    }
   ],
   "source": [
    "values = rest_df.pivot_table(index='object_type', columns='chain', values = 'number', aggfunc = 'count')\n",
    "values['total']=values['да']+values['нет']\n",
    "values['percent_of_chain'] = values['да']/values['total'] \n",
    "\n",
    "values = values.sort_values(by='percent_of_chain', ascending = False).reset_index()\n",
    "values['percent_of_chain'] = values['percent_of_chain'].apply(lambda x:'{0:.1f}'.format(x*100)).astype('float')\n",
    "\n",
    "display(values)\n",
    "\n"
   ]
  },
  {
   "cell_type": "code",
   "execution_count": 85,
   "metadata": {
    "scrolled": true
   },
   "outputs": [
    {
     "data": {
      "image/png": "[encoded data removed]",
      "text/plain": [
       "<Figure size 1008x504 with 1 Axes>"
      ]
     },
     "metadata": {
      "needs_background": "light"
     },
     "output_type": "display_data"
    }
   ],
   "source": [
    "plt.figure(figsize =(14,7))\n",
    "\n",
    "ax = sns.barplot(data=values, x='object_type', y='percent_of_chain', palette=\"ch:s=.2,rot=-.2\")\n",
    "ax.set_xlabel('')\n",
    "ax.set_ylabel('Процент', size=12)\n",
    "ax.set_xticklabels(ax.get_xticklabels(),rotation = 30, size = 12)\n",
    "ax.set_title('Процент сетевых заведений от общего числа', size=15)\n",
    "\n",
    "    \n",
    "\n",
    "patches = ax.patches\n",
    "for i in range(len(patches)):\n",
    "    x = patches[i].get_x() + patches[i].get_width()/2\n",
    "    y = patches[i].get_height()\n",
    "    ax.annotate(values.iloc[i, 4], (x, y), ha='center', size=12) \n",
    "    \n",
    "sns.despine()"
   ]
  },
  {
   "cell_type": "markdown",
   "metadata": {},
   "source": [
    "Наиболее характерен сетевой формат все таки для заведений фаст-фуд."
   ]
  },
  {
   "cell_type": "markdown",
   "metadata": {},
   "source": [
    "Отберем сетевые заведения"
   ]
  },
  {
   "cell_type": "code",
   "execution_count": 86,
   "metadata": {},
   "outputs": [],
   "source": [
    "chain_rest = rest_df.query('chain == \"да\"')"
   ]
  },
  {
   "cell_type": "markdown",
   "metadata": {},
   "source": [
    "Посмотрим на распределение количества посадочных мест по типу заведения."
   ]
  },
  {
   "cell_type": "code",
   "execution_count": 87,
   "metadata": {
    "scrolled": true
   },
   "outputs": [
    {
     "data": {
      "image/png": "[encoded data removed]",
      "text/plain": [
       "<Figure size 720x720 with 3 Axes>"
      ]
     },
     "metadata": {
      "needs_background": "light"
     },
     "output_type": "display_data"
    }
   ],
   "source": [
    "ax = sns.jointplot(x='object_type', y='number', data=chain_rest, height=10 ) ;\n",
    "for tick in ax.ax_joint.get_xticklabels():         \n",
    "    tick.set_rotation(45)\n",
    "    tick.set_size(10)\n"
   ]
  },
  {
   "cell_type": "markdown",
   "metadata": {},
   "source": [
    "Видим, что у кафе, фаст-фуда и ресторанов очень широкое распределение от 0 до 200-300 мест."
   ]
  },
  {
   "cell_type": "markdown",
   "metadata": {},
   "source": [
    "Взглянем на среднее количество посадочных мест по типу заведения"
   ]
  },
  {
   "cell_type": "code",
   "execution_count": 88,
   "metadata": {},
   "outputs": [
    {
     "data": {
      "text/html": [
       "<div>\n",
       "<style scoped>\n",
       "    .dataframe tbody tr th:only-of-type {\n",
       "        vertical-align: middle;\n",
       "    }\n",
       "\n",
       "    .dataframe tbody tr th {\n",
       "        vertical-align: top;\n",
       "    }\n",
       "\n",
       "    .dataframe thead th {\n",
       "        text-align: right;\n",
       "    }\n",
       "</style>\n",
       "<table border=\"1\" class=\"dataframe\">\n",
       "  <thead>\n",
       "    <tr style=\"text-align: right;\">\n",
       "      <th></th>\n",
       "      <th>type</th>\n",
       "      <th>average</th>\n",
       "    </tr>\n",
       "  </thead>\n",
       "  <tbody>\n",
       "    <tr>\n",
       "      <th>0</th>\n",
       "      <td>столовая</td>\n",
       "      <td>130.246618</td>\n",
       "    </tr>\n",
       "    <tr>\n",
       "      <th>1</th>\n",
       "      <td>ресторан</td>\n",
       "      <td>96.834136</td>\n",
       "    </tr>\n",
       "    <tr>\n",
       "      <th>2</th>\n",
       "      <td>буфет</td>\n",
       "      <td>51.129915</td>\n",
       "    </tr>\n",
       "    <tr>\n",
       "      <th>3</th>\n",
       "      <td>бар</td>\n",
       "      <td>43.494159</td>\n",
       "    </tr>\n",
       "    <tr>\n",
       "      <th>4</th>\n",
       "      <td>кафе</td>\n",
       "      <td>39.716019</td>\n",
       "    </tr>\n",
       "    <tr>\n",
       "      <th>5</th>\n",
       "      <td>фаст-фуд</td>\n",
       "      <td>20.552262</td>\n",
       "    </tr>\n",
       "    <tr>\n",
       "      <th>6</th>\n",
       "      <td>кафетерий</td>\n",
       "      <td>9.123116</td>\n",
       "    </tr>\n",
       "    <tr>\n",
       "      <th>7</th>\n",
       "      <td>закусочная</td>\n",
       "      <td>7.608333</td>\n",
       "    </tr>\n",
       "    <tr>\n",
       "      <th>8</th>\n",
       "      <td>магазин (отдел кулинарии)</td>\n",
       "      <td>5.589744</td>\n",
       "    </tr>\n",
       "  </tbody>\n",
       "</table>\n",
       "</div>"
      ],
      "text/plain": [
       "                        type     average\n",
       "0                   столовая  130.246618\n",
       "1                   ресторан   96.834136\n",
       "2                      буфет   51.129915\n",
       "3                        бар   43.494159\n",
       "4                       кафе   39.716019\n",
       "5                   фаст-фуд   20.552262\n",
       "6                  кафетерий    9.123116\n",
       "7                 закусочная    7.608333\n",
       "8  магазин (отдел кулинарии)    5.589744"
      ]
     },
     "metadata": {},
     "output_type": "display_data"
    }
   ],
   "source": [
    "mean_numb = rest_df.pivot_table(index='object_type', values = 'number', aggfunc = 'mean').sort_values(by='number', ascending=False).reset_index()\n",
    "mean_numb.columns = ['type', 'average']\n",
    "display(mean_numb)"
   ]
  },
  {
   "cell_type": "markdown",
   "metadata": {},
   "source": [
    "Здесь мы видим, что у столовых и ресторанов почти в несколько раза больше посадочных мест, чем у баров, буфетов, кафе и фаст-фуда. Для наглядности построим график."
   ]
  },
  {
   "cell_type": "code",
   "execution_count": 89,
   "metadata": {
    "scrolled": true
   },
   "outputs": [
    {
     "data": {
      "image/png": "[encoded data removed]",
      "text/plain": [
       "<Figure size 1008x504 with 1 Axes>"
      ]
     },
     "metadata": {
      "needs_background": "light"
     },
     "output_type": "display_data"
    }
   ],
   "source": [
    "plt.figure(figsize =(14,7))\n",
    "\n",
    "ax = sns.barplot(data=mean_numb, x='type', y='average', palette=\"ch:s=.2,rot=-.2\")\n",
    "ax.set_xlabel('')\n",
    "ax.set_ylabel('Среднее количество посадочных мест', size=12)\n",
    "ax.set_xticklabels(ax.get_xticklabels(),rotation = 30, size = 12)\n",
    "ax.set_title('Виды объектов общественного питания и среднее количество посадочных мест в них', size=15)\n",
    "\n",
    "    \n",
    "\n",
    "patches = ax.patches\n",
    "for i in range(len(patches)):\n",
    "    x = patches[i].get_x() + patches[i].get_width()/2\n",
    "    y = patches[i].get_height()\n",
    "    ax.annotate('{0:.0f}'.format(mean_numb.iloc[i, 1]), (x, y), ha='center', size=12) \n",
    "    \n",
    "sns.despine()"
   ]
  },
  {
   "cell_type": "code",
   "execution_count": 90,
   "metadata": {},
   "outputs": [
    {
     "name": "stderr",
     "output_type": "stream",
     "text": [
      "/Users/ivan_miroshnichenko/opt/anaconda3/lib/python3.9/site-packages/seaborn/distributions.py:2619: FutureWarning: `distplot` is a deprecated function and will be removed in a future version. Please adapt your code to use either `displot` (a figure-level function with similar flexibility) or `histplot` (an axes-level function for histograms).\n",
      "  warnings.warn(msg, FutureWarning)\n",
      "/Users/ivan_miroshnichenko/opt/anaconda3/lib/python3.9/site-packages/seaborn/distributions.py:2619: FutureWarning: `distplot` is a deprecated function and will be removed in a future version. Please adapt your code to use either `displot` (a figure-level function with similar flexibility) or `histplot` (an axes-level function for histograms).\n",
      "  warnings.warn(msg, FutureWarning)\n"
     ]
    },
    {
     "data": {
      "image/png": "[encoded data removed]",
      "text/plain": [
       "<Figure size 1008x504 with 1 Axes>"
      ]
     },
     "metadata": {
      "needs_background": "light"
     },
     "output_type": "display_data"
    }
   ],
   "source": [
    "plt.figure(figsize =(14,7))\n",
    "\n",
    "ax = sns.distplot(rest_df.query('chain == \"да\" & object_type == \"кафе\"')['number'],\n",
    "                  bins=100,\n",
    "                  color='darkblue',\n",
    "                  label='сетевое') \n",
    "ax = sns.distplot(rest_df.query('chain == \"нет\" & object_type == \"кафе\"')['number'],\n",
    "                  bins=100,\n",
    "                  color='green',\n",
    "                  label='несетевое')\n",
    "ax.set_title(\"Распределение плотности количества посадочных мест по сетевым и несетевым кафе\",\n",
    "             fontsize=18,\n",
    "             pad = 15)\n",
    "ax.set_xlabel(\"Количество посадочных мест\", fontsize=14)\n",
    "ax.set_ylabel(\"Количество заведений\", fontsize=14)\n",
    "plt.legend()\n",
    "plt.xlim(-10, 200)\n",
    "plt.show()"
   ]
  },
  {
   "cell_type": "markdown",
   "metadata": {},
   "source": [
    "Выделим из адреса заведения название улицы на которой оно находится. Для этого используем регулярное выражение и метод extract."
   ]
  },
  {
   "cell_type": "code",
   "execution_count": 91,
   "metadata": {},
   "outputs": [],
   "source": [
    "pattern='\\,((.+)?(улица|переулок|шоссе|бульвар|проспект|набережная|площадь|проезд|аллея|тупик)(.+)?)\\,'\n",
    "rest_df['street'] = rest_df['address'].str.extract(pat=pattern)[0]"
   ]
  },
  {
   "cell_type": "markdown",
   "metadata": {
    "scrolled": true
   },
   "source": [
    "В некоторых строках у нас сохранилась наименование 'дом' и его номер, уберем такие выражения методом split."
   ]
  },
  {
   "cell_type": "code",
   "execution_count": 92,
   "metadata": {},
   "outputs": [],
   "source": [
    "rest_df['street']=rest_df['street'].apply(lambda x: str(x).split(\",\")[0])\n",
    "rest_df['street']=rest_df['street'].apply(lambda x: str(x).strip())"
   ]
  },
  {
   "cell_type": "markdown",
   "metadata": {},
   "source": [
    "Приведем названия улиц к нижнему регистру."
   ]
  },
  {
   "cell_type": "code",
   "execution_count": 93,
   "metadata": {},
   "outputs": [],
   "source": [
    "rest_df['street'] = rest_df['street'].astype('str')"
   ]
  },
  {
   "cell_type": "code",
   "execution_count": 94,
   "metadata": {
    "scrolled": true
   },
   "outputs": [
    {
     "data": {
      "text/plain": [
       "0         улица Егора Абакумова\n",
       "1              улица Талалихина\n",
       "2          Абельмановская улица\n",
       "3            Абрамцевская улица\n",
       "4            Абрамцевская улица\n",
       "                  ...          \n",
       "15361    3-й Крутицкий переулок\n",
       "15362        улица Земляной Вал\n",
       "15363        улица Земляной Вал\n",
       "15364      поселение Московский\n",
       "15365         Ходынский бульвар\n",
       "Name: street, Length: 15366, dtype: object"
      ]
     },
     "execution_count": 94,
     "metadata": {},
     "output_type": "execute_result"
    }
   ],
   "source": [
    "rest_df['street']"
   ]
  },
  {
   "cell_type": "markdown",
   "metadata": {},
   "source": [
    "Импортируем датасет с данными о районах Москвы и соответсвии улицам."
   ]
  },
  {
   "cell_type": "code",
   "execution_count": 95,
   "metadata": {
    "scrolled": false
   },
   "outputs": [
    {
     "data": {
      "text/html": [
       "<div>\n",
       "<style scoped>\n",
       "    .dataframe tbody tr th:only-of-type {\n",
       "        vertical-align: middle;\n",
       "    }\n",
       "\n",
       "    .dataframe tbody tr th {\n",
       "        vertical-align: top;\n",
       "    }\n",
       "\n",
       "    .dataframe thead th {\n",
       "        text-align: right;\n",
       "    }\n",
       "</style>\n",
       "<table border=\"1\" class=\"dataframe\">\n",
       "  <thead>\n",
       "    <tr style=\"text-align: right;\">\n",
       "      <th></th>\n",
       "      <th>street</th>\n",
       "      <th>area_id</th>\n",
       "      <th>okrug</th>\n",
       "      <th>area</th>\n",
       "    </tr>\n",
       "  </thead>\n",
       "  <tbody>\n",
       "    <tr>\n",
       "      <th>0</th>\n",
       "      <td>Выставочный переулок</td>\n",
       "      <td>17</td>\n",
       "      <td>ЦАО</td>\n",
       "      <td>Пресненский район</td>\n",
       "    </tr>\n",
       "    <tr>\n",
       "      <th>1</th>\n",
       "      <td>улица Гашека</td>\n",
       "      <td>17</td>\n",
       "      <td>ЦАО</td>\n",
       "      <td>Пресненский район</td>\n",
       "    </tr>\n",
       "    <tr>\n",
       "      <th>2</th>\n",
       "      <td>Большая Никитская улица</td>\n",
       "      <td>17</td>\n",
       "      <td>ЦАО</td>\n",
       "      <td>Пресненский район</td>\n",
       "    </tr>\n",
       "    <tr>\n",
       "      <th>3</th>\n",
       "      <td>Глубокий переулок</td>\n",
       "      <td>17</td>\n",
       "      <td>ЦАО</td>\n",
       "      <td>Пресненский район</td>\n",
       "    </tr>\n",
       "    <tr>\n",
       "      <th>4</th>\n",
       "      <td>Большой Гнездниковский переулок</td>\n",
       "      <td>17</td>\n",
       "      <td>ЦАО</td>\n",
       "      <td>Пресненский район</td>\n",
       "    </tr>\n",
       "  </tbody>\n",
       "</table>\n",
       "</div>"
      ],
      "text/plain": [
       "                            street  area_id okrug               area\n",
       "0             Выставочный переулок       17   ЦАО  Пресненский район\n",
       "1                     улица Гашека       17   ЦАО  Пресненский район\n",
       "2          Большая Никитская улица       17   ЦАО  Пресненский район\n",
       "3                Глубокий переулок       17   ЦАО  Пресненский район\n",
       "4  Большой Гнездниковский переулок       17   ЦАО  Пресненский район"
      ]
     },
     "execution_count": 95,
     "metadata": {},
     "output_type": "execute_result"
    }
   ],
   "source": [
    "area = pd.read_csv('https://docs.google.com/spreadsheets/d/e/2PACX-1vTeFkOKTdPNtNO_6XogdSqpfsTReMnsp6spRIrnMsg3kte4bseSVCJYu3_T_MCkX-X_YlkxAGzY1SCu/pub?output=csv')\n",
    "area.columns = ['street','area_id', 'okrug', 'area']\n",
    "area.head()"
   ]
  },
  {
   "cell_type": "markdown",
   "metadata": {},
   "source": [
    "Добавим информацию о районах в начальный датафрейм."
   ]
  },
  {
   "cell_type": "code",
   "execution_count": 96,
   "metadata": {
    "scrolled": false
   },
   "outputs": [
    {
     "data": {
      "text/html": [
       "<div>\n",
       "<style scoped>\n",
       "    .dataframe tbody tr th:only-of-type {\n",
       "        vertical-align: middle;\n",
       "    }\n",
       "\n",
       "    .dataframe tbody tr th {\n",
       "        vertical-align: top;\n",
       "    }\n",
       "\n",
       "    .dataframe thead th {\n",
       "        text-align: right;\n",
       "    }\n",
       "</style>\n",
       "<table border=\"1\" class=\"dataframe\">\n",
       "  <thead>\n",
       "    <tr style=\"text-align: right;\">\n",
       "      <th></th>\n",
       "      <th>id</th>\n",
       "      <th>object_name</th>\n",
       "      <th>chain</th>\n",
       "      <th>object_type</th>\n",
       "      <th>address</th>\n",
       "      <th>number</th>\n",
       "      <th>street</th>\n",
       "      <th>area</th>\n",
       "    </tr>\n",
       "  </thead>\n",
       "  <tbody>\n",
       "    <tr>\n",
       "      <th>0</th>\n",
       "      <td>151635</td>\n",
       "      <td>сметана</td>\n",
       "      <td>нет</td>\n",
       "      <td>кафе</td>\n",
       "      <td>город Москва, улица Егора Абакумова, дом 9</td>\n",
       "      <td>48</td>\n",
       "      <td>улица Егора Абакумова</td>\n",
       "      <td>Ярославский Район</td>\n",
       "    </tr>\n",
       "    <tr>\n",
       "      <th>1</th>\n",
       "      <td>77874</td>\n",
       "      <td>родник</td>\n",
       "      <td>нет</td>\n",
       "      <td>кафе</td>\n",
       "      <td>город Москва, улица Талалихина, дом 2/1, корпус 1</td>\n",
       "      <td>35</td>\n",
       "      <td>улица Талалихина</td>\n",
       "      <td>Таганский район</td>\n",
       "    </tr>\n",
       "    <tr>\n",
       "      <th>2</th>\n",
       "      <td>77874</td>\n",
       "      <td>родник</td>\n",
       "      <td>нет</td>\n",
       "      <td>кафе</td>\n",
       "      <td>город Москва, улица Талалихина, дом 2/1, корпус 1</td>\n",
       "      <td>35</td>\n",
       "      <td>улица Талалихина</td>\n",
       "      <td>Нижегородский район</td>\n",
       "    </tr>\n",
       "    <tr>\n",
       "      <th>3</th>\n",
       "      <td>77874</td>\n",
       "      <td>родник</td>\n",
       "      <td>нет</td>\n",
       "      <td>кафе</td>\n",
       "      <td>город Москва, улица Талалихина, дом 2/1, корпус 1</td>\n",
       "      <td>35</td>\n",
       "      <td>улица Талалихина</td>\n",
       "      <td>Район Южное Бутово</td>\n",
       "    </tr>\n",
       "    <tr>\n",
       "      <th>4</th>\n",
       "      <td>24309</td>\n",
       "      <td>кафе «академия»</td>\n",
       "      <td>нет</td>\n",
       "      <td>кафе</td>\n",
       "      <td>город Москва, Абельмановская улица, дом 6</td>\n",
       "      <td>95</td>\n",
       "      <td>Абельмановская улица</td>\n",
       "      <td>Таганский район</td>\n",
       "    </tr>\n",
       "    <tr>\n",
       "      <th>5</th>\n",
       "      <td>21894</td>\n",
       "      <td>пиццетория</td>\n",
       "      <td>да</td>\n",
       "      <td>кафе</td>\n",
       "      <td>город Москва, Абрамцевская улица, дом 1</td>\n",
       "      <td>40</td>\n",
       "      <td>Абрамцевская улица</td>\n",
       "      <td>Район Лианозово</td>\n",
       "    </tr>\n",
       "    <tr>\n",
       "      <th>6</th>\n",
       "      <td>119365</td>\n",
       "      <td>кафе «вишневая метель»</td>\n",
       "      <td>нет</td>\n",
       "      <td>кафе</td>\n",
       "      <td>город Москва, Абрамцевская улица, дом 9, корпус 1</td>\n",
       "      <td>50</td>\n",
       "      <td>Абрамцевская улица</td>\n",
       "      <td>Район Лианозово</td>\n",
       "    </tr>\n",
       "    <tr>\n",
       "      <th>7</th>\n",
       "      <td>27429</td>\n",
       "      <td>стол. при гоу сош № 1051</td>\n",
       "      <td>нет</td>\n",
       "      <td>столовая</td>\n",
       "      <td>город Москва, Абрамцевская улица, дом 15, корп...</td>\n",
       "      <td>240</td>\n",
       "      <td>Абрамцевская улица</td>\n",
       "      <td>Район Лианозово</td>\n",
       "    </tr>\n",
       "    <tr>\n",
       "      <th>8</th>\n",
       "      <td>148815</td>\n",
       "      <td>брусника</td>\n",
       "      <td>да</td>\n",
       "      <td>кафе</td>\n",
       "      <td>город Москва, переулок Сивцев Вражек, дом 6/2</td>\n",
       "      <td>10</td>\n",
       "      <td>переулок Сивцев Вражек</td>\n",
       "      <td>Район Арбат</td>\n",
       "    </tr>\n",
       "    <tr>\n",
       "      <th>9</th>\n",
       "      <td>148815</td>\n",
       "      <td>брусника</td>\n",
       "      <td>да</td>\n",
       "      <td>кафе</td>\n",
       "      <td>город Москва, переулок Сивцев Вражек, дом 6/2</td>\n",
       "      <td>10</td>\n",
       "      <td>переулок Сивцев Вражек</td>\n",
       "      <td>Район Хамовники</td>\n",
       "    </tr>\n",
       "    <tr>\n",
       "      <th>10</th>\n",
       "      <td>20957</td>\n",
       "      <td>буфет мтуси</td>\n",
       "      <td>нет</td>\n",
       "      <td>столовая</td>\n",
       "      <td>город Москва, Авиамоторная улица, дом 8, строе...</td>\n",
       "      <td>90</td>\n",
       "      <td>Авиамоторная улица</td>\n",
       "      <td>Район Лефортово</td>\n",
       "    </tr>\n",
       "    <tr>\n",
       "      <th>11</th>\n",
       "      <td>20958</td>\n",
       "      <td>кпф семья-1</td>\n",
       "      <td>нет</td>\n",
       "      <td>столовая</td>\n",
       "      <td>город Москва, Авиамоторная улица, дом 8, строе...</td>\n",
       "      <td>150</td>\n",
       "      <td>Авиамоторная улица</td>\n",
       "      <td>Район Лефортово</td>\n",
       "    </tr>\n",
       "    <tr>\n",
       "      <th>12</th>\n",
       "      <td>28858</td>\n",
       "      <td>столовая мтуси</td>\n",
       "      <td>нет</td>\n",
       "      <td>столовая</td>\n",
       "      <td>город Москва, Авиамоторная улица, дом 8, строе...</td>\n",
       "      <td>120</td>\n",
       "      <td>Авиамоторная улица</td>\n",
       "      <td>Район Лефортово</td>\n",
       "    </tr>\n",
       "    <tr>\n",
       "      <th>13</th>\n",
       "      <td>148595</td>\n",
       "      <td>пекарня 24</td>\n",
       "      <td>нет</td>\n",
       "      <td>закусочная</td>\n",
       "      <td>город Москва, Авиамоторная улица, дом 47</td>\n",
       "      <td>5</td>\n",
       "      <td>Авиамоторная улица</td>\n",
       "      <td>Район Лефортово</td>\n",
       "    </tr>\n",
       "    <tr>\n",
       "      <th>14</th>\n",
       "      <td>23394</td>\n",
       "      <td>гогиели</td>\n",
       "      <td>нет</td>\n",
       "      <td>кафе</td>\n",
       "      <td>город Москва, Авиамоторная улица, дом 49/1</td>\n",
       "      <td>24</td>\n",
       "      <td>Авиамоторная улица</td>\n",
       "      <td>Район Лефортово</td>\n",
       "    </tr>\n",
       "    <tr>\n",
       "      <th>15</th>\n",
       "      <td>28582</td>\n",
       "      <td>школа 735</td>\n",
       "      <td>нет</td>\n",
       "      <td>столовая</td>\n",
       "      <td>город Москва, Авиамоторная улица, дом 51</td>\n",
       "      <td>140</td>\n",
       "      <td>Авиамоторная улица</td>\n",
       "      <td>Район Лефортово</td>\n",
       "    </tr>\n",
       "    <tr>\n",
       "      <th>16</th>\n",
       "      <td>22579</td>\n",
       "      <td>алло пицца</td>\n",
       "      <td>да</td>\n",
       "      <td>кафе</td>\n",
       "      <td>город Москва, улица Авиаторов, дом 14</td>\n",
       "      <td>32</td>\n",
       "      <td>улица Авиаторов</td>\n",
       "      <td>Район Солнцево</td>\n",
       "    </tr>\n",
       "    <tr>\n",
       "      <th>17</th>\n",
       "      <td>23670</td>\n",
       "      <td>гимназия 1542</td>\n",
       "      <td>нет</td>\n",
       "      <td>столовая</td>\n",
       "      <td>город Москва, улица Авиаторов, дом 16</td>\n",
       "      <td>270</td>\n",
       "      <td>улица Авиаторов</td>\n",
       "      <td>Район Солнцево</td>\n",
       "    </tr>\n",
       "    <tr>\n",
       "      <th>18</th>\n",
       "      <td>23663</td>\n",
       "      <td>школа 1011</td>\n",
       "      <td>нет</td>\n",
       "      <td>столовая</td>\n",
       "      <td>город Москва, улица Авиаторов, дом 18</td>\n",
       "      <td>320</td>\n",
       "      <td>улица Авиаторов</td>\n",
       "      <td>Район Солнцево</td>\n",
       "    </tr>\n",
       "    <tr>\n",
       "      <th>19</th>\n",
       "      <td>144107</td>\n",
       "      <td>суши wok</td>\n",
       "      <td>да</td>\n",
       "      <td>фаст-фуд</td>\n",
       "      <td>город Москва, Азовская улица, дом 3</td>\n",
       "      <td>7</td>\n",
       "      <td>Азовская улица</td>\n",
       "      <td>Район Зюзино</td>\n",
       "    </tr>\n",
       "    <tr>\n",
       "      <th>20</th>\n",
       "      <td>154654</td>\n",
       "      <td>донер кебаб</td>\n",
       "      <td>нет</td>\n",
       "      <td>фаст-фуд</td>\n",
       "      <td>город Москва, Азовская улица, дом 4</td>\n",
       "      <td>2</td>\n",
       "      <td>Азовская улица</td>\n",
       "      <td>Район Зюзино</td>\n",
       "    </tr>\n",
       "    <tr>\n",
       "      <th>21</th>\n",
       "      <td>58565</td>\n",
       "      <td>тануки</td>\n",
       "      <td>да</td>\n",
       "      <td>ресторан</td>\n",
       "      <td>город Москва, Большая Академическая улица, дом 65</td>\n",
       "      <td>160</td>\n",
       "      <td>Большая Академическая улица</td>\n",
       "      <td>Район Коптево</td>\n",
       "    </tr>\n",
       "    <tr>\n",
       "      <th>22</th>\n",
       "      <td>58565</td>\n",
       "      <td>тануки</td>\n",
       "      <td>да</td>\n",
       "      <td>ресторан</td>\n",
       "      <td>город Москва, Большая Академическая улица, дом 65</td>\n",
       "      <td>160</td>\n",
       "      <td>Большая Академическая улица</td>\n",
       "      <td>Тимирязевский Район</td>\n",
       "    </tr>\n",
       "    <tr>\n",
       "      <th>23</th>\n",
       "      <td>58565</td>\n",
       "      <td>тануки</td>\n",
       "      <td>да</td>\n",
       "      <td>ресторан</td>\n",
       "      <td>город Москва, Большая Академическая улица, дом 65</td>\n",
       "      <td>160</td>\n",
       "      <td>Большая Академическая улица</td>\n",
       "      <td>Войковский Район</td>\n",
       "    </tr>\n",
       "    <tr>\n",
       "      <th>24</th>\n",
       "      <td>153644</td>\n",
       "      <td>американская лаборатория десертов</td>\n",
       "      <td>нет</td>\n",
       "      <td>кафе</td>\n",
       "      <td>город Москва, Филипповский переулок, дом 15/5</td>\n",
       "      <td>20</td>\n",
       "      <td>Филипповский переулок</td>\n",
       "      <td>Район Арбат</td>\n",
       "    </tr>\n",
       "    <tr>\n",
       "      <th>25</th>\n",
       "      <td>21950</td>\n",
       "      <td>кафе</td>\n",
       "      <td>нет</td>\n",
       "      <td>кафе</td>\n",
       "      <td>город Москва, Алтайская улица, дом 33/7</td>\n",
       "      <td>30</td>\n",
       "      <td>Алтайская улица</td>\n",
       "      <td>Район Гольяново</td>\n",
       "    </tr>\n",
       "    <tr>\n",
       "      <th>26</th>\n",
       "      <td>84832</td>\n",
       "      <td>кафе уют</td>\n",
       "      <td>нет</td>\n",
       "      <td>кафе</td>\n",
       "      <td>город Москва, Алтуфьевское шоссе, дом 14</td>\n",
       "      <td>110</td>\n",
       "      <td>Алтуфьевское шоссе</td>\n",
       "      <td>Алтуфьевский район</td>\n",
       "    </tr>\n",
       "    <tr>\n",
       "      <th>27</th>\n",
       "      <td>84832</td>\n",
       "      <td>кафе уют</td>\n",
       "      <td>нет</td>\n",
       "      <td>кафе</td>\n",
       "      <td>город Москва, Алтуфьевское шоссе, дом 14</td>\n",
       "      <td>110</td>\n",
       "      <td>Алтуфьевское шоссе</td>\n",
       "      <td>Район Бибирево</td>\n",
       "    </tr>\n",
       "    <tr>\n",
       "      <th>28</th>\n",
       "      <td>84832</td>\n",
       "      <td>кафе уют</td>\n",
       "      <td>нет</td>\n",
       "      <td>кафе</td>\n",
       "      <td>город Москва, Алтуфьевское шоссе, дом 14</td>\n",
       "      <td>110</td>\n",
       "      <td>Алтуфьевское шоссе</td>\n",
       "      <td>Район Лианозово</td>\n",
       "    </tr>\n",
       "    <tr>\n",
       "      <th>29</th>\n",
       "      <td>84832</td>\n",
       "      <td>кафе уют</td>\n",
       "      <td>нет</td>\n",
       "      <td>кафе</td>\n",
       "      <td>город Москва, Алтуфьевское шоссе, дом 14</td>\n",
       "      <td>110</td>\n",
       "      <td>Алтуфьевское шоссе</td>\n",
       "      <td>Район Отрадное</td>\n",
       "    </tr>\n",
       "    <tr>\n",
       "      <th>30</th>\n",
       "      <td>26931</td>\n",
       "      <td>долина чайхона</td>\n",
       "      <td>нет</td>\n",
       "      <td>кафе</td>\n",
       "      <td>город Москва, Алтуфьевское шоссе, дом 14</td>\n",
       "      <td>150</td>\n",
       "      <td>Алтуфьевское шоссе</td>\n",
       "      <td>Алтуфьевский район</td>\n",
       "    </tr>\n",
       "    <tr>\n",
       "      <th>31</th>\n",
       "      <td>26931</td>\n",
       "      <td>долина чайхона</td>\n",
       "      <td>нет</td>\n",
       "      <td>кафе</td>\n",
       "      <td>город Москва, Алтуфьевское шоссе, дом 14</td>\n",
       "      <td>150</td>\n",
       "      <td>Алтуфьевское шоссе</td>\n",
       "      <td>Район Бибирево</td>\n",
       "    </tr>\n",
       "    <tr>\n",
       "      <th>32</th>\n",
       "      <td>26931</td>\n",
       "      <td>долина чайхона</td>\n",
       "      <td>нет</td>\n",
       "      <td>кафе</td>\n",
       "      <td>город Москва, Алтуфьевское шоссе, дом 14</td>\n",
       "      <td>150</td>\n",
       "      <td>Алтуфьевское шоссе</td>\n",
       "      <td>Район Лианозово</td>\n",
       "    </tr>\n",
       "    <tr>\n",
       "      <th>33</th>\n",
       "      <td>26931</td>\n",
       "      <td>долина чайхона</td>\n",
       "      <td>нет</td>\n",
       "      <td>кафе</td>\n",
       "      <td>город Москва, Алтуфьевское шоссе, дом 14</td>\n",
       "      <td>150</td>\n",
       "      <td>Алтуфьевское шоссе</td>\n",
       "      <td>Район Отрадное</td>\n",
       "    </tr>\n",
       "    <tr>\n",
       "      <th>34</th>\n",
       "      <td>28751</td>\n",
       "      <td>гбоу школа № 1411 (970)</td>\n",
       "      <td>нет</td>\n",
       "      <td>столовая</td>\n",
       "      <td>город Москва, Алтуфьевское шоссе, дом 42Б</td>\n",
       "      <td>120</td>\n",
       "      <td>Алтуфьевское шоссе</td>\n",
       "      <td>Алтуфьевский район</td>\n",
       "    </tr>\n",
       "    <tr>\n",
       "      <th>35</th>\n",
       "      <td>28751</td>\n",
       "      <td>гбоу школа № 1411 (970)</td>\n",
       "      <td>нет</td>\n",
       "      <td>столовая</td>\n",
       "      <td>город Москва, Алтуфьевское шоссе, дом 42Б</td>\n",
       "      <td>120</td>\n",
       "      <td>Алтуфьевское шоссе</td>\n",
       "      <td>Район Бибирево</td>\n",
       "    </tr>\n",
       "    <tr>\n",
       "      <th>36</th>\n",
       "      <td>28751</td>\n",
       "      <td>гбоу школа № 1411 (970)</td>\n",
       "      <td>нет</td>\n",
       "      <td>столовая</td>\n",
       "      <td>город Москва, Алтуфьевское шоссе, дом 42Б</td>\n",
       "      <td>120</td>\n",
       "      <td>Алтуфьевское шоссе</td>\n",
       "      <td>Район Лианозово</td>\n",
       "    </tr>\n",
       "    <tr>\n",
       "      <th>37</th>\n",
       "      <td>28751</td>\n",
       "      <td>гбоу школа № 1411 (970)</td>\n",
       "      <td>нет</td>\n",
       "      <td>столовая</td>\n",
       "      <td>город Москва, Алтуфьевское шоссе, дом 42Б</td>\n",
       "      <td>120</td>\n",
       "      <td>Алтуфьевское шоссе</td>\n",
       "      <td>Район Отрадное</td>\n",
       "    </tr>\n",
       "    <tr>\n",
       "      <th>38</th>\n",
       "      <td>125608</td>\n",
       "      <td>кафетерий</td>\n",
       "      <td>нет</td>\n",
       "      <td>кафетерий</td>\n",
       "      <td>город Москва, Алтуфьевское шоссе, дом 56</td>\n",
       "      <td>6</td>\n",
       "      <td>Алтуфьевское шоссе</td>\n",
       "      <td>Алтуфьевский район</td>\n",
       "    </tr>\n",
       "    <tr>\n",
       "      <th>39</th>\n",
       "      <td>125608</td>\n",
       "      <td>кафетерий</td>\n",
       "      <td>нет</td>\n",
       "      <td>кафетерий</td>\n",
       "      <td>город Москва, Алтуфьевское шоссе, дом 56</td>\n",
       "      <td>6</td>\n",
       "      <td>Алтуфьевское шоссе</td>\n",
       "      <td>Район Бибирево</td>\n",
       "    </tr>\n",
       "    <tr>\n",
       "      <th>40</th>\n",
       "      <td>125608</td>\n",
       "      <td>кафетерий</td>\n",
       "      <td>нет</td>\n",
       "      <td>кафетерий</td>\n",
       "      <td>город Москва, Алтуфьевское шоссе, дом 56</td>\n",
       "      <td>6</td>\n",
       "      <td>Алтуфьевское шоссе</td>\n",
       "      <td>Район Лианозово</td>\n",
       "    </tr>\n",
       "    <tr>\n",
       "      <th>41</th>\n",
       "      <td>125608</td>\n",
       "      <td>кафетерий</td>\n",
       "      <td>нет</td>\n",
       "      <td>кафетерий</td>\n",
       "      <td>город Москва, Алтуфьевское шоссе, дом 56</td>\n",
       "      <td>6</td>\n",
       "      <td>Алтуфьевское шоссе</td>\n",
       "      <td>Район Отрадное</td>\n",
       "    </tr>\n",
       "    <tr>\n",
       "      <th>42</th>\n",
       "      <td>81554</td>\n",
       "      <td>домино'с пицца</td>\n",
       "      <td>да</td>\n",
       "      <td>кафе</td>\n",
       "      <td>город Москва, Алтуфьевское шоссе, дом 56</td>\n",
       "      <td>24</td>\n",
       "      <td>Алтуфьевское шоссе</td>\n",
       "      <td>Алтуфьевский район</td>\n",
       "    </tr>\n",
       "    <tr>\n",
       "      <th>43</th>\n",
       "      <td>81554</td>\n",
       "      <td>домино'с пицца</td>\n",
       "      <td>да</td>\n",
       "      <td>кафе</td>\n",
       "      <td>город Москва, Алтуфьевское шоссе, дом 56</td>\n",
       "      <td>24</td>\n",
       "      <td>Алтуфьевское шоссе</td>\n",
       "      <td>Район Бибирево</td>\n",
       "    </tr>\n",
       "    <tr>\n",
       "      <th>44</th>\n",
       "      <td>81554</td>\n",
       "      <td>домино'с пицца</td>\n",
       "      <td>да</td>\n",
       "      <td>кафе</td>\n",
       "      <td>город Москва, Алтуфьевское шоссе, дом 56</td>\n",
       "      <td>24</td>\n",
       "      <td>Алтуфьевское шоссе</td>\n",
       "      <td>Район Лианозово</td>\n",
       "    </tr>\n",
       "    <tr>\n",
       "      <th>45</th>\n",
       "      <td>81554</td>\n",
       "      <td>домино'с пицца</td>\n",
       "      <td>да</td>\n",
       "      <td>кафе</td>\n",
       "      <td>город Москва, Алтуфьевское шоссе, дом 56</td>\n",
       "      <td>24</td>\n",
       "      <td>Алтуфьевское шоссе</td>\n",
       "      <td>Район Отрадное</td>\n",
       "    </tr>\n",
       "    <tr>\n",
       "      <th>46</th>\n",
       "      <td>21304</td>\n",
       "      <td>рахимкулова т.х.</td>\n",
       "      <td>нет</td>\n",
       "      <td>буфет</td>\n",
       "      <td>город Москва, Алтуфьевское шоссе, дом 102Б</td>\n",
       "      <td>20</td>\n",
       "      <td>Алтуфьевское шоссе</td>\n",
       "      <td>Алтуфьевский район</td>\n",
       "    </tr>\n",
       "    <tr>\n",
       "      <th>47</th>\n",
       "      <td>21304</td>\n",
       "      <td>рахимкулова т.х.</td>\n",
       "      <td>нет</td>\n",
       "      <td>буфет</td>\n",
       "      <td>город Москва, Алтуфьевское шоссе, дом 102Б</td>\n",
       "      <td>20</td>\n",
       "      <td>Алтуфьевское шоссе</td>\n",
       "      <td>Район Бибирево</td>\n",
       "    </tr>\n",
       "    <tr>\n",
       "      <th>48</th>\n",
       "      <td>21304</td>\n",
       "      <td>рахимкулова т.х.</td>\n",
       "      <td>нет</td>\n",
       "      <td>буфет</td>\n",
       "      <td>город Москва, Алтуфьевское шоссе, дом 102Б</td>\n",
       "      <td>20</td>\n",
       "      <td>Алтуфьевское шоссе</td>\n",
       "      <td>Район Лианозово</td>\n",
       "    </tr>\n",
       "    <tr>\n",
       "      <th>49</th>\n",
       "      <td>21304</td>\n",
       "      <td>рахимкулова т.х.</td>\n",
       "      <td>нет</td>\n",
       "      <td>буфет</td>\n",
       "      <td>город Москва, Алтуфьевское шоссе, дом 102Б</td>\n",
       "      <td>20</td>\n",
       "      <td>Алтуфьевское шоссе</td>\n",
       "      <td>Район Отрадное</td>\n",
       "    </tr>\n",
       "  </tbody>\n",
       "</table>\n",
       "</div>"
      ],
      "text/plain": [
       "        id                        object_name chain object_type  \\\n",
       "0   151635                            сметана   нет        кафе   \n",
       "1    77874                             родник   нет        кафе   \n",
       "2    77874                             родник   нет        кафе   \n",
       "3    77874                             родник   нет        кафе   \n",
       "4    24309                    кафе «академия»   нет        кафе   \n",
       "5    21894                         пиццетория    да        кафе   \n",
       "6   119365             кафе «вишневая метель»   нет        кафе   \n",
       "7    27429           стол. при гоу сош № 1051   нет    столовая   \n",
       "8   148815                           брусника    да        кафе   \n",
       "9   148815                           брусника    да        кафе   \n",
       "10   20957                        буфет мтуси   нет    столовая   \n",
       "11   20958                        кпф семья-1   нет    столовая   \n",
       "12   28858                     столовая мтуси   нет    столовая   \n",
       "13  148595                         пекарня 24   нет  закусочная   \n",
       "14   23394                            гогиели   нет        кафе   \n",
       "15   28582                          школа 735   нет    столовая   \n",
       "16   22579                         алло пицца    да        кафе   \n",
       "17   23670                      гимназия 1542   нет    столовая   \n",
       "18   23663                         школа 1011   нет    столовая   \n",
       "19  144107                           суши wok    да    фаст-фуд   \n",
       "20  154654                        донер кебаб   нет    фаст-фуд   \n",
       "21   58565                             тануки    да    ресторан   \n",
       "22   58565                             тануки    да    ресторан   \n",
       "23   58565                             тануки    да    ресторан   \n",
       "24  153644  американская лаборатория десертов   нет        кафе   \n",
       "25   21950                               кафе   нет        кафе   \n",
       "26   84832                           кафе уют   нет        кафе   \n",
       "27   84832                           кафе уют   нет        кафе   \n",
       "28   84832                           кафе уют   нет        кафе   \n",
       "29   84832                           кафе уют   нет        кафе   \n",
       "30   26931                     долина чайхона   нет        кафе   \n",
       "31   26931                     долина чайхона   нет        кафе   \n",
       "32   26931                     долина чайхона   нет        кафе   \n",
       "33   26931                     долина чайхона   нет        кафе   \n",
       "34   28751            гбоу школа № 1411 (970)   нет    столовая   \n",
       "35   28751            гбоу школа № 1411 (970)   нет    столовая   \n",
       "36   28751            гбоу школа № 1411 (970)   нет    столовая   \n",
       "37   28751            гбоу школа № 1411 (970)   нет    столовая   \n",
       "38  125608                          кафетерий   нет   кафетерий   \n",
       "39  125608                          кафетерий   нет   кафетерий   \n",
       "40  125608                          кафетерий   нет   кафетерий   \n",
       "41  125608                          кафетерий   нет   кафетерий   \n",
       "42   81554                     домино'с пицца    да        кафе   \n",
       "43   81554                     домино'с пицца    да        кафе   \n",
       "44   81554                     домино'с пицца    да        кафе   \n",
       "45   81554                     домино'с пицца    да        кафе   \n",
       "46   21304                   рахимкулова т.х.   нет       буфет   \n",
       "47   21304                   рахимкулова т.х.   нет       буфет   \n",
       "48   21304                   рахимкулова т.х.   нет       буфет   \n",
       "49   21304                   рахимкулова т.х.   нет       буфет   \n",
       "\n",
       "                                              address  number  \\\n",
       "0          город Москва, улица Егора Абакумова, дом 9      48   \n",
       "1   город Москва, улица Талалихина, дом 2/1, корпус 1      35   \n",
       "2   город Москва, улица Талалихина, дом 2/1, корпус 1      35   \n",
       "3   город Москва, улица Талалихина, дом 2/1, корпус 1      35   \n",
       "4           город Москва, Абельмановская улица, дом 6      95   \n",
       "5             город Москва, Абрамцевская улица, дом 1      40   \n",
       "6   город Москва, Абрамцевская улица, дом 9, корпус 1      50   \n",
       "7   город Москва, Абрамцевская улица, дом 15, корп...     240   \n",
       "8       город Москва, переулок Сивцев Вражек, дом 6/2      10   \n",
       "9       город Москва, переулок Сивцев Вражек, дом 6/2      10   \n",
       "10  город Москва, Авиамоторная улица, дом 8, строе...      90   \n",
       "11  город Москва, Авиамоторная улица, дом 8, строе...     150   \n",
       "12  город Москва, Авиамоторная улица, дом 8, строе...     120   \n",
       "13           город Москва, Авиамоторная улица, дом 47       5   \n",
       "14         город Москва, Авиамоторная улица, дом 49/1      24   \n",
       "15           город Москва, Авиамоторная улица, дом 51     140   \n",
       "16              город Москва, улица Авиаторов, дом 14      32   \n",
       "17              город Москва, улица Авиаторов, дом 16     270   \n",
       "18              город Москва, улица Авиаторов, дом 18     320   \n",
       "19                город Москва, Азовская улица, дом 3       7   \n",
       "20                город Москва, Азовская улица, дом 4       2   \n",
       "21  город Москва, Большая Академическая улица, дом 65     160   \n",
       "22  город Москва, Большая Академическая улица, дом 65     160   \n",
       "23  город Москва, Большая Академическая улица, дом 65     160   \n",
       "24      город Москва, Филипповский переулок, дом 15/5      20   \n",
       "25            город Москва, Алтайская улица, дом 33/7      30   \n",
       "26           город Москва, Алтуфьевское шоссе, дом 14     110   \n",
       "27           город Москва, Алтуфьевское шоссе, дом 14     110   \n",
       "28           город Москва, Алтуфьевское шоссе, дом 14     110   \n",
       "29           город Москва, Алтуфьевское шоссе, дом 14     110   \n",
       "30           город Москва, Алтуфьевское шоссе, дом 14     150   \n",
       "31           город Москва, Алтуфьевское шоссе, дом 14     150   \n",
       "32           город Москва, Алтуфьевское шоссе, дом 14     150   \n",
       "33           город Москва, Алтуфьевское шоссе, дом 14     150   \n",
       "34          город Москва, Алтуфьевское шоссе, дом 42Б     120   \n",
       "35          город Москва, Алтуфьевское шоссе, дом 42Б     120   \n",
       "36          город Москва, Алтуфьевское шоссе, дом 42Б     120   \n",
       "37          город Москва, Алтуфьевское шоссе, дом 42Б     120   \n",
       "38           город Москва, Алтуфьевское шоссе, дом 56       6   \n",
       "39           город Москва, Алтуфьевское шоссе, дом 56       6   \n",
       "40           город Москва, Алтуфьевское шоссе, дом 56       6   \n",
       "41           город Москва, Алтуфьевское шоссе, дом 56       6   \n",
       "42           город Москва, Алтуфьевское шоссе, дом 56      24   \n",
       "43           город Москва, Алтуфьевское шоссе, дом 56      24   \n",
       "44           город Москва, Алтуфьевское шоссе, дом 56      24   \n",
       "45           город Москва, Алтуфьевское шоссе, дом 56      24   \n",
       "46         город Москва, Алтуфьевское шоссе, дом 102Б      20   \n",
       "47         город Москва, Алтуфьевское шоссе, дом 102Б      20   \n",
       "48         город Москва, Алтуфьевское шоссе, дом 102Б      20   \n",
       "49         город Москва, Алтуфьевское шоссе, дом 102Б      20   \n",
       "\n",
       "                         street                 area  \n",
       "0         улица Егора Абакумова    Ярославский Район  \n",
       "1              улица Талалихина      Таганский район  \n",
       "2              улица Талалихина  Нижегородский район  \n",
       "3              улица Талалихина   Район Южное Бутово  \n",
       "4          Абельмановская улица      Таганский район  \n",
       "5            Абрамцевская улица      Район Лианозово  \n",
       "6            Абрамцевская улица      Район Лианозово  \n",
       "7            Абрамцевская улица      Район Лианозово  \n",
       "8        переулок Сивцев Вражек          Район Арбат  \n",
       "9        переулок Сивцев Вражек      Район Хамовники  \n",
       "10           Авиамоторная улица      Район Лефортово  \n",
       "11           Авиамоторная улица      Район Лефортово  \n",
       "12           Авиамоторная улица      Район Лефортово  \n",
       "13           Авиамоторная улица      Район Лефортово  \n",
       "14           Авиамоторная улица      Район Лефортово  \n",
       "15           Авиамоторная улица      Район Лефортово  \n",
       "16              улица Авиаторов       Район Солнцево  \n",
       "17              улица Авиаторов       Район Солнцево  \n",
       "18              улица Авиаторов       Район Солнцево  \n",
       "19               Азовская улица         Район Зюзино  \n",
       "20               Азовская улица         Район Зюзино  \n",
       "21  Большая Академическая улица        Район Коптево  \n",
       "22  Большая Академическая улица  Тимирязевский Район  \n",
       "23  Большая Академическая улица     Войковский Район  \n",
       "24        Филипповский переулок          Район Арбат  \n",
       "25              Алтайская улица      Район Гольяново  \n",
       "26           Алтуфьевское шоссе   Алтуфьевский район  \n",
       "27           Алтуфьевское шоссе       Район Бибирево  \n",
       "28           Алтуфьевское шоссе      Район Лианозово  \n",
       "29           Алтуфьевское шоссе       Район Отрадное  \n",
       "30           Алтуфьевское шоссе   Алтуфьевский район  \n",
       "31           Алтуфьевское шоссе       Район Бибирево  \n",
       "32           Алтуфьевское шоссе      Район Лианозово  \n",
       "33           Алтуфьевское шоссе       Район Отрадное  \n",
       "34           Алтуфьевское шоссе   Алтуфьевский район  \n",
       "35           Алтуфьевское шоссе       Район Бибирево  \n",
       "36           Алтуфьевское шоссе      Район Лианозово  \n",
       "37           Алтуфьевское шоссе       Район Отрадное  \n",
       "38           Алтуфьевское шоссе   Алтуфьевский район  \n",
       "39           Алтуфьевское шоссе       Район Бибирево  \n",
       "40           Алтуфьевское шоссе      Район Лианозово  \n",
       "41           Алтуфьевское шоссе       Район Отрадное  \n",
       "42           Алтуфьевское шоссе   Алтуфьевский район  \n",
       "43           Алтуфьевское шоссе       Район Бибирево  \n",
       "44           Алтуфьевское шоссе      Район Лианозово  \n",
       "45           Алтуфьевское шоссе       Район Отрадное  \n",
       "46           Алтуфьевское шоссе   Алтуфьевский район  \n",
       "47           Алтуфьевское шоссе       Район Бибирево  \n",
       "48           Алтуфьевское шоссе      Район Лианозово  \n",
       "49           Алтуфьевское шоссе       Район Отрадное  "
      ]
     },
     "execution_count": 96,
     "metadata": {},
     "output_type": "execute_result"
    }
   ],
   "source": [
    "rest_df = rest_df.merge(area[['street', 'area']], on='street', how='left')\n",
    "rest_df.head(50)"
   ]
  },
  {
   "cell_type": "markdown",
   "metadata": {},
   "source": [
    "Создадим сводную таблицу в которую войдут десять улиц Москвы с наибольшим количеством заведений, а также информация о районах через которые проходят эти улицы."
   ]
  },
  {
   "cell_type": "code",
   "execution_count": 97,
   "metadata": {
    "scrolled": true
   },
   "outputs": [
    {
     "data": {
      "text/html": [
       "<div>\n",
       "<style scoped>\n",
       "    .dataframe tbody tr th:only-of-type {\n",
       "        vertical-align: middle;\n",
       "    }\n",
       "\n",
       "    .dataframe tbody tr th {\n",
       "        vertical-align: top;\n",
       "    }\n",
       "\n",
       "    .dataframe thead th {\n",
       "        text-align: right;\n",
       "    }\n",
       "</style>\n",
       "<table border=\"1\" class=\"dataframe\">\n",
       "  <thead>\n",
       "    <tr style=\"text-align: right;\">\n",
       "      <th></th>\n",
       "      <th>street</th>\n",
       "      <th>area</th>\n",
       "      <th>count</th>\n",
       "    </tr>\n",
       "  </thead>\n",
       "  <tbody>\n",
       "    <tr>\n",
       "      <th>0</th>\n",
       "      <td>проспект Мира</td>\n",
       "      <td>[Алексеевский район, Ярославский Район, Мещанс...</td>\n",
       "      <td>204.0</td>\n",
       "    </tr>\n",
       "    <tr>\n",
       "      <th>1</th>\n",
       "      <td>Профсоюзная улица</td>\n",
       "      <td>[Район Теплый Стан, Обручевский район, Академи...</td>\n",
       "      <td>182.0</td>\n",
       "    </tr>\n",
       "    <tr>\n",
       "      <th>2</th>\n",
       "      <td>Ленинградский проспект</td>\n",
       "      <td>[Район Аэропорт, Район Беговой, Район Сокол, Х...</td>\n",
       "      <td>171.0</td>\n",
       "    </tr>\n",
       "    <tr>\n",
       "      <th>3</th>\n",
       "      <td>Пресненская набережная</td>\n",
       "      <td>[Пресненский район]</td>\n",
       "      <td>167.0</td>\n",
       "    </tr>\n",
       "    <tr>\n",
       "      <th>4</th>\n",
       "      <td>Варшавское шоссе</td>\n",
       "      <td>[Район Чертаново Центральное, Район Нагатино-С...</td>\n",
       "      <td>161.0</td>\n",
       "    </tr>\n",
       "    <tr>\n",
       "      <th>5</th>\n",
       "      <td>Ленинский проспект</td>\n",
       "      <td>[Район Теплый Стан, Район Тропарево-Никулино, ...</td>\n",
       "      <td>147.0</td>\n",
       "    </tr>\n",
       "    <tr>\n",
       "      <th>6</th>\n",
       "      <td>проспект Вернадского</td>\n",
       "      <td>[Район Тропарево-Никулино, Район Раменки, Райо...</td>\n",
       "      <td>132.0</td>\n",
       "    </tr>\n",
       "    <tr>\n",
       "      <th>7</th>\n",
       "      <td>Кутузовский проспект</td>\n",
       "      <td>[Район Дорогомилово, Район Фили-Давыдково]</td>\n",
       "      <td>114.0</td>\n",
       "    </tr>\n",
       "    <tr>\n",
       "      <th>8</th>\n",
       "      <td>Каширское шоссе</td>\n",
       "      <td>[Район Москворечье-Сабурово, Район Нагатино-Са...</td>\n",
       "      <td>112.0</td>\n",
       "    </tr>\n",
       "    <tr>\n",
       "      <th>9</th>\n",
       "      <td>Кировоградская улица</td>\n",
       "      <td>[Район Чертаново Центральное, Район Чертаново ...</td>\n",
       "      <td>110.0</td>\n",
       "    </tr>\n",
       "  </tbody>\n",
       "</table>\n",
       "</div>"
      ],
      "text/plain": [
       "                   street                                               area  \\\n",
       "0           проспект Мира  [Алексеевский район, Ярославский Район, Мещанс...   \n",
       "1       Профсоюзная улица  [Район Теплый Стан, Обручевский район, Академи...   \n",
       "2  Ленинградский проспект  [Район Аэропорт, Район Беговой, Район Сокол, Х...   \n",
       "3  Пресненская набережная                                [Пресненский район]   \n",
       "4        Варшавское шоссе  [Район Чертаново Центральное, Район Нагатино-С...   \n",
       "5      Ленинский проспект  [Район Теплый Стан, Район Тропарево-Никулино, ...   \n",
       "6    проспект Вернадского  [Район Тропарево-Никулино, Район Раменки, Райо...   \n",
       "7    Кутузовский проспект         [Район Дорогомилово, Район Фили-Давыдково]   \n",
       "8         Каширское шоссе  [Район Москворечье-Сабурово, Район Нагатино-Са...   \n",
       "9    Кировоградская улица  [Район Чертаново Центральное, Район Чертаново ...   \n",
       "\n",
       "   count  \n",
       "0  204.0  \n",
       "1  182.0  \n",
       "2  171.0  \n",
       "3  167.0  \n",
       "4  161.0  \n",
       "5  147.0  \n",
       "6  132.0  \n",
       "7  114.0  \n",
       "8  112.0  \n",
       "9  110.0  "
      ]
     },
     "execution_count": 97,
     "metadata": {},
     "output_type": "execute_result"
    }
   ],
   "source": [
    "top_street = rest_df.pivot_table(index=['street', 'area'], values='id', aggfunc='count').reset_index().sort_values('id', ascending=False).reset_index()\n",
    "top_street = top_street.rename(columns = {'id':'count'})\n",
    "top_street = top_street.groupby('street').agg({'area': 'unique', 'count':'median'}).reset_index().sort_values(by='count', ascending = False)\n",
    "top_street = top_street.reset_index(drop=True)\n",
    "top_ten_street = top_street.head(10)\n",
    "top_ten_street"
   ]
  },
  {
   "cell_type": "markdown",
   "metadata": {},
   "source": [
    "Построим столбчатую диаграмму по полученным данным. "
   ]
  },
  {
   "cell_type": "code",
   "execution_count": 98,
   "metadata": {
    "scrolled": true
   },
   "outputs": [
    {
     "data": {
      "image/png": "[encoded data removed]",
      "text/plain": [
       "<Figure size 1008x504 with 1 Axes>"
      ]
     },
     "metadata": {
      "needs_background": "light"
     },
     "output_type": "display_data"
    }
   ],
   "source": [
    "plt.figure(figsize =(14,7))\n",
    "\n",
    "ax = sns.barplot(data=top_ten_street, x='street', y='count', palette=\"ch:s=.2,rot=-.2\")\n",
    "ax.set_xlabel('')\n",
    "ax.set_ylabel('Количество заведений', size=12)\n",
    "ax.set_xticklabels(ax.get_xticklabels(),rotation = 30, size = 12)\n",
    "ax.set_title('Топ 10 улиц Москвы по количсетву заведений общественного питания', size=15)\n",
    "\n",
    "    \n",
    "\n",
    "patches = ax.patches\n",
    "for i in range(len(patches)):\n",
    "    x = patches[i].get_x() + patches[i].get_width()/2\n",
    "    y = patches[i].get_height()\n",
    "    ax.annotate('{0:.0f}'.format(top_ten_street.iloc[i, 2]), (x, y), ha='center', size=12) \n",
    "    \n",
    "sns.despine()"
   ]
  },
  {
   "cell_type": "markdown",
   "metadata": {},
   "source": [
    "\n",
    "Больше всего заведений на проспекте Мира. Остальные немного уступают, но в среднем имеют схожие значения. Почти все улицы представленные в выборке крупные транспортные магистрали, кроме Пресненкой набережной."
   ]
  },
  {
   "cell_type": "markdown",
   "metadata": {},
   "source": [
    "Посмотрим какие представляют наибольшее число заведений."
   ]
  },
  {
   "cell_type": "code",
   "execution_count": 99,
   "metadata": {},
   "outputs": [],
   "source": [
    "top_ten_district = rest_df.pivot_table(index=['area'], values='id', aggfunc='count')\n",
    "top_ten_district = top_ten_district.sort_values(by='id', ascending = False).rename(columns = {'id':'count'}).reset_index()\n",
    "top_ten_district = top_ten_district.head(10)"
   ]
  },
  {
   "cell_type": "code",
   "execution_count": 100,
   "metadata": {
    "scrolled": true
   },
   "outputs": [
    {
     "data": {
      "image/png": "[encoded data removed]",
      "text/plain": [
       "<Figure size 1008x504 with 1 Axes>"
      ]
     },
     "metadata": {
      "needs_background": "light"
     },
     "output_type": "display_data"
    }
   ],
   "source": [
    "plt.figure(figsize =(14,7))\n",
    "\n",
    "ax = sns.barplot(data=top_ten_district, x='area', y='count', palette=\"ch:s=.2,rot=-.2\")\n",
    "ax.set_xlabel('')\n",
    "ax.set_ylabel('Количество заведений', size=12)\n",
    "ax.set_xticklabels(ax.get_xticklabels(),rotation = 30, size = 12)\n",
    "ax.set_title('Топ 10 районов Москвы по количсетву заведений общественного питания', size=15)\n",
    "\n",
    "    \n",
    "\n",
    "patches = ax.patches\n",
    "for i in range(len(patches)):\n",
    "    x = patches[i].get_x() + patches[i].get_width()/2\n",
    "    y = patches[i].get_height()\n",
    "    ax.annotate('{0:.0f}'.format(top_ten_district.iloc[i, 1]), (x, y), ha='center', size=12) \n",
    "    \n",
    "sns.despine()"
   ]
  },
  {
   "cell_type": "markdown",
   "metadata": {},
   "source": [
    "Больше всего заведений в центре: в Тверском, Пресненском и Басманном районе."
   ]
  },
  {
   "cell_type": "markdown",
   "metadata": {},
   "source": [
    "Найдем количество улиц, где есть всего одно заведение."
   ]
  },
  {
   "cell_type": "code",
   "execution_count": 101,
   "metadata": {},
   "outputs": [
    {
     "name": "stdout",
     "output_type": "stream",
     "text": [
      "Число улиц с одним заведением общественного питания —  509\n"
     ]
    }
   ],
   "source": [
    "one_place_group = top_street.query('count == 1')\n",
    "print('Число улиц с одним заведением общественного питания — ', one_place_group.shape[0])"
   ]
  },
  {
   "cell_type": "markdown",
   "metadata": {},
   "source": [
    "Таких 509 наименований."
   ]
  },
  {
   "cell_type": "code",
   "execution_count": 102,
   "metadata": {},
   "outputs": [
    {
     "data": {
      "text/html": [
       "<div>\n",
       "<style scoped>\n",
       "    .dataframe tbody tr th:only-of-type {\n",
       "        vertical-align: middle;\n",
       "    }\n",
       "\n",
       "    .dataframe tbody tr th {\n",
       "        vertical-align: top;\n",
       "    }\n",
       "\n",
       "    .dataframe thead th {\n",
       "        text-align: right;\n",
       "    }\n",
       "</style>\n",
       "<table border=\"1\" class=\"dataframe\">\n",
       "  <thead>\n",
       "    <tr style=\"text-align: right;\">\n",
       "      <th></th>\n",
       "      <th>area</th>\n",
       "      <th>street</th>\n",
       "      <th>count</th>\n",
       "    </tr>\n",
       "  </thead>\n",
       "  <tbody>\n",
       "    <tr>\n",
       "      <th>0</th>\n",
       "      <td>Таганский район</td>\n",
       "      <td>[Яузский бульвар, Сибирский проезд, Средняя Ка...</td>\n",
       "      <td>27</td>\n",
       "    </tr>\n",
       "    <tr>\n",
       "      <th>1</th>\n",
       "      <td>Район Хамовники</td>\n",
       "      <td>[2-й Неопалимовский переулок, 1-й Зачатьевский...</td>\n",
       "      <td>26</td>\n",
       "    </tr>\n",
       "    <tr>\n",
       "      <th>2</th>\n",
       "      <td>Басманный район</td>\n",
       "      <td>[Малый Казённый переулок, Госпитальный переуло...</td>\n",
       "      <td>25</td>\n",
       "    </tr>\n",
       "    <tr>\n",
       "      <th>3</th>\n",
       "      <td>Тверской район</td>\n",
       "      <td>[1-я Миусская улица, 2-й Колобовский переулок,...</td>\n",
       "      <td>20</td>\n",
       "    </tr>\n",
       "    <tr>\n",
       "      <th>4</th>\n",
       "      <td>Пресненский район</td>\n",
       "      <td>[Красногвардейский бульвар, Гранатный переулок...</td>\n",
       "      <td>19</td>\n",
       "    </tr>\n",
       "    <tr>\n",
       "      <th>5</th>\n",
       "      <td>Район Марьина роща</td>\n",
       "      <td>[Минаевский переулок, 3-й Стрелецкий проезд, 5...</td>\n",
       "      <td>18</td>\n",
       "    </tr>\n",
       "    <tr>\n",
       "      <th>6</th>\n",
       "      <td>Район Арбат</td>\n",
       "      <td>[Проточный переулок, Денежный переулок, Калоши...</td>\n",
       "      <td>17</td>\n",
       "    </tr>\n",
       "    <tr>\n",
       "      <th>7</th>\n",
       "      <td>Мещанский район</td>\n",
       "      <td>[Большой Кисельный переулок, 1-й Коптельский п...</td>\n",
       "      <td>16</td>\n",
       "    </tr>\n",
       "    <tr>\n",
       "      <th>8</th>\n",
       "      <td>Район Замоскворечье</td>\n",
       "      <td>[Средний Овчинниковский переулок, Черниговский...</td>\n",
       "      <td>14</td>\n",
       "    </tr>\n",
       "    <tr>\n",
       "      <th>9</th>\n",
       "      <td>Район Лефортово</td>\n",
       "      <td>[улица Лефортовский Вал, улица Лапина, Шепелюг...</td>\n",
       "      <td>12</td>\n",
       "    </tr>\n",
       "  </tbody>\n",
       "</table>\n",
       "</div>"
      ],
      "text/plain": [
       "                  area                                             street  \\\n",
       "0      Таганский район  [Яузский бульвар, Сибирский проезд, Средняя Ка...   \n",
       "1      Район Хамовники  [2-й Неопалимовский переулок, 1-й Зачатьевский...   \n",
       "2      Басманный район  [Малый Казённый переулок, Госпитальный переуло...   \n",
       "3       Тверской район  [1-я Миусская улица, 2-й Колобовский переулок,...   \n",
       "4    Пресненский район  [Красногвардейский бульвар, Гранатный переулок...   \n",
       "5   Район Марьина роща  [Минаевский переулок, 3-й Стрелецкий проезд, 5...   \n",
       "6          Район Арбат  [Проточный переулок, Денежный переулок, Калоши...   \n",
       "7      Мещанский район  [Большой Кисельный переулок, 1-й Коптельский п...   \n",
       "8  Район Замоскворечье  [Средний Овчинниковский переулок, Черниговский...   \n",
       "9      Район Лефортово  [улица Лефортовский Вал, улица Лапина, Шепелюг...   \n",
       "\n",
       "   count  \n",
       "0     27  \n",
       "1     26  \n",
       "2     25  \n",
       "3     20  \n",
       "4     19  \n",
       "5     18  \n",
       "6     17  \n",
       "7     16  \n",
       "8     14  \n",
       "9     12  "
      ]
     },
     "execution_count": 102,
     "metadata": {},
     "output_type": "execute_result"
    }
   ],
   "source": [
    "bottom_ten_street = rest_df.pivot_table(index=['area', 'street'], values='id', aggfunc='count').query('id == 1').sort_values('id', ascending=False).reset_index()\n",
    "bottom_ten_street = bottom_ten_street.rename(columns = {'id':'count'})\n",
    "bottom_ten_street = bottom_ten_street.groupby('area').agg({'street': 'unique', 'count':'sum'}).sort_values(by='count', ascending = False).reset_index()\n",
    "bottom_ten_street = bottom_ten_street.head(10)\n",
    "bottom_ten_street"
   ]
  },
  {
   "cell_type": "code",
   "execution_count": 103,
   "metadata": {},
   "outputs": [
    {
     "data": {
      "image/png": "[encoded data removed]",
      "text/plain": [
       "<Figure size 1008x504 with 1 Axes>"
      ]
     },
     "metadata": {
      "needs_background": "light"
     },
     "output_type": "display_data"
    }
   ],
   "source": [
    "plt.figure(figsize =(14,7))\n",
    "\n",
    "ax = sns.barplot(data=bottom_ten_street, x='area', y='count', palette=\"ch:s=.2,rot=-.2\")\n",
    "ax.set_xlabel('')\n",
    "ax.set_ylabel('Количество заведений', size=12)\n",
    "ax.set_xticklabels(ax.get_xticklabels(),rotation = 30, size = 12)\n",
    "ax.set_title('Топ 10 районов Москвы с наибольшим количеством улиц с одним заведением общественного питания.', size=15)\n",
    "\n",
    "    \n",
    "\n",
    "patches = ax.patches\n",
    "for i in range(len(patches)):\n",
    "    x = patches[i].get_x() + patches[i].get_width()/2\n",
    "    y = patches[i].get_height()\n",
    "    ax.annotate('{0:.0f}'.format(bottom_ten_street.iloc[i, 2]), (x, y), ha='center', size=12) \n",
    "    \n",
    "sns.despine()"
   ]
  },
  {
   "cell_type": "markdown",
   "metadata": {},
   "source": [
    "Представлены как центральные районы так и окраины. Центральные районы фигурируют чаще в силу их меньшего числа и большей концентрации заведений."
   ]
  },
  {
   "cell_type": "markdown",
   "metadata": {},
   "source": [
    "## Вывод\n",
    "\n",
    "Мы провели исследование рынка заведений общественного питания в Москве.\n",
    "\n",
    "Данные были предварительно подготовлены, поэтому предобработка нам не потребовалась.\n",
    "\n",
    "Наиболее популярны в Москве - `кафе`, их `6,1 тысяч`. `Сетевые кафе` не самый популярный формат, они составляют всего `23%` от общего числа. Среднее значение посадочных мест в заведениях общепита - `50`.\n",
    "\n",
    "Наиболее популярным сетевой формат считается в заведениях `фаст-фуд`, он составляет `41,1%`. На втором месте — `отделы кулинарий` в магазинах у них `29%`.\n",
    "\n",
    "Сетевые заведения чаще имеют большое количество точек и малое количество посадочных мест или вовсе их не имеют.\n",
    "\n",
    "Наибольшее число посадочных мест наблюдаем у столовых и ресторанов. Среднее количество мест в кафе - `39`. Среднее количество мест в ресторане - `97`. Столовые, в среднем, имеют около `130`мест.\n",
    "\n",
    "Больше всего заведений на `Ленинградском проспекте`, `Профсоюзной улице` и `проспекте Мира`. По районам больше всего заведений в центре: в `Тверском`, `Басманном` и `Пресненском районе`.\n",
    "\n",
    "По районам больше всего заведений с одним заведением на улице так же в центре: в `Таганском`, `Басманном` и районе `Хамовники`. Всего одно заведение общепита есть на 509 улицах.\n",
    "\n",
    "# Итог\n",
    "\n",
    "Текущий анализ рынка показывает, что `кафе наиболее перспективный тип заведения` и популярен в Москве. Однако, для наиболее точного прогноза необходима информация об экономической деятельности каждого типа заведения.\n",
    "\n",
    "\n"
   ]
  },
  {
   "cell_type": "markdown",
   "metadata": {},
   "source": [
    "Презентация: https://drive.google.com/file/d/1FdDwJyKFfPpb9Om8bwCTqFuM-wCoebOm/view?usp=sharing"
   ]
  }
 ],
 "metadata": {
  "ExecuteTimeLog": [
   {
    "duration": 1465,
    "start_time": "2022-06-30T15:43:21.861Z"
   },
   {
    "duration": 120,
    "start_time": "2022-06-30T15:44:49.952Z"
   },
   {
    "duration": 14,
    "start_time": "2022-06-30T15:45:15.225Z"
   },
   {
    "duration": 27,
    "start_time": "2022-06-30T15:45:58.253Z"
   },
   {
    "duration": 17,
    "start_time": "2022-06-30T15:48:53.754Z"
   },
   {
    "duration": 3,
    "start_time": "2022-06-30T15:49:06.361Z"
   },
   {
    "duration": 67,
    "start_time": "2022-06-30T15:49:07.418Z"
   },
   {
    "duration": 20,
    "start_time": "2022-06-30T15:49:08.614Z"
   },
   {
    "duration": 16,
    "start_time": "2022-06-30T15:49:12.807Z"
   },
   {
    "duration": 7,
    "start_time": "2022-06-30T15:50:23.847Z"
   },
   {
    "duration": 95,
    "start_time": "2022-06-30T15:53:46.214Z"
   },
   {
    "duration": 8,
    "start_time": "2022-06-30T15:54:07.798Z"
   },
   {
    "duration": 8,
    "start_time": "2022-06-30T15:54:25.872Z"
   },
   {
    "duration": 5,
    "start_time": "2022-06-30T15:54:39.627Z"
   },
   {
    "duration": 5,
    "start_time": "2022-06-30T15:54:43.356Z"
   },
   {
    "duration": 5,
    "start_time": "2022-06-30T16:18:07.288Z"
   },
   {
    "duration": 3,
    "start_time": "2022-06-30T16:18:10.876Z"
   },
   {
    "duration": 42,
    "start_time": "2022-07-01T07:34:27.608Z"
   },
   {
    "duration": 1412,
    "start_time": "2022-07-01T07:34:35.435Z"
   },
   {
    "duration": 97,
    "start_time": "2022-07-01T07:34:36.849Z"
   },
   {
    "duration": 30,
    "start_time": "2022-07-01T07:34:36.948Z"
   },
   {
    "duration": 21,
    "start_time": "2022-07-01T07:34:36.981Z"
   },
   {
    "duration": 8,
    "start_time": "2022-07-01T07:34:37.004Z"
   },
   {
    "duration": 7,
    "start_time": "2022-07-01T07:34:37.014Z"
   },
   {
    "duration": 12,
    "start_time": "2022-07-01T07:34:37.022Z"
   },
   {
    "duration": 8,
    "start_time": "2022-07-01T07:34:37.036Z"
   },
   {
    "duration": 5,
    "start_time": "2022-07-01T07:34:37.449Z"
   },
   {
    "duration": 10,
    "start_time": "2022-07-01T07:34:39.560Z"
   },
   {
    "duration": 8,
    "start_time": "2022-07-01T07:36:15.087Z"
   },
   {
    "duration": 4,
    "start_time": "2022-07-01T07:39:52.895Z"
   },
   {
    "duration": 5,
    "start_time": "2022-07-01T07:39:57.794Z"
   },
   {
    "duration": 5,
    "start_time": "2022-07-01T07:42:49.598Z"
   },
   {
    "duration": 47,
    "start_time": "2022-07-04T09:47:37.048Z"
   },
   {
    "duration": 1409,
    "start_time": "2022-07-04T09:47:47.335Z"
   },
   {
    "duration": 131,
    "start_time": "2022-07-04T09:47:48.746Z"
   },
   {
    "duration": 31,
    "start_time": "2022-07-04T09:47:48.879Z"
   },
   {
    "duration": 17,
    "start_time": "2022-07-04T09:47:48.912Z"
   },
   {
    "duration": 7,
    "start_time": "2022-07-04T09:47:48.931Z"
   },
   {
    "duration": 6,
    "start_time": "2022-07-04T09:47:48.958Z"
   },
   {
    "duration": 22,
    "start_time": "2022-07-04T09:47:48.966Z"
   },
   {
    "duration": 8,
    "start_time": "2022-07-04T09:47:48.989Z"
   },
   {
    "duration": 20,
    "start_time": "2022-07-04T09:47:48.999Z"
   },
   {
    "duration": 4,
    "start_time": "2022-07-04T09:47:49.021Z"
   },
   {
    "duration": 345,
    "start_time": "2022-07-04T09:47:49.449Z"
   },
   {
    "duration": 421,
    "start_time": "2022-07-04T09:48:44.992Z"
   },
   {
    "duration": 439,
    "start_time": "2022-07-04T09:53:15.243Z"
   },
   {
    "duration": 108,
    "start_time": "2022-07-04T10:00:03.028Z"
   },
   {
    "duration": 403,
    "start_time": "2022-07-04T10:00:11.221Z"
   },
   {
    "duration": 386,
    "start_time": "2022-07-04T10:00:29.445Z"
   },
   {
    "duration": 317,
    "start_time": "2022-07-04T10:02:07.975Z"
   },
   {
    "duration": 52,
    "start_time": "2022-07-04T10:15:56.005Z"
   },
   {
    "duration": 71,
    "start_time": "2022-07-04T10:16:13.528Z"
   },
   {
    "duration": 53,
    "start_time": "2022-07-04T10:16:44.412Z"
   },
   {
    "duration": 452,
    "start_time": "2022-07-04T10:17:01.200Z"
   },
   {
    "duration": 54,
    "start_time": "2022-07-04T10:21:56.198Z"
   },
   {
    "duration": 38,
    "start_time": "2022-07-04T10:22:03.474Z"
   },
   {
    "duration": 13,
    "start_time": "2022-07-04T10:22:53.382Z"
   },
   {
    "duration": 18,
    "start_time": "2022-07-04T10:22:57.295Z"
   },
   {
    "duration": 13,
    "start_time": "2022-07-04T10:23:02.082Z"
   },
   {
    "duration": 17,
    "start_time": "2022-07-04T10:23:11.372Z"
   },
   {
    "duration": 31,
    "start_time": "2022-07-04T10:23:28.685Z"
   },
   {
    "duration": 22,
    "start_time": "2022-07-04T10:25:26.020Z"
   },
   {
    "duration": 18,
    "start_time": "2022-07-04T10:25:45.020Z"
   },
   {
    "duration": 19,
    "start_time": "2022-07-04T10:26:09.737Z"
   },
   {
    "duration": 55,
    "start_time": "2022-07-04T10:26:55.091Z"
   },
   {
    "duration": 269,
    "start_time": "2022-07-04T10:27:11.278Z"
   },
   {
    "duration": 371,
    "start_time": "2022-07-04T10:28:17.486Z"
   },
   {
    "duration": 198,
    "start_time": "2022-07-04T10:28:44.586Z"
   },
   {
    "duration": 231,
    "start_time": "2022-07-04T10:29:53.167Z"
   },
   {
    "duration": 235,
    "start_time": "2022-07-04T10:31:09.281Z"
   },
   {
    "duration": 332,
    "start_time": "2022-07-04T10:32:59.554Z"
   },
   {
    "duration": 361,
    "start_time": "2022-07-04T10:33:10.284Z"
   },
   {
    "duration": 355,
    "start_time": "2022-07-04T10:33:16.580Z"
   },
   {
    "duration": 65,
    "start_time": "2022-07-04T10:33:28.471Z"
   },
   {
    "duration": 287,
    "start_time": "2022-07-04T10:33:42.319Z"
   },
   {
    "duration": 267,
    "start_time": "2022-07-04T10:33:55.576Z"
   },
   {
    "duration": 102,
    "start_time": "2022-07-04T10:34:17.364Z"
   },
   {
    "duration": 370,
    "start_time": "2022-07-04T10:34:22.656Z"
   },
   {
    "duration": 23,
    "start_time": "2022-07-04T10:35:26.801Z"
   },
   {
    "duration": 16,
    "start_time": "2022-07-04T10:35:36.482Z"
   },
   {
    "duration": 252,
    "start_time": "2022-07-04T10:36:45.601Z"
   },
   {
    "duration": 234,
    "start_time": "2022-07-04T10:37:07.001Z"
   },
   {
    "duration": 244,
    "start_time": "2022-07-04T10:37:32.315Z"
   },
   {
    "duration": 270,
    "start_time": "2022-07-04T10:37:42.462Z"
   },
   {
    "duration": 304,
    "start_time": "2022-07-04T10:37:47.410Z"
   },
   {
    "duration": 176,
    "start_time": "2022-07-04T10:38:30.081Z"
   },
   {
    "duration": 58,
    "start_time": "2022-07-04T10:40:51.172Z"
   },
   {
    "duration": 198,
    "start_time": "2022-07-04T10:41:00.030Z"
   },
   {
    "duration": 266,
    "start_time": "2022-07-04T10:41:14.382Z"
   },
   {
    "duration": 410,
    "start_time": "2022-07-04T10:41:23.679Z"
   },
   {
    "duration": 291,
    "start_time": "2022-07-04T10:41:33.731Z"
   },
   {
    "duration": 262,
    "start_time": "2022-07-04T10:42:15.568Z"
   },
   {
    "duration": 263,
    "start_time": "2022-07-04T10:42:50.380Z"
   },
   {
    "duration": 259,
    "start_time": "2022-07-04T10:42:59.875Z"
   },
   {
    "duration": 261,
    "start_time": "2022-07-04T10:44:08.029Z"
   },
   {
    "duration": 276,
    "start_time": "2022-07-04T10:45:19.708Z"
   },
   {
    "duration": 279,
    "start_time": "2022-07-04T10:46:16.352Z"
   },
   {
    "duration": 269,
    "start_time": "2022-07-04T10:46:48.379Z"
   },
   {
    "duration": 270,
    "start_time": "2022-07-04T10:46:58.339Z"
   },
   {
    "duration": 328,
    "start_time": "2022-07-04T10:48:38.010Z"
   },
   {
    "duration": 139,
    "start_time": "2022-07-04T10:48:56.386Z"
   },
   {
    "duration": 20,
    "start_time": "2022-07-04T10:49:09.534Z"
   },
   {
    "duration": 326,
    "start_time": "2022-07-04T10:49:26.337Z"
   },
   {
    "duration": 387,
    "start_time": "2022-07-04T10:49:52.245Z"
   },
   {
    "duration": 277,
    "start_time": "2022-07-04T10:50:01.634Z"
   },
   {
    "duration": 327,
    "start_time": "2022-07-04T10:50:26.254Z"
   },
   {
    "duration": 338,
    "start_time": "2022-07-04T10:50:43.936Z"
   },
   {
    "duration": 281,
    "start_time": "2022-07-04T10:50:58.139Z"
   },
   {
    "duration": 326,
    "start_time": "2022-07-04T10:51:20.696Z"
   },
   {
    "duration": 264,
    "start_time": "2022-07-04T10:51:36.587Z"
   },
   {
    "duration": 263,
    "start_time": "2022-07-04T10:51:45.063Z"
   },
   {
    "duration": 363,
    "start_time": "2022-07-04T10:51:51.993Z"
   },
   {
    "duration": 299,
    "start_time": "2022-07-04T10:51:57.757Z"
   },
   {
    "duration": 339,
    "start_time": "2022-07-04T10:52:06.556Z"
   },
   {
    "duration": 261,
    "start_time": "2022-07-04T10:52:16.766Z"
   },
   {
    "duration": 248,
    "start_time": "2022-07-04T10:52:23.588Z"
   },
   {
    "duration": 272,
    "start_time": "2022-07-04T10:52:32.719Z"
   },
   {
    "duration": 270,
    "start_time": "2022-07-04T10:52:40.428Z"
   },
   {
    "duration": 255,
    "start_time": "2022-07-04T10:52:51.480Z"
   },
   {
    "duration": 263,
    "start_time": "2022-07-04T10:52:59.736Z"
   },
   {
    "duration": 264,
    "start_time": "2022-07-04T10:53:10.533Z"
   },
   {
    "duration": 245,
    "start_time": "2022-07-04T10:53:25.233Z"
   },
   {
    "duration": 390,
    "start_time": "2022-07-04T10:53:34.376Z"
   },
   {
    "duration": 252,
    "start_time": "2022-07-04T10:53:47.088Z"
   },
   {
    "duration": 274,
    "start_time": "2022-07-04T10:53:58.262Z"
   },
   {
    "duration": 241,
    "start_time": "2022-07-04T10:54:13.777Z"
   },
   {
    "duration": 452,
    "start_time": "2022-07-04T10:59:29.193Z"
   },
   {
    "duration": 255,
    "start_time": "2022-07-04T11:00:09.887Z"
   },
   {
    "duration": 299,
    "start_time": "2022-07-04T11:00:24.486Z"
   },
   {
    "duration": 325,
    "start_time": "2022-07-04T11:00:37.305Z"
   },
   {
    "duration": 268,
    "start_time": "2022-07-04T11:00:55.174Z"
   },
   {
    "duration": 460,
    "start_time": "2022-07-04T11:01:11.877Z"
   },
   {
    "duration": 451,
    "start_time": "2022-07-04T11:01:29.402Z"
   },
   {
    "duration": 589,
    "start_time": "2022-07-04T11:04:23.059Z"
   },
   {
    "duration": 470,
    "start_time": "2022-07-04T11:04:31.789Z"
   },
   {
    "duration": 483,
    "start_time": "2022-07-04T11:04:42.585Z"
   },
   {
    "duration": 529,
    "start_time": "2022-07-04T11:04:56.484Z"
   },
   {
    "duration": 498,
    "start_time": "2022-07-04T11:06:15.085Z"
   },
   {
    "duration": 541,
    "start_time": "2022-07-04T11:06:30.025Z"
   },
   {
    "duration": 43,
    "start_time": "2022-07-04T11:08:28.359Z"
   },
   {
    "duration": 24,
    "start_time": "2022-07-04T11:08:41.475Z"
   },
   {
    "duration": 18,
    "start_time": "2022-07-04T11:10:15.800Z"
   },
   {
    "duration": 24,
    "start_time": "2022-07-04T11:12:58.076Z"
   },
   {
    "duration": 55,
    "start_time": "2022-07-04T11:14:28.981Z"
   },
   {
    "duration": 23,
    "start_time": "2022-07-04T11:16:14.913Z"
   },
   {
    "duration": 830,
    "start_time": "2022-07-04T11:22:23.959Z"
   },
   {
    "duration": 23,
    "start_time": "2022-07-04T11:27:31.403Z"
   },
   {
    "duration": 21,
    "start_time": "2022-07-04T11:27:58.373Z"
   },
   {
    "duration": 19,
    "start_time": "2022-07-04T11:28:08.985Z"
   },
   {
    "duration": 25,
    "start_time": "2022-07-04T11:33:18.183Z"
   },
   {
    "duration": 22,
    "start_time": "2022-07-04T11:33:31.651Z"
   },
   {
    "duration": 18,
    "start_time": "2022-07-04T11:35:00.032Z"
   },
   {
    "duration": 23,
    "start_time": "2022-07-04T11:35:30.328Z"
   },
   {
    "duration": 29,
    "start_time": "2022-07-04T11:35:42.180Z"
   },
   {
    "duration": 22,
    "start_time": "2022-07-04T11:36:01.518Z"
   },
   {
    "duration": 23,
    "start_time": "2022-07-04T14:07:14.536Z"
   },
   {
    "duration": 307,
    "start_time": "2022-07-04T14:08:38.683Z"
   },
   {
    "duration": 465,
    "start_time": "2022-07-04T14:09:38.002Z"
   },
   {
    "duration": 17,
    "start_time": "2022-07-04T14:11:54.151Z"
   },
   {
    "duration": 712,
    "start_time": "2022-07-04T14:12:14.201Z"
   },
   {
    "duration": 248,
    "start_time": "2022-07-04T14:14:49.784Z"
   },
   {
    "duration": 289,
    "start_time": "2022-07-04T14:15:24.887Z"
   },
   {
    "duration": 58,
    "start_time": "2022-07-04T14:17:19.703Z"
   },
   {
    "duration": 376,
    "start_time": "2022-07-04T14:17:29.184Z"
   },
   {
    "duration": 339,
    "start_time": "2022-07-04T14:17:43.941Z"
   },
   {
    "duration": 454,
    "start_time": "2022-07-04T14:18:08.002Z"
   },
   {
    "duration": 151,
    "start_time": "2022-07-04T14:19:18.404Z"
   },
   {
    "duration": 44,
    "start_time": "2022-07-04T15:43:55.748Z"
   },
   {
    "duration": 1153,
    "start_time": "2022-07-04T15:44:00.152Z"
   },
   {
    "duration": 222,
    "start_time": "2022-07-04T15:44:01.307Z"
   },
   {
    "duration": 20,
    "start_time": "2022-07-04T15:44:01.531Z"
   },
   {
    "duration": 18,
    "start_time": "2022-07-04T15:44:01.553Z"
   },
   {
    "duration": 7,
    "start_time": "2022-07-04T15:44:01.572Z"
   },
   {
    "duration": 9,
    "start_time": "2022-07-04T15:44:01.580Z"
   },
   {
    "duration": 6,
    "start_time": "2022-07-04T15:44:01.590Z"
   },
   {
    "duration": 6,
    "start_time": "2022-07-04T15:44:01.598Z"
   },
   {
    "duration": 11,
    "start_time": "2022-07-04T15:44:01.605Z"
   },
   {
    "duration": 4,
    "start_time": "2022-07-04T15:44:01.617Z"
   },
   {
    "duration": 196,
    "start_time": "2022-07-04T15:44:02.488Z"
   },
   {
    "duration": 525,
    "start_time": "2022-07-04T15:44:15.728Z"
   },
   {
    "duration": 19,
    "start_time": "2022-07-04T15:44:20.723Z"
   },
   {
    "duration": 75,
    "start_time": "2022-07-04T15:44:22.106Z"
   },
   {
    "duration": 6,
    "start_time": "2022-07-04T15:44:22.646Z"
   },
   {
    "duration": 4,
    "start_time": "2022-07-04T15:44:31.402Z"
   },
   {
    "duration": 85,
    "start_time": "2022-07-04T15:44:32.998Z"
   },
   {
    "duration": 253,
    "start_time": "2022-07-04T15:44:54.727Z"
   },
   {
    "duration": 429,
    "start_time": "2022-07-04T15:45:30.593Z"
   },
   {
    "duration": 334,
    "start_time": "2022-07-04T15:45:53.562Z"
   },
   {
    "duration": 387,
    "start_time": "2022-07-04T15:46:16.052Z"
   },
   {
    "duration": 371,
    "start_time": "2022-07-04T15:46:49.475Z"
   },
   {
    "duration": 10,
    "start_time": "2022-07-04T15:54:40.370Z"
   },
   {
    "duration": 456,
    "start_time": "2022-07-04T15:56:05.878Z"
   },
   {
    "duration": 13,
    "start_time": "2022-07-04T15:57:36.707Z"
   },
   {
    "duration": 14,
    "start_time": "2022-07-04T15:58:22.493Z"
   },
   {
    "duration": 14,
    "start_time": "2022-07-04T15:58:36.717Z"
   },
   {
    "duration": 17,
    "start_time": "2022-07-04T16:01:15.488Z"
   },
   {
    "duration": 13,
    "start_time": "2022-07-04T16:02:20.869Z"
   },
   {
    "duration": 203,
    "start_time": "2022-07-04T16:02:22.106Z"
   },
   {
    "duration": 206,
    "start_time": "2022-07-04T16:03:07.163Z"
   },
   {
    "duration": 231,
    "start_time": "2022-07-04T16:03:24.318Z"
   },
   {
    "duration": 179,
    "start_time": "2022-07-04T16:06:01.455Z"
   },
   {
    "duration": 211,
    "start_time": "2022-07-04T16:06:12.697Z"
   },
   {
    "duration": 211,
    "start_time": "2022-07-04T16:06:25.685Z"
   },
   {
    "duration": 181,
    "start_time": "2022-07-04T16:06:36.820Z"
   },
   {
    "duration": 201,
    "start_time": "2022-07-04T16:06:52.504Z"
   },
   {
    "duration": 1356,
    "start_time": "2022-07-07T15:10:43.394Z"
   },
   {
    "duration": 96,
    "start_time": "2022-07-07T15:10:44.752Z"
   },
   {
    "duration": 26,
    "start_time": "2022-07-07T15:10:44.849Z"
   },
   {
    "duration": 19,
    "start_time": "2022-07-07T15:10:44.877Z"
   },
   {
    "duration": 8,
    "start_time": "2022-07-07T15:10:44.899Z"
   },
   {
    "duration": 10,
    "start_time": "2022-07-07T15:10:44.909Z"
   },
   {
    "duration": 6,
    "start_time": "2022-07-07T15:10:44.946Z"
   },
   {
    "duration": 6,
    "start_time": "2022-07-07T15:10:44.954Z"
   },
   {
    "duration": 10,
    "start_time": "2022-07-07T15:10:44.962Z"
   },
   {
    "duration": 5,
    "start_time": "2022-07-07T15:10:44.974Z"
   },
   {
    "duration": 279,
    "start_time": "2022-07-07T15:10:44.980Z"
   },
   {
    "duration": 558,
    "start_time": "2022-07-07T15:10:45.261Z"
   },
   {
    "duration": 34,
    "start_time": "2022-07-07T15:10:45.821Z"
   },
   {
    "duration": 5,
    "start_time": "2022-07-07T15:10:45.858Z"
   },
   {
    "duration": 497,
    "start_time": "2022-07-07T15:10:45.864Z"
   },
   {
    "duration": 16,
    "start_time": "2022-07-07T15:10:46.363Z"
   },
   {
    "duration": 295,
    "start_time": "2022-07-07T15:10:46.381Z"
   },
   {
    "duration": 107,
    "start_time": "2022-07-07T15:21:12.940Z"
   },
   {
    "duration": 154,
    "start_time": "2022-07-07T15:22:28.155Z"
   },
   {
    "duration": 58,
    "start_time": "2022-07-07T15:25:00.926Z"
   },
   {
    "duration": 66,
    "start_time": "2022-07-07T15:25:13.613Z"
   },
   {
    "duration": 57,
    "start_time": "2022-07-07T15:26:16.719Z"
   },
   {
    "duration": 9,
    "start_time": "2022-07-07T15:27:20.525Z"
   },
   {
    "duration": 10,
    "start_time": "2022-07-07T15:27:29.740Z"
   },
   {
    "duration": 9,
    "start_time": "2022-07-07T15:27:55.691Z"
   },
   {
    "duration": 10,
    "start_time": "2022-07-07T15:28:20.459Z"
   },
   {
    "duration": 10,
    "start_time": "2022-07-07T15:28:32.443Z"
   },
   {
    "duration": 5,
    "start_time": "2022-07-07T15:31:20.136Z"
   },
   {
    "duration": 10,
    "start_time": "2022-07-07T15:31:24.203Z"
   },
   {
    "duration": 55,
    "start_time": "2022-07-07T15:33:45.590Z"
   },
   {
    "duration": 51,
    "start_time": "2022-07-07T15:33:50.688Z"
   },
   {
    "duration": 7596,
    "start_time": "2022-07-07T15:33:56.673Z"
   },
   {
    "duration": 15,
    "start_time": "2022-07-07T15:35:16.073Z"
   },
   {
    "duration": 46,
    "start_time": "2022-07-07T15:39:41.171Z"
   },
   {
    "duration": 11,
    "start_time": "2022-07-07T15:40:13.655Z"
   },
   {
    "duration": 11,
    "start_time": "2022-07-07T15:40:37.969Z"
   },
   {
    "duration": 14,
    "start_time": "2022-07-07T15:41:30.217Z"
   },
   {
    "duration": 10,
    "start_time": "2022-07-07T15:41:38.169Z"
   },
   {
    "duration": 3,
    "start_time": "2022-07-07T15:42:46.874Z"
   },
   {
    "duration": 70,
    "start_time": "2022-07-07T15:42:46.879Z"
   },
   {
    "duration": 22,
    "start_time": "2022-07-07T15:42:46.951Z"
   },
   {
    "duration": 17,
    "start_time": "2022-07-07T15:42:46.975Z"
   },
   {
    "duration": 9,
    "start_time": "2022-07-07T15:42:46.994Z"
   },
   {
    "duration": 12,
    "start_time": "2022-07-07T15:42:47.004Z"
   },
   {
    "duration": 30,
    "start_time": "2022-07-07T15:42:47.017Z"
   },
   {
    "duration": 12,
    "start_time": "2022-07-07T15:42:47.049Z"
   },
   {
    "duration": 21,
    "start_time": "2022-07-07T15:42:47.062Z"
   },
   {
    "duration": 5,
    "start_time": "2022-07-07T15:42:47.085Z"
   },
   {
    "duration": 232,
    "start_time": "2022-07-07T15:42:47.091Z"
   },
   {
    "duration": 507,
    "start_time": "2022-07-07T15:42:47.325Z"
   },
   {
    "duration": 30,
    "start_time": "2022-07-07T15:42:47.834Z"
   },
   {
    "duration": 6,
    "start_time": "2022-07-07T15:42:47.867Z"
   },
   {
    "duration": 547,
    "start_time": "2022-07-07T15:42:47.875Z"
   },
   {
    "duration": 24,
    "start_time": "2022-07-07T15:42:48.423Z"
   },
   {
    "duration": 247,
    "start_time": "2022-07-07T15:42:48.449Z"
   },
   {
    "duration": 66,
    "start_time": "2022-07-07T15:42:48.698Z"
   },
   {
    "duration": 12,
    "start_time": "2022-07-07T15:42:52.120Z"
   },
   {
    "duration": 10,
    "start_time": "2022-07-07T15:42:58.385Z"
   },
   {
    "duration": 2,
    "start_time": "2022-07-07T15:43:16.023Z"
   },
   {
    "duration": 62,
    "start_time": "2022-07-07T15:43:16.027Z"
   },
   {
    "duration": 18,
    "start_time": "2022-07-07T15:43:16.091Z"
   },
   {
    "duration": 16,
    "start_time": "2022-07-07T15:43:16.111Z"
   },
   {
    "duration": 24,
    "start_time": "2022-07-07T15:43:16.129Z"
   },
   {
    "duration": 5,
    "start_time": "2022-07-07T15:43:16.155Z"
   },
   {
    "duration": 9,
    "start_time": "2022-07-07T15:43:16.161Z"
   },
   {
    "duration": 7,
    "start_time": "2022-07-07T15:43:16.172Z"
   },
   {
    "duration": 15,
    "start_time": "2022-07-07T15:43:16.181Z"
   },
   {
    "duration": 5,
    "start_time": "2022-07-07T15:43:16.197Z"
   },
   {
    "duration": 246,
    "start_time": "2022-07-07T15:43:16.204Z"
   },
   {
    "duration": 492,
    "start_time": "2022-07-07T15:43:16.452Z"
   },
   {
    "duration": 25,
    "start_time": "2022-07-07T15:43:16.945Z"
   },
   {
    "duration": 6,
    "start_time": "2022-07-07T15:43:16.972Z"
   },
   {
    "duration": 445,
    "start_time": "2022-07-07T15:43:16.980Z"
   },
   {
    "duration": 23,
    "start_time": "2022-07-07T15:43:17.426Z"
   },
   {
    "duration": 243,
    "start_time": "2022-07-07T15:43:17.451Z"
   },
   {
    "duration": 335,
    "start_time": "2022-07-07T15:43:19.148Z"
   },
   {
    "duration": 58,
    "start_time": "2022-07-07T15:43:19.684Z"
   },
   {
    "duration": 10,
    "start_time": "2022-07-07T15:43:21.599Z"
   },
   {
    "duration": 5,
    "start_time": "2022-07-07T15:44:22.355Z"
   },
   {
    "duration": 10,
    "start_time": "2022-07-07T15:44:23.087Z"
   },
   {
    "duration": 11,
    "start_time": "2022-07-07T15:44:23.869Z"
   },
   {
    "duration": 3,
    "start_time": "2022-07-07T15:45:13.535Z"
   },
   {
    "duration": 57,
    "start_time": "2022-07-07T15:45:14.358Z"
   },
   {
    "duration": 22,
    "start_time": "2022-07-07T15:45:14.681Z"
   },
   {
    "duration": 20,
    "start_time": "2022-07-07T15:45:15.461Z"
   },
   {
    "duration": 10,
    "start_time": "2022-07-07T15:45:15.865Z"
   },
   {
    "duration": 6,
    "start_time": "2022-07-07T15:45:16.299Z"
   },
   {
    "duration": 6,
    "start_time": "2022-07-07T15:45:16.518Z"
   },
   {
    "duration": 4,
    "start_time": "2022-07-07T15:45:17.167Z"
   },
   {
    "duration": 8,
    "start_time": "2022-07-07T15:45:17.657Z"
   },
   {
    "duration": 6,
    "start_time": "2022-07-07T15:45:18.414Z"
   },
   {
    "duration": 257,
    "start_time": "2022-07-07T15:45:19.917Z"
   },
   {
    "duration": 501,
    "start_time": "2022-07-07T15:45:20.760Z"
   },
   {
    "duration": 22,
    "start_time": "2022-07-07T15:45:21.600Z"
   },
   {
    "duration": 6,
    "start_time": "2022-07-07T15:45:22.966Z"
   },
   {
    "duration": 479,
    "start_time": "2022-07-07T15:45:23.558Z"
   },
   {
    "duration": 16,
    "start_time": "2022-07-07T15:45:24.301Z"
   },
   {
    "duration": 255,
    "start_time": "2022-07-07T15:45:24.852Z"
   },
   {
    "duration": 66,
    "start_time": "2022-07-07T15:45:25.301Z"
   },
   {
    "duration": 10,
    "start_time": "2022-07-07T15:45:25.969Z"
   },
   {
    "duration": 11,
    "start_time": "2022-07-07T15:45:26.458Z"
   },
   {
    "duration": 17,
    "start_time": "2022-07-07T15:46:11.361Z"
   },
   {
    "duration": 13,
    "start_time": "2022-07-07T15:46:13.505Z"
   },
   {
    "duration": 22,
    "start_time": "2022-07-07T15:48:39.050Z"
   },
   {
    "duration": 10,
    "start_time": "2022-07-07T15:48:39.917Z"
   },
   {
    "duration": 462,
    "start_time": "2022-07-07T16:01:36.674Z"
   },
   {
    "duration": 10,
    "start_time": "2022-07-07T16:04:06.478Z"
   },
   {
    "duration": 141,
    "start_time": "2022-07-07T16:08:06.577Z"
   },
   {
    "duration": 14,
    "start_time": "2022-07-07T16:08:09.610Z"
   },
   {
    "duration": 10,
    "start_time": "2022-07-07T16:08:24.743Z"
   },
   {
    "duration": 6,
    "start_time": "2022-07-07T16:08:34.559Z"
   },
   {
    "duration": 9,
    "start_time": "2022-07-07T16:08:36.743Z"
   },
   {
    "duration": 57,
    "start_time": "2022-07-07T16:11:08.491Z"
   },
   {
    "duration": 9,
    "start_time": "2022-07-07T16:11:10.192Z"
   },
   {
    "duration": 10,
    "start_time": "2022-07-07T16:11:18.570Z"
   },
   {
    "duration": 11,
    "start_time": "2022-07-07T16:11:40.690Z"
   },
   {
    "duration": 12,
    "start_time": "2022-07-07T16:12:14.143Z"
   },
   {
    "duration": 14,
    "start_time": "2022-07-07T16:12:25.989Z"
   },
   {
    "duration": 3,
    "start_time": "2022-07-07T16:33:08.895Z"
   },
   {
    "duration": 24,
    "start_time": "2022-07-07T16:33:13.478Z"
   },
   {
    "duration": 48,
    "start_time": "2022-07-07T16:34:07.492Z"
   },
   {
    "duration": 54,
    "start_time": "2022-07-07T16:34:16.288Z"
   },
   {
    "duration": 69,
    "start_time": "2022-07-07T16:37:32.364Z"
   },
   {
    "duration": 217,
    "start_time": "2022-07-07T16:37:38.771Z"
   },
   {
    "duration": 21,
    "start_time": "2022-07-07T16:38:03.462Z"
   },
   {
    "duration": 8,
    "start_time": "2022-07-07T16:38:07.157Z"
   },
   {
    "duration": 193,
    "start_time": "2022-07-07T16:38:20.175Z"
   },
   {
    "duration": 27,
    "start_time": "2022-07-07T16:38:34.544Z"
   },
   {
    "duration": 19,
    "start_time": "2022-07-07T16:38:37.559Z"
   },
   {
    "duration": 9,
    "start_time": "2022-07-07T16:38:38.175Z"
   },
   {
    "duration": 210,
    "start_time": "2022-07-07T16:40:27.157Z"
   },
   {
    "duration": 10,
    "start_time": "2022-07-07T16:40:35.468Z"
   },
   {
    "duration": 10,
    "start_time": "2022-07-07T16:40:37.492Z"
   },
   {
    "duration": 4,
    "start_time": "2022-07-07T16:42:03.609Z"
   },
   {
    "duration": 63,
    "start_time": "2022-07-07T16:42:03.616Z"
   },
   {
    "duration": 21,
    "start_time": "2022-07-07T16:42:03.680Z"
   },
   {
    "duration": 18,
    "start_time": "2022-07-07T16:42:03.703Z"
   },
   {
    "duration": 24,
    "start_time": "2022-07-07T16:42:03.723Z"
   },
   {
    "duration": 13,
    "start_time": "2022-07-07T16:42:03.749Z"
   },
   {
    "duration": 11,
    "start_time": "2022-07-07T16:42:03.764Z"
   },
   {
    "duration": 7,
    "start_time": "2022-07-07T16:42:03.777Z"
   },
   {
    "duration": 9,
    "start_time": "2022-07-07T16:42:03.785Z"
   },
   {
    "duration": 4,
    "start_time": "2022-07-07T16:42:03.797Z"
   },
   {
    "duration": 289,
    "start_time": "2022-07-07T16:42:03.803Z"
   },
   {
    "duration": 537,
    "start_time": "2022-07-07T16:42:04.094Z"
   },
   {
    "duration": 29,
    "start_time": "2022-07-07T16:42:04.633Z"
   },
   {
    "duration": 8,
    "start_time": "2022-07-07T16:42:04.663Z"
   },
   {
    "duration": 465,
    "start_time": "2022-07-07T16:42:04.672Z"
   },
   {
    "duration": 21,
    "start_time": "2022-07-07T16:42:05.139Z"
   },
   {
    "duration": 247,
    "start_time": "2022-07-07T16:42:05.162Z"
   },
   {
    "duration": 249,
    "start_time": "2022-07-07T16:42:09.308Z"
   },
   {
    "duration": 150,
    "start_time": "2022-07-07T16:42:12.254Z"
   },
   {
    "duration": 246,
    "start_time": "2022-07-07T16:42:14.062Z"
   },
   {
    "duration": 242,
    "start_time": "2022-07-07T16:42:27.323Z"
   },
   {
    "duration": 10,
    "start_time": "2022-07-07T16:42:30.362Z"
   },
   {
    "duration": 11,
    "start_time": "2022-07-07T16:42:47.073Z"
   },
   {
    "duration": 10,
    "start_time": "2022-07-07T16:42:48.291Z"
   },
   {
    "duration": 23,
    "start_time": "2022-07-07T16:51:41.674Z"
   },
   {
    "duration": 19,
    "start_time": "2022-07-07T16:52:16.507Z"
   },
   {
    "duration": 20,
    "start_time": "2022-07-07T16:52:36.926Z"
   },
   {
    "duration": 18,
    "start_time": "2022-07-07T16:52:45.112Z"
   },
   {
    "duration": 18,
    "start_time": "2022-07-07T16:52:55.341Z"
   },
   {
    "duration": 16,
    "start_time": "2022-07-07T16:53:11.006Z"
   },
   {
    "duration": 18,
    "start_time": "2022-07-07T16:53:19.125Z"
   },
   {
    "duration": 18,
    "start_time": "2022-07-07T16:55:50.098Z"
   },
   {
    "duration": 12,
    "start_time": "2022-07-07T16:56:46.763Z"
   },
   {
    "duration": 16,
    "start_time": "2022-07-07T16:56:48.486Z"
   },
   {
    "duration": 28,
    "start_time": "2022-07-07T16:58:38.219Z"
   },
   {
    "duration": 17,
    "start_time": "2022-07-07T16:58:51.089Z"
   },
   {
    "duration": 19,
    "start_time": "2022-07-07T16:58:58.618Z"
   },
   {
    "duration": 11,
    "start_time": "2022-07-07T16:59:14.675Z"
   },
   {
    "duration": 17,
    "start_time": "2022-07-07T16:59:18.308Z"
   },
   {
    "duration": 17,
    "start_time": "2022-07-07T16:59:57.706Z"
   },
   {
    "duration": 76,
    "start_time": "2022-07-07T17:00:42.839Z"
   },
   {
    "duration": 62,
    "start_time": "2022-07-07T17:01:35.157Z"
   },
   {
    "duration": 65,
    "start_time": "2022-07-07T17:03:24.038Z"
   },
   {
    "duration": 14,
    "start_time": "2022-07-07T17:03:32.964Z"
   },
   {
    "duration": 11,
    "start_time": "2022-07-07T17:03:45.371Z"
   },
   {
    "duration": 69,
    "start_time": "2022-07-07T17:04:15.236Z"
   },
   {
    "duration": 12,
    "start_time": "2022-07-07T17:04:21.528Z"
   },
   {
    "duration": 69,
    "start_time": "2022-07-07T17:04:46.503Z"
   },
   {
    "duration": 12,
    "start_time": "2022-07-07T17:04:50.480Z"
   },
   {
    "duration": 14,
    "start_time": "2022-07-07T17:04:58.021Z"
   },
   {
    "duration": 13,
    "start_time": "2022-07-07T17:05:02.402Z"
   },
   {
    "duration": 14,
    "start_time": "2022-07-07T17:05:06.619Z"
   },
   {
    "duration": 14,
    "start_time": "2022-07-07T17:05:17.803Z"
   },
   {
    "duration": 14,
    "start_time": "2022-07-07T17:05:30.167Z"
   },
   {
    "duration": 19,
    "start_time": "2022-07-07T17:05:32.453Z"
   },
   {
    "duration": 13,
    "start_time": "2022-07-07T17:06:01.439Z"
   },
   {
    "duration": 16,
    "start_time": "2022-07-07T17:06:19.019Z"
   },
   {
    "duration": 18,
    "start_time": "2022-07-07T17:06:21.934Z"
   },
   {
    "duration": 19,
    "start_time": "2022-07-07T17:06:34.936Z"
   },
   {
    "duration": 11,
    "start_time": "2022-07-07T17:06:39.936Z"
   },
   {
    "duration": 15,
    "start_time": "2022-07-07T17:07:36.955Z"
   },
   {
    "duration": 20,
    "start_time": "2022-07-07T17:07:54.385Z"
   },
   {
    "duration": 17,
    "start_time": "2022-07-07T17:08:11.936Z"
   },
   {
    "duration": 12,
    "start_time": "2022-07-07T17:08:15.269Z"
   },
   {
    "duration": 25,
    "start_time": "2022-07-07T17:08:16.641Z"
   },
   {
    "duration": 9,
    "start_time": "2022-07-07T17:09:05.822Z"
   },
   {
    "duration": 58,
    "start_time": "2022-07-07T17:09:23.818Z"
   },
   {
    "duration": 9,
    "start_time": "2022-07-07T17:09:27.961Z"
   },
   {
    "duration": 10,
    "start_time": "2022-07-07T17:09:34.058Z"
   },
   {
    "duration": 10,
    "start_time": "2022-07-07T17:09:43.232Z"
   },
   {
    "duration": 11,
    "start_time": "2022-07-07T17:09:46.113Z"
   },
   {
    "duration": 18,
    "start_time": "2022-07-07T17:09:46.793Z"
   },
   {
    "duration": 23,
    "start_time": "2022-07-07T17:10:18.942Z"
   },
   {
    "duration": 13,
    "start_time": "2022-07-07T17:10:48.966Z"
   },
   {
    "duration": 17,
    "start_time": "2022-07-07T17:10:50.559Z"
   },
   {
    "duration": 22,
    "start_time": "2022-07-07T17:12:05.201Z"
   },
   {
    "duration": 12,
    "start_time": "2022-07-07T17:12:08.007Z"
   },
   {
    "duration": 19,
    "start_time": "2022-07-07T17:12:09.801Z"
   },
   {
    "duration": 19,
    "start_time": "2022-07-07T17:12:19.004Z"
   },
   {
    "duration": 15,
    "start_time": "2022-07-07T17:12:35.001Z"
   },
   {
    "duration": 9,
    "start_time": "2022-07-07T17:14:19.712Z"
   },
   {
    "duration": 9,
    "start_time": "2022-07-07T17:14:32.358Z"
   },
   {
    "duration": 9,
    "start_time": "2022-07-07T17:14:46.399Z"
   },
   {
    "duration": 16,
    "start_time": "2022-07-07T17:15:06.608Z"
   },
   {
    "duration": 11,
    "start_time": "2022-07-07T17:15:38.665Z"
   },
   {
    "duration": 16,
    "start_time": "2022-07-07T17:15:46.993Z"
   },
   {
    "duration": 12,
    "start_time": "2022-07-07T17:16:09.180Z"
   },
   {
    "duration": 16,
    "start_time": "2022-07-07T17:16:11.858Z"
   },
   {
    "duration": 14,
    "start_time": "2022-07-07T17:16:18.199Z"
   },
   {
    "duration": 155,
    "start_time": "2022-07-07T17:16:48.615Z"
   },
   {
    "duration": 18,
    "start_time": "2022-07-07T17:16:51.252Z"
   },
   {
    "duration": 18,
    "start_time": "2022-07-07T17:17:18.918Z"
   },
   {
    "duration": 13,
    "start_time": "2022-07-07T17:17:23.431Z"
   },
   {
    "duration": 26,
    "start_time": "2022-07-07T17:17:24.552Z"
   },
   {
    "duration": 13,
    "start_time": "2022-07-07T17:18:38.137Z"
   },
   {
    "duration": 13,
    "start_time": "2022-07-07T17:18:53.860Z"
   },
   {
    "duration": 14,
    "start_time": "2022-07-07T17:19:04.518Z"
   },
   {
    "duration": 14,
    "start_time": "2022-07-07T17:19:31.752Z"
   },
   {
    "duration": 14,
    "start_time": "2022-07-07T17:19:40.372Z"
   },
   {
    "duration": 11,
    "start_time": "2022-07-07T17:22:11.619Z"
   },
   {
    "duration": 19,
    "start_time": "2022-07-07T17:22:12.925Z"
   },
   {
    "duration": 10,
    "start_time": "2022-07-07T17:23:21.717Z"
   },
   {
    "duration": 20,
    "start_time": "2022-07-07T17:23:35.084Z"
   },
   {
    "duration": 10,
    "start_time": "2022-07-07T17:23:45.619Z"
   },
   {
    "duration": 367,
    "start_time": "2022-07-07T17:23:59.102Z"
   },
   {
    "duration": 875,
    "start_time": "2022-07-07T17:24:50.815Z"
   },
   {
    "duration": 64,
    "start_time": "2022-07-07T17:25:22.915Z"
   },
   {
    "duration": 59,
    "start_time": "2022-07-07T17:25:43.398Z"
   },
   {
    "duration": 62,
    "start_time": "2022-07-07T17:25:48.691Z"
   },
   {
    "duration": 10,
    "start_time": "2022-07-07T17:25:49.455Z"
   },
   {
    "duration": 14,
    "start_time": "2022-07-07T17:26:07.929Z"
   },
   {
    "duration": 25,
    "start_time": "2022-07-07T17:26:08.871Z"
   },
   {
    "duration": 3,
    "start_time": "2022-07-07T17:27:32.952Z"
   },
   {
    "duration": 18,
    "start_time": "2022-07-07T17:27:58.682Z"
   },
   {
    "duration": 19,
    "start_time": "2022-07-07T17:29:46.922Z"
   },
   {
    "duration": 18,
    "start_time": "2022-07-07T17:29:59.455Z"
   },
   {
    "duration": 21,
    "start_time": "2022-07-07T17:30:23.560Z"
   },
   {
    "duration": 17,
    "start_time": "2022-07-07T17:31:54.499Z"
   },
   {
    "duration": 21,
    "start_time": "2022-07-07T17:32:02.081Z"
   },
   {
    "duration": 833,
    "start_time": "2022-07-07T17:32:22.876Z"
   },
   {
    "duration": 914,
    "start_time": "2022-07-07T17:33:05.565Z"
   },
   {
    "duration": 15,
    "start_time": "2022-07-07T17:33:21.857Z"
   },
   {
    "duration": 32,
    "start_time": "2022-07-07T17:33:58.657Z"
   },
   {
    "duration": 18,
    "start_time": "2022-07-07T17:34:25.713Z"
   },
   {
    "duration": 17,
    "start_time": "2022-07-07T17:36:29.580Z"
   },
   {
    "duration": 29,
    "start_time": "2022-07-07T17:37:38.027Z"
   },
   {
    "duration": 474,
    "start_time": "2022-07-07T17:37:43.579Z"
   },
   {
    "duration": 68,
    "start_time": "2022-07-07T17:39:41.664Z"
   },
   {
    "duration": 34,
    "start_time": "2022-07-07T17:40:09.905Z"
   },
   {
    "duration": 19,
    "start_time": "2022-07-07T17:41:37.397Z"
   },
   {
    "duration": 55,
    "start_time": "2022-07-07T17:41:40.963Z"
   },
   {
    "duration": 65,
    "start_time": "2022-07-07T17:43:15.961Z"
   },
   {
    "duration": 13,
    "start_time": "2022-07-07T17:43:17.964Z"
   },
   {
    "duration": 27,
    "start_time": "2022-07-07T17:43:21.430Z"
   },
   {
    "duration": 52,
    "start_time": "2022-07-07T17:43:26.279Z"
   },
   {
    "duration": 58,
    "start_time": "2022-07-07T17:44:03.612Z"
   },
   {
    "duration": 64,
    "start_time": "2022-07-07T17:44:09.095Z"
   },
   {
    "duration": 57,
    "start_time": "2022-07-07T17:44:14.846Z"
   },
   {
    "duration": 56,
    "start_time": "2022-07-07T17:44:20.145Z"
   },
   {
    "duration": 26,
    "start_time": "2022-07-07T17:50:39.418Z"
   },
   {
    "duration": 13,
    "start_time": "2022-07-07T17:55:20.944Z"
   },
   {
    "duration": 12,
    "start_time": "2022-07-07T17:55:30.059Z"
   },
   {
    "duration": 1398,
    "start_time": "2022-07-11T11:29:33.091Z"
   },
   {
    "duration": 255,
    "start_time": "2022-07-11T11:29:34.491Z"
   },
   {
    "duration": 23,
    "start_time": "2022-07-11T11:29:34.748Z"
   },
   {
    "duration": 17,
    "start_time": "2022-07-11T11:29:34.773Z"
   },
   {
    "duration": 7,
    "start_time": "2022-07-11T11:29:34.793Z"
   },
   {
    "duration": 12,
    "start_time": "2022-07-11T11:29:34.801Z"
   },
   {
    "duration": 7,
    "start_time": "2022-07-11T11:29:34.815Z"
   },
   {
    "duration": 6,
    "start_time": "2022-07-11T11:29:34.824Z"
   },
   {
    "duration": 9,
    "start_time": "2022-07-11T11:29:34.832Z"
   },
   {
    "duration": 4,
    "start_time": "2022-07-11T11:29:34.843Z"
   },
   {
    "duration": 277,
    "start_time": "2022-07-11T11:29:34.849Z"
   },
   {
    "duration": 571,
    "start_time": "2022-07-11T11:29:35.128Z"
   },
   {
    "duration": 24,
    "start_time": "2022-07-11T11:29:35.703Z"
   },
   {
    "duration": 6,
    "start_time": "2022-07-11T11:29:35.730Z"
   },
   {
    "duration": 523,
    "start_time": "2022-07-11T11:29:35.738Z"
   },
   {
    "duration": 17,
    "start_time": "2022-07-11T11:29:36.262Z"
   },
   {
    "duration": 269,
    "start_time": "2022-07-11T11:29:36.280Z"
   },
   {
    "duration": 172,
    "start_time": "2022-07-11T11:29:36.551Z"
   },
   {
    "duration": 12,
    "start_time": "2022-07-11T11:29:36.726Z"
   },
   {
    "duration": 122,
    "start_time": "2022-07-11T11:29:36.741Z"
   },
   {
    "duration": 0,
    "start_time": "2022-07-11T11:29:36.864Z"
   },
   {
    "duration": 0,
    "start_time": "2022-07-11T11:29:36.865Z"
   },
   {
    "duration": 18,
    "start_time": "2022-07-11T11:51:47.068Z"
   },
   {
    "duration": 44,
    "start_time": "2022-07-11T11:52:05.455Z"
   },
   {
    "duration": 10,
    "start_time": "2022-07-11T12:03:10.580Z"
   },
   {
    "duration": 45,
    "start_time": "2022-07-11T12:03:20.316Z"
   },
   {
    "duration": 61,
    "start_time": "2022-07-11T12:03:20.363Z"
   },
   {
    "duration": 25,
    "start_time": "2022-07-11T12:03:20.425Z"
   },
   {
    "duration": 24,
    "start_time": "2022-07-11T12:03:20.452Z"
   },
   {
    "duration": 29,
    "start_time": "2022-07-11T12:03:20.479Z"
   },
   {
    "duration": 14,
    "start_time": "2022-07-11T12:03:20.509Z"
   },
   {
    "duration": 9,
    "start_time": "2022-07-11T12:03:20.524Z"
   },
   {
    "duration": 11,
    "start_time": "2022-07-11T12:03:20.534Z"
   },
   {
    "duration": 12,
    "start_time": "2022-07-11T12:03:20.547Z"
   },
   {
    "duration": 15,
    "start_time": "2022-07-11T12:03:20.560Z"
   },
   {
    "duration": 229,
    "start_time": "2022-07-11T12:03:20.577Z"
   },
   {
    "duration": 515,
    "start_time": "2022-07-11T12:03:20.807Z"
   },
   {
    "duration": 23,
    "start_time": "2022-07-11T12:03:21.325Z"
   },
   {
    "duration": 19,
    "start_time": "2022-07-11T12:03:21.350Z"
   },
   {
    "duration": 457,
    "start_time": "2022-07-11T12:03:21.371Z"
   },
   {
    "duration": 16,
    "start_time": "2022-07-11T12:03:21.829Z"
   },
   {
    "duration": 252,
    "start_time": "2022-07-11T12:03:21.846Z"
   },
   {
    "duration": 63,
    "start_time": "2022-07-11T12:03:22.103Z"
   },
   {
    "duration": 10,
    "start_time": "2022-07-11T12:03:22.168Z"
   },
   {
    "duration": 39,
    "start_time": "2022-07-11T12:03:22.180Z"
   },
   {
    "duration": 0,
    "start_time": "2022-07-11T12:03:22.220Z"
   },
   {
    "duration": 0,
    "start_time": "2022-07-11T12:03:22.222Z"
   },
   {
    "duration": 0,
    "start_time": "2022-07-11T12:03:22.223Z"
   },
   {
    "duration": 955,
    "start_time": "2022-07-11T12:03:25.353Z"
   },
   {
    "duration": 90,
    "start_time": "2022-07-11T12:07:14.363Z"
   },
   {
    "duration": 11,
    "start_time": "2022-07-11T12:07:26.653Z"
   },
   {
    "duration": 9,
    "start_time": "2022-07-11T12:08:35.873Z"
   },
   {
    "duration": 1396,
    "start_time": "2022-07-11T12:08:40.105Z"
   },
   {
    "duration": 18,
    "start_time": "2022-07-11T12:08:41.571Z"
   },
   {
    "duration": 14,
    "start_time": "2022-07-11T12:09:03.727Z"
   },
   {
    "duration": 1039,
    "start_time": "2022-07-11T12:10:21.894Z"
   },
   {
    "duration": 1130,
    "start_time": "2022-07-11T12:10:33.107Z"
   },
   {
    "duration": 15,
    "start_time": "2022-07-11T12:10:38.995Z"
   },
   {
    "duration": 21,
    "start_time": "2022-07-11T12:10:53.455Z"
   },
   {
    "duration": 1245,
    "start_time": "2022-07-11T12:11:37.019Z"
   },
   {
    "duration": 1216,
    "start_time": "2022-07-11T12:12:09.764Z"
   },
   {
    "duration": 16,
    "start_time": "2022-07-11T12:12:13.790Z"
   },
   {
    "duration": 13,
    "start_time": "2022-07-11T12:12:26.968Z"
   },
   {
    "duration": 3,
    "start_time": "2022-07-11T12:12:47.694Z"
   },
   {
    "duration": 70,
    "start_time": "2022-07-11T12:12:47.699Z"
   },
   {
    "duration": 20,
    "start_time": "2022-07-11T12:12:47.771Z"
   },
   {
    "duration": 18,
    "start_time": "2022-07-11T12:12:47.793Z"
   },
   {
    "duration": 8,
    "start_time": "2022-07-11T12:12:47.813Z"
   },
   {
    "duration": 13,
    "start_time": "2022-07-11T12:12:47.822Z"
   },
   {
    "duration": 17,
    "start_time": "2022-07-11T12:12:47.837Z"
   },
   {
    "duration": 6,
    "start_time": "2022-07-11T12:12:47.855Z"
   },
   {
    "duration": 9,
    "start_time": "2022-07-11T12:12:47.862Z"
   },
   {
    "duration": 5,
    "start_time": "2022-07-11T12:12:47.872Z"
   },
   {
    "duration": 234,
    "start_time": "2022-07-11T12:12:47.878Z"
   },
   {
    "duration": 570,
    "start_time": "2022-07-11T12:12:48.114Z"
   },
   {
    "duration": 30,
    "start_time": "2022-07-11T12:12:48.686Z"
   },
   {
    "duration": 5,
    "start_time": "2022-07-11T12:12:48.718Z"
   },
   {
    "duration": 422,
    "start_time": "2022-07-11T12:12:48.724Z"
   },
   {
    "duration": 16,
    "start_time": "2022-07-11T12:12:49.147Z"
   },
   {
    "duration": 239,
    "start_time": "2022-07-11T12:12:49.165Z"
   },
   {
    "duration": 51,
    "start_time": "2022-07-11T12:12:49.406Z"
   },
   {
    "duration": 8,
    "start_time": "2022-07-11T12:12:49.459Z"
   },
   {
    "duration": 14,
    "start_time": "2022-07-11T12:12:49.469Z"
   },
   {
    "duration": 0,
    "start_time": "2022-07-11T12:12:49.484Z"
   },
   {
    "duration": 0,
    "start_time": "2022-07-11T12:12:49.486Z"
   },
   {
    "duration": 0,
    "start_time": "2022-07-11T12:12:49.487Z"
   },
   {
    "duration": 0,
    "start_time": "2022-07-11T12:12:49.503Z"
   },
   {
    "duration": 3,
    "start_time": "2022-07-11T12:13:00.729Z"
   },
   {
    "duration": 84,
    "start_time": "2022-07-11T12:13:00.734Z"
   },
   {
    "duration": 21,
    "start_time": "2022-07-11T12:13:00.820Z"
   },
   {
    "duration": 20,
    "start_time": "2022-07-11T12:13:00.843Z"
   },
   {
    "duration": 8,
    "start_time": "2022-07-11T12:13:00.865Z"
   },
   {
    "duration": 30,
    "start_time": "2022-07-11T12:13:00.875Z"
   },
   {
    "duration": 11,
    "start_time": "2022-07-11T12:13:00.907Z"
   },
   {
    "duration": 9,
    "start_time": "2022-07-11T12:13:00.920Z"
   },
   {
    "duration": 14,
    "start_time": "2022-07-11T12:13:00.931Z"
   },
   {
    "duration": 11,
    "start_time": "2022-07-11T12:13:00.947Z"
   },
   {
    "duration": 270,
    "start_time": "2022-07-11T12:13:00.960Z"
   },
   {
    "duration": 556,
    "start_time": "2022-07-11T12:13:01.233Z"
   },
   {
    "duration": 32,
    "start_time": "2022-07-11T12:13:01.793Z"
   },
   {
    "duration": 7,
    "start_time": "2022-07-11T12:13:01.826Z"
   },
   {
    "duration": 593,
    "start_time": "2022-07-11T12:13:01.835Z"
   },
   {
    "duration": 17,
    "start_time": "2022-07-11T12:13:02.429Z"
   },
   {
    "duration": 266,
    "start_time": "2022-07-11T12:13:02.448Z"
   },
   {
    "duration": 65,
    "start_time": "2022-07-11T12:13:02.715Z"
   },
   {
    "duration": 25,
    "start_time": "2022-07-11T12:13:02.781Z"
   },
   {
    "duration": 15,
    "start_time": "2022-07-11T12:13:02.808Z"
   },
   {
    "duration": 0,
    "start_time": "2022-07-11T12:13:02.824Z"
   },
   {
    "duration": 0,
    "start_time": "2022-07-11T12:13:02.826Z"
   },
   {
    "duration": 0,
    "start_time": "2022-07-11T12:13:02.828Z"
   },
   {
    "duration": 0,
    "start_time": "2022-07-11T12:13:02.829Z"
   },
   {
    "duration": 18,
    "start_time": "2022-07-11T12:13:08.425Z"
   },
   {
    "duration": 12,
    "start_time": "2022-07-11T12:14:01.630Z"
   },
   {
    "duration": 4,
    "start_time": "2022-07-11T12:15:36.073Z"
   },
   {
    "duration": 68,
    "start_time": "2022-07-11T12:15:36.078Z"
   },
   {
    "duration": 22,
    "start_time": "2022-07-11T12:15:36.148Z"
   },
   {
    "duration": 32,
    "start_time": "2022-07-11T12:15:36.173Z"
   },
   {
    "duration": 9,
    "start_time": "2022-07-11T12:15:36.207Z"
   },
   {
    "duration": 13,
    "start_time": "2022-07-11T12:15:36.218Z"
   },
   {
    "duration": 8,
    "start_time": "2022-07-11T12:15:36.232Z"
   },
   {
    "duration": 7,
    "start_time": "2022-07-11T12:15:36.241Z"
   },
   {
    "duration": 10,
    "start_time": "2022-07-11T12:15:36.250Z"
   },
   {
    "duration": 5,
    "start_time": "2022-07-11T12:15:36.262Z"
   },
   {
    "duration": 263,
    "start_time": "2022-07-11T12:15:36.270Z"
   },
   {
    "duration": 534,
    "start_time": "2022-07-11T12:15:36.535Z"
   },
   {
    "duration": 34,
    "start_time": "2022-07-11T12:15:37.071Z"
   },
   {
    "duration": 5,
    "start_time": "2022-07-11T12:15:37.107Z"
   },
   {
    "duration": 434,
    "start_time": "2022-07-11T12:15:37.113Z"
   },
   {
    "duration": 18,
    "start_time": "2022-07-11T12:15:37.548Z"
   },
   {
    "duration": 261,
    "start_time": "2022-07-11T12:15:37.568Z"
   },
   {
    "duration": 175,
    "start_time": "2022-07-11T12:15:37.830Z"
   },
   {
    "duration": 12,
    "start_time": "2022-07-11T12:15:38.006Z"
   },
   {
    "duration": 10,
    "start_time": "2022-07-11T12:15:38.019Z"
   },
   {
    "duration": 0,
    "start_time": "2022-07-11T12:15:38.031Z"
   },
   {
    "duration": 0,
    "start_time": "2022-07-11T12:15:38.032Z"
   },
   {
    "duration": 0,
    "start_time": "2022-07-11T12:15:38.033Z"
   },
   {
    "duration": 0,
    "start_time": "2022-07-11T12:15:38.034Z"
   },
   {
    "duration": 32,
    "start_time": "2022-07-11T12:15:40.035Z"
   },
   {
    "duration": 6,
    "start_time": "2022-07-11T12:23:38.250Z"
   },
   {
    "duration": 16,
    "start_time": "2022-07-11T12:26:50.952Z"
   },
   {
    "duration": 6,
    "start_time": "2022-07-11T12:26:51.800Z"
   },
   {
    "duration": 16,
    "start_time": "2022-07-11T12:29:10.380Z"
   },
   {
    "duration": 6,
    "start_time": "2022-07-11T12:29:11.010Z"
   },
   {
    "duration": 25,
    "start_time": "2022-07-11T12:29:12.189Z"
   },
   {
    "duration": 412,
    "start_time": "2022-07-11T12:29:12.457Z"
   },
   {
    "duration": 1039,
    "start_time": "2022-07-11T12:29:13.674Z"
   },
   {
    "duration": 50,
    "start_time": "2022-07-11T12:29:14.715Z"
   },
   {
    "duration": 5,
    "start_time": "2022-07-11T12:30:28.650Z"
   },
   {
    "duration": 22,
    "start_time": "2022-07-11T12:30:31.898Z"
   },
   {
    "duration": 60,
    "start_time": "2022-07-11T12:30:32.529Z"
   },
   {
    "duration": 786,
    "start_time": "2022-07-11T12:30:33.962Z"
   },
   {
    "duration": 52,
    "start_time": "2022-07-11T12:30:36.693Z"
   },
   {
    "duration": 82,
    "start_time": "2022-07-11T12:32:06.676Z"
   },
   {
    "duration": 21,
    "start_time": "2022-07-11T12:32:14.687Z"
   },
   {
    "duration": 21,
    "start_time": "2022-07-11T12:32:15.252Z"
   },
   {
    "duration": 751,
    "start_time": "2022-07-11T12:32:16.771Z"
   },
   {
    "duration": 12,
    "start_time": "2022-07-11T12:32:17.558Z"
   },
   {
    "duration": 27,
    "start_time": "2022-07-11T12:33:12.207Z"
   },
   {
    "duration": 6,
    "start_time": "2022-07-11T12:33:13.050Z"
   },
   {
    "duration": 7,
    "start_time": "2022-07-11T12:33:35.760Z"
   },
   {
    "duration": 16,
    "start_time": "2022-07-11T12:34:05.027Z"
   },
   {
    "duration": 5,
    "start_time": "2022-07-11T12:34:05.692Z"
   },
   {
    "duration": 6,
    "start_time": "2022-07-11T12:34:06.394Z"
   },
   {
    "duration": 7,
    "start_time": "2022-07-11T12:34:10.126Z"
   },
   {
    "duration": 16,
    "start_time": "2022-07-11T12:34:31.827Z"
   },
   {
    "duration": 5,
    "start_time": "2022-07-11T12:34:32.728Z"
   },
   {
    "duration": 6,
    "start_time": "2022-07-11T12:34:33.530Z"
   },
   {
    "duration": 21,
    "start_time": "2022-07-11T12:34:35.104Z"
   },
   {
    "duration": 17,
    "start_time": "2022-07-11T12:34:35.878Z"
   },
   {
    "duration": 865,
    "start_time": "2022-07-11T12:34:50.981Z"
   },
   {
    "duration": 17,
    "start_time": "2022-07-11T12:34:55.017Z"
   },
   {
    "duration": 21,
    "start_time": "2022-07-11T13:06:23.150Z"
   },
   {
    "duration": 22,
    "start_time": "2022-07-11T13:06:37.819Z"
   },
   {
    "duration": 20,
    "start_time": "2022-07-11T13:07:20.246Z"
   },
   {
    "duration": 30,
    "start_time": "2022-07-11T13:07:36.755Z"
   },
   {
    "duration": 20,
    "start_time": "2022-07-11T13:07:58.349Z"
   },
   {
    "duration": 30,
    "start_time": "2022-07-11T13:08:12.694Z"
   },
   {
    "duration": 26,
    "start_time": "2022-07-11T13:09:12.374Z"
   },
   {
    "duration": 33,
    "start_time": "2022-07-11T13:09:30.823Z"
   },
   {
    "duration": 101,
    "start_time": "2022-07-11T13:10:04.447Z"
   },
   {
    "duration": 1192,
    "start_time": "2022-07-11T13:10:07.446Z"
   },
   {
    "duration": 22,
    "start_time": "2022-07-11T13:10:10.094Z"
   },
   {
    "duration": 42,
    "start_time": "2022-07-11T13:14:28.344Z"
   },
   {
    "duration": 3,
    "start_time": "2022-07-11T13:14:38.148Z"
   },
   {
    "duration": 69,
    "start_time": "2022-07-11T13:14:38.153Z"
   },
   {
    "duration": 22,
    "start_time": "2022-07-11T13:14:38.223Z"
   },
   {
    "duration": 17,
    "start_time": "2022-07-11T13:14:38.247Z"
   },
   {
    "duration": 7,
    "start_time": "2022-07-11T13:14:38.265Z"
   },
   {
    "duration": 16,
    "start_time": "2022-07-11T13:14:38.273Z"
   },
   {
    "duration": 8,
    "start_time": "2022-07-11T13:14:38.304Z"
   },
   {
    "duration": 6,
    "start_time": "2022-07-11T13:14:38.314Z"
   },
   {
    "duration": 7,
    "start_time": "2022-07-11T13:14:38.323Z"
   },
   {
    "duration": 4,
    "start_time": "2022-07-11T13:14:38.332Z"
   },
   {
    "duration": 257,
    "start_time": "2022-07-11T13:14:38.338Z"
   },
   {
    "duration": 516,
    "start_time": "2022-07-11T13:14:38.603Z"
   },
   {
    "duration": 22,
    "start_time": "2022-07-11T13:14:39.121Z"
   },
   {
    "duration": 5,
    "start_time": "2022-07-11T13:14:39.144Z"
   },
   {
    "duration": 567,
    "start_time": "2022-07-11T13:14:39.151Z"
   },
   {
    "duration": 16,
    "start_time": "2022-07-11T13:14:39.719Z"
   },
   {
    "duration": 261,
    "start_time": "2022-07-11T13:14:39.736Z"
   },
   {
    "duration": 68,
    "start_time": "2022-07-11T13:14:39.998Z"
   },
   {
    "duration": 20,
    "start_time": "2022-07-11T13:14:40.068Z"
   },
   {
    "duration": 14,
    "start_time": "2022-07-11T13:14:40.090Z"
   },
   {
    "duration": 20,
    "start_time": "2022-07-11T13:14:40.106Z"
   },
   {
    "duration": 28,
    "start_time": "2022-07-11T13:14:40.128Z"
   },
   {
    "duration": 84,
    "start_time": "2022-07-11T13:14:40.157Z"
   },
   {
    "duration": 900,
    "start_time": "2022-07-11T13:14:45.895Z"
   },
   {
    "duration": 30,
    "start_time": "2022-07-11T13:14:46.964Z"
   },
   {
    "duration": 133,
    "start_time": "2022-07-11T13:18:20.524Z"
   },
   {
    "duration": 29,
    "start_time": "2022-07-11T13:20:47.870Z"
   },
   {
    "duration": 29,
    "start_time": "2022-07-11T13:21:15.482Z"
   },
   {
    "duration": 32,
    "start_time": "2022-07-11T13:21:48.689Z"
   },
   {
    "duration": 30,
    "start_time": "2022-07-11T13:22:07.504Z"
   },
   {
    "duration": 25,
    "start_time": "2022-07-11T13:22:30.442Z"
   },
   {
    "duration": 33,
    "start_time": "2022-07-11T13:23:36.632Z"
   },
   {
    "duration": 117,
    "start_time": "2022-07-11T13:23:53.884Z"
   },
   {
    "duration": 28,
    "start_time": "2022-07-11T13:24:34.996Z"
   },
   {
    "duration": 74,
    "start_time": "2022-07-11T13:25:23.771Z"
   },
   {
    "duration": 131,
    "start_time": "2022-07-11T13:27:43.752Z"
   },
   {
    "duration": 130,
    "start_time": "2022-07-11T13:28:07.261Z"
   },
   {
    "duration": 137,
    "start_time": "2022-07-11T13:28:40.650Z"
   },
   {
    "duration": 77,
    "start_time": "2022-07-11T13:31:45.214Z"
   },
   {
    "duration": 83,
    "start_time": "2022-07-11T13:32:21.766Z"
   },
   {
    "duration": 83,
    "start_time": "2022-07-11T13:32:30.085Z"
   },
   {
    "duration": 161,
    "start_time": "2022-07-11T13:32:46.668Z"
   },
   {
    "duration": 144,
    "start_time": "2022-07-11T13:33:17.487Z"
   },
   {
    "duration": 129,
    "start_time": "2022-07-11T13:33:40.885Z"
   },
   {
    "duration": 137,
    "start_time": "2022-07-11T13:34:09.040Z"
   },
   {
    "duration": 3,
    "start_time": "2022-07-11T13:34:23.981Z"
   },
   {
    "duration": 74,
    "start_time": "2022-07-11T13:34:23.985Z"
   },
   {
    "duration": 20,
    "start_time": "2022-07-11T13:34:24.060Z"
   },
   {
    "duration": 18,
    "start_time": "2022-07-11T13:34:24.081Z"
   },
   {
    "duration": 7,
    "start_time": "2022-07-11T13:34:24.101Z"
   },
   {
    "duration": 7,
    "start_time": "2022-07-11T13:34:24.109Z"
   },
   {
    "duration": 10,
    "start_time": "2022-07-11T13:34:24.117Z"
   },
   {
    "duration": 13,
    "start_time": "2022-07-11T13:34:24.129Z"
   },
   {
    "duration": 11,
    "start_time": "2022-07-11T13:34:24.144Z"
   },
   {
    "duration": 5,
    "start_time": "2022-07-11T13:34:24.156Z"
   },
   {
    "duration": 273,
    "start_time": "2022-07-11T13:34:24.163Z"
   },
   {
    "duration": 516,
    "start_time": "2022-07-11T13:34:24.438Z"
   },
   {
    "duration": 22,
    "start_time": "2022-07-11T13:34:24.956Z"
   },
   {
    "duration": 5,
    "start_time": "2022-07-11T13:34:24.980Z"
   },
   {
    "duration": 478,
    "start_time": "2022-07-11T13:34:24.987Z"
   },
   {
    "duration": 19,
    "start_time": "2022-07-11T13:34:25.467Z"
   },
   {
    "duration": 360,
    "start_time": "2022-07-11T13:34:25.488Z"
   },
   {
    "duration": 70,
    "start_time": "2022-07-11T13:34:25.850Z"
   },
   {
    "duration": 17,
    "start_time": "2022-07-11T13:34:25.921Z"
   },
   {
    "duration": 11,
    "start_time": "2022-07-11T13:34:25.940Z"
   },
   {
    "duration": 9,
    "start_time": "2022-07-11T13:34:25.953Z"
   },
   {
    "duration": 1350,
    "start_time": "2022-07-11T13:34:25.964Z"
   },
   {
    "duration": 1026,
    "start_time": "2022-07-11T13:34:31.742Z"
   },
   {
    "duration": 30,
    "start_time": "2022-07-11T13:34:35.682Z"
   },
   {
    "duration": 133,
    "start_time": "2022-07-11T13:34:37.542Z"
   },
   {
    "duration": 133,
    "start_time": "2022-07-11T13:37:01.169Z"
   },
   {
    "duration": 145,
    "start_time": "2022-07-11T13:37:17.039Z"
   },
   {
    "duration": 20,
    "start_time": "2022-07-11T13:37:20.881Z"
   },
   {
    "duration": 55,
    "start_time": "2022-07-11T13:37:48.687Z"
   },
   {
    "duration": 57,
    "start_time": "2022-07-11T13:40:03.119Z"
   },
   {
    "duration": 3,
    "start_time": "2022-07-11T13:42:52.977Z"
   },
   {
    "duration": 82,
    "start_time": "2022-07-11T13:42:52.982Z"
   },
   {
    "duration": 19,
    "start_time": "2022-07-11T13:42:53.066Z"
   },
   {
    "duration": 18,
    "start_time": "2022-07-11T13:42:53.087Z"
   },
   {
    "duration": 7,
    "start_time": "2022-07-11T13:42:53.108Z"
   },
   {
    "duration": 13,
    "start_time": "2022-07-11T13:42:53.117Z"
   },
   {
    "duration": 19,
    "start_time": "2022-07-11T13:42:53.131Z"
   },
   {
    "duration": 17,
    "start_time": "2022-07-11T13:42:53.152Z"
   },
   {
    "duration": 22,
    "start_time": "2022-07-11T13:42:53.171Z"
   },
   {
    "duration": 5,
    "start_time": "2022-07-11T13:42:53.195Z"
   },
   {
    "duration": 246,
    "start_time": "2022-07-11T13:42:53.202Z"
   },
   {
    "duration": 508,
    "start_time": "2022-07-11T13:42:53.450Z"
   },
   {
    "duration": 21,
    "start_time": "2022-07-11T13:42:53.960Z"
   },
   {
    "duration": 5,
    "start_time": "2022-07-11T13:42:53.983Z"
   },
   {
    "duration": 460,
    "start_time": "2022-07-11T13:42:53.990Z"
   },
   {
    "duration": 15,
    "start_time": "2022-07-11T13:42:54.452Z"
   },
   {
    "duration": 250,
    "start_time": "2022-07-11T13:42:54.469Z"
   },
   {
    "duration": 183,
    "start_time": "2022-07-11T13:42:54.721Z"
   },
   {
    "duration": 16,
    "start_time": "2022-07-11T13:42:54.906Z"
   },
   {
    "duration": 11,
    "start_time": "2022-07-11T13:42:54.924Z"
   },
   {
    "duration": 9,
    "start_time": "2022-07-11T13:42:54.936Z"
   },
   {
    "duration": 1346,
    "start_time": "2022-07-11T13:42:54.948Z"
   },
   {
    "duration": 34,
    "start_time": "2022-07-11T13:42:56.296Z"
   },
   {
    "duration": 142,
    "start_time": "2022-07-11T13:42:56.332Z"
   },
   {
    "duration": 136,
    "start_time": "2022-07-11T13:43:07.068Z"
   },
   {
    "duration": 60,
    "start_time": "2022-07-11T13:44:03.967Z"
   },
   {
    "duration": 60,
    "start_time": "2022-07-11T13:44:26.099Z"
   },
   {
    "duration": 47,
    "start_time": "2022-07-11T13:44:45.054Z"
   },
   {
    "duration": 3,
    "start_time": "2022-07-11T13:48:23.121Z"
   },
   {
    "duration": 72,
    "start_time": "2022-07-11T13:48:23.126Z"
   },
   {
    "duration": 29,
    "start_time": "2022-07-11T13:48:23.200Z"
   },
   {
    "duration": 17,
    "start_time": "2022-07-11T13:48:23.231Z"
   },
   {
    "duration": 8,
    "start_time": "2022-07-11T13:48:23.250Z"
   },
   {
    "duration": 11,
    "start_time": "2022-07-11T13:48:23.260Z"
   },
   {
    "duration": 7,
    "start_time": "2022-07-11T13:48:23.273Z"
   },
   {
    "duration": 27,
    "start_time": "2022-07-11T13:48:23.281Z"
   },
   {
    "duration": 14,
    "start_time": "2022-07-11T13:48:23.310Z"
   },
   {
    "duration": 10,
    "start_time": "2022-07-11T13:48:23.326Z"
   },
   {
    "duration": 249,
    "start_time": "2022-07-11T13:48:23.337Z"
   },
   {
    "duration": 510,
    "start_time": "2022-07-11T13:48:23.588Z"
   },
   {
    "duration": 34,
    "start_time": "2022-07-11T13:48:24.100Z"
   },
   {
    "duration": 7,
    "start_time": "2022-07-11T13:48:24.136Z"
   },
   {
    "duration": 486,
    "start_time": "2022-07-11T13:48:24.144Z"
   },
   {
    "duration": 17,
    "start_time": "2022-07-11T13:48:24.631Z"
   },
   {
    "duration": 269,
    "start_time": "2022-07-11T13:48:24.649Z"
   },
   {
    "duration": 57,
    "start_time": "2022-07-11T13:48:24.920Z"
   },
   {
    "duration": 17,
    "start_time": "2022-07-11T13:48:24.978Z"
   },
   {
    "duration": 8,
    "start_time": "2022-07-11T13:48:25.003Z"
   },
   {
    "duration": 11,
    "start_time": "2022-07-11T13:48:25.020Z"
   },
   {
    "duration": 1278,
    "start_time": "2022-07-11T13:48:25.033Z"
   },
   {
    "duration": 33,
    "start_time": "2022-07-11T13:48:26.315Z"
   },
   {
    "duration": 168,
    "start_time": "2022-07-11T13:48:26.350Z"
   },
   {
    "duration": 150,
    "start_time": "2022-07-11T13:48:27.831Z"
   },
   {
    "duration": 98,
    "start_time": "2022-07-11T13:48:28.476Z"
   },
   {
    "duration": 72,
    "start_time": "2022-07-11T13:49:18.142Z"
   },
   {
    "duration": 48,
    "start_time": "2022-07-11T13:50:09.420Z"
   },
   {
    "duration": 161,
    "start_time": "2022-07-11T13:50:54.657Z"
   },
   {
    "duration": 325,
    "start_time": "2022-07-11T13:53:16.717Z"
   },
   {
    "duration": 290,
    "start_time": "2022-07-11T13:53:36.905Z"
   },
   {
    "duration": 282,
    "start_time": "2022-07-11T13:54:37.789Z"
   },
   {
    "duration": 17,
    "start_time": "2022-07-11T13:57:21.421Z"
   },
   {
    "duration": 2947,
    "start_time": "2022-07-11T13:58:59.791Z"
   },
   {
    "duration": 3184,
    "start_time": "2022-07-11T13:59:39.157Z"
   },
   {
    "duration": 3544,
    "start_time": "2022-07-11T13:59:52.642Z"
   },
   {
    "duration": 13,
    "start_time": "2022-07-11T14:00:25.832Z"
   },
   {
    "duration": 307,
    "start_time": "2022-07-11T14:00:26.700Z"
   },
   {
    "duration": 13,
    "start_time": "2022-07-11T14:04:23.634Z"
   },
   {
    "duration": 4,
    "start_time": "2022-07-11T14:04:28.033Z"
   },
   {
    "duration": 82,
    "start_time": "2022-07-11T14:04:28.040Z"
   },
   {
    "duration": 32,
    "start_time": "2022-07-11T14:04:28.136Z"
   },
   {
    "duration": 20,
    "start_time": "2022-07-11T14:04:28.170Z"
   },
   {
    "duration": 8,
    "start_time": "2022-07-11T14:04:28.192Z"
   },
   {
    "duration": 40,
    "start_time": "2022-07-11T14:04:28.202Z"
   },
   {
    "duration": 9,
    "start_time": "2022-07-11T14:04:28.244Z"
   },
   {
    "duration": 7,
    "start_time": "2022-07-11T14:04:28.255Z"
   },
   {
    "duration": 13,
    "start_time": "2022-07-11T14:04:28.264Z"
   },
   {
    "duration": 6,
    "start_time": "2022-07-11T14:04:28.278Z"
   },
   {
    "duration": 275,
    "start_time": "2022-07-11T14:04:28.285Z"
   },
   {
    "duration": 566,
    "start_time": "2022-07-11T14:04:28.562Z"
   },
   {
    "duration": 33,
    "start_time": "2022-07-11T14:04:29.137Z"
   },
   {
    "duration": 6,
    "start_time": "2022-07-11T14:04:29.174Z"
   },
   {
    "duration": 696,
    "start_time": "2022-07-11T14:04:29.182Z"
   },
   {
    "duration": 36,
    "start_time": "2022-07-11T14:04:29.880Z"
   },
   {
    "duration": 275,
    "start_time": "2022-07-11T14:04:29.917Z"
   },
   {
    "duration": 86,
    "start_time": "2022-07-11T14:04:30.194Z"
   },
   {
    "duration": 16,
    "start_time": "2022-07-11T14:04:30.282Z"
   },
   {
    "duration": 32,
    "start_time": "2022-07-11T14:04:30.308Z"
   },
   {
    "duration": 18,
    "start_time": "2022-07-11T14:04:30.341Z"
   },
   {
    "duration": 1134,
    "start_time": "2022-07-11T14:04:30.361Z"
   },
   {
    "duration": 34,
    "start_time": "2022-07-11T14:04:31.497Z"
   },
   {
    "duration": 148,
    "start_time": "2022-07-11T14:04:31.533Z"
   },
   {
    "duration": 309,
    "start_time": "2022-07-11T14:04:31.683Z"
   },
   {
    "duration": 18,
    "start_time": "2022-07-11T14:04:31.994Z"
   },
   {
    "duration": 301,
    "start_time": "2022-07-11T14:04:32.021Z"
   },
   {
    "duration": 8,
    "start_time": "2022-07-11T14:04:32.324Z"
   },
   {
    "duration": 6,
    "start_time": "2022-07-11T14:04:32.580Z"
   },
   {
    "duration": 20,
    "start_time": "2022-07-11T14:05:06.058Z"
   },
   {
    "duration": 13,
    "start_time": "2022-07-11T14:05:22.884Z"
   },
   {
    "duration": 794,
    "start_time": "2022-07-11T14:05:34.600Z"
   },
   {
    "duration": 17,
    "start_time": "2022-07-11T14:05:45.337Z"
   },
   {
    "duration": 9,
    "start_time": "2022-07-11T14:07:08.452Z"
   },
   {
    "duration": 721,
    "start_time": "2022-07-11T14:07:22.540Z"
   },
   {
    "duration": 842,
    "start_time": "2022-07-11T14:07:41.493Z"
   },
   {
    "duration": 1061,
    "start_time": "2022-07-11T14:07:54.676Z"
   },
   {
    "duration": 10,
    "start_time": "2022-07-11T14:08:05.243Z"
   },
   {
    "duration": 22,
    "start_time": "2022-07-11T14:08:18.704Z"
   },
   {
    "duration": 12,
    "start_time": "2022-07-11T14:13:58.649Z"
   },
   {
    "duration": 12,
    "start_time": "2022-07-11T14:14:09.451Z"
   },
   {
    "duration": 16,
    "start_time": "2022-07-11T14:14:49.436Z"
   },
   {
    "duration": 33,
    "start_time": "2022-07-11T14:16:18.114Z"
   },
   {
    "duration": 22,
    "start_time": "2022-07-11T14:16:29.600Z"
   },
   {
    "duration": 43,
    "start_time": "2022-07-11T16:17:15.063Z"
   },
   {
    "duration": 10,
    "start_time": "2022-07-11T16:17:44.244Z"
   },
   {
    "duration": 554,
    "start_time": "2022-07-11T16:17:51.384Z"
   },
   {
    "duration": 694,
    "start_time": "2022-07-11T16:18:07.724Z"
   },
   {
    "duration": 450,
    "start_time": "2022-07-11T16:22:55.547Z"
   },
   {
    "duration": 30,
    "start_time": "2022-07-11T16:25:50.100Z"
   },
   {
    "duration": 259,
    "start_time": "2022-07-11T16:33:18.811Z"
   },
   {
    "duration": 263,
    "start_time": "2022-07-11T16:34:25.765Z"
   },
   {
    "duration": 244,
    "start_time": "2022-07-11T16:39:15.799Z"
   },
   {
    "duration": 33,
    "start_time": "2022-07-11T16:43:07.018Z"
   },
   {
    "duration": 6,
    "start_time": "2022-07-11T16:43:07.532Z"
   },
   {
    "duration": 6,
    "start_time": "2022-07-11T16:43:08.016Z"
   },
   {
    "duration": 1118,
    "start_time": "2022-07-11T16:44:18.718Z"
   },
   {
    "duration": 53,
    "start_time": "2022-07-11T16:44:58.425Z"
   },
   {
    "duration": 76,
    "start_time": "2022-07-11T16:47:09.569Z"
   },
   {
    "duration": 48,
    "start_time": "2022-07-11T16:47:17.398Z"
   },
   {
    "duration": 3,
    "start_time": "2022-07-11T16:47:27.285Z"
   },
   {
    "duration": 134,
    "start_time": "2022-07-11T16:47:27.290Z"
   },
   {
    "duration": 35,
    "start_time": "2022-07-11T16:47:27.427Z"
   },
   {
    "duration": 30,
    "start_time": "2022-07-11T16:47:27.465Z"
   },
   {
    "duration": 13,
    "start_time": "2022-07-11T16:47:27.503Z"
   },
   {
    "duration": 10,
    "start_time": "2022-07-11T16:47:27.518Z"
   },
   {
    "duration": 12,
    "start_time": "2022-07-11T16:47:27.530Z"
   },
   {
    "duration": 7,
    "start_time": "2022-07-11T16:47:27.544Z"
   },
   {
    "duration": 18,
    "start_time": "2022-07-11T16:47:27.553Z"
   },
   {
    "duration": 6,
    "start_time": "2022-07-11T16:47:27.572Z"
   },
   {
    "duration": 271,
    "start_time": "2022-07-11T16:47:27.580Z"
   },
   {
    "duration": 570,
    "start_time": "2022-07-11T16:47:27.854Z"
   },
   {
    "duration": 26,
    "start_time": "2022-07-11T16:47:28.426Z"
   },
   {
    "duration": 7,
    "start_time": "2022-07-11T16:47:28.454Z"
   },
   {
    "duration": 483,
    "start_time": "2022-07-11T16:47:28.463Z"
   },
   {
    "duration": 19,
    "start_time": "2022-07-11T16:47:28.948Z"
   },
   {
    "duration": 285,
    "start_time": "2022-07-11T16:47:28.969Z"
   },
   {
    "duration": 72,
    "start_time": "2022-07-11T16:47:29.256Z"
   },
   {
    "duration": 17,
    "start_time": "2022-07-11T16:47:29.330Z"
   },
   {
    "duration": 7,
    "start_time": "2022-07-11T16:47:29.349Z"
   },
   {
    "duration": 8,
    "start_time": "2022-07-11T16:47:29.358Z"
   },
   {
    "duration": 1004,
    "start_time": "2022-07-11T16:47:29.368Z"
   },
   {
    "duration": 32,
    "start_time": "2022-07-11T16:47:30.374Z"
   },
   {
    "duration": 156,
    "start_time": "2022-07-11T16:47:35.568Z"
   },
   {
    "duration": 313,
    "start_time": "2022-07-11T16:47:39.934Z"
   },
   {
    "duration": 15,
    "start_time": "2022-07-11T17:21:51.668Z"
   },
   {
    "duration": 347,
    "start_time": "2022-07-11T17:21:55.020Z"
   },
   {
    "duration": 20,
    "start_time": "2022-07-11T17:23:32.428Z"
   },
   {
    "duration": 387,
    "start_time": "2022-07-11T17:23:33.560Z"
   },
   {
    "duration": 136,
    "start_time": "2022-07-11T17:25:04.035Z"
   },
   {
    "duration": 7,
    "start_time": "2022-07-11T17:25:11.139Z"
   },
   {
    "duration": 26,
    "start_time": "2022-07-11T17:26:15.104Z"
   },
   {
    "duration": 15,
    "start_time": "2022-07-11T17:26:43.820Z"
   },
   {
    "duration": 22,
    "start_time": "2022-07-11T17:26:50.767Z"
   },
   {
    "duration": 1204,
    "start_time": "2022-07-14T17:59:52.951Z"
   },
   {
    "duration": 64,
    "start_time": "2022-07-14T17:59:54.158Z"
   },
   {
    "duration": 23,
    "start_time": "2022-07-14T17:59:54.223Z"
   },
   {
    "duration": 16,
    "start_time": "2022-07-14T17:59:54.248Z"
   },
   {
    "duration": 13,
    "start_time": "2022-07-14T17:59:54.265Z"
   },
   {
    "duration": 13,
    "start_time": "2022-07-14T17:59:54.279Z"
   },
   {
    "duration": 14,
    "start_time": "2022-07-14T17:59:54.294Z"
   },
   {
    "duration": 15,
    "start_time": "2022-07-14T17:59:54.310Z"
   },
   {
    "duration": 22,
    "start_time": "2022-07-14T17:59:54.327Z"
   },
   {
    "duration": 11,
    "start_time": "2022-07-14T17:59:54.351Z"
   },
   {
    "duration": 238,
    "start_time": "2022-07-14T17:59:54.364Z"
   },
   {
    "duration": 525,
    "start_time": "2022-07-14T17:59:54.604Z"
   },
   {
    "duration": 31,
    "start_time": "2022-07-14T17:59:55.131Z"
   },
   {
    "duration": 5,
    "start_time": "2022-07-14T17:59:55.164Z"
   },
   {
    "duration": 408,
    "start_time": "2022-07-14T17:59:55.170Z"
   },
   {
    "duration": 15,
    "start_time": "2022-07-14T17:59:55.580Z"
   },
   {
    "duration": 229,
    "start_time": "2022-07-14T17:59:55.596Z"
   },
   {
    "duration": 142,
    "start_time": "2022-07-14T17:59:55.827Z"
   },
   {
    "duration": 15,
    "start_time": "2022-07-14T17:59:55.970Z"
   },
   {
    "duration": 26,
    "start_time": "2022-07-14T17:59:55.987Z"
   },
   {
    "duration": 32,
    "start_time": "2022-07-14T17:59:56.015Z"
   },
   {
    "duration": 1105,
    "start_time": "2022-07-14T17:59:56.049Z"
   },
   {
    "duration": 28,
    "start_time": "2022-07-14T17:59:57.155Z"
   },
   {
    "duration": 151,
    "start_time": "2022-07-14T17:59:57.184Z"
   },
   {
    "duration": 272,
    "start_time": "2022-07-14T17:59:57.337Z"
   },
   {
    "duration": 12,
    "start_time": "2022-07-14T17:59:57.610Z"
   },
   {
    "duration": 245,
    "start_time": "2022-07-14T17:59:57.623Z"
   },
   {
    "duration": 6,
    "start_time": "2022-07-14T17:59:57.871Z"
   },
   {
    "duration": 21,
    "start_time": "2022-07-14T17:59:57.879Z"
   },
   {
    "duration": 1305,
    "start_time": "2022-07-21T19:32:13.407Z"
   },
   {
    "duration": 568,
    "start_time": "2022-07-21T19:32:14.715Z"
   },
   {
    "duration": 24,
    "start_time": "2022-07-21T19:32:15.285Z"
   },
   {
    "duration": 19,
    "start_time": "2022-07-21T19:32:17.973Z"
   },
   {
    "duration": 22,
    "start_time": "2022-07-21T19:32:26.773Z"
   },
   {
    "duration": 25,
    "start_time": "2022-07-21T19:32:55.197Z"
   },
   {
    "duration": 3,
    "start_time": "2022-07-21T19:35:04.416Z"
   },
   {
    "duration": 70,
    "start_time": "2022-07-21T19:35:04.420Z"
   },
   {
    "duration": 18,
    "start_time": "2022-07-21T19:35:04.492Z"
   },
   {
    "duration": 24,
    "start_time": "2022-07-21T19:35:04.512Z"
   },
   {
    "duration": 27,
    "start_time": "2022-07-21T19:35:04.537Z"
   },
   {
    "duration": 8,
    "start_time": "2022-07-21T19:35:04.565Z"
   },
   {
    "duration": 8,
    "start_time": "2022-07-21T19:35:04.574Z"
   },
   {
    "duration": 6,
    "start_time": "2022-07-21T19:35:04.583Z"
   },
   {
    "duration": 10,
    "start_time": "2022-07-21T19:35:04.591Z"
   },
   {
    "duration": 4,
    "start_time": "2022-07-21T19:35:04.602Z"
   },
   {
    "duration": 266,
    "start_time": "2022-07-21T19:35:04.608Z"
   },
   {
    "duration": 22,
    "start_time": "2022-07-21T19:35:14.407Z"
   },
   {
    "duration": 23,
    "start_time": "2022-07-21T19:35:21.593Z"
   },
   {
    "duration": 22,
    "start_time": "2022-07-21T19:35:26.188Z"
   },
   {
    "duration": 23,
    "start_time": "2022-07-21T19:35:36.153Z"
   },
   {
    "duration": 373,
    "start_time": "2022-07-21T19:35:42.657Z"
   },
   {
    "duration": 24,
    "start_time": "2022-07-21T19:35:51.831Z"
   },
   {
    "duration": 22,
    "start_time": "2022-07-21T19:36:05.739Z"
   },
   {
    "duration": 251,
    "start_time": "2022-07-21T19:36:11.632Z"
   },
   {
    "duration": 22,
    "start_time": "2022-07-21T19:36:21.472Z"
   },
   {
    "duration": 21,
    "start_time": "2022-07-21T19:38:56.434Z"
   },
   {
    "duration": 22,
    "start_time": "2022-07-21T19:39:10.534Z"
   },
   {
    "duration": 16,
    "start_time": "2022-07-21T19:39:11.538Z"
   },
   {
    "duration": 15,
    "start_time": "2022-07-21T19:39:41.119Z"
   },
   {
    "duration": 25,
    "start_time": "2022-07-21T19:41:17.405Z"
   },
   {
    "duration": 207,
    "start_time": "2022-07-21T19:41:18.786Z"
   },
   {
    "duration": 255,
    "start_time": "2022-07-21T19:41:38.719Z"
   },
   {
    "duration": 13,
    "start_time": "2022-07-21T19:44:14.035Z"
   },
   {
    "duration": 3,
    "start_time": "2022-07-21T19:44:20.762Z"
   },
   {
    "duration": 70,
    "start_time": "2022-07-21T19:44:20.767Z"
   },
   {
    "duration": 20,
    "start_time": "2022-07-21T19:44:20.839Z"
   },
   {
    "duration": 24,
    "start_time": "2022-07-21T19:44:20.860Z"
   },
   {
    "duration": 8,
    "start_time": "2022-07-21T19:44:20.885Z"
   },
   {
    "duration": 8,
    "start_time": "2022-07-21T19:44:20.894Z"
   },
   {
    "duration": 7,
    "start_time": "2022-07-21T19:44:20.903Z"
   },
   {
    "duration": 6,
    "start_time": "2022-07-21T19:44:20.911Z"
   },
   {
    "duration": 10,
    "start_time": "2022-07-21T19:44:20.919Z"
   },
   {
    "duration": 5,
    "start_time": "2022-07-21T19:44:20.930Z"
   },
   {
    "duration": 253,
    "start_time": "2022-07-21T19:44:20.937Z"
   },
   {
    "duration": 25,
    "start_time": "2022-07-21T19:44:21.192Z"
   },
   {
    "duration": 244,
    "start_time": "2022-07-21T19:44:21.220Z"
   },
   {
    "duration": 214,
    "start_time": "2022-07-21T19:44:22.770Z"
   },
   {
    "duration": 7,
    "start_time": "2022-07-21T19:44:25.301Z"
   },
   {
    "duration": 688,
    "start_time": "2022-07-21T19:44:26.101Z"
   },
   {
    "duration": 514,
    "start_time": "2022-07-21T19:45:10.735Z"
   },
   {
    "duration": 534,
    "start_time": "2022-07-21T19:45:35.103Z"
   },
   {
    "duration": 520,
    "start_time": "2022-07-21T19:47:44.468Z"
   },
   {
    "duration": 644,
    "start_time": "2022-07-21T19:49:14.701Z"
   },
   {
    "duration": 530,
    "start_time": "2022-07-21T19:49:37.352Z"
   },
   {
    "duration": 517,
    "start_time": "2022-07-21T19:50:43.317Z"
   },
   {
    "duration": 620,
    "start_time": "2022-07-21T19:51:13.538Z"
   },
   {
    "duration": 500,
    "start_time": "2022-07-21T19:51:24.852Z"
   },
   {
    "duration": 547,
    "start_time": "2022-07-21T19:58:53.984Z"
   },
   {
    "duration": 1353,
    "start_time": "2022-07-24T09:07:56.787Z"
   },
   {
    "duration": 253,
    "start_time": "2022-07-24T09:07:58.142Z"
   },
   {
    "duration": 24,
    "start_time": "2022-07-24T09:07:58.396Z"
   },
   {
    "duration": 24,
    "start_time": "2022-07-24T09:07:58.422Z"
   },
   {
    "duration": 7,
    "start_time": "2022-07-24T09:07:58.447Z"
   },
   {
    "duration": 7,
    "start_time": "2022-07-24T09:07:58.456Z"
   },
   {
    "duration": 9,
    "start_time": "2022-07-24T09:07:58.465Z"
   },
   {
    "duration": 6,
    "start_time": "2022-07-24T09:07:58.475Z"
   },
   {
    "duration": 10,
    "start_time": "2022-07-24T09:07:58.482Z"
   },
   {
    "duration": 5,
    "start_time": "2022-07-24T09:07:58.522Z"
   },
   {
    "duration": 249,
    "start_time": "2022-07-24T09:07:58.529Z"
   },
   {
    "duration": 23,
    "start_time": "2022-07-24T09:07:58.779Z"
   },
   {
    "duration": 348,
    "start_time": "2022-07-24T09:07:58.804Z"
   },
   {
    "duration": 6,
    "start_time": "2022-07-24T09:07:59.154Z"
   },
   {
    "duration": 5,
    "start_time": "2022-07-24T09:08:00.522Z"
   },
   {
    "duration": 560,
    "start_time": "2022-07-24T09:08:01.490Z"
   },
   {
    "duration": 54,
    "start_time": "2022-07-25T07:32:11.390Z"
   },
   {
    "duration": 1595,
    "start_time": "2022-07-25T07:32:14.292Z"
   },
   {
    "duration": 137,
    "start_time": "2022-07-25T07:32:15.889Z"
   },
   {
    "duration": 34,
    "start_time": "2022-07-25T07:32:16.028Z"
   },
   {
    "duration": 39,
    "start_time": "2022-07-25T07:32:16.064Z"
   },
   {
    "duration": 9,
    "start_time": "2022-07-25T07:32:16.112Z"
   },
   {
    "duration": 9,
    "start_time": "2022-07-25T07:32:16.122Z"
   },
   {
    "duration": 11,
    "start_time": "2022-07-25T07:32:16.133Z"
   },
   {
    "duration": 7,
    "start_time": "2022-07-25T07:32:16.146Z"
   },
   {
    "duration": 13,
    "start_time": "2022-07-25T07:32:16.155Z"
   },
   {
    "duration": 43,
    "start_time": "2022-07-25T07:32:16.169Z"
   },
   {
    "duration": 298,
    "start_time": "2022-07-25T07:32:16.214Z"
   },
   {
    "duration": 27,
    "start_time": "2022-07-25T07:32:16.514Z"
   },
   {
    "duration": 293,
    "start_time": "2022-07-25T07:32:16.542Z"
   },
   {
    "duration": 7,
    "start_time": "2022-07-25T07:32:16.837Z"
   },
   {
    "duration": 978,
    "start_time": "2022-07-25T07:32:16.846Z"
   },
   {
    "duration": 864,
    "start_time": "2022-07-25T07:33:04.617Z"
   },
   {
    "duration": 646,
    "start_time": "2022-07-25T07:33:19.052Z"
   },
   {
    "duration": 92,
    "start_time": "2022-07-25T07:34:25.658Z"
   },
   {
    "duration": 4,
    "start_time": "2022-07-25T07:42:30.476Z"
   },
   {
    "duration": 96,
    "start_time": "2022-07-25T07:42:30.482Z"
   },
   {
    "duration": 26,
    "start_time": "2022-07-25T07:42:30.580Z"
   },
   {
    "duration": 42,
    "start_time": "2022-07-25T07:42:30.609Z"
   },
   {
    "duration": 9,
    "start_time": "2022-07-25T07:42:30.655Z"
   },
   {
    "duration": 26,
    "start_time": "2022-07-25T07:42:30.666Z"
   },
   {
    "duration": 38,
    "start_time": "2022-07-25T07:42:30.694Z"
   },
   {
    "duration": 28,
    "start_time": "2022-07-25T07:42:30.734Z"
   },
   {
    "duration": 51,
    "start_time": "2022-07-25T07:42:30.764Z"
   },
   {
    "duration": 32,
    "start_time": "2022-07-25T07:42:30.817Z"
   },
   {
    "duration": 292,
    "start_time": "2022-07-25T07:42:30.851Z"
   },
   {
    "duration": 30,
    "start_time": "2022-07-25T07:42:31.145Z"
   },
   {
    "duration": 275,
    "start_time": "2022-07-25T07:42:31.177Z"
   },
   {
    "duration": 7,
    "start_time": "2022-07-25T07:42:31.455Z"
   },
   {
    "duration": 843,
    "start_time": "2022-07-25T07:42:31.464Z"
   },
   {
    "duration": 24,
    "start_time": "2022-07-25T07:42:32.310Z"
   },
   {
    "duration": 301,
    "start_time": "2022-07-25T07:42:32.337Z"
   },
   {
    "duration": 730,
    "start_time": "2022-07-25T07:42:32.640Z"
   },
   {
    "duration": 10,
    "start_time": "2022-07-25T11:19:23.861Z"
   },
   {
    "duration": 31,
    "start_time": "2022-07-25T11:19:44.377Z"
   },
   {
    "duration": 3,
    "start_time": "2022-07-25T11:19:49.254Z"
   },
   {
    "duration": 137,
    "start_time": "2022-07-25T11:19:49.259Z"
   },
   {
    "duration": 21,
    "start_time": "2022-07-25T11:19:49.398Z"
   },
   {
    "duration": 33,
    "start_time": "2022-07-25T11:19:49.421Z"
   },
   {
    "duration": 9,
    "start_time": "2022-07-25T11:19:49.457Z"
   },
   {
    "duration": 28,
    "start_time": "2022-07-25T11:19:49.467Z"
   },
   {
    "duration": 13,
    "start_time": "2022-07-25T11:19:49.497Z"
   },
   {
    "duration": 18,
    "start_time": "2022-07-25T11:19:49.512Z"
   },
   {
    "duration": 25,
    "start_time": "2022-07-25T11:19:49.532Z"
   },
   {
    "duration": 21,
    "start_time": "2022-07-25T11:19:49.559Z"
   },
   {
    "duration": 270,
    "start_time": "2022-07-25T11:19:49.583Z"
   },
   {
    "duration": 25,
    "start_time": "2022-07-25T11:19:49.855Z"
   },
   {
    "duration": 269,
    "start_time": "2022-07-25T11:19:49.882Z"
   },
   {
    "duration": 8,
    "start_time": "2022-07-25T11:19:50.154Z"
   },
   {
    "duration": 663,
    "start_time": "2022-07-25T11:19:50.164Z"
   },
   {
    "duration": 17,
    "start_time": "2022-07-25T11:19:50.829Z"
   },
   {
    "duration": 291,
    "start_time": "2022-07-25T11:19:50.848Z"
   },
   {
    "duration": 663,
    "start_time": "2022-07-25T11:19:51.141Z"
   },
   {
    "duration": 217,
    "start_time": "2022-07-25T11:19:51.810Z"
   },
   {
    "duration": 21,
    "start_time": "2022-07-25T11:19:52.029Z"
   },
   {
    "duration": 47,
    "start_time": "2022-07-25T11:19:52.053Z"
   },
   {
    "duration": 19,
    "start_time": "2022-07-25T11:19:52.102Z"
   },
   {
    "duration": 1127,
    "start_time": "2022-07-25T11:19:52.123Z"
   },
   {
    "duration": 31,
    "start_time": "2022-07-25T11:19:53.252Z"
   },
   {
    "duration": 144,
    "start_time": "2022-07-25T11:19:53.285Z"
   },
   {
    "duration": 169,
    "start_time": "2022-07-25T11:20:11.770Z"
   },
   {
    "duration": 290,
    "start_time": "2022-07-25T11:20:20.648Z"
   },
   {
    "duration": 14,
    "start_time": "2022-07-25T11:20:30.121Z"
   },
   {
    "duration": 275,
    "start_time": "2022-07-25T11:20:30.749Z"
   },
   {
    "duration": 7,
    "start_time": "2022-07-25T11:20:33.299Z"
   },
   {
    "duration": 22,
    "start_time": "2022-07-25T11:20:40.361Z"
   },
   {
    "duration": 11,
    "start_time": "2022-07-25T11:24:28.808Z"
   },
   {
    "duration": 15,
    "start_time": "2022-07-25T11:27:26.849Z"
   },
   {
    "duration": 19,
    "start_time": "2022-07-25T11:27:56.054Z"
   },
   {
    "duration": 16,
    "start_time": "2022-07-25T11:28:21.108Z"
   },
   {
    "duration": 1342,
    "start_time": "2022-07-25T11:29:53.939Z"
   },
   {
    "duration": 32,
    "start_time": "2022-07-25T11:32:21.618Z"
   },
   {
    "duration": 32,
    "start_time": "2022-07-25T11:33:01.122Z"
   },
   {
    "duration": 32,
    "start_time": "2022-07-25T11:33:19.152Z"
   },
   {
    "duration": 47,
    "start_time": "2022-07-25T11:34:42.670Z"
   },
   {
    "duration": 4,
    "start_time": "2022-07-25T11:35:03.855Z"
   },
   {
    "duration": 77,
    "start_time": "2022-07-25T11:35:03.861Z"
   },
   {
    "duration": 21,
    "start_time": "2022-07-25T11:35:03.939Z"
   },
   {
    "duration": 28,
    "start_time": "2022-07-25T11:35:03.962Z"
   },
   {
    "duration": 26,
    "start_time": "2022-07-25T11:35:03.992Z"
   },
   {
    "duration": 21,
    "start_time": "2022-07-25T11:35:04.020Z"
   },
   {
    "duration": 16,
    "start_time": "2022-07-25T11:35:04.043Z"
   },
   {
    "duration": 28,
    "start_time": "2022-07-25T11:35:04.061Z"
   },
   {
    "duration": 34,
    "start_time": "2022-07-25T11:35:04.091Z"
   },
   {
    "duration": 22,
    "start_time": "2022-07-25T11:35:04.127Z"
   },
   {
    "duration": 259,
    "start_time": "2022-07-25T11:35:04.151Z"
   },
   {
    "duration": 27,
    "start_time": "2022-07-25T11:35:04.412Z"
   },
   {
    "duration": 275,
    "start_time": "2022-07-25T11:35:04.441Z"
   },
   {
    "duration": 7,
    "start_time": "2022-07-25T11:35:04.719Z"
   },
   {
    "duration": 659,
    "start_time": "2022-07-25T11:35:04.727Z"
   },
   {
    "duration": 24,
    "start_time": "2022-07-25T11:35:05.388Z"
   },
   {
    "duration": 277,
    "start_time": "2022-07-25T11:35:05.414Z"
   },
   {
    "duration": 730,
    "start_time": "2022-07-25T11:35:05.693Z"
   },
   {
    "duration": 62,
    "start_time": "2022-07-25T11:35:06.426Z"
   },
   {
    "duration": 32,
    "start_time": "2022-07-25T11:35:06.490Z"
   },
   {
    "duration": 7,
    "start_time": "2022-07-25T11:35:06.524Z"
   },
   {
    "duration": 23,
    "start_time": "2022-07-25T11:35:06.533Z"
   },
   {
    "duration": 1076,
    "start_time": "2022-07-25T11:35:06.558Z"
   },
   {
    "duration": 41,
    "start_time": "2022-07-25T11:35:07.636Z"
   },
   {
    "duration": 166,
    "start_time": "2022-07-25T11:35:07.678Z"
   },
   {
    "duration": 308,
    "start_time": "2022-07-25T11:35:07.846Z"
   },
   {
    "duration": 13,
    "start_time": "2022-07-25T11:35:08.156Z"
   },
   {
    "duration": 328,
    "start_time": "2022-07-25T11:35:08.171Z"
   },
   {
    "duration": 11,
    "start_time": "2022-07-25T11:35:08.501Z"
   },
   {
    "duration": 23,
    "start_time": "2022-07-25T11:35:11.165Z"
   },
   {
    "duration": 1312,
    "start_time": "2022-08-04T09:59:15.928Z"
   },
   {
    "duration": 238,
    "start_time": "2022-08-04T09:59:17.242Z"
   },
   {
    "duration": 23,
    "start_time": "2022-08-04T09:59:17.482Z"
   },
   {
    "duration": 25,
    "start_time": "2022-08-04T09:59:17.506Z"
   },
   {
    "duration": 7,
    "start_time": "2022-08-04T09:59:17.533Z"
   },
   {
    "duration": 6,
    "start_time": "2022-08-04T09:59:17.541Z"
   },
   {
    "duration": 9,
    "start_time": "2022-08-04T09:59:17.549Z"
   },
   {
    "duration": 5,
    "start_time": "2022-08-04T09:59:17.559Z"
   },
   {
    "duration": 11,
    "start_time": "2022-08-04T09:59:17.565Z"
   },
   {
    "duration": 4,
    "start_time": "2022-08-04T09:59:17.577Z"
   },
   {
    "duration": 250,
    "start_time": "2022-08-04T09:59:17.582Z"
   },
   {
    "duration": 23,
    "start_time": "2022-08-04T09:59:17.833Z"
   },
   {
    "duration": 230,
    "start_time": "2022-08-04T09:59:17.857Z"
   },
   {
    "duration": 6,
    "start_time": "2022-08-04T09:59:18.089Z"
   },
   {
    "duration": 631,
    "start_time": "2022-08-04T09:59:18.097Z"
   },
   {
    "duration": 16,
    "start_time": "2022-08-04T09:59:18.730Z"
   },
   {
    "duration": 239,
    "start_time": "2022-08-04T09:59:18.748Z"
   },
   {
    "duration": 550,
    "start_time": "2022-08-04T09:59:18.989Z"
   },
   {
    "duration": 59,
    "start_time": "2022-08-04T09:59:19.540Z"
   },
   {
    "duration": 25,
    "start_time": "2022-08-04T09:59:19.601Z"
   },
   {
    "duration": 10,
    "start_time": "2022-08-04T09:59:19.628Z"
   },
   {
    "duration": 7,
    "start_time": "2022-08-04T09:59:19.640Z"
   },
   {
    "duration": 1520,
    "start_time": "2022-08-04T09:59:19.648Z"
   },
   {
    "duration": 27,
    "start_time": "2022-08-04T09:59:21.170Z"
   },
   {
    "duration": 139,
    "start_time": "2022-08-04T09:59:21.199Z"
   },
   {
    "duration": 271,
    "start_time": "2022-08-04T09:59:21.339Z"
   },
   {
    "duration": 12,
    "start_time": "2022-08-04T09:59:21.611Z"
   },
   {
    "duration": 245,
    "start_time": "2022-08-04T09:59:21.625Z"
   },
   {
    "duration": 7,
    "start_time": "2022-08-04T09:59:21.871Z"
   },
   {
    "duration": 19,
    "start_time": "2022-08-04T09:59:25.106Z"
   },
   {
    "duration": 26,
    "start_time": "2022-08-04T09:59:37.735Z"
   },
   {
    "duration": 150,
    "start_time": "2022-08-04T12:52:14.816Z"
   },
   {
    "duration": 30,
    "start_time": "2022-08-04T12:52:30.416Z"
   },
   {
    "duration": 28,
    "start_time": "2022-08-04T12:52:46.137Z"
   },
   {
    "duration": 38,
    "start_time": "2022-08-04T12:53:01.683Z"
   },
   {
    "duration": 28,
    "start_time": "2022-08-04T12:54:02.151Z"
   },
   {
    "duration": 27,
    "start_time": "2022-08-04T12:54:17.327Z"
   },
   {
    "duration": 50,
    "start_time": "2022-08-04T12:54:54.827Z"
   },
   {
    "duration": 37,
    "start_time": "2022-08-04T12:55:13.618Z"
   },
   {
    "duration": 38,
    "start_time": "2022-08-04T12:55:45.285Z"
   },
   {
    "duration": 40,
    "start_time": "2022-08-04T12:56:24.072Z"
   },
   {
    "duration": 15,
    "start_time": "2022-08-04T12:58:13.432Z"
   },
   {
    "duration": 228,
    "start_time": "2022-08-04T12:58:36.385Z"
   },
   {
    "duration": 218,
    "start_time": "2022-08-04T12:58:50.669Z"
   },
   {
    "duration": 296,
    "start_time": "2022-08-04T12:59:02.575Z"
   }
  ],
  "kernelspec": {
   "display_name": "Python 3 (ipykernel)",
   "language": "python",
   "name": "python3"
  },
  "language_info": {
   "codemirror_mode": {
    "name": "ipython",
    "version": 3
   },
   "file_extension": ".py",
   "mimetype": "text/x-python",
   "name": "python",
   "nbconvert_exporter": "python",
   "pygments_lexer": "ipython3",
   "version": "3.9.13"
  },
  "toc": {
   "base_numbering": 1,
   "nav_menu": {},
   "number_sections": true,
   "sideBar": true,
   "skip_h1_title": true,
   "title_cell": "Table of Contents",
   "title_sidebar": "Contents",
   "toc_cell": false,
   "toc_position": {
    "height": "calc(100% - 180px)",
    "left": "10px",
    "top": "150px",
    "width": "165px"
   },
   "toc_section_display": true,
   "toc_window_display": true
  }
 },
 "nbformat": 4,
 "nbformat_minor": 2
}
