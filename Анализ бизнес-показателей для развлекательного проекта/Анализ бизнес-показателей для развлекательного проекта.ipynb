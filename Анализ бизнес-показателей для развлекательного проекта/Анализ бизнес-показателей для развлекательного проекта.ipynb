{
 "cells": [
  {
   "cell_type": "markdown",
   "metadata": {},
   "source": [
    "\n",
    "# Анализ бизнес-показателей для развлекательного проекта\n",
    "\n"
   ]
  },
  {
   "cell_type": "markdown",
   "metadata": {},
   "source": [
    "---\n",
    "## Контекст\n",
    "\n",
    "\n",
    "Мы делаем проект для развлекательного приложения Procrastinate Pro+. Несколько прошлых месяцев бизнес постоянно нес убытки - в привлечение пользователей была вложена куча денег, а толку никакого. Нам нужно разобраться в причинах этой ситуации.\n"
   ]
  },
  {
   "cell_type": "markdown",
   "metadata": {},
   "source": [
    "## Задача\n",
    "\n",
    "У нас в распоряжении есть лог сервера с данными о посещениях приложения новыми пользователями, зарегистрировавшимися в период с 2019-05-01 по 2019-10-27, выгрузка их покупок за этот период, а также статистика рекламных расходов. Нам предстоит изучить, как люди пользуются продуктом, когда они начинают покупать, сколько денег приносит каждый клиент, когда он окупается и какие факторы отрицательно влияют на привлечение пользователей.\n"
   ]
  },
  {
   "cell_type": "markdown",
   "metadata": {},
   "source": [
    "---\n",
    "## План работы\n",
    "\n",
    "\n",
    "* `Шаг 1.` Загрузим данные и подготовим их к анализу\n",
    "\n",
    "Загрузим данные о визитах, заказах и расходах в переменные. Оптимизируем данные для анализа. Убедитесь, что тип данных в каждой колонке — правильный. \n",
    " \n",
    "* `Шаг 2.` Зададим функции для расчета и анализа LTV, ROI, удержания и конверсии\n",
    "\n",
    "\n",
    "* `Шаг 3.` Проведем исследовательский анализ данных\n",
    "\n",
    "Построим профили пользователей. Определим минимальную и максимальную дату привлечения пользователей.\n",
    "\n",
    "Выясним:\n",
    "\n",
    ">  - Из каких стран приходят посетители? Какие страны дают больше всего платящих пользователей?\n",
    ">  - Какими устройствами они пользуются? С каких устройств чаще всего заходят платящие пользователи?\n",
    ">  - По каким рекламным каналам шло привлечение пользователей? Какие каналы приносят больше всего платящих пользователей?.\n",
    "\n",
    "\n",
    "* `Шаг 4.` Маркетинг\n",
    "\n",
    " Выясним:\n",
    "\n",
    "> - Сколько денег потратили? Всего / на каждый источник / по времени\n",
    "> - Сколько в среднем стоило привлечение одного покупателя из каждого источника?\n",
    "\n",
    "* `Шаг 5.` Оценим окупаемость рекламы для привлечения пользователей\n",
    "\n",
    "С помощью LTV и ROI:\n",
    "\n",
    "> - Проанализируем общую окупаемость рекламы;\n",
    "> - Проанализируем окупаемость рекламы с разбивкой по устройствам;\n",
    "> - Проанализируем окупаемость рекламы с разбивкой по странам;\n",
    "> - Проанализируем окупаемость рекламы с разбивкой по рекламным каналам.\n",
    "\n",
    "Опишем проблемы, которые мы обнаружили. Ответим на вопросы:\n",
    "\n",
    "> - Окупается ли реклама, направленная на привлечение пользователей в целом? \n",
    "> - Какие устройства, страны и рекламные каналы могут оказывать негативное влияние на окупаемость рекламы?\n",
    "> - Чем могут быть вызваны проблемы окупаемости? Изучим конверсию и удержание с разбивкой по устройствам, странам, рекламным каналам.\n",
    "\n",
    "Опишем возможные причины обнаруженных проблем и сформируем рекомендации для рекламного отдела. При решении этого шага считаем, что мы смотрим данные 1-го ноября 2019 года и что в нашей организации принято считать, что окупаемость должна наступать не позднее, чем через 2 недели после привлечения пользователей.\n",
    "\n",
    "* `Шаг 6.` Выводы\n",
    "\n",
    "> - Выделим причины неэффективности привлечения пользователей;\n",
    "> - Сформируем рекомендации для отдела маркетинга для повышения эффективности.\n"
   ]
  },
  {
   "cell_type": "markdown",
   "metadata": {},
   "source": [
    "---\n",
    "##  Описание данных\n",
    "\n",
    "Таблица `visits_log_short` (лог сервера с информацией о посещениях сайта):\n",
    "\n",
    "   * `User Id` — уникальный идентификатор пользователя\n",
    "   * `Device` — категория устройства пользователя\n",
    "   * `Session start` — дата и время начала сессии\n",
    "   * `Session End` — дата и время окончания сессии\n",
    "   * `Channel` — идентификатор рекламного источника, из которого пришел пользователь\n",
    "   * `Region` - страна пользователя\n",
    "\n",
    "Таблица `orders_log_short` (информация о заказах):\n",
    "\n",
    "   * `User Id` — уникальный id пользователя, который сделал заказ\n",
    "   * `Event Dt` — дата и время покупки\n",
    "   * `Revenue` — выручка\n",
    "\n",
    "Таблица `costs_short` (информация о затратах на маркетинг):\n",
    "\n",
    "   * `Channel` — идентификатор рекламного источника\n",
    "   * `Dt` — дата\n",
    "   * `Costs` — затраты на этот рекламный источник в этот день"
   ]
  },
  {
   "cell_type": "markdown",
   "metadata": {},
   "source": [
    "Импортируем библиотеки."
   ]
  },
  {
   "cell_type": "code",
   "execution_count": 1,
   "metadata": {},
   "outputs": [],
   "source": [
    "import pandas as pd\n",
    "from datetime import datetime, timedelta\n",
    "import decimal\n",
    "import numpy as np\n",
    "from matplotlib import pyplot as plt"
   ]
  },
  {
   "cell_type": "markdown",
   "metadata": {},
   "source": [
    "Сохраняем данные в переменные."
   ]
  },
  {
   "cell_type": "code",
   "execution_count": 3,
   "metadata": {},
   "outputs": [],
   "source": [
    "try:\n",
    "    visits = pd.read_csv('/datasets/visits_info_short.csv')\n",
    "    orders = pd.read_csv('/datasets/orders_info_short.csv')\n",
    "    costs = pd.read_csv('/datasets/costs_info_short.csv')\n",
    "except:\n",
    "    visits = pd.read_csv('/Users/ivan_miroshnichenko/Downloads/datasets/visits_info_short.csv')\n",
    "    orders = pd.read_csv('/Users/ivan_miroshnichenko/Downloads/datasets/orders_info_short.csv')\n",
    "    costs = pd.read_csv('/Users/ivan_miroshnichenko/Downloads/datasets/costs_info_short.csv')\n",
    "    "
   ]
  },
  {
   "cell_type": "markdown",
   "metadata": {},
   "source": [
    "Смотрим в первый раз на данные."
   ]
  },
  {
   "cell_type": "code",
   "execution_count": null,
   "metadata": {
    "scrolled": false
   },
   "outputs": [],
   "source": [
    "display(visits.sample(20), orders.sample(20), costs.sample(20))"
   ]
  },
  {
   "cell_type": "markdown",
   "metadata": {},
   "source": [
    "Приведем названия столбцов к снэйк кейсу и нижнему регистру."
   ]
  },
  {
   "cell_type": "code",
   "execution_count": null,
   "metadata": {},
   "outputs": [],
   "source": [
    "visits = visits.rename(columns={'Session End': 'session_end', 'Session Start': 'session_start', 'User Id': 'user_id'})\n",
    "visits.columns = visits.columns.str.lower()\n",
    "\n",
    "orders = orders.rename(columns={'User Id': 'user_id','Event Dt': 'event_dt'})\n",
    "orders.columns = orders.columns.str.lower()\n",
    "\n",
    "costs.columns = costs.columns.str.lower()"
   ]
  },
  {
   "cell_type": "markdown",
   "metadata": {},
   "source": [
    "Взглянем на изменения."
   ]
  },
  {
   "cell_type": "code",
   "execution_count": null,
   "metadata": {
    "scrolled": false
   },
   "outputs": [],
   "source": [
    "display(visits.sample(20))\n",
    "display(visits.info())\n",
    "display(orders.sample(20))\n",
    "display(orders.info())\n",
    "display(costs.sample(20))\n",
    "display(costs.info())"
   ]
  },
  {
   "cell_type": "markdown",
   "metadata": {},
   "source": [
    "Создадим столбцы с датой начала сессии, неделей когда была начата сессия и месяцем сессии. Приведем все столбцы, где храним даты к формату datetime."
   ]
  },
  {
   "cell_type": "code",
   "execution_count": null,
   "metadata": {},
   "outputs": [],
   "source": [
    "visits['session_start'] = pd.to_datetime(visits['session_start'])\n",
    "visits['session_end'] = pd.to_datetime(visits['session_end'])\n",
    "visits['session_date'] = visits['session_start'].dt.date\n",
    "visits['session_week'] = visits['session_start'].dt.isocalendar().week\n",
    "visits['session_month'] = visits['session_start'].dt.month\n",
    "visits['session_duration'] = visits['session_end'] - visits['session_start']\n",
    "visits['session_duration'] = visits['session_duration'].apply(lambda x: decimal.Decimal(x.seconds) // 60)\n",
    "visits['session_duration'] = visits['session_duration'].astype('int')\n",
    "visits['session_date'] = pd.to_datetime(visits['session_date'])\n",
    "\n",
    "costs['dt'] = pd.to_datetime(costs['dt']).dt.date\n",
    "\n",
    "orders['event_dt'] = pd.to_datetime(orders['event_dt'])"
   ]
  },
  {
   "cell_type": "markdown",
   "metadata": {},
   "source": [
    "Взглянем на обновленные данные."
   ]
  },
  {
   "cell_type": "code",
   "execution_count": null,
   "metadata": {
    "scrolled": false
   },
   "outputs": [],
   "source": [
    "display(\n",
    "        visits.sample(20),\n",
    "        visits.info(),\n",
    "        orders.sample(20),\n",
    "        orders.info(),\n",
    "        costs.sample(20),\n",
    "        costs.info()\n",
    "        )"
   ]
  },
  {
   "cell_type": "markdown",
   "metadata": {},
   "source": [
    "Смотрим на наличие пропусков и дубликатов."
   ]
  },
  {
   "cell_type": "code",
   "execution_count": null,
   "metadata": {},
   "outputs": [],
   "source": [
    "print(\n",
    "        'Количество пропусков visits -', costs.isnull().sum(),\n",
    "        'Количество пропусков orders -', orders.isnull().sum(),\n",
    "        'Количество пропусков costs -', visits.isnull().sum()\n",
    "        )\n",
    "\n",
    "print(\n",
    "        'Количество дубликатов visits -', visits.duplicated().sum(),\n",
    "        'Количество дубликатов orders -', orders.duplicated().sum(),\n",
    "        'Количество дубликатов costs -', costs.duplicated().sum()\n",
    "        )"
   ]
  },
  {
   "cell_type": "markdown",
   "metadata": {},
   "source": [
    "Качество исходных данных отличное, так как отсутствуют дубликаты и пропуски."
   ]
  },
  {
   "cell_type": "markdown",
   "metadata": {},
   "source": [
    "# Функции для расчета и анализа LTV, ROI, удержания и конверсии\n",
    "\n",
    "Зададим функции необходимые нам для анализа."
   ]
  },
  {
   "cell_type": "markdown",
   "metadata": {},
   "source": [
    "Функция для формирования пользовательских профилей."
   ]
  },
  {
   "cell_type": "code",
   "execution_count": null,
   "metadata": {},
   "outputs": [],
   "source": [
    "def get_profiles(sessions, orders, ad_costs):\n",
    "\n",
    "    # находим параметры первых посещений\n",
    "    profiles = (\n",
    "        sessions.sort_values(by=['user_id', 'session_start'])\n",
    "        .groupby('user_id')\n",
    "        .agg(\n",
    "            {\n",
    "                'session_start': 'first',\n",
    "                'channel': 'first',\n",
    "                'device': 'first',\n",
    "                'region': 'first',\n",
    "            }\n",
    "        )\n",
    "        .rename(columns={'session_start': 'first_ts'})\n",
    "        .reset_index()\n",
    "    )\n",
    "\n",
    "    # для когортного анализа определяем дату первого посещения\n",
    "    # и первый день месяца, в который это посещение произошло\n",
    "    profiles['dt'] = profiles['first_ts'].dt.date\n",
    "    profiles['month'] = profiles['first_ts'].astype('datetime64[M]')\n",
    "\n",
    "    # добавляем признак платящих пользователей\n",
    "    profiles['payer'] = profiles['user_id'].isin(orders['user_id'].unique())\n",
    "\n",
    "    # считаем количество уникальных пользователей\n",
    "    # с одинаковыми источником и датой привлечения\n",
    "    new_users = (\n",
    "        profiles.groupby(['dt', 'channel'])\n",
    "        .agg({'user_id': 'nunique'})\n",
    "        .rename(columns={'user_id': 'unique_users'})\n",
    "        .reset_index()\n",
    "    )\n",
    "\n",
    "    # объединяем траты на рекламу и число привлечённых пользователей\n",
    "    ad_costs = ad_costs.merge(new_users, on=['dt', 'channel'], how='left')\n",
    "\n",
    "    # делим рекламные расходы на число привлечённых пользователей\n",
    "    ad_costs['acquisition_cost'] = ad_costs['costs'] / ad_costs['unique_users']\n",
    "\n",
    "    # добавляем стоимость привлечения в профили\n",
    "    profiles = profiles.merge(\n",
    "        ad_costs[['dt', 'channel', 'acquisition_cost']],\n",
    "        on=['dt', 'channel'],\n",
    "        how='left',\n",
    "    )\n",
    "\n",
    "    # стоимость привлечения органических пользователей равна нулю\n",
    "    profiles['acquisition_cost'] = profiles['acquisition_cost'].fillna(0)\n",
    "\n",
    "    return profiles\n",
    " "
   ]
  },
  {
   "cell_type": "markdown",
   "metadata": {},
   "source": [
    "Функция для расчёта удержания."
   ]
  },
  {
   "cell_type": "code",
   "execution_count": null,
   "metadata": {},
   "outputs": [],
   "source": [
    "def get_retention(\n",
    "    profiles,\n",
    "    sessions,\n",
    "    observation_date,\n",
    "    horizon_days,\n",
    "    dimensions=[],\n",
    "    ignore_horizon=False,\n",
    "):\n",
    "\n",
    "    # добавляем столбец payer в передаваемый dimensions список\n",
    "    dimensions = ['payer'] + dimensions\n",
    "\n",
    "    # исключаем пользователей, не «доживших» до горизонта анализа\n",
    "    last_suitable_acquisition_date = observation_date\n",
    "    if not ignore_horizon:\n",
    "        last_suitable_acquisition_date = observation_date - timedelta(\n",
    "            days=horizon_days - 1\n",
    "        )\n",
    "    result_raw = profiles.query('dt <= @last_suitable_acquisition_date')\n",
    "\n",
    "    # собираем «сырые» данные для расчёта удержания\n",
    "    result_raw = result_raw.merge(\n",
    "        sessions[['user_id', 'session_start']], on='user_id', how='left'\n",
    "    )\n",
    "    result_raw['lifetime'] = (\n",
    "        result_raw['session_start'] - result_raw['first_ts']\n",
    "    ).dt.days\n",
    "\n",
    "    # функция для группировки таблицы по желаемым признакам\n",
    "    def group_by_dimensions(df, dims, horizon_days):\n",
    "        result = df.pivot_table(\n",
    "            index=dims, columns='lifetime', values='user_id', aggfunc='nunique'\n",
    "        )\n",
    "        cohort_sizes = (\n",
    "            df.groupby(dims)\n",
    "            .agg({'user_id': 'nunique'})\n",
    "            .rename(columns={'user_id': 'cohort_size'})\n",
    "        )\n",
    "        result = cohort_sizes.merge(result, on=dims, how='left').fillna(0)\n",
    "        result = result.div(result['cohort_size'], axis=0)\n",
    "        result = result[['cohort_size'] + list(range(horizon_days))]\n",
    "        result['cohort_size'] = cohort_sizes\n",
    "        return result\n",
    "\n",
    "    # получаем таблицу удержания\n",
    "    result_grouped = group_by_dimensions(result_raw, dimensions, horizon_days)\n",
    "\n",
    "    # получаем таблицу динамики удержания\n",
    "    result_in_time = group_by_dimensions(\n",
    "        result_raw, dimensions + ['dt'], horizon_days\n",
    "    )\n",
    "\n",
    "    # возвращаем обе таблицы и сырые данные\n",
    "    return result_raw, result_grouped, result_in_time "
   ]
  },
  {
   "cell_type": "markdown",
   "metadata": {},
   "source": [
    "Функция для расчета конверсии."
   ]
  },
  {
   "cell_type": "code",
   "execution_count": null,
   "metadata": {},
   "outputs": [],
   "source": [
    "def get_conversion(\n",
    "    profiles,\n",
    "    purchases,\n",
    "    observation_date,\n",
    "    horizon_days,\n",
    "    dimensions=[],\n",
    "    ignore_horizon=False,\n",
    "):\n",
    "\n",
    "    # исключаем пользователей, не «доживших» до горизонта анализа\n",
    "    last_suitable_acquisition_date = observation_date\n",
    "    if not ignore_horizon:\n",
    "        last_suitable_acquisition_date = observation_date - timedelta(\n",
    "            days=horizon_days - 1\n",
    "        )\n",
    "    result_raw = profiles.query('dt <= @last_suitable_acquisition_date')\n",
    "\n",
    "    # определяем дату и время первой покупки для каждого пользователя\n",
    "    first_purchases = (\n",
    "        purchases.sort_values(by=['user_id', 'event_dt'])\n",
    "        .groupby('user_id')\n",
    "        .agg({'event_dt': 'first'})\n",
    "        .reset_index()\n",
    "    )\n",
    "\n",
    "    # добавляем данные о покупках в профили\n",
    "    result_raw = result_raw.merge(\n",
    "        first_purchases[['user_id', 'event_dt']], on='user_id', how='left'\n",
    "    )\n",
    "\n",
    "    # рассчитываем лайфтайм для каждой покупки\n",
    "    result_raw['lifetime'] = (\n",
    "        result_raw['event_dt'] - result_raw['first_ts']\n",
    "    ).dt.days\n",
    "\n",
    "    # группируем по cohort, если в dimensions ничего нет\n",
    "    if len(dimensions) == 0:\n",
    "        result_raw['cohort'] = 'All users' \n",
    "        dimensions = dimensions + ['cohort']\n",
    "\n",
    "    # функция для группировки таблицы по желаемым признакам\n",
    "    def group_by_dimensions(df, dims, horizon_days):\n",
    "        result = df.pivot_table(\n",
    "            index=dims, columns='lifetime', values='user_id', aggfunc='nunique'\n",
    "        )\n",
    "        result = result.fillna(0).cumsum(axis = 1)\n",
    "        cohort_sizes = (\n",
    "            df.groupby(dims)\n",
    "            .agg({'user_id': 'nunique'})\n",
    "            .rename(columns={'user_id': 'cohort_size'})\n",
    "        )\n",
    "        result = cohort_sizes.merge(result, on=dims, how='left').fillna(0)\n",
    "        # делим каждую «ячейку» в строке на размер когорты\n",
    "        # и получаем conversion rate\n",
    "        result = result.div(result['cohort_size'], axis=0)\n",
    "        result = result[['cohort_size'] + list(range(horizon_days))]\n",
    "        result['cohort_size'] = cohort_sizes\n",
    "        return result\n",
    "\n",
    "    # получаем таблицу конверсии\n",
    "    result_grouped = group_by_dimensions(result_raw, dimensions, horizon_days)\n",
    "\n",
    "    # для таблицы динамики конверсии убираем 'cohort' из dimensions\n",
    "    if 'cohort' in dimensions: \n",
    "        dimensions = []\n",
    "\n",
    "    # получаем таблицу динамики конверсии\n",
    "    result_in_time = group_by_dimensions(\n",
    "        result_raw, dimensions + ['dt'], horizon_days\n",
    "    )\n",
    "\n",
    "    # возвращаем обе таблицы и сырые данные\n",
    "    return result_raw, result_grouped, result_in_time "
   ]
  },
  {
   "cell_type": "markdown",
   "metadata": {},
   "source": [
    "Функция для расчёта LTV и ROI."
   ]
  },
  {
   "cell_type": "code",
   "execution_count": null,
   "metadata": {},
   "outputs": [],
   "source": [
    "def get_ltv(\n",
    "    profiles,\n",
    "    purchases,\n",
    "    observation_date,\n",
    "    horizon_days,\n",
    "    dimensions=[],\n",
    "    ignore_horizon=False,\n",
    "):\n",
    "\n",
    "    # исключаем пользователей, не «доживших» до горизонта анализа\n",
    "    last_suitable_acquisition_date = observation_date\n",
    "    if not ignore_horizon:\n",
    "        last_suitable_acquisition_date = observation_date - timedelta(\n",
    "            days=horizon_days - 1\n",
    "        )\n",
    "    result_raw = profiles.query('dt <= @last_suitable_acquisition_date')\n",
    "    # добавляем данные о покупках в профили\n",
    "    result_raw = result_raw.merge(\n",
    "        purchases[['user_id', 'event_dt', 'revenue']], on='user_id', how='left'\n",
    "    )\n",
    "    # рассчитываем лайфтайм пользователя для каждой покупки\n",
    "    result_raw['lifetime'] = (\n",
    "        result_raw['event_dt'] - result_raw['first_ts']\n",
    "    ).dt.days\n",
    "    # группируем по cohort, если в dimensions ничего нет\n",
    "    if len(dimensions) == 0:\n",
    "        result_raw['cohort'] = 'All users'\n",
    "        dimensions = dimensions + ['cohort']\n",
    "\n",
    "    # функция группировки по желаемым признакам\n",
    "    def group_by_dimensions(df, dims, horizon_days):\n",
    "        # строим «треугольную» таблицу выручки\n",
    "        result = df.pivot_table(\n",
    "            index=dims, columns='lifetime', values='revenue', aggfunc='sum'\n",
    "        )\n",
    "        # находим сумму выручки с накоплением\n",
    "        result = result.fillna(0).cumsum(axis=1)\n",
    "        # вычисляем размеры когорт\n",
    "        cohort_sizes = (\n",
    "            df.groupby(dims)\n",
    "            .agg({'user_id': 'nunique'})\n",
    "            .rename(columns={'user_id': 'cohort_size'})\n",
    "        )\n",
    "        # объединяем размеры когорт и таблицу выручки\n",
    "        result = cohort_sizes.merge(result, on=dims, how='left').fillna(0)\n",
    "        # считаем LTV: делим каждую «ячейку» в строке на размер когорты\n",
    "        result = result.div(result['cohort_size'], axis=0)\n",
    "        # исключаем все лайфтаймы, превышающие горизонт анализа\n",
    "        result = result[['cohort_size'] + list(range(horizon_days))]\n",
    "        # восстанавливаем размеры когорт\n",
    "        result['cohort_size'] = cohort_sizes\n",
    "\n",
    "        # собираем датафрейм с данными пользователей и значениями CAC, \n",
    "        # добавляя параметры из dimensions\n",
    "        cac = df[['user_id', 'acquisition_cost'] + dims].drop_duplicates()\n",
    "\n",
    "        # считаем средний CAC по параметрам из dimensions\n",
    "        cac = (\n",
    "            cac.groupby(dims)\n",
    "            .agg({'acquisition_cost': 'mean'})\n",
    "            .rename(columns={'acquisition_cost': 'cac'})\n",
    "        )\n",
    "\n",
    "        # считаем ROI: делим LTV на CAC\n",
    "        roi = result.div(cac['cac'], axis=0)\n",
    "\n",
    "        # удаляем строки с бесконечным ROI\n",
    "        roi = roi[~roi['cohort_size'].isin([np.inf])]\n",
    "\n",
    "        # восстанавливаем размеры когорт в таблице ROI\n",
    "        roi['cohort_size'] = cohort_sizes\n",
    "\n",
    "        # добавляем CAC в таблицу ROI\n",
    "        roi['cac'] = cac['cac']\n",
    "\n",
    "        # в финальной таблице оставляем размеры когорт, CAC\n",
    "        # и ROI в лайфтаймы, не превышающие горизонт анализа\n",
    "        roi = roi[['cohort_size', 'cac'] + list(range(horizon_days))]\n",
    "\n",
    "        # возвращаем таблицы LTV и ROI\n",
    "        return result, roi\n",
    "\n",
    "    # получаем таблицы LTV и ROI\n",
    "    result_grouped, roi_grouped = group_by_dimensions(\n",
    "        result_raw, dimensions, horizon_days\n",
    "    )\n",
    "\n",
    "    # для таблиц динамики убираем 'cohort' из dimensions\n",
    "    if 'cohort' in dimensions:\n",
    "        dimensions = []\n",
    "\n",
    "    # получаем таблицы динамики LTV и ROI\n",
    "    result_in_time, roi_in_time = group_by_dimensions(\n",
    "        result_raw, dimensions + ['dt'], horizon_days\n",
    "    )\n",
    "\n",
    "    return (\n",
    "        result_raw,  # сырые данные\n",
    "        result_grouped,  # таблица LTV\n",
    "        result_in_time,  # таблица динамики LTV\n",
    "        roi_grouped,  # таблица ROI\n",
    "        roi_in_time,  # таблица динамики ROI\n",
    "    ) "
   ]
  },
  {
   "cell_type": "markdown",
   "metadata": {},
   "source": [
    "Функция для визуализации удержания.\n"
   ]
  },
  {
   "cell_type": "code",
   "execution_count": null,
   "metadata": {},
   "outputs": [],
   "source": [
    "def plot_retention(retention, retention_history, horizon, window=7):\n",
    "\n",
    "    # задаём размер сетки для графиков\n",
    "    plt.figure(figsize=(15, 10))\n",
    "\n",
    "    # исключаем размеры когорт и удержание первого дня\n",
    "    retention = retention.drop(columns=['cohort_size', 0])\n",
    "    # в таблице динамики оставляем только нужный лайфтайм\n",
    "    retention_history = retention_history.drop(columns=['cohort_size'])[\n",
    "        [horizon - 1]\n",
    "    ]\n",
    "\n",
    "    # если в индексах таблицы удержания только payer,\n",
    "    # добавляем второй признак — cohort\n",
    "    if retention.index.nlevels == 1:\n",
    "        retention['cohort'] = 'All users'\n",
    "        retention = retention.reset_index().set_index(['cohort', 'payer'])\n",
    "\n",
    "    # в таблице графиков — два столбца и две строки, четыре ячейки\n",
    "    # в первой строим кривые удержания платящих пользователей\n",
    "    ax1 = plt.subplot(2, 2, 1)\n",
    "    retention.query('payer == True').droplevel('payer').T.plot(\n",
    "        grid=True, ax=ax1\n",
    "    )\n",
    "    plt.legend()\n",
    "    plt.xlabel('Лайфтайм')\n",
    "    plt.title('Удержание платящих пользователей')\n",
    "\n",
    "    # во второй ячейке строим кривые удержания неплатящих\n",
    "    # вертикальная ось — от графика из первой ячейки\n",
    "    ax2 = plt.subplot(2, 2, 2, sharey=ax1)\n",
    "    retention.query('payer == False').droplevel('payer').T.plot(\n",
    "        grid=True, ax=ax2\n",
    "    )\n",
    "    plt.legend()\n",
    "    plt.xlabel('Лайфтайм')\n",
    "    plt.title('Удержание неплатящих пользователей')\n",
    "\n",
    "    # в третьей ячейке — динамика удержания платящих\n",
    "    ax3 = plt.subplot(2, 2, 3)\n",
    "    # получаем названия столбцов для сводной таблицы\n",
    "    columns = [\n",
    "        name\n",
    "        for name in retention_history.index.names\n",
    "        if name not in ['dt', 'payer']\n",
    "    ]\n",
    "    # фильтруем данные и строим график\n",
    "    filtered_data = retention_history.query('payer == True').pivot_table(\n",
    "        index='dt', columns=columns, values=horizon - 1, aggfunc='mean'\n",
    "    )\n",
    "    filter_data(filtered_data, window).plot(grid=True, ax=ax3)\n",
    "    plt.xlabel('Дата привлечения')\n",
    "    plt.title(\n",
    "        'Динамика удержания платящих пользователей на {}-й день'.format(\n",
    "            horizon\n",
    "        )\n",
    "    )\n",
    "\n",
    "    # в чётвертой ячейке — динамика удержания неплатящих\n",
    "    ax4 = plt.subplot(2, 2, 4, sharey=ax3)\n",
    "    # фильтруем данные и строим график\n",
    "    filtered_data = retention_history.query('payer == False').pivot_table(\n",
    "        index='dt', columns=columns, values=horizon - 1, aggfunc='mean'\n",
    "    )\n",
    "    filter_data(filtered_data, window).plot(grid=True, ax=ax4)\n",
    "    plt.xlabel('Дата привлечения')\n",
    "    plt.title(\n",
    "        'Динамика удержания неплатящих пользователей на {}-й день'.format(\n",
    "            horizon\n",
    "        )\n",
    "    )\n",
    "    \n",
    "    plt.tight_layout()\n",
    "    plt.show() "
   ]
  },
  {
   "cell_type": "markdown",
   "metadata": {},
   "source": [
    "Функция для визуализации LTV и ROI."
   ]
  },
  {
   "cell_type": "code",
   "execution_count": null,
   "metadata": {},
   "outputs": [],
   "source": [
    "def plot_ltv_roi(ltv, ltv_history, roi, roi_history, horizon, window=7):\n",
    "\n",
    "    # задаём сетку отрисовки графиков\n",
    "    plt.figure(figsize=(20, 10))\n",
    "\n",
    "    # из таблицы ltv исключаем размеры когорт\n",
    "    ltv = ltv.drop(columns=['cohort_size'])\n",
    "    # в таблице динамики ltv оставляем только нужный лайфтайм\n",
    "    ltv_history = ltv_history.drop(columns=['cohort_size'])[[horizon - 1]]\n",
    "\n",
    "    # стоимость привлечения запишем в отдельный фрейм\n",
    "    cac_history = roi_history[['cac']]\n",
    "\n",
    "    # из таблицы roi исключаем размеры когорт и cac\n",
    "    roi = roi.drop(columns=['cohort_size', 'cac'])\n",
    "    # в таблице динамики roi оставляем только нужный лайфтайм\n",
    "    roi_history = roi_history.drop(columns=['cohort_size', 'cac'])[\n",
    "        [horizon - 1]\n",
    "    ]\n",
    "\n",
    "    # первый график — кривые ltv\n",
    "    ax1 = plt.subplot(2, 3, 1)\n",
    "    ltv.T.plot(grid=True, ax=ax1)\n",
    "    plt.legend()\n",
    "    plt.xlabel('Лайфтайм')\n",
    "    plt.title('LTV')\n",
    "\n",
    "    # второй график — динамика ltv\n",
    "    ax2 = plt.subplot(2, 3, 2, sharey=ax1)\n",
    "    # столбцами сводной таблицы станут все столбцы индекса, кроме даты\n",
    "    columns = [name for name in ltv_history.index.names if name not in ['dt']]\n",
    "    filtered_data = ltv_history.pivot_table(\n",
    "        index='dt', columns=columns, values=horizon - 1, aggfunc='mean'\n",
    "    )\n",
    "    filter_data(filtered_data, window).plot(grid=True, ax=ax2)\n",
    "    plt.xlabel('Дата привлечения')\n",
    "    plt.title('Динамика LTV пользователей на {}-й день'.format(horizon))\n",
    "\n",
    "    # третий график — динамика cac\n",
    "    ax3 = plt.subplot(2, 3, 3, sharey=ax1)\n",
    "    # столбцами сводной таблицы станут все столбцы индекса, кроме даты\n",
    "    columns = [name for name in cac_history.index.names if name not in ['dt']]\n",
    "    filtered_data = cac_history.pivot_table(\n",
    "        index='dt', columns=columns, values='cac', aggfunc='mean'\n",
    "    )\n",
    "    filter_data(filtered_data, window).plot(grid=True, ax=ax3)\n",
    "    plt.xlabel('Дата привлечения')\n",
    "    plt.title('Динамика стоимости привлечения пользователей')\n",
    "\n",
    "    # четвёртый график — кривые roi\n",
    "    ax4 = plt.subplot(2, 3, 4)\n",
    "    roi.T.plot(grid=True, ax=ax4)\n",
    "    plt.axhline(y=1, color='red', linestyle='--', label='Уровень окупаемости')\n",
    "    plt.legend()\n",
    "    plt.xlabel('Лайфтайм')\n",
    "    plt.title('ROI')\n",
    "\n",
    "    # пятый график — динамика roi\n",
    "    ax5 = plt.subplot(2, 3, 5, sharey=ax4)\n",
    "    # столбцами сводной таблицы станут все столбцы индекса, кроме даты\n",
    "    columns = [name for name in roi_history.index.names if name not in ['dt']]\n",
    "    filtered_data = roi_history.pivot_table(\n",
    "        index='dt', columns=columns, values=horizon - 1, aggfunc='mean'\n",
    "    )\n",
    "    filter_data(filtered_data, window).plot(grid=True, ax=ax5)\n",
    "    plt.axhline(y=1, color='red', linestyle='--', label='Уровень окупаемости')\n",
    "    plt.xlabel('Дата привлечения')\n",
    "    plt.title('Динамика ROI пользователей на {}-й день'.format(horizon))\n",
    "\n",
    "    plt.tight_layout()\n",
    "    plt.show() "
   ]
  },
  {
   "cell_type": "code",
   "execution_count": null,
   "metadata": {},
   "outputs": [],
   "source": [
    "def filter_data(df, window):\n",
    "    # для каждого столбца применяем скользящее среднее\n",
    "    for column in df.columns.values:\n",
    "        df[column] = df[column].rolling(window).mean() \n",
    "    return df "
   ]
  },
  {
   "cell_type": "markdown",
   "metadata": {},
   "source": [
    "Функция для визуализации конверсии."
   ]
  },
  {
   "cell_type": "code",
   "execution_count": null,
   "metadata": {},
   "outputs": [],
   "source": [
    "def plot_conversion(conversion, conversion_history, horizon, window=7):\n",
    "\n",
    "    # задаём размер сетки для графиков\n",
    "    plt.figure(figsize=(15, 5))\n",
    "\n",
    "    # исключаем размеры когорт\n",
    "    conversion = conversion.drop(columns=['cohort_size'])\n",
    "    # в таблице динамики оставляем только нужный лайфтайм\n",
    "    conversion_history = conversion_history.drop(columns=['cohort_size'])[\n",
    "        [horizon - 1]\n",
    "    ]\n",
    "\n",
    "    # первый график — кривые конверсии\n",
    "    ax1 = plt.subplot(1, 2, 1)\n",
    "    conversion.T.plot(grid=True, ax=ax1)\n",
    "    plt.legend()\n",
    "    plt.xlabel('Лайфтайм')\n",
    "    plt.title('Конверсия пользователей')\n",
    "\n",
    "    # второй график — динамика конверсии\n",
    "    ax2 = plt.subplot(1, 2, 2, sharey=ax1)\n",
    "    columns = [\n",
    "        # столбцами сводной таблицы станут все столбцы индекса, кроме даты\n",
    "        name for name in conversion_history.index.names if name not in ['dt']\n",
    "    ]\n",
    "    filtered_data = conversion_history.pivot_table(\n",
    "        index='dt', columns=columns, values=horizon - 1, aggfunc='mean'\n",
    "    )\n",
    "    filter_data(filtered_data, window).plot(grid=True, ax=ax2)\n",
    "    plt.xlabel('Дата привлечения')\n",
    "    plt.title('Динамика конверсии пользователей на {}-й день'.format(horizon))\n",
    "\n",
    "    plt.tight_layout()\n",
    "    plt.show() "
   ]
  },
  {
   "cell_type": "markdown",
   "metadata": {},
   "source": [
    "# Шаг 3. Исследовательский анализ данных\n",
    "\n",
    "\n",
    "Построим профили пользователей.\n"
   ]
  },
  {
   "cell_type": "code",
   "execution_count": null,
   "metadata": {
    "scrolled": false
   },
   "outputs": [],
   "source": [
    "profiles = get_profiles(visits, orders, costs)\n",
    "profiles.sample(20)"
   ]
  },
  {
   "cell_type": "markdown",
   "metadata": {},
   "source": [
    "Определяем минимальную и максимальную даты привлечения пользователей."
   ]
  },
  {
   "cell_type": "code",
   "execution_count": null,
   "metadata": {
    "scrolled": true
   },
   "outputs": [],
   "source": [
    "print('Минимальную дата привлечения пользователей -', profiles['first_ts'].min())\n",
    "print('Максимальная дата привлечения пользователей -', profiles['first_ts'].max())"
   ]
  },
  {
   "cell_type": "markdown",
   "metadata": {},
   "source": [
    "Минимальная и максимальная дата привлечения пользователя соответствуют условиям ТЗ. Можно проводить анализ далее."
   ]
  },
  {
   "cell_type": "markdown",
   "metadata": {},
   "source": [
    "Определим количество платящих пользователей для каждого региона, и какой процент они составляют от общего числа пользователей в регионе."
   ]
  },
  {
   "cell_type": "code",
   "execution_count": null,
   "metadata": {
    "scrolled": false
   },
   "outputs": [],
   "source": [
    "users_per_region = profiles.pivot_table(index='region', values='payer', aggfunc='count')\n",
    "payer_per_region = profiles.query('payer == True').pivot_table(index='region', values='payer', aggfunc='count')\n",
    "payer_per_region = users_per_region.merge(payer_per_region,how='inner', on='region')\n",
    "payer_per_region['%'] = payer_per_region['payer_y'] / payer_per_region['payer_x']\n",
    "payer_per_region = payer_per_region.rename(columns={'payer_x':'total_user', 'payer_y':'payer', '%':'percent_of_total'})\n",
    "payer_per_region.style.format({('percent_of_total'):'{:.2%}'})"
   ]
  },
  {
   "cell_type": "markdown",
   "metadata": {},
   "source": [
    "Определим количество платящих пользователей для каждого канала привлечения, и какой процент они составляют от общего числа пользователей из этого канала."
   ]
  },
  {
   "cell_type": "code",
   "execution_count": null,
   "metadata": {
    "scrolled": false
   },
   "outputs": [],
   "source": [
    "users_per_channel = profiles.pivot_table(index='channel', values='payer', aggfunc='count')\n",
    "payer_per_channel = profiles.query('payer == True').pivot_table(index='channel', values='payer', aggfunc='count')\n",
    "payer_per_channel = users_per_channel.merge(payer_per_channel,how='inner', on='channel')\n",
    "payer_per_channel['%'] = payer_per_channel['payer_y'] / payer_per_channel['payer_x']\n",
    "payer_per_channel = payer_per_channel.rename(columns={'payer_x':'total_user', 'payer_y':'payer', '%':'percent_of_total'})\n",
    "payer_per_channel.style.format({('percent_of_total'):'{:.2%}'})"
   ]
  },
  {
   "cell_type": "markdown",
   "metadata": {},
   "source": [
    "Определим количество платящих пользователей для каждого типа устройств, и какой процент они составляют от общего числа пользователей каждого типа устройств."
   ]
  },
  {
   "cell_type": "code",
   "execution_count": null,
   "metadata": {
    "scrolled": true
   },
   "outputs": [],
   "source": [
    "users_per_device = profiles.pivot_table(index='device', values='payer', aggfunc='count')\n",
    "payer_per_device = profiles.query('payer == True').pivot_table(index='device', values='payer', aggfunc='count')\n",
    "payer_per_device = users_per_device.merge(payer_per_device,how='inner', on='device')\n",
    "payer_per_device['%'] = payer_per_device['payer_y'] / payer_per_device['payer_x']\n",
    "payer_per_device = payer_per_device.rename(columns={'payer_x':'total_user', 'payer_y':'payer', '%':'percent_of_total'})\n",
    "payer_per_device.style.format({('percent_of_total'):'{:.2%}'})"
   ]
  },
  {
   "cell_type": "markdown",
   "metadata": {},
   "source": [
    "Получается, что больше всего приходит пользователей из США и они лучше других конвертируется. При этом большая часть пользователей заходит с мобильных устройств, это тоже стоит отметить. Также, мы можем сказать, что наибольшую конверсию имеют пользователи, которые пользуются Mac, а затем следуют пользователи iPhone, т.е. мы можем сказать, что в целом пользователи Apple имеют лучшую конверсию в покупателей. Возможно, тут есть плюсы ApplePay."
   ]
  },
  {
   "cell_type": "markdown",
   "metadata": {},
   "source": [
    "# Шаг 4. Маркетинг\n",
    "\n",
    "Взглянем на совокупные траты на маркетинг.\n"
   ]
  },
  {
   "cell_type": "code",
   "execution_count": null,
   "metadata": {
    "scrolled": false
   },
   "outputs": [],
   "source": [
    "print('Траты на маркетинг по всем источникам:', round((costs['costs'].sum()),2))"
   ]
  },
  {
   "cell_type": "markdown",
   "metadata": {},
   "source": [
    "Посмотрим, как это распределилось по источникам."
   ]
  },
  {
   "cell_type": "code",
   "execution_count": null,
   "metadata": {
    "scrolled": true
   },
   "outputs": [],
   "source": [
    "costs_per_channel = costs.groupby('channel')['costs'].sum()\n",
    "costs_per_channel = costs_per_channel.sort_values(ascending = False).reset_index()\n",
    "costs_per_channel['cost_%'] = costs_per_channel['costs']/costs['costs'].sum()\n",
    "costs_per_channel.style.format({('cost_%'):'{:.2%}'})"
   ]
  },
  {
   "cell_type": "markdown",
   "metadata": {},
   "source": [
    "Больше всего бюджета аккумулируют TipTop и FaceBoom."
   ]
  },
  {
   "cell_type": "markdown",
   "metadata": {},
   "source": [
    "Посмторим траты на каждый источник в разбивке по месяцам."
   ]
  },
  {
   "cell_type": "code",
   "execution_count": null,
   "metadata": {
    "scrolled": true
   },
   "outputs": [],
   "source": [
    "costs['month'] = pd.to_datetime(costs['dt']).dt.month\n",
    "costs_per_month = costs.pivot_table(index='month', columns='channel', values='costs', aggfunc='sum')\n",
    "costs_per_month"
   ]
  },
  {
   "cell_type": "code",
   "execution_count": null,
   "metadata": {},
   "outputs": [],
   "source": [
    "costs['week'] = pd.to_datetime(costs['dt']).dt.isocalendar().week\n",
    "costs_per_week = costs.pivot_table(index='week', columns='channel', values='costs', aggfunc='sum')\n",
    "costs_per_week"
   ]
  },
  {
   "cell_type": "code",
   "execution_count": null,
   "metadata": {},
   "outputs": [],
   "source": [
    "costs_per_month.plot(linewidth=3,\n",
    "                     alpha=0.7,\n",
    "                     figsize=(15,10),\n",
    "                     grid = True) \n",
    "plt.xlabel('Месяц')\n",
    "plt.ylabel('Сумма')\n",
    "\n",
    "costs_per_week.plot(linewidth=3,\n",
    "                    alpha=0.7,\n",
    "                    figsize=(15,10),\n",
    "                    grid = True) \n",
    "plt.xlabel('Неделя')\n",
    "plt.ylabel('Сумма')"
   ]
  },
  {
   "cell_type": "markdown",
   "metadata": {},
   "source": [
    "При сопоставлении с данными о конверсии, данные из таблицы о увеличение бюджета для TipTop и FaceBoom не дают должного результата, и напротив lambdaMediaAds при кратно меньших бюджетах дают результаты гораздо лучше."
   ]
  },
  {
   "cell_type": "markdown",
   "metadata": {},
   "source": [
    "Смотрим САС по каналам и динамику ее роста."
   ]
  },
  {
   "cell_type": "code",
   "execution_count": null,
   "metadata": {
    "scrolled": false
   },
   "outputs": [],
   "source": [
    "report_cac = profiles.pivot_table(\n",
    "    index='channel', values='acquisition_cost', aggfunc='mean'\n",
    ").sort_values(by='acquisition_cost', ascending=False)\n",
    "\n",
    "display(report_cac)"
   ]
  },
  {
   "cell_type": "code",
   "execution_count": null,
   "metadata": {},
   "outputs": [],
   "source": [
    "profiles.pivot_table(index='dt',\n",
    "                     columns='channel',\n",
    "                     values='acquisition_cost',\n",
    "                     aggfunc='mean').plot(grid=True, figsize=(14,7))\n",
    "plt.ylabel('CAC, $')\n",
    "plt.xlabel('Дата привлечения')\n",
    "plt.title('Динамика САС по каналам привлечения')\n",
    "plt.show()"
   ]
  },
  {
   "cell_type": "markdown",
   "metadata": {},
   "source": [
    "Наиболее высокий САС у TipTop и он постоянно возрастал по мере развития событий. По остальным источникам САС практически не менялся."
   ]
  },
  {
   "cell_type": "markdown",
   "metadata": {},
   "source": [
    "# Оценить окупаемость рекламы для привлечения пользователей\n",
    "\n",
    "С помощью LTV и ROI:\n",
    "- Проанализируем `общую окупаемость рекламы`;\n",
    "- Проанализируем окупаемость `рекламы с разбивкой по устройствам`;\n",
    "- Проанализируем окупаемость `рекламы с разбивкой по странам`;\n",
    "- Проанализируем окупаемость `рекламы с разбивкой по рекламным каналам`.\n",
    "\n",
    "Опишем проблемы, которые обнаружили. Ответим на вопросы:\n",
    "- Окупается ли реклама, направленная на привлечение пользователей в целом? \n",
    "- Какие устройства, страны и рекламные каналы могут оказывать негативное влияние на окупаемость рекламы?\n",
    "- Чем могут быть вызваны проблемы окупаемости? Изучите конверсию и удержание с разбивкой по устройствам, странам, рекламным каналам.\n",
    "\n",
    "Опишем возможные причины обнаруженных проблем и сформируем рекомендации для рекламного отдела. При решении этого шага считаем, что мы смотрите данные `1-го ноября 2019 года` и что в нашей организации принято считать, что окупаемость должна наступать не позднее, чем через 2 недели после привлечения пользователей."
   ]
  },
  {
   "cell_type": "code",
   "execution_count": null,
   "metadata": {},
   "outputs": [],
   "source": [
    "observation_date = datetime(2019, 10, 27).date()  \n",
    "horizon_days = 14"
   ]
  },
  {
   "cell_type": "markdown",
   "metadata": {},
   "source": [
    "Смотрим конверсию по регионам."
   ]
  },
  {
   "cell_type": "code",
   "execution_count": null,
   "metadata": {
    "scrolled": true
   },
   "outputs": [],
   "source": [
    "conversion_raw, conversion_grouped, conversion_history = get_conversion(\n",
    "    profiles, orders, observation_date, horizon_days, dimensions=['region']\n",
    ")\n",
    "\n",
    "plot_conversion(conversion_grouped, conversion_history, horizon_days) "
   ]
  },
  {
   "cell_type": "markdown",
   "metadata": {},
   "source": [
    "Видим, что конверсия пользователей из США кратно выше чем из осталных регионов, как по лайфтайму так и в динамике."
   ]
  },
  {
   "cell_type": "markdown",
   "metadata": {},
   "source": [
    "Смотрим удержание по регионам."
   ]
  },
  {
   "cell_type": "code",
   "execution_count": null,
   "metadata": {
    "scrolled": true
   },
   "outputs": [],
   "source": [
    "retention_raw, retention_grouped, retention_history = get_retention(\n",
    "    profiles, visits, observation_date, horizon_days, dimensions=['region']\n",
    ")\n",
    "\n",
    "plot_retention(retention_grouped, retention_history, horizon_days) "
   ]
  },
  {
   "cell_type": "code",
   "execution_count": null,
   "metadata": {},
   "outputs": [],
   "source": [
    "retention_grouped"
   ]
  },
  {
   "cell_type": "markdown",
   "metadata": {},
   "source": [
    "С удержанием пользователей картина противоположная. Платящие пользователи из США показывают худший результат, нежели пользователи из Британии, Франции и Германии, как по лайфтайму так и в динамике."
   ]
  },
  {
   "cell_type": "markdown",
   "metadata": {},
   "source": [
    "Смотрим конверсию по каналам."
   ]
  },
  {
   "cell_type": "code",
   "execution_count": null,
   "metadata": {
    "scrolled": false
   },
   "outputs": [],
   "source": [
    "conversion_raw, conversion_grouped, conversion_history = get_conversion(\n",
    "    profiles, orders, observation_date, horizon_days, dimensions=['channel']\n",
    ")\n",
    "\n",
    "plot_conversion(conversion_grouped, conversion_history, horizon_days) "
   ]
  },
  {
   "cell_type": "markdown",
   "metadata": {},
   "source": [
    "Результаты каждого канала по лайфтайму колеблятся в пределах 0.1, что в целом не дает понимания, какой из них наиболее успешен или перспективен. Наиболее высокие значения показывают 'FaceBoom','AdNonSense' и 'lambdaMediaAds'. В динамике же только 'lambdaMediaAds', показывает значения немногим выше средних. "
   ]
  },
  {
   "cell_type": "markdown",
   "metadata": {},
   "source": [
    "Смотрим удержание по каналам."
   ]
  },
  {
   "cell_type": "code",
   "execution_count": null,
   "metadata": {
    "scrolled": false
   },
   "outputs": [],
   "source": [
    "retention_raw, retention_grouped, retention_history = get_retention(\n",
    "    profiles, visits, observation_date, horizon_days, dimensions=['channel']\n",
    ")\n",
    "\n",
    "plot_retention(retention_grouped, retention_history, horizon_days) "
   ]
  },
  {
   "cell_type": "markdown",
   "metadata": {},
   "source": [
    "В картине по лайфтайму видим, что 'FaceBoom' показывает наихудщий результат, схожий с органическими пользователями. 'WahooNetBanner', 'RocketsSuperAds' и 'lambdaMediaAds'показывают наилучший результат удержания пользователей."
   ]
  },
  {
   "cell_type": "markdown",
   "metadata": {},
   "source": [
    "Смотрим конверсию по устройствам."
   ]
  },
  {
   "cell_type": "code",
   "execution_count": null,
   "metadata": {
    "scrolled": false
   },
   "outputs": [],
   "source": [
    "conversion_raw, conversion_grouped, conversion_history = get_conversion(\n",
    "    profiles, orders, observation_date, horizon_days, dimensions=['device']\n",
    ")\n",
    "\n",
    "plot_conversion(conversion_grouped, conversion_history, horizon_days) "
   ]
  },
  {
   "cell_type": "markdown",
   "metadata": {},
   "source": [
    "Наибольшие значения показывает Mac, Android и iPhone, как по лайфтайму так и в динамике."
   ]
  },
  {
   "cell_type": "markdown",
   "metadata": {},
   "source": [
    "Смотрим удержание по устройствам."
   ]
  },
  {
   "cell_type": "code",
   "execution_count": null,
   "metadata": {
    "scrolled": true
   },
   "outputs": [],
   "source": [
    "retention_raw, retention_grouped, retention_history = get_retention(\n",
    "    profiles, visits, observation_date, horizon_days, dimensions=['device']\n",
    ")\n",
    "\n",
    "plot_retention(retention_grouped, retention_history, horizon_days) "
   ]
  },
  {
   "cell_type": "markdown",
   "metadata": {},
   "source": [
    "По лайфтайму наилучшее удержание платящих пользователей показывает PC. В динамике так же довольно высокие значения у Mac."
   ]
  },
  {
   "cell_type": "markdown",
   "metadata": {},
   "source": [
    "### Общая окупаемость рекламы"
   ]
  },
  {
   "cell_type": "code",
   "execution_count": null,
   "metadata": {},
   "outputs": [],
   "source": [
    "observation_date = datetime(2019, 11, 1).date()  \n",
    "horizon_days = 14\n",
    "profiles = profiles.query('channel != \"organic\"')"
   ]
  },
  {
   "cell_type": "markdown",
   "metadata": {},
   "source": [
    "Взглянем на значения LTV и ROI по всей совокупности данных."
   ]
  },
  {
   "cell_type": "code",
   "execution_count": null,
   "metadata": {
    "scrolled": false
   },
   "outputs": [],
   "source": [
    "ltv_raw, ltv_grouped, ltv_history, roi_grouped, roi_history = get_ltv(\n",
    "    profiles, orders, observation_date, horizon_days\n",
    ")\n",
    "\n",
    "plot_ltv_roi(\n",
    "    ltv_grouped, ltv_history, roi_grouped, roi_history, horizon_days, window=14\n",
    ") "
   ]
  },
  {
   "cell_type": "markdown",
   "metadata": {},
   "source": [
    "Наблюдаем, что динамика ROI за лайфтайм падает. При относительно стабильной динамике LTV, динамика САС растёт с мая по конец октября. Эту закономерность мы наблюдаем в динамике ROI, что при сильном увеличении САС, в равной степени падает динамика ROI пользователей."
   ]
  },
  {
   "cell_type": "markdown",
   "metadata": {},
   "source": [
    "### Окупаемость рекламы с разбивкой по устройствам"
   ]
  },
  {
   "cell_type": "markdown",
   "metadata": {},
   "source": [
    "Взглянем на значения LTV и ROI с разбивкой по типу устройств."
   ]
  },
  {
   "cell_type": "code",
   "execution_count": null,
   "metadata": {
    "scrolled": false
   },
   "outputs": [],
   "source": [
    "ltv_raw, ltv_grouped, ltv_history, roi_grouped, roi_history = get_ltv(\n",
    "    profiles, orders, observation_date, horizon_days, dimensions=['device']\n",
    ")\n",
    "\n",
    "plot_ltv_roi(\n",
    "    ltv_grouped, ltv_history, roi_grouped, roi_history, horizon_days, window=14\n",
    ") "
   ]
  },
  {
   "cell_type": "markdown",
   "metadata": {},
   "source": [
    "Наиболее перспективно выглядят данные PC. А именно: минимальный CAC среди других устройств и лучшие показатели по ROI, как по лайфтайму так и в динамике. Это значит, что у нас, по крайней мере, нет технических проблем, влияющих на монетизацию."
   ]
  },
  {
   "cell_type": "markdown",
   "metadata": {},
   "source": [
    "### Окупаемость рекламы с разбивкой по странам"
   ]
  },
  {
   "cell_type": "markdown",
   "metadata": {},
   "source": [
    "Взглянем на значения LTV и ROI с разбивкой по регионам."
   ]
  },
  {
   "cell_type": "code",
   "execution_count": null,
   "metadata": {
    "scrolled": false
   },
   "outputs": [],
   "source": [
    "ltv_raw, ltv_grouped, ltv_history, roi_grouped, roi_history = get_ltv(\n",
    "    profiles, orders, observation_date, horizon_days, dimensions=['region']\n",
    ")\n",
    "\n",
    "plot_ltv_roi(\n",
    "    ltv_grouped, ltv_history, roi_grouped, roi_history, horizon_days, window=14\n",
    ") "
   ]
  },
  {
   "cell_type": "markdown",
   "metadata": {},
   "source": [
    "В разбивке по регионам ситуация противоречивая. Есть фаворит по LTV - USA, но у этого региона плохие значения CAC, что портит значения ROI, а это ключевой показатель среди трех пересичсленных. У остальных трех регионов противоположная ситуация: значения LTV куда скромне, зато превосходные значения CAC и ROI значительно выше 1.0. "
   ]
  },
  {
   "cell_type": "markdown",
   "metadata": {},
   "source": [
    "### Окупаемость рекламы с разбивкой по рекламным каналам"
   ]
  },
  {
   "cell_type": "markdown",
   "metadata": {},
   "source": [
    "Взглянем на значения LTV и ROI с разбивкой по рекламным каналам."
   ]
  },
  {
   "cell_type": "code",
   "execution_count": null,
   "metadata": {
    "scrolled": false
   },
   "outputs": [],
   "source": [
    "ltv_raw, ltv_grouped, ltv_history, roi_grouped, roi_history = get_ltv(\n",
    "    profiles, orders, observation_date, horizon_days, dimensions=['channel']\n",
    ")\n",
    "\n",
    "plot_ltv_roi(\n",
    "    ltv_grouped, ltv_history, roi_grouped, roi_history, horizon_days, window=30\n",
    ") "
   ]
  },
  {
   "cell_type": "markdown",
   "metadata": {},
   "source": [
    "Есть `три фаворита` по LTV: `lambdaMediaAds`, `TipTop`, `RocketSuperAds`. Однако, `TipTop` постоянно `наращивает САС`, чем значительно проигрывает конкурентам. Более того, если смотреть на ROI, то `TipTop не выходит на окупаемость`. По `ROI наилучшие результат` представляют `YRabbit`, `RocketSuperAds`, `MediaTornado` и `lambdaMediaAds`."
   ]
  },
  {
   "cell_type": "markdown",
   "metadata": {},
   "source": [
    "# Выводы\n",
    "\n",
    "Если мы взглянем на общую картину по ROI, то видим что маркетинг в течении лайфтайма не окупается, а в динамике если и имеет положительные показатели на старте, то уже ко второму месяцу становится убыточным. \n",
    "\n",
    "Большая часть бюджета на маркетинг расходуется на две компании `FaceBoom` и `TipTop`, при этом эти источники `не окупаются`. Исходя из данных приведенных выше, `наиболее преспективными` выглядят две компании: `lambdaMediaAds`, `RocketSuperAds`. Они дают в совокупности `наилучшие показатели по конверсии, удержанию, LTV, CAC и ROI`. Было бы верным шагом `распределить часть долей` в рекламном бюджете `на lambdaMediaAds и RocketSuperAds` и проследить как будут меняться данные в дальнейшем.\n",
    "\n",
    "В целом если исходить из сути приложения, оно - развлекательное, что означает импульсивное использование, а не планово-итеративное, и также скорее всего работает по подписке. Для того чтобы принебречь малыми показателями конверсии, стоит иметь довольно высокие значения по LTV. Так как важнее, чтобы 2 из 10 пользователей, которые пришли, остались и платили, чем иметь много one-time buyers. \n",
    "\n",
    "Рекомендовано проверить работу приложения на Mac, Android и iPhone на наличие технических сбоев. Так как они показывают отличные данные по конверсии, но сильно падают в показателях удержания. \n",
    "\n",
    "Так же стоит проверить насколько эффективно локализовано приложение для US. Данные по US так же показывают высокую конверсию, но слабое удержание."
   ]
  }
 ],
 "metadata": {
  "ExecuteTimeLog": [
   {
    "duration": 367,
    "start_time": "2022-09-01T14:58:32.652Z"
   },
   {
    "duration": 969,
    "start_time": "2022-09-01T14:58:34.417Z"
   },
   {
    "duration": 36,
    "start_time": "2022-09-01T14:58:36.566Z"
   },
   {
    "duration": 38,
    "start_time": "2022-09-01T15:07:20.631Z"
   },
   {
    "duration": 30,
    "start_time": "2022-09-01T15:07:21.497Z"
   },
   {
    "duration": 27,
    "start_time": "2022-09-01T15:08:10.627Z"
   },
   {
    "duration": 28,
    "start_time": "2022-09-01T15:08:13.647Z"
   },
   {
    "duration": 3,
    "start_time": "2022-09-01T15:08:18.459Z"
   },
   {
    "duration": 721,
    "start_time": "2022-09-01T15:08:18.464Z"
   },
   {
    "duration": 682,
    "start_time": "2022-09-01T15:08:20.969Z"
   },
   {
    "duration": 27,
    "start_time": "2022-09-01T15:08:21.962Z"
   },
   {
    "duration": 29,
    "start_time": "2022-09-01T15:08:23.678Z"
   },
   {
    "duration": 29,
    "start_time": "2022-09-01T15:08:25.745Z"
   },
   {
    "duration": 3,
    "start_time": "2022-09-01T15:08:32.461Z"
   },
   {
    "duration": 679,
    "start_time": "2022-09-01T15:08:32.894Z"
   },
   {
    "duration": 27,
    "start_time": "2022-09-01T15:08:33.592Z"
   },
   {
    "duration": 25,
    "start_time": "2022-09-01T15:08:35.645Z"
   },
   {
    "duration": 30,
    "start_time": "2022-09-01T15:08:42.496Z"
   },
   {
    "duration": 36,
    "start_time": "2022-09-01T15:08:52.528Z"
   },
   {
    "duration": 39,
    "start_time": "2022-09-01T15:08:53.889Z"
   },
   {
    "duration": 3,
    "start_time": "2022-09-01T15:09:03.661Z"
   },
   {
    "duration": 658,
    "start_time": "2022-09-01T15:09:04.846Z"
   },
   {
    "duration": 29,
    "start_time": "2022-09-01T15:09:08.612Z"
   },
   {
    "duration": 25,
    "start_time": "2022-09-01T15:09:14.845Z"
   },
   {
    "duration": 33,
    "start_time": "2022-09-01T15:09:20.456Z"
   },
   {
    "duration": 439,
    "start_time": "2022-09-01T15:10:50.400Z"
   },
   {
    "duration": 706,
    "start_time": "2022-09-01T15:10:50.842Z"
   },
   {
    "duration": 56,
    "start_time": "2022-09-01T15:10:51.550Z"
   },
   {
    "duration": 37,
    "start_time": "2022-09-01T15:10:51.609Z"
   },
   {
    "duration": 30,
    "start_time": "2022-09-01T15:10:51.648Z"
   },
   {
    "duration": 30,
    "start_time": "2022-09-01T15:11:36.491Z"
   },
   {
    "duration": 32,
    "start_time": "2022-09-01T15:11:37.425Z"
   },
   {
    "duration": 423,
    "start_time": "2022-09-01T15:11:46.131Z"
   },
   {
    "duration": 702,
    "start_time": "2022-09-01T15:11:46.557Z"
   },
   {
    "duration": 38,
    "start_time": "2022-09-01T15:11:47.261Z"
   },
   {
    "duration": 40,
    "start_time": "2022-09-01T15:11:47.301Z"
   },
   {
    "duration": 29,
    "start_time": "2022-09-01T15:11:47.342Z"
   },
   {
    "duration": 102,
    "start_time": "2022-09-01T15:12:16.333Z"
   },
   {
    "duration": 109,
    "start_time": "2022-09-01T15:12:37.943Z"
   },
   {
    "duration": 3,
    "start_time": "2022-09-01T15:16:55.480Z"
   },
   {
    "duration": 740,
    "start_time": "2022-09-01T15:16:56.094Z"
   },
   {
    "duration": 34,
    "start_time": "2022-09-01T15:16:57.498Z"
   },
   {
    "duration": 26,
    "start_time": "2022-09-01T15:17:01.397Z"
   },
   {
    "duration": 98,
    "start_time": "2022-09-01T15:17:04.072Z"
   },
   {
    "duration": 62,
    "start_time": "2022-09-01T15:24:25.020Z"
   },
   {
    "duration": 100,
    "start_time": "2022-09-01T15:24:32.485Z"
   },
   {
    "duration": 103,
    "start_time": "2022-09-01T15:28:27.364Z"
   },
   {
    "duration": 59,
    "start_time": "2022-09-01T15:31:26.992Z"
   },
   {
    "duration": 50,
    "start_time": "2022-09-01T15:31:52.497Z"
   },
   {
    "duration": 51,
    "start_time": "2022-09-01T15:33:10.713Z"
   },
   {
    "duration": 97,
    "start_time": "2022-09-01T15:33:19.314Z"
   },
   {
    "duration": 3,
    "start_time": "2022-09-01T15:34:58.076Z"
   },
   {
    "duration": 781,
    "start_time": "2022-09-01T15:34:58.640Z"
   },
   {
    "duration": 30,
    "start_time": "2022-09-01T15:34:59.424Z"
   },
   {
    "duration": 24,
    "start_time": "2022-09-01T15:34:59.759Z"
   },
   {
    "duration": 121,
    "start_time": "2022-09-01T15:35:01.597Z"
   },
   {
    "duration": 2506,
    "start_time": "2022-09-01T15:35:03.145Z"
   },
   {
    "duration": 0,
    "start_time": "2022-09-01T15:35:05.653Z"
   },
   {
    "duration": 3,
    "start_time": "2022-09-01T15:36:12.680Z"
   },
   {
    "duration": 722,
    "start_time": "2022-09-01T15:36:13.171Z"
   },
   {
    "duration": 33,
    "start_time": "2022-09-01T15:36:13.895Z"
   },
   {
    "duration": 27,
    "start_time": "2022-09-01T15:36:14.111Z"
   },
   {
    "duration": 113,
    "start_time": "2022-09-01T15:36:14.660Z"
   },
   {
    "duration": 2443,
    "start_time": "2022-09-01T15:36:15.411Z"
   },
   {
    "duration": 2313,
    "start_time": "2022-09-01T15:37:02.682Z"
   },
   {
    "duration": 76,
    "start_time": "2022-09-01T15:37:04.997Z"
   },
   {
    "duration": 120,
    "start_time": "2022-09-01T15:37:53.123Z"
   },
   {
    "duration": 3,
    "start_time": "2022-09-01T15:38:02.746Z"
   },
   {
    "duration": 729,
    "start_time": "2022-09-01T15:38:02.751Z"
   },
   {
    "duration": 30,
    "start_time": "2022-09-01T15:38:03.482Z"
   },
   {
    "duration": 40,
    "start_time": "2022-09-01T15:38:03.515Z"
   },
   {
    "duration": 159,
    "start_time": "2022-09-01T15:38:03.557Z"
   },
   {
    "duration": 308,
    "start_time": "2022-09-01T15:38:03.721Z"
   },
   {
    "duration": 0,
    "start_time": "2022-09-01T15:38:04.031Z"
   },
   {
    "duration": 2446,
    "start_time": "2022-09-01T15:38:16.526Z"
   },
   {
    "duration": 89,
    "start_time": "2022-09-01T15:38:18.974Z"
   },
   {
    "duration": 2453,
    "start_time": "2022-09-01T15:38:39.246Z"
   },
   {
    "duration": 105,
    "start_time": "2022-09-01T15:38:42.423Z"
   },
   {
    "duration": 2361,
    "start_time": "2022-09-01T15:39:22.876Z"
   },
   {
    "duration": 105,
    "start_time": "2022-09-01T15:39:25.239Z"
   },
   {
    "duration": 2454,
    "start_time": "2022-09-01T15:41:03.558Z"
   },
   {
    "duration": 108,
    "start_time": "2022-09-01T15:41:06.014Z"
   },
   {
    "duration": 43,
    "start_time": "2022-09-01T19:36:41.577Z"
   },
   {
    "duration": 343,
    "start_time": "2022-09-01T19:37:07.677Z"
   },
   {
    "duration": 879,
    "start_time": "2022-09-01T19:37:08.022Z"
   },
   {
    "duration": 37,
    "start_time": "2022-09-01T19:37:08.903Z"
   },
   {
    "duration": 39,
    "start_time": "2022-09-01T19:37:08.942Z"
   },
   {
    "duration": 120,
    "start_time": "2022-09-01T19:37:08.983Z"
   },
   {
    "duration": 2065,
    "start_time": "2022-09-01T19:37:09.104Z"
   },
   {
    "duration": 72,
    "start_time": "2022-09-01T19:37:11.171Z"
   },
   {
    "duration": 3,
    "start_time": "2022-09-01T19:37:11.244Z"
   },
   {
    "duration": 11,
    "start_time": "2022-09-01T19:37:11.249Z"
   },
   {
    "duration": 11,
    "start_time": "2022-09-01T19:37:11.261Z"
   },
   {
    "duration": 9,
    "start_time": "2022-09-01T19:37:11.274Z"
   },
   {
    "duration": 35,
    "start_time": "2022-09-01T19:37:11.285Z"
   },
   {
    "duration": 0,
    "start_time": "2022-09-01T19:37:11.321Z"
   },
   {
    "duration": 0,
    "start_time": "2022-09-01T19:37:11.322Z"
   },
   {
    "duration": 0,
    "start_time": "2022-09-01T19:37:11.323Z"
   },
   {
    "duration": 15,
    "start_time": "2022-09-01T19:37:17.211Z"
   },
   {
    "duration": 3,
    "start_time": "2022-09-01T19:38:18.475Z"
   },
   {
    "duration": 605,
    "start_time": "2022-09-01T19:38:18.480Z"
   },
   {
    "duration": 26,
    "start_time": "2022-09-01T19:38:19.086Z"
   },
   {
    "duration": 21,
    "start_time": "2022-09-01T19:38:19.113Z"
   },
   {
    "duration": 111,
    "start_time": "2022-09-01T19:38:19.136Z"
   },
   {
    "duration": 1994,
    "start_time": "2022-09-01T19:38:19.249Z"
   },
   {
    "duration": 64,
    "start_time": "2022-09-01T19:38:21.245Z"
   },
   {
    "duration": 4,
    "start_time": "2022-09-01T19:38:21.310Z"
   },
   {
    "duration": 23,
    "start_time": "2022-09-01T19:38:21.315Z"
   },
   {
    "duration": 10,
    "start_time": "2022-09-01T19:38:21.340Z"
   },
   {
    "duration": 8,
    "start_time": "2022-09-01T19:38:21.352Z"
   },
   {
    "duration": 12,
    "start_time": "2022-09-01T19:38:21.362Z"
   },
   {
    "duration": 0,
    "start_time": "2022-09-01T19:38:21.376Z"
   },
   {
    "duration": 0,
    "start_time": "2022-09-01T19:38:21.377Z"
   },
   {
    "duration": 346,
    "start_time": "2022-09-01T19:38:25.356Z"
   },
   {
    "duration": 47,
    "start_time": "2022-09-04T09:44:06.540Z"
   },
   {
    "duration": 385,
    "start_time": "2022-09-04T09:44:12.175Z"
   },
   {
    "duration": 2228,
    "start_time": "2022-09-04T09:44:12.562Z"
   },
   {
    "duration": 29,
    "start_time": "2022-09-04T09:44:14.792Z"
   },
   {
    "duration": 35,
    "start_time": "2022-09-04T09:44:14.823Z"
   },
   {
    "duration": 103,
    "start_time": "2022-09-04T09:44:14.860Z"
   },
   {
    "duration": 2259,
    "start_time": "2022-09-04T09:44:14.966Z"
   },
   {
    "duration": 72,
    "start_time": "2022-09-04T09:44:17.226Z"
   },
   {
    "duration": 7,
    "start_time": "2022-09-04T09:44:17.308Z"
   },
   {
    "duration": 19,
    "start_time": "2022-09-04T09:44:17.317Z"
   },
   {
    "duration": 53,
    "start_time": "2022-09-04T09:44:17.339Z"
   },
   {
    "duration": 34,
    "start_time": "2022-09-04T09:44:17.394Z"
   },
   {
    "duration": 61,
    "start_time": "2022-09-04T09:44:17.430Z"
   },
   {
    "duration": 0,
    "start_time": "2022-09-04T09:44:17.493Z"
   },
   {
    "duration": 0,
    "start_time": "2022-09-04T09:44:17.494Z"
   },
   {
    "duration": 0,
    "start_time": "2022-09-04T09:44:17.495Z"
   },
   {
    "duration": 0,
    "start_time": "2022-09-04T09:44:17.497Z"
   },
   {
    "duration": 6,
    "start_time": "2022-09-04T09:44:19.411Z"
   },
   {
    "duration": 6,
    "start_time": "2022-09-04T09:49:23.196Z"
   },
   {
    "duration": 13,
    "start_time": "2022-09-04T09:49:24.163Z"
   },
   {
    "duration": 7,
    "start_time": "2022-09-04T09:49:25.120Z"
   },
   {
    "duration": 11,
    "start_time": "2022-09-04T09:49:25.680Z"
   },
   {
    "duration": 12,
    "start_time": "2022-09-04T09:49:26.281Z"
   },
   {
    "duration": 24,
    "start_time": "2022-09-04T09:49:26.845Z"
   },
   {
    "duration": 13,
    "start_time": "2022-09-04T09:49:27.392Z"
   },
   {
    "duration": 5,
    "start_time": "2022-09-04T09:50:49.415Z"
   },
   {
    "duration": 2,
    "start_time": "2022-09-04T09:50:51.949Z"
   },
   {
    "duration": 460,
    "start_time": "2022-09-04T09:50:54.363Z"
   },
   {
    "duration": 2264,
    "start_time": "2022-09-04T09:54:03.594Z"
   },
   {
    "duration": 59,
    "start_time": "2022-09-04T09:54:05.860Z"
   },
   {
    "duration": 6,
    "start_time": "2022-09-04T09:54:38.622Z"
   },
   {
    "duration": 10,
    "start_time": "2022-09-04T09:54:39.279Z"
   },
   {
    "duration": 10,
    "start_time": "2022-09-04T09:54:39.806Z"
   },
   {
    "duration": 9,
    "start_time": "2022-09-04T09:54:40.134Z"
   },
   {
    "duration": 24,
    "start_time": "2022-09-04T09:54:40.392Z"
   },
   {
    "duration": 17,
    "start_time": "2022-09-04T09:54:40.642Z"
   },
   {
    "duration": 5,
    "start_time": "2022-09-04T09:54:40.924Z"
   },
   {
    "duration": 3,
    "start_time": "2022-09-04T09:54:41.142Z"
   },
   {
    "duration": 400,
    "start_time": "2022-09-04T09:54:43.021Z"
   },
   {
    "duration": 376,
    "start_time": "2022-09-04T09:56:27.795Z"
   },
   {
    "duration": 676,
    "start_time": "2022-09-04T09:56:28.943Z"
   },
   {
    "duration": 38,
    "start_time": "2022-09-04T09:56:29.730Z"
   },
   {
    "duration": 6,
    "start_time": "2022-09-04T09:59:33.384Z"
   },
   {
    "duration": 6,
    "start_time": "2022-09-04T09:59:34.338Z"
   },
   {
    "duration": 8,
    "start_time": "2022-09-04T09:59:34.840Z"
   },
   {
    "duration": 13,
    "start_time": "2022-09-04T09:59:35.472Z"
   },
   {
    "duration": 66,
    "start_time": "2022-09-04T09:59:36.197Z"
   },
   {
    "duration": 16,
    "start_time": "2022-09-04T09:59:36.940Z"
   },
   {
    "duration": 7,
    "start_time": "2022-09-04T09:59:37.705Z"
   },
   {
    "duration": 3,
    "start_time": "2022-09-04T09:59:39.083Z"
   },
   {
    "duration": 14,
    "start_time": "2022-09-04T09:59:41.303Z"
   },
   {
    "duration": 51,
    "start_time": "2022-09-04T10:06:50.486Z"
   },
   {
    "duration": 2,
    "start_time": "2022-09-04T10:07:06.487Z"
   },
   {
    "duration": 644,
    "start_time": "2022-09-04T10:07:06.492Z"
   },
   {
    "duration": 27,
    "start_time": "2022-09-04T10:07:07.137Z"
   },
   {
    "duration": 34,
    "start_time": "2022-09-04T10:07:07.165Z"
   },
   {
    "duration": 113,
    "start_time": "2022-09-04T10:07:07.200Z"
   },
   {
    "duration": 2284,
    "start_time": "2022-09-04T10:07:07.315Z"
   },
   {
    "duration": 2050,
    "start_time": "2022-09-04T10:07:09.885Z"
   },
   {
    "duration": 59,
    "start_time": "2022-09-04T10:07:11.937Z"
   },
   {
    "duration": 38,
    "start_time": "2022-09-04T10:07:11.998Z"
   },
   {
    "duration": 238,
    "start_time": "2022-09-04T10:07:40.048Z"
   },
   {
    "duration": 9,
    "start_time": "2022-09-04T10:12:46.477Z"
   },
   {
    "duration": 9,
    "start_time": "2022-09-04T10:12:58.083Z"
   },
   {
    "duration": 6,
    "start_time": "2022-09-04T10:13:05.433Z"
   },
   {
    "duration": 2,
    "start_time": "2022-09-04T10:13:10.882Z"
   },
   {
    "duration": 688,
    "start_time": "2022-09-04T10:13:10.887Z"
   },
   {
    "duration": 27,
    "start_time": "2022-09-04T10:13:11.577Z"
   },
   {
    "duration": 25,
    "start_time": "2022-09-04T10:13:11.606Z"
   },
   {
    "duration": 106,
    "start_time": "2022-09-04T10:13:11.633Z"
   },
   {
    "duration": 2371,
    "start_time": "2022-09-04T10:13:11.758Z"
   },
   {
    "duration": 59,
    "start_time": "2022-09-04T10:13:14.131Z"
   },
   {
    "duration": 217,
    "start_time": "2022-09-04T10:13:14.191Z"
   },
   {
    "duration": 4,
    "start_time": "2022-09-04T10:13:14.409Z"
   },
   {
    "duration": 13,
    "start_time": "2022-09-04T10:13:14.415Z"
   },
   {
    "duration": 12,
    "start_time": "2022-09-04T10:13:14.430Z"
   },
   {
    "duration": 21,
    "start_time": "2022-09-04T10:13:14.444Z"
   },
   {
    "duration": 11,
    "start_time": "2022-09-04T10:13:14.469Z"
   },
   {
    "duration": 14,
    "start_time": "2022-09-04T10:13:14.481Z"
   },
   {
    "duration": 11,
    "start_time": "2022-09-04T10:13:14.497Z"
   },
   {
    "duration": 10,
    "start_time": "2022-09-04T10:13:14.510Z"
   },
   {
    "duration": 349,
    "start_time": "2022-09-04T10:13:14.522Z"
   },
   {
    "duration": 384,
    "start_time": "2022-09-04T10:13:14.965Z"
   },
   {
    "duration": 382,
    "start_time": "2022-09-04T10:13:23.297Z"
   },
   {
    "duration": 7,
    "start_time": "2022-09-04T10:42:10.672Z"
   },
   {
    "duration": 8,
    "start_time": "2022-09-04T10:42:15.803Z"
   },
   {
    "duration": 3,
    "start_time": "2022-09-04T10:42:27.902Z"
   },
   {
    "duration": 587,
    "start_time": "2022-09-04T10:42:27.906Z"
   },
   {
    "duration": 25,
    "start_time": "2022-09-04T10:42:28.495Z"
   },
   {
    "duration": 26,
    "start_time": "2022-09-04T10:42:28.521Z"
   },
   {
    "duration": 99,
    "start_time": "2022-09-04T10:42:28.550Z"
   },
   {
    "duration": 2223,
    "start_time": "2022-09-04T10:42:28.664Z"
   },
   {
    "duration": 69,
    "start_time": "2022-09-04T10:42:30.889Z"
   },
   {
    "duration": 228,
    "start_time": "2022-09-04T10:42:30.964Z"
   },
   {
    "duration": 5,
    "start_time": "2022-09-04T10:42:31.194Z"
   },
   {
    "duration": 18,
    "start_time": "2022-09-04T10:42:31.201Z"
   },
   {
    "duration": 16,
    "start_time": "2022-09-04T10:42:31.222Z"
   },
   {
    "duration": 38,
    "start_time": "2022-09-04T10:42:31.240Z"
   },
   {
    "duration": 23,
    "start_time": "2022-09-04T10:42:31.280Z"
   },
   {
    "duration": 23,
    "start_time": "2022-09-04T10:42:31.305Z"
   },
   {
    "duration": 35,
    "start_time": "2022-09-04T10:42:31.330Z"
   },
   {
    "duration": 17,
    "start_time": "2022-09-04T10:42:31.371Z"
   },
   {
    "duration": 331,
    "start_time": "2022-09-04T10:42:31.389Z"
   },
   {
    "duration": 7,
    "start_time": "2022-09-04T10:42:31.722Z"
   },
   {
    "duration": 6,
    "start_time": "2022-09-04T10:42:35.239Z"
   },
   {
    "duration": 10,
    "start_time": "2022-09-04T10:42:38.351Z"
   },
   {
    "duration": 8,
    "start_time": "2022-09-04T10:43:37.343Z"
   },
   {
    "duration": 6,
    "start_time": "2022-09-04T10:43:57.030Z"
   },
   {
    "duration": 3,
    "start_time": "2022-09-04T10:44:33.083Z"
   },
   {
    "duration": 581,
    "start_time": "2022-09-04T10:44:33.538Z"
   },
   {
    "duration": 25,
    "start_time": "2022-09-04T10:44:34.121Z"
   },
   {
    "duration": 23,
    "start_time": "2022-09-04T10:44:34.289Z"
   },
   {
    "duration": 113,
    "start_time": "2022-09-04T10:44:34.570Z"
   },
   {
    "duration": 2246,
    "start_time": "2022-09-04T10:44:34.847Z"
   },
   {
    "duration": 48,
    "start_time": "2022-09-04T10:44:37.095Z"
   },
   {
    "duration": 233,
    "start_time": "2022-09-04T10:44:37.144Z"
   },
   {
    "duration": 4,
    "start_time": "2022-09-04T10:44:37.379Z"
   },
   {
    "duration": 30,
    "start_time": "2022-09-04T10:44:37.385Z"
   },
   {
    "duration": 18,
    "start_time": "2022-09-04T10:44:37.417Z"
   },
   {
    "duration": 16,
    "start_time": "2022-09-04T10:44:37.437Z"
   },
   {
    "duration": 26,
    "start_time": "2022-09-04T10:44:37.455Z"
   },
   {
    "duration": 9,
    "start_time": "2022-09-04T10:44:37.743Z"
   },
   {
    "duration": 6,
    "start_time": "2022-09-04T10:44:38.242Z"
   },
   {
    "duration": 3,
    "start_time": "2022-09-04T10:44:39.270Z"
   },
   {
    "duration": 315,
    "start_time": "2022-09-04T10:44:40.843Z"
   },
   {
    "duration": 2,
    "start_time": "2022-09-04T10:44:42.749Z"
   },
   {
    "duration": 61,
    "start_time": "2022-09-04T10:44:46.570Z"
   },
   {
    "duration": 7,
    "start_time": "2022-09-04T10:48:04.534Z"
   },
   {
    "duration": 10,
    "start_time": "2022-09-04T10:48:06.738Z"
   },
   {
    "duration": 8,
    "start_time": "2022-09-04T10:48:07.342Z"
   },
   {
    "duration": 14,
    "start_time": "2022-09-04T10:48:07.874Z"
   },
   {
    "duration": 5,
    "start_time": "2022-09-04T10:48:08.438Z"
   },
   {
    "duration": 3,
    "start_time": "2022-09-04T10:48:09.146Z"
   },
   {
    "duration": 311,
    "start_time": "2022-09-04T10:48:10.534Z"
   },
   {
    "duration": 3,
    "start_time": "2022-09-04T10:48:12.257Z"
   },
   {
    "duration": 66,
    "start_time": "2022-09-04T10:48:15.599Z"
   },
   {
    "duration": 2257,
    "start_time": "2022-09-04T10:53:26.179Z"
   },
   {
    "duration": 203,
    "start_time": "2022-09-04T10:54:13.045Z"
   },
   {
    "duration": 84,
    "start_time": "2022-09-04T10:54:13.291Z"
   },
   {
    "duration": 3,
    "start_time": "2022-09-04T10:54:53.447Z"
   },
   {
    "duration": 680,
    "start_time": "2022-09-04T10:54:53.453Z"
   },
   {
    "duration": 39,
    "start_time": "2022-09-04T10:54:54.134Z"
   },
   {
    "duration": 21,
    "start_time": "2022-09-04T10:54:54.175Z"
   },
   {
    "duration": 129,
    "start_time": "2022-09-04T10:54:54.198Z"
   },
   {
    "duration": 324,
    "start_time": "2022-09-04T10:54:54.329Z"
   },
   {
    "duration": 0,
    "start_time": "2022-09-04T10:54:54.654Z"
   },
   {
    "duration": 0,
    "start_time": "2022-09-04T10:54:54.655Z"
   },
   {
    "duration": 0,
    "start_time": "2022-09-04T10:54:54.655Z"
   },
   {
    "duration": 0,
    "start_time": "2022-09-04T10:54:54.657Z"
   },
   {
    "duration": 0,
    "start_time": "2022-09-04T10:54:54.663Z"
   },
   {
    "duration": 0,
    "start_time": "2022-09-04T10:54:54.663Z"
   },
   {
    "duration": 0,
    "start_time": "2022-09-04T10:54:54.664Z"
   },
   {
    "duration": 0,
    "start_time": "2022-09-04T10:54:54.665Z"
   },
   {
    "duration": 0,
    "start_time": "2022-09-04T10:54:54.665Z"
   },
   {
    "duration": 0,
    "start_time": "2022-09-04T10:54:54.667Z"
   },
   {
    "duration": 0,
    "start_time": "2022-09-04T10:54:54.671Z"
   },
   {
    "duration": 0,
    "start_time": "2022-09-04T10:54:54.676Z"
   },
   {
    "duration": 0,
    "start_time": "2022-09-04T10:54:54.676Z"
   },
   {
    "duration": 6,
    "start_time": "2022-09-04T10:55:13.363Z"
   },
   {
    "duration": 571,
    "start_time": "2022-09-04T10:55:13.947Z"
   },
   {
    "duration": 26,
    "start_time": "2022-09-04T10:55:15.273Z"
   },
   {
    "duration": 40,
    "start_time": "2022-09-04T10:55:16.125Z"
   },
   {
    "duration": 141,
    "start_time": "2022-09-04T10:55:17.943Z"
   },
   {
    "duration": 285,
    "start_time": "2022-09-04T10:55:25.041Z"
   },
   {
    "duration": 254,
    "start_time": "2022-09-04T10:56:32.392Z"
   },
   {
    "duration": 304,
    "start_time": "2022-09-04T10:57:13.739Z"
   },
   {
    "duration": 2082,
    "start_time": "2022-09-04T10:57:22.366Z"
   },
   {
    "duration": 68,
    "start_time": "2022-09-04T10:57:24.849Z"
   },
   {
    "duration": 2038,
    "start_time": "2022-09-04T10:57:55.933Z"
   },
   {
    "duration": 50,
    "start_time": "2022-09-04T10:57:58.769Z"
   },
   {
    "duration": 139,
    "start_time": "2022-09-04T10:58:08.295Z"
   },
   {
    "duration": 7,
    "start_time": "2022-09-04T10:59:28.485Z"
   },
   {
    "duration": 3,
    "start_time": "2022-09-04T11:02:40.269Z"
   },
   {
    "duration": 571,
    "start_time": "2022-09-04T11:02:40.273Z"
   },
   {
    "duration": 34,
    "start_time": "2022-09-04T11:02:40.846Z"
   },
   {
    "duration": 23,
    "start_time": "2022-09-04T11:02:40.882Z"
   },
   {
    "duration": 120,
    "start_time": "2022-09-04T11:02:40.908Z"
   },
   {
    "duration": 2251,
    "start_time": "2022-09-04T11:02:41.030Z"
   },
   {
    "duration": 49,
    "start_time": "2022-09-04T11:02:43.283Z"
   },
   {
    "duration": 207,
    "start_time": "2022-09-04T11:02:43.334Z"
   },
   {
    "duration": 29,
    "start_time": "2022-09-04T11:02:43.543Z"
   },
   {
    "duration": 7,
    "start_time": "2022-09-04T11:02:43.574Z"
   },
   {
    "duration": 7,
    "start_time": "2022-09-04T11:02:43.583Z"
   },
   {
    "duration": 11,
    "start_time": "2022-09-04T11:02:43.592Z"
   },
   {
    "duration": 10,
    "start_time": "2022-09-04T11:02:43.605Z"
   },
   {
    "duration": 11,
    "start_time": "2022-09-04T11:02:43.618Z"
   },
   {
    "duration": 6,
    "start_time": "2022-09-04T11:02:43.631Z"
   },
   {
    "duration": 23,
    "start_time": "2022-09-04T11:02:43.639Z"
   },
   {
    "duration": 435,
    "start_time": "2022-09-04T11:02:50.382Z"
   },
   {
    "duration": 3,
    "start_time": "2022-09-04T11:02:58.704Z"
   },
   {
    "duration": 3,
    "start_time": "2022-09-04T11:03:13.574Z"
   },
   {
    "duration": 59,
    "start_time": "2022-09-04T11:03:14.586Z"
   },
   {
    "duration": 2135,
    "start_time": "2022-09-04T11:04:25.192Z"
   },
   {
    "duration": 68,
    "start_time": "2022-09-04T11:04:27.329Z"
   },
   {
    "duration": 236,
    "start_time": "2022-09-04T11:04:27.398Z"
   },
   {
    "duration": 7,
    "start_time": "2022-09-04T11:04:28.264Z"
   },
   {
    "duration": 5,
    "start_time": "2022-09-04T11:04:28.648Z"
   },
   {
    "duration": 14,
    "start_time": "2022-09-04T11:04:29.000Z"
   },
   {
    "duration": 15,
    "start_time": "2022-09-04T11:04:29.362Z"
   },
   {
    "duration": 9,
    "start_time": "2022-09-04T11:04:29.692Z"
   },
   {
    "duration": 10,
    "start_time": "2022-09-04T11:04:30.087Z"
   },
   {
    "duration": 4,
    "start_time": "2022-09-04T11:04:30.433Z"
   },
   {
    "duration": 7,
    "start_time": "2022-09-04T11:04:30.842Z"
   },
   {
    "duration": 409,
    "start_time": "2022-09-04T11:04:31.604Z"
   },
   {
    "duration": 4,
    "start_time": "2022-09-04T11:04:32.085Z"
   },
   {
    "duration": 2133,
    "start_time": "2022-09-04T11:07:41.953Z"
   },
   {
    "duration": 127,
    "start_time": "2022-09-04T11:08:02.954Z"
   },
   {
    "duration": 2163,
    "start_time": "2022-09-04T11:08:06.753Z"
   },
   {
    "duration": 99,
    "start_time": "2022-09-04T11:08:08.918Z"
   },
   {
    "duration": 2149,
    "start_time": "2022-09-04T11:08:53.873Z"
   },
   {
    "duration": 78,
    "start_time": "2022-09-04T11:08:56.073Z"
   },
   {
    "duration": 2032,
    "start_time": "2022-09-04T11:09:27.828Z"
   },
   {
    "duration": 96,
    "start_time": "2022-09-04T11:09:31.885Z"
   },
   {
    "duration": 209,
    "start_time": "2022-09-04T11:09:43.729Z"
   },
   {
    "duration": 5,
    "start_time": "2022-09-04T11:09:44.842Z"
   },
   {
    "duration": 7,
    "start_time": "2022-09-04T11:09:45.286Z"
   },
   {
    "duration": 14,
    "start_time": "2022-09-04T11:09:45.651Z"
   },
   {
    "duration": 9,
    "start_time": "2022-09-04T11:09:46.031Z"
   },
   {
    "duration": 9,
    "start_time": "2022-09-04T11:09:46.466Z"
   },
   {
    "duration": 9,
    "start_time": "2022-09-04T11:09:46.884Z"
   },
   {
    "duration": 6,
    "start_time": "2022-09-04T11:09:47.473Z"
   },
   {
    "duration": 5,
    "start_time": "2022-09-04T11:09:47.922Z"
   },
   {
    "duration": 398,
    "start_time": "2022-09-04T11:09:49.372Z"
   },
   {
    "duration": 3,
    "start_time": "2022-09-04T11:10:10.048Z"
   },
   {
    "duration": 606,
    "start_time": "2022-09-04T11:10:11.945Z"
   },
   {
    "duration": 27,
    "start_time": "2022-09-04T11:10:13.995Z"
   },
   {
    "duration": 33,
    "start_time": "2022-09-04T11:10:15.183Z"
   },
   {
    "duration": 102,
    "start_time": "2022-09-04T11:10:16.287Z"
   },
   {
    "duration": 2227,
    "start_time": "2022-09-04T11:10:19.070Z"
   },
   {
    "duration": 97,
    "start_time": "2022-09-04T11:10:21.299Z"
   },
   {
    "duration": 2235,
    "start_time": "2022-09-04T11:11:07.941Z"
   },
   {
    "duration": 131,
    "start_time": "2022-09-04T11:11:10.177Z"
   },
   {
    "duration": 203,
    "start_time": "2022-09-04T11:11:30.900Z"
   },
   {
    "duration": 6,
    "start_time": "2022-09-04T11:11:32.736Z"
   },
   {
    "duration": 6,
    "start_time": "2022-09-04T11:11:33.247Z"
   },
   {
    "duration": 14,
    "start_time": "2022-09-04T11:11:33.853Z"
   },
   {
    "duration": 12,
    "start_time": "2022-09-04T11:11:34.484Z"
   },
   {
    "duration": 11,
    "start_time": "2022-09-04T11:11:35.085Z"
   },
   {
    "duration": 13,
    "start_time": "2022-09-04T11:11:35.689Z"
   },
   {
    "duration": 3,
    "start_time": "2022-09-04T11:11:36.506Z"
   },
   {
    "duration": 7,
    "start_time": "2022-09-04T11:11:37.244Z"
   },
   {
    "duration": 383,
    "start_time": "2022-09-04T11:11:39.642Z"
   },
   {
    "duration": 5,
    "start_time": "2022-09-04T11:14:12.074Z"
   },
   {
    "duration": 560,
    "start_time": "2022-09-04T11:14:12.081Z"
   },
   {
    "duration": 29,
    "start_time": "2022-09-04T11:14:12.643Z"
   },
   {
    "duration": 30,
    "start_time": "2022-09-04T11:14:12.674Z"
   },
   {
    "duration": 108,
    "start_time": "2022-09-04T11:14:12.706Z"
   },
   {
    "duration": 2215,
    "start_time": "2022-09-04T11:14:12.816Z"
   },
   {
    "duration": 96,
    "start_time": "2022-09-04T11:14:15.033Z"
   },
   {
    "duration": 194,
    "start_time": "2022-09-04T11:14:15.130Z"
   },
   {
    "duration": 6,
    "start_time": "2022-09-04T11:14:15.326Z"
   },
   {
    "duration": 7,
    "start_time": "2022-09-04T11:14:15.335Z"
   },
   {
    "duration": 20,
    "start_time": "2022-09-04T11:14:15.344Z"
   },
   {
    "duration": 21,
    "start_time": "2022-09-04T11:14:15.372Z"
   },
   {
    "duration": 26,
    "start_time": "2022-09-04T11:14:15.394Z"
   },
   {
    "duration": 26,
    "start_time": "2022-09-04T11:14:15.422Z"
   },
   {
    "duration": 35,
    "start_time": "2022-09-04T11:14:15.450Z"
   },
   {
    "duration": 19,
    "start_time": "2022-09-04T11:14:15.487Z"
   },
   {
    "duration": 430,
    "start_time": "2022-09-04T11:14:15.507Z"
   },
   {
    "duration": 3,
    "start_time": "2022-09-04T11:14:15.938Z"
   },
   {
    "duration": 73,
    "start_time": "2022-09-04T11:14:15.943Z"
   },
   {
    "duration": 430,
    "start_time": "2022-09-04T11:16:55.553Z"
   },
   {
    "duration": 72,
    "start_time": "2022-09-04T11:16:57.057Z"
   },
   {
    "duration": 79,
    "start_time": "2022-09-04T11:17:11.936Z"
   },
   {
    "duration": 82,
    "start_time": "2022-09-04T11:17:24.570Z"
   },
   {
    "duration": 60,
    "start_time": "2022-09-04T11:17:29.174Z"
   },
   {
    "duration": 56,
    "start_time": "2022-09-04T11:22:29.745Z"
   },
   {
    "duration": 3,
    "start_time": "2022-09-04T11:22:44.294Z"
   },
   {
    "duration": 59,
    "start_time": "2022-09-04T11:22:45.664Z"
   },
   {
    "duration": 7,
    "start_time": "2022-09-04T11:29:28.081Z"
   },
   {
    "duration": 59,
    "start_time": "2022-09-04T11:29:54.471Z"
   },
   {
    "duration": 3,
    "start_time": "2022-09-04T11:30:09.815Z"
   },
   {
    "duration": 63,
    "start_time": "2022-09-04T11:30:10.388Z"
   },
   {
    "duration": 3,
    "start_time": "2022-09-04T11:30:17.152Z"
   },
   {
    "duration": 58,
    "start_time": "2022-09-04T11:30:17.658Z"
   },
   {
    "duration": 3,
    "start_time": "2022-09-04T11:30:22.141Z"
   },
   {
    "duration": 66,
    "start_time": "2022-09-04T11:30:22.652Z"
   },
   {
    "duration": 57,
    "start_time": "2022-09-04T11:30:32.912Z"
   },
   {
    "duration": 2,
    "start_time": "2022-09-04T11:33:16.745Z"
   },
   {
    "duration": 10,
    "start_time": "2022-09-04T11:33:19.656Z"
   },
   {
    "duration": 55,
    "start_time": "2022-09-04T11:33:44.088Z"
   },
   {
    "duration": 8,
    "start_time": "2022-09-04T11:37:17.696Z"
   },
   {
    "duration": 11,
    "start_time": "2022-09-04T11:37:18.368Z"
   },
   {
    "duration": 8,
    "start_time": "2022-09-04T11:37:18.986Z"
   },
   {
    "duration": 10,
    "start_time": "2022-09-04T11:37:19.611Z"
   },
   {
    "duration": 3,
    "start_time": "2022-09-04T11:37:20.316Z"
   },
   {
    "duration": 7,
    "start_time": "2022-09-04T11:37:21.044Z"
   },
   {
    "duration": 420,
    "start_time": "2022-09-04T11:37:23.149Z"
   },
   {
    "duration": 2,
    "start_time": "2022-09-04T11:37:25.137Z"
   },
   {
    "duration": 58,
    "start_time": "2022-09-04T11:37:32.078Z"
   },
   {
    "duration": 59,
    "start_time": "2022-09-04T11:41:11.968Z"
   },
   {
    "duration": 4,
    "start_time": "2022-09-04T11:43:34.679Z"
   },
   {
    "duration": 3,
    "start_time": "2022-09-04T11:44:10.679Z"
   },
   {
    "duration": 5,
    "start_time": "2022-09-04T11:44:11.791Z"
   },
   {
    "duration": 55,
    "start_time": "2022-09-04T11:44:13.475Z"
   },
   {
    "duration": 2,
    "start_time": "2022-09-04T11:44:28.752Z"
   },
   {
    "duration": 4,
    "start_time": "2022-09-04T11:44:29.949Z"
   },
   {
    "duration": 76,
    "start_time": "2022-09-04T11:44:32.151Z"
   },
   {
    "duration": 3,
    "start_time": "2022-09-04T11:45:49.419Z"
   },
   {
    "duration": 425,
    "start_time": "2022-09-04T11:45:59.997Z"
   },
   {
    "duration": 572,
    "start_time": "2022-09-04T11:46:00.424Z"
   },
   {
    "duration": 27,
    "start_time": "2022-09-04T11:46:00.998Z"
   },
   {
    "duration": 22,
    "start_time": "2022-09-04T11:46:01.027Z"
   },
   {
    "duration": 119,
    "start_time": "2022-09-04T11:46:01.050Z"
   },
   {
    "duration": 2241,
    "start_time": "2022-09-04T11:46:01.171Z"
   },
   {
    "duration": 87,
    "start_time": "2022-09-04T11:46:03.413Z"
   },
   {
    "duration": 210,
    "start_time": "2022-09-04T11:46:03.501Z"
   },
   {
    "duration": 5,
    "start_time": "2022-09-04T11:46:03.713Z"
   },
   {
    "duration": 8,
    "start_time": "2022-09-04T11:46:03.721Z"
   },
   {
    "duration": 9,
    "start_time": "2022-09-04T11:46:03.730Z"
   },
   {
    "duration": 16,
    "start_time": "2022-09-04T11:46:03.754Z"
   },
   {
    "duration": 13,
    "start_time": "2022-09-04T11:46:03.772Z"
   },
   {
    "duration": 9,
    "start_time": "2022-09-04T11:46:03.787Z"
   },
   {
    "duration": 7,
    "start_time": "2022-09-04T11:46:03.797Z"
   },
   {
    "duration": 5,
    "start_time": "2022-09-04T11:46:03.805Z"
   },
   {
    "duration": 426,
    "start_time": "2022-09-04T11:46:03.811Z"
   },
   {
    "duration": 2,
    "start_time": "2022-09-04T11:46:04.239Z"
   },
   {
    "duration": 19,
    "start_time": "2022-09-04T11:46:04.243Z"
   },
   {
    "duration": 59,
    "start_time": "2022-09-04T11:46:04.265Z"
   },
   {
    "duration": 2,
    "start_time": "2022-09-04T11:46:19.589Z"
   },
   {
    "duration": 5,
    "start_time": "2022-09-04T11:46:20.795Z"
   },
   {
    "duration": 74,
    "start_time": "2022-09-04T11:46:23.070Z"
   },
   {
    "duration": 2,
    "start_time": "2022-09-04T11:46:42.674Z"
   },
   {
    "duration": 5,
    "start_time": "2022-09-04T11:46:43.586Z"
   },
   {
    "duration": 144,
    "start_time": "2022-09-04T11:46:44.442Z"
   },
   {
    "duration": 2,
    "start_time": "2022-09-04T11:46:55.849Z"
   },
   {
    "duration": 6,
    "start_time": "2022-09-04T11:46:57.349Z"
   },
   {
    "duration": 1623,
    "start_time": "2022-09-04T11:46:58.798Z"
   },
   {
    "duration": 3,
    "start_time": "2022-09-04T11:47:15.093Z"
   },
   {
    "duration": 4,
    "start_time": "2022-09-04T11:47:22.749Z"
   },
   {
    "duration": 44,
    "start_time": "2022-09-04T11:47:24.455Z"
   },
   {
    "duration": 2,
    "start_time": "2022-09-04T11:47:38.770Z"
   },
   {
    "duration": 4,
    "start_time": "2022-09-04T11:47:39.779Z"
   },
   {
    "duration": 48,
    "start_time": "2022-09-04T11:47:40.517Z"
   },
   {
    "duration": 3,
    "start_time": "2022-09-04T11:48:09.847Z"
   },
   {
    "duration": 5,
    "start_time": "2022-09-04T11:48:14.277Z"
   },
   {
    "duration": 3,
    "start_time": "2022-09-04T11:48:32.393Z"
   },
   {
    "duration": 5,
    "start_time": "2022-09-04T11:48:33.171Z"
   },
   {
    "duration": 1294,
    "start_time": "2022-09-04T11:48:33.838Z"
   },
   {
    "duration": 3,
    "start_time": "2022-09-04T11:49:06.066Z"
   },
   {
    "duration": 4,
    "start_time": "2022-09-04T11:49:06.887Z"
   },
   {
    "duration": 1243,
    "start_time": "2022-09-04T11:49:07.686Z"
   },
   {
    "duration": 3,
    "start_time": "2022-09-04T11:49:39.149Z"
   },
   {
    "duration": 5,
    "start_time": "2022-09-04T11:49:40.820Z"
   },
   {
    "duration": 1605,
    "start_time": "2022-09-04T11:49:41.670Z"
   },
   {
    "duration": 3,
    "start_time": "2022-09-04T11:51:03.829Z"
   },
   {
    "duration": 5,
    "start_time": "2022-09-04T11:51:04.414Z"
   },
   {
    "duration": 1684,
    "start_time": "2022-09-04T11:51:05.572Z"
   },
   {
    "duration": 1300,
    "start_time": "2022-09-04T11:52:33.374Z"
   },
   {
    "duration": 5,
    "start_time": "2022-09-04T11:54:05.345Z"
   },
   {
    "duration": 4,
    "start_time": "2022-09-04T11:54:06.252Z"
   },
   {
    "duration": 54,
    "start_time": "2022-09-04T11:54:07.185Z"
   },
   {
    "duration": 6,
    "start_time": "2022-09-04T11:54:21.859Z"
   },
   {
    "duration": 3,
    "start_time": "2022-09-04T11:54:47.289Z"
   },
   {
    "duration": 2,
    "start_time": "2022-09-04T11:54:56.095Z"
   },
   {
    "duration": 2,
    "start_time": "2022-09-04T11:55:02.045Z"
   },
   {
    "duration": 697,
    "start_time": "2022-09-04T11:55:02.590Z"
   },
   {
    "duration": 555,
    "start_time": "2022-09-04T12:06:32.218Z"
   },
   {
    "duration": 3,
    "start_time": "2022-09-04T12:06:42.912Z"
   },
   {
    "duration": 557,
    "start_time": "2022-09-04T12:06:43.700Z"
   },
   {
    "duration": 3,
    "start_time": "2022-09-04T12:06:51.614Z"
   },
   {
    "duration": 61,
    "start_time": "2022-09-04T12:06:52.566Z"
   },
   {
    "duration": 3,
    "start_time": "2022-09-04T12:07:03.390Z"
   },
   {
    "duration": 560,
    "start_time": "2022-09-04T12:07:04.552Z"
   },
   {
    "duration": 5,
    "start_time": "2022-09-04T12:07:31.962Z"
   },
   {
    "duration": 2,
    "start_time": "2022-09-04T12:07:41.156Z"
   },
   {
    "duration": 705,
    "start_time": "2022-09-04T12:07:42.673Z"
   },
   {
    "duration": 3,
    "start_time": "2022-09-04T12:22:15.484Z"
   },
   {
    "duration": 768,
    "start_time": "2022-09-04T12:22:16.281Z"
   },
   {
    "duration": 977,
    "start_time": "2022-09-04T12:23:33.030Z"
   },
   {
    "duration": 823,
    "start_time": "2022-09-04T12:24:29.383Z"
   },
   {
    "duration": 1262,
    "start_time": "2022-09-04T12:25:43.381Z"
   },
   {
    "duration": 1724,
    "start_time": "2022-09-04T12:26:38.996Z"
   },
   {
    "duration": 1245,
    "start_time": "2022-09-04T12:27:45.063Z"
   },
   {
    "duration": 1198,
    "start_time": "2022-09-04T12:31:52.279Z"
   },
   {
    "duration": 1386,
    "start_time": "2022-09-04T12:32:13.926Z"
   },
   {
    "duration": 1179,
    "start_time": "2022-09-04T12:32:45.177Z"
   },
   {
    "duration": 1645,
    "start_time": "2022-09-04T12:36:46.238Z"
   },
   {
    "duration": 1613,
    "start_time": "2022-09-04T12:42:48.465Z"
   },
   {
    "duration": 2156,
    "start_time": "2022-09-04T12:43:58.728Z"
   },
   {
    "duration": 2021,
    "start_time": "2022-09-04T12:44:25.303Z"
   },
   {
    "duration": 910,
    "start_time": "2022-09-05T15:05:04.291Z"
   },
   {
    "duration": 1214,
    "start_time": "2022-09-05T15:05:05.205Z"
   },
   {
    "duration": 48,
    "start_time": "2022-09-05T15:05:06.421Z"
   },
   {
    "duration": 53,
    "start_time": "2022-09-05T15:05:06.472Z"
   },
   {
    "duration": 174,
    "start_time": "2022-09-05T15:05:06.526Z"
   },
   {
    "duration": 2608,
    "start_time": "2022-09-05T15:05:06.708Z"
   },
   {
    "duration": 118,
    "start_time": "2022-09-05T15:05:09.318Z"
   },
   {
    "duration": 267,
    "start_time": "2022-09-05T15:05:09.439Z"
   },
   {
    "duration": 7,
    "start_time": "2022-09-05T15:05:09.708Z"
   },
   {
    "duration": 12,
    "start_time": "2022-09-05T15:05:09.718Z"
   },
   {
    "duration": 19,
    "start_time": "2022-09-05T15:05:09.732Z"
   },
   {
    "duration": 28,
    "start_time": "2022-09-05T15:05:09.754Z"
   },
   {
    "duration": 39,
    "start_time": "2022-09-05T15:05:09.784Z"
   },
   {
    "duration": 17,
    "start_time": "2022-09-05T15:05:09.826Z"
   },
   {
    "duration": 10,
    "start_time": "2022-09-05T15:05:09.845Z"
   },
   {
    "duration": 10,
    "start_time": "2022-09-05T15:05:09.857Z"
   },
   {
    "duration": 590,
    "start_time": "2022-09-05T15:05:09.869Z"
   },
   {
    "duration": 6,
    "start_time": "2022-09-05T15:05:10.461Z"
   },
   {
    "duration": 44,
    "start_time": "2022-09-05T15:05:10.469Z"
   },
   {
    "duration": 1028,
    "start_time": "2022-09-05T15:05:10.515Z"
   },
   {
    "duration": 1530,
    "start_time": "2022-09-05T15:05:11.545Z"
   },
   {
    "duration": 1097,
    "start_time": "2022-09-05T15:05:13.077Z"
   },
   {
    "duration": 2184,
    "start_time": "2022-09-05T15:05:14.176Z"
   },
   {
    "duration": 916,
    "start_time": "2022-09-05T15:05:16.362Z"
   },
   {
    "duration": 1482,
    "start_time": "2022-09-05T15:05:17.279Z"
   },
   {
    "duration": 1597,
    "start_time": "2022-09-05T15:05:23.704Z"
   },
   {
    "duration": 44,
    "start_time": "2022-09-05T15:05:28.602Z"
   },
   {
    "duration": 4,
    "start_time": "2022-09-05T15:07:02.028Z"
   },
   {
    "duration": 27,
    "start_time": "2022-09-05T15:08:30.828Z"
   },
   {
    "duration": 920,
    "start_time": "2022-09-06T19:50:38.325Z"
   },
   {
    "duration": 2296,
    "start_time": "2022-09-06T19:50:39.247Z"
   },
   {
    "duration": 33,
    "start_time": "2022-09-06T19:50:41.545Z"
   },
   {
    "duration": 38,
    "start_time": "2022-09-06T19:50:41.580Z"
   },
   {
    "duration": 115,
    "start_time": "2022-09-06T19:50:41.621Z"
   },
   {
    "duration": 2577,
    "start_time": "2022-09-06T19:50:41.738Z"
   },
   {
    "duration": 121,
    "start_time": "2022-09-06T19:50:44.317Z"
   },
   {
    "duration": 276,
    "start_time": "2022-09-06T19:50:44.440Z"
   },
   {
    "duration": 7,
    "start_time": "2022-09-06T19:50:44.717Z"
   },
   {
    "duration": 13,
    "start_time": "2022-09-06T19:50:44.726Z"
   },
   {
    "duration": 17,
    "start_time": "2022-09-06T19:50:44.741Z"
   },
   {
    "duration": 12,
    "start_time": "2022-09-06T19:50:44.760Z"
   },
   {
    "duration": 33,
    "start_time": "2022-09-06T19:50:44.774Z"
   },
   {
    "duration": 13,
    "start_time": "2022-09-06T19:50:44.811Z"
   },
   {
    "duration": 12,
    "start_time": "2022-09-06T19:50:44.825Z"
   },
   {
    "duration": 7,
    "start_time": "2022-09-06T19:50:44.840Z"
   },
   {
    "duration": 527,
    "start_time": "2022-09-06T19:50:44.849Z"
   },
   {
    "duration": 6,
    "start_time": "2022-09-06T19:50:45.377Z"
   },
   {
    "duration": 6,
    "start_time": "2022-09-06T19:50:45.393Z"
   },
   {
    "duration": 1042,
    "start_time": "2022-09-06T19:50:45.401Z"
   },
   {
    "duration": 1556,
    "start_time": "2022-09-06T19:50:46.445Z"
   },
   {
    "duration": 1066,
    "start_time": "2022-09-06T19:50:48.003Z"
   },
   {
    "duration": 2131,
    "start_time": "2022-09-06T19:50:49.071Z"
   },
   {
    "duration": 935,
    "start_time": "2022-09-06T19:50:51.210Z"
   },
   {
    "duration": 1531,
    "start_time": "2022-09-06T19:50:52.147Z"
   },
   {
    "duration": 4,
    "start_time": "2022-09-06T19:50:53.679Z"
   },
   {
    "duration": 140,
    "start_time": "2022-09-06T19:50:53.685Z"
   },
   {
    "duration": 31,
    "start_time": "2022-09-06T19:50:53.826Z"
   },
   {
    "duration": 31,
    "start_time": "2022-09-06T19:51:21.004Z"
   },
   {
    "duration": 26,
    "start_time": "2022-09-06T19:51:27.551Z"
   },
   {
    "duration": 105,
    "start_time": "2022-09-06T19:52:00.782Z"
   },
   {
    "duration": 28,
    "start_time": "2022-09-06T19:52:28.767Z"
   },
   {
    "duration": 195,
    "start_time": "2022-09-06T19:53:18.032Z"
   },
   {
    "duration": 68,
    "start_time": "2022-09-06T20:12:59.102Z"
   },
   {
    "duration": 472,
    "start_time": "2022-09-06T20:13:48.466Z"
   },
   {
    "duration": 7,
    "start_time": "2022-09-06T20:38:33.029Z"
   },
   {
    "duration": 5,
    "start_time": "2022-09-06T20:45:13.133Z"
   },
   {
    "duration": 749,
    "start_time": "2022-09-07T07:20:21.030Z"
   },
   {
    "duration": 122,
    "start_time": "2022-09-07T07:20:21.781Z"
   },
   {
    "duration": 909,
    "start_time": "2022-09-07T07:20:21.987Z"
   },
   {
    "duration": 634,
    "start_time": "2022-09-07T07:20:31.227Z"
   },
   {
    "duration": 51,
    "start_time": "2022-09-07T07:21:28.378Z"
   },
   {
    "duration": 30,
    "start_time": "2022-09-07T07:22:00.513Z"
   },
   {
    "duration": 33,
    "start_time": "2022-09-07T07:24:06.801Z"
   },
   {
    "duration": 314,
    "start_time": "2022-09-07T07:24:18.352Z"
   },
   {
    "duration": 104,
    "start_time": "2022-09-07T07:24:20.373Z"
   },
   {
    "duration": 117,
    "start_time": "2022-09-07T07:24:33.595Z"
   },
   {
    "duration": 2139,
    "start_time": "2022-09-07T07:24:34.815Z"
   },
   {
    "duration": 2105,
    "start_time": "2022-09-07T07:26:43.649Z"
   },
   {
    "duration": 88,
    "start_time": "2022-09-07T07:28:21.627Z"
   },
   {
    "duration": 814,
    "start_time": "2022-09-08T13:37:47.779Z"
   },
   {
    "duration": 978,
    "start_time": "2022-09-08T13:37:48.595Z"
   },
   {
    "duration": 34,
    "start_time": "2022-09-08T13:37:49.575Z"
   },
   {
    "duration": 34,
    "start_time": "2022-09-08T13:37:49.611Z"
   },
   {
    "duration": 102,
    "start_time": "2022-09-08T13:37:49.646Z"
   },
   {
    "duration": 2205,
    "start_time": "2022-09-08T13:37:49.749Z"
   },
   {
    "duration": 88,
    "start_time": "2022-09-08T13:37:51.955Z"
   },
   {
    "duration": 77,
    "start_time": "2022-09-08T13:37:59.004Z"
   },
   {
    "duration": 103,
    "start_time": "2022-09-08T13:38:08.672Z"
   },
   {
    "duration": 72,
    "start_time": "2022-09-08T13:38:15.902Z"
   },
   {
    "duration": 188,
    "start_time": "2022-09-08T13:38:33.305Z"
   },
   {
    "duration": 85,
    "start_time": "2022-09-08T13:39:28.085Z"
   },
   {
    "duration": 188,
    "start_time": "2022-09-08T13:39:41.502Z"
   },
   {
    "duration": 5,
    "start_time": "2022-09-08T13:41:05.700Z"
   },
   {
    "duration": 7,
    "start_time": "2022-09-08T13:41:06.946Z"
   },
   {
    "duration": 7,
    "start_time": "2022-09-08T13:41:07.800Z"
   },
   {
    "duration": 10,
    "start_time": "2022-09-08T13:41:08.544Z"
   },
   {
    "duration": 8,
    "start_time": "2022-09-08T13:41:09.243Z"
   },
   {
    "duration": 11,
    "start_time": "2022-09-08T13:41:09.915Z"
   },
   {
    "duration": 3,
    "start_time": "2022-09-08T13:41:10.981Z"
   },
   {
    "duration": 8,
    "start_time": "2022-09-08T13:41:12.006Z"
   },
   {
    "duration": 74,
    "start_time": "2022-09-08T15:00:13.916Z"
   },
   {
    "duration": 76,
    "start_time": "2022-09-08T15:00:20.698Z"
   },
   {
    "duration": 77,
    "start_time": "2022-09-08T15:00:26.649Z"
   },
   {
    "duration": 3,
    "start_time": "2022-09-08T15:01:27.919Z"
   },
   {
    "duration": 617,
    "start_time": "2022-09-08T15:01:27.925Z"
   },
   {
    "duration": 24,
    "start_time": "2022-09-08T15:01:28.544Z"
   },
   {
    "duration": 22,
    "start_time": "2022-09-08T15:01:28.570Z"
   },
   {
    "duration": 95,
    "start_time": "2022-09-08T15:01:28.594Z"
   },
   {
    "duration": 2284,
    "start_time": "2022-09-08T15:01:28.690Z"
   },
   {
    "duration": 79,
    "start_time": "2022-09-08T15:01:30.975Z"
   },
   {
    "duration": 223,
    "start_time": "2022-09-08T15:01:31.055Z"
   },
   {
    "duration": 6,
    "start_time": "2022-09-08T15:01:31.281Z"
   },
   {
    "duration": 21,
    "start_time": "2022-09-08T15:01:31.288Z"
   },
   {
    "duration": 40,
    "start_time": "2022-09-08T15:01:31.310Z"
   },
   {
    "duration": 39,
    "start_time": "2022-09-08T15:01:31.351Z"
   },
   {
    "duration": 38,
    "start_time": "2022-09-08T15:01:31.391Z"
   },
   {
    "duration": 15,
    "start_time": "2022-09-08T15:01:31.431Z"
   },
   {
    "duration": 6,
    "start_time": "2022-09-08T15:01:31.448Z"
   },
   {
    "duration": 7,
    "start_time": "2022-09-08T15:01:31.456Z"
   },
   {
    "duration": 477,
    "start_time": "2022-09-08T15:01:31.464Z"
   },
   {
    "duration": 5,
    "start_time": "2022-09-08T15:01:31.943Z"
   },
   {
    "duration": 12,
    "start_time": "2022-09-08T15:01:31.950Z"
   },
   {
    "duration": 3,
    "start_time": "2022-09-08T15:01:36.281Z"
   },
   {
    "duration": 880,
    "start_time": "2022-09-08T15:01:37.864Z"
   },
   {
    "duration": 1331,
    "start_time": "2022-09-08T15:01:51.241Z"
   },
   {
    "duration": 926,
    "start_time": "2022-09-08T15:05:21.140Z"
   },
   {
    "duration": 984,
    "start_time": "2022-09-08T15:05:48.111Z"
   },
   {
    "duration": 118,
    "start_time": "2022-09-08T15:33:36.413Z"
   },
   {
    "duration": 1728,
    "start_time": "2022-09-08T15:33:41.580Z"
   },
   {
    "duration": 1727,
    "start_time": "2022-09-08T15:44:33.292Z"
   },
   {
    "duration": 749,
    "start_time": "2022-09-08T15:52:53.598Z"
   },
   {
    "duration": 56,
    "start_time": "2022-09-08T15:55:26.882Z"
   },
   {
    "duration": 45,
    "start_time": "2022-09-08T15:55:32.913Z"
   },
   {
    "duration": 1329,
    "start_time": "2022-09-08T15:55:34.282Z"
   },
   {
    "duration": 3,
    "start_time": "2022-09-08T15:59:54.626Z"
   },
   {
    "duration": 45,
    "start_time": "2022-09-08T16:00:38.780Z"
   },
   {
    "duration": 23,
    "start_time": "2022-09-08T16:01:39.934Z"
   },
   {
    "duration": 15,
    "start_time": "2022-09-08T16:04:02.893Z"
   },
   {
    "duration": 2167,
    "start_time": "2022-09-08T16:05:09.408Z"
   },
   {
    "duration": 84,
    "start_time": "2022-09-08T16:05:11.576Z"
   },
   {
    "duration": 2102,
    "start_time": "2022-09-08T16:05:24.443Z"
   },
   {
    "duration": 81,
    "start_time": "2022-09-08T16:05:27.296Z"
   },
   {
    "duration": 160,
    "start_time": "2022-09-08T16:05:32.507Z"
   },
   {
    "duration": 6,
    "start_time": "2022-09-08T16:05:34.103Z"
   },
   {
    "duration": 10,
    "start_time": "2022-09-08T16:05:34.621Z"
   },
   {
    "duration": 8,
    "start_time": "2022-09-08T16:05:35.017Z"
   },
   {
    "duration": 8,
    "start_time": "2022-09-08T16:05:35.375Z"
   },
   {
    "duration": 9,
    "start_time": "2022-09-08T16:05:35.758Z"
   },
   {
    "duration": 11,
    "start_time": "2022-09-08T16:05:36.172Z"
   },
   {
    "duration": 3,
    "start_time": "2022-09-08T16:05:36.854Z"
   },
   {
    "duration": 5,
    "start_time": "2022-09-08T16:05:37.265Z"
   },
   {
    "duration": 390,
    "start_time": "2022-09-08T16:05:38.768Z"
   },
   {
    "duration": 2186,
    "start_time": "2022-09-08T16:06:03.791Z"
   },
   {
    "duration": 88,
    "start_time": "2022-09-08T16:06:05.979Z"
   },
   {
    "duration": 186,
    "start_time": "2022-09-08T16:06:06.069Z"
   },
   {
    "duration": 7,
    "start_time": "2022-09-08T16:06:06.258Z"
   },
   {
    "duration": 9,
    "start_time": "2022-09-08T16:06:06.266Z"
   },
   {
    "duration": 7,
    "start_time": "2022-09-08T16:06:06.403Z"
   },
   {
    "duration": 9,
    "start_time": "2022-09-08T16:06:06.620Z"
   },
   {
    "duration": 8,
    "start_time": "2022-09-08T16:06:06.856Z"
   },
   {
    "duration": 10,
    "start_time": "2022-09-08T16:06:07.107Z"
   },
   {
    "duration": 3,
    "start_time": "2022-09-08T16:06:07.324Z"
   },
   {
    "duration": 5,
    "start_time": "2022-09-08T16:06:07.591Z"
   },
   {
    "duration": 422,
    "start_time": "2022-09-08T16:06:08.758Z"
   },
   {
    "duration": 5,
    "start_time": "2022-09-08T16:06:10.889Z"
   },
   {
    "duration": 3,
    "start_time": "2022-09-08T16:06:11.107Z"
   },
   {
    "duration": 733,
    "start_time": "2022-09-08T16:06:11.504Z"
   },
   {
    "duration": 1252,
    "start_time": "2022-09-08T16:06:12.239Z"
   },
   {
    "duration": 901,
    "start_time": "2022-09-08T16:06:13.493Z"
   },
   {
    "duration": 1603,
    "start_time": "2022-09-08T16:06:14.396Z"
   },
   {
    "duration": 755,
    "start_time": "2022-09-08T16:06:16.001Z"
   },
   {
    "duration": 1390,
    "start_time": "2022-09-08T16:06:16.758Z"
   },
   {
    "duration": 3,
    "start_time": "2022-09-08T16:06:18.150Z"
   },
   {
    "duration": 14,
    "start_time": "2022-09-08T16:06:18.155Z"
   },
   {
    "duration": 30,
    "start_time": "2022-09-08T16:06:58.104Z"
   },
   {
    "duration": 23,
    "start_time": "2022-09-08T16:08:11.759Z"
   },
   {
    "duration": 418,
    "start_time": "2022-09-08T16:27:21.010Z"
   },
   {
    "duration": 357,
    "start_time": "2022-09-08T16:33:09.290Z"
   },
   {
    "duration": 3,
    "start_time": "2022-09-08T16:40:18.021Z"
   },
   {
    "duration": 1190,
    "start_time": "2022-09-08T16:40:20.084Z"
   },
   {
    "duration": 759,
    "start_time": "2022-09-09T17:26:02.645Z"
   },
   {
    "duration": 930,
    "start_time": "2022-09-09T17:26:03.406Z"
   },
   {
    "duration": 34,
    "start_time": "2022-09-09T17:26:04.338Z"
   },
   {
    "duration": 52,
    "start_time": "2022-09-09T17:26:04.374Z"
   },
   {
    "duration": 194,
    "start_time": "2022-09-09T17:26:04.429Z"
   },
   {
    "duration": 2226,
    "start_time": "2022-09-09T17:26:04.625Z"
   },
   {
    "duration": 101,
    "start_time": "2022-09-09T17:26:06.853Z"
   },
   {
    "duration": 231,
    "start_time": "2022-09-09T17:26:06.956Z"
   },
   {
    "duration": 5,
    "start_time": "2022-09-09T17:26:07.189Z"
   },
   {
    "duration": 15,
    "start_time": "2022-09-09T17:26:07.196Z"
   },
   {
    "duration": 13,
    "start_time": "2022-09-09T17:26:07.213Z"
   },
   {
    "duration": 13,
    "start_time": "2022-09-09T17:26:07.228Z"
   },
   {
    "duration": 10,
    "start_time": "2022-09-09T17:26:07.243Z"
   },
   {
    "duration": 12,
    "start_time": "2022-09-09T17:26:07.256Z"
   },
   {
    "duration": 9,
    "start_time": "2022-09-09T17:26:07.270Z"
   },
   {
    "duration": 8,
    "start_time": "2022-09-09T17:26:07.280Z"
   },
   {
    "duration": 483,
    "start_time": "2022-09-09T17:26:07.289Z"
   },
   {
    "duration": 6,
    "start_time": "2022-09-09T17:26:07.773Z"
   },
   {
    "duration": 6,
    "start_time": "2022-09-09T17:26:07.780Z"
   },
   {
    "duration": 969,
    "start_time": "2022-09-09T17:26:07.788Z"
   },
   {
    "duration": 1475,
    "start_time": "2022-09-09T17:26:08.759Z"
   },
   {
    "duration": 1009,
    "start_time": "2022-09-09T17:26:10.236Z"
   },
   {
    "duration": 1782,
    "start_time": "2022-09-09T17:26:11.246Z"
   },
   {
    "duration": 746,
    "start_time": "2022-09-09T17:26:13.030Z"
   },
   {
    "duration": 1386,
    "start_time": "2022-09-09T17:26:13.778Z"
   },
   {
    "duration": 4,
    "start_time": "2022-09-09T17:26:15.166Z"
   },
   {
    "duration": 131,
    "start_time": "2022-09-09T17:26:15.172Z"
   },
   {
    "duration": 34,
    "start_time": "2022-09-09T17:26:15.305Z"
   },
   {
    "duration": 470,
    "start_time": "2022-09-09T17:26:15.341Z"
   },
   {
    "duration": 10,
    "start_time": "2022-09-09T17:26:15.812Z"
   },
   {
    "duration": 1414,
    "start_time": "2022-09-09T17:26:39.059Z"
   },
   {
    "duration": 55,
    "start_time": "2022-09-09T17:48:04.736Z"
   },
   {
    "duration": 1707,
    "start_time": "2022-09-09T17:48:11.940Z"
   },
   {
    "duration": 1778,
    "start_time": "2022-09-09T17:53:32.021Z"
   },
   {
    "duration": 59,
    "start_time": "2022-09-09T17:53:56.632Z"
   },
   {
    "duration": 1706,
    "start_time": "2022-09-09T17:54:14.989Z"
   },
   {
    "duration": 2196,
    "start_time": "2022-09-09T17:59:34.251Z"
   },
   {
    "duration": 861,
    "start_time": "2022-09-15T13:41:11.625Z"
   },
   {
    "duration": 2274,
    "start_time": "2022-09-15T13:41:12.488Z"
   },
   {
    "duration": 32,
    "start_time": "2022-09-15T13:41:14.764Z"
   },
   {
    "duration": 37,
    "start_time": "2022-09-15T13:41:14.798Z"
   },
   {
    "duration": 119,
    "start_time": "2022-09-15T13:41:14.837Z"
   },
   {
    "duration": 2240,
    "start_time": "2022-09-15T13:41:14.958Z"
   },
   {
    "duration": 99,
    "start_time": "2022-09-15T13:41:17.200Z"
   },
   {
    "duration": 224,
    "start_time": "2022-09-15T13:41:17.301Z"
   },
   {
    "duration": 6,
    "start_time": "2022-09-15T13:41:17.527Z"
   },
   {
    "duration": 7,
    "start_time": "2022-09-15T13:41:17.536Z"
   },
   {
    "duration": 8,
    "start_time": "2022-09-15T13:41:17.544Z"
   },
   {
    "duration": 9,
    "start_time": "2022-09-15T13:41:17.554Z"
   },
   {
    "duration": 9,
    "start_time": "2022-09-15T13:41:17.589Z"
   },
   {
    "duration": 10,
    "start_time": "2022-09-15T13:41:17.600Z"
   },
   {
    "duration": 8,
    "start_time": "2022-09-15T13:41:17.612Z"
   },
   {
    "duration": 6,
    "start_time": "2022-09-15T13:41:17.621Z"
   },
   {
    "duration": 482,
    "start_time": "2022-09-15T13:41:17.629Z"
   },
   {
    "duration": 5,
    "start_time": "2022-09-15T13:41:18.112Z"
   },
   {
    "duration": 5,
    "start_time": "2022-09-15T13:41:18.118Z"
   },
   {
    "duration": 992,
    "start_time": "2022-09-15T13:41:18.125Z"
   },
   {
    "duration": 1415,
    "start_time": "2022-09-15T13:41:19.118Z"
   },
   {
    "duration": 1024,
    "start_time": "2022-09-15T13:41:20.535Z"
   },
   {
    "duration": 1929,
    "start_time": "2022-09-15T13:41:21.561Z"
   },
   {
    "duration": 745,
    "start_time": "2022-09-15T13:41:23.492Z"
   },
   {
    "duration": 1400,
    "start_time": "2022-09-15T13:41:24.239Z"
   },
   {
    "duration": 4,
    "start_time": "2022-09-15T13:41:25.641Z"
   },
   {
    "duration": 129,
    "start_time": "2022-09-15T13:41:25.647Z"
   },
   {
    "duration": 29,
    "start_time": "2022-09-15T13:41:25.779Z"
   },
   {
    "duration": 443,
    "start_time": "2022-09-15T13:41:25.810Z"
   },
   {
    "duration": 2,
    "start_time": "2022-09-15T13:41:26.255Z"
   },
   {
    "duration": 1313,
    "start_time": "2022-09-15T13:41:26.259Z"
   },
   {
    "duration": 1729,
    "start_time": "2022-09-15T13:41:27.574Z"
   },
   {
    "duration": 1813,
    "start_time": "2022-09-15T13:41:29.305Z"
   },
   {
    "duration": 2561,
    "start_time": "2022-09-15T13:41:31.121Z"
   },
   {
    "duration": 598,
    "start_time": "2022-09-15T18:27:03.410Z"
   },
   {
    "duration": 1910,
    "start_time": "2022-09-15T18:27:04.010Z"
   },
   {
    "duration": 27,
    "start_time": "2022-09-15T18:27:05.921Z"
   },
   {
    "duration": 31,
    "start_time": "2022-09-15T18:27:05.950Z"
   },
   {
    "duration": 101,
    "start_time": "2022-09-15T18:27:05.983Z"
   },
   {
    "duration": 2148,
    "start_time": "2022-09-15T18:27:06.085Z"
   },
   {
    "duration": 84,
    "start_time": "2022-09-15T18:27:08.235Z"
   },
   {
    "duration": 199,
    "start_time": "2022-09-15T18:27:08.321Z"
   },
   {
    "duration": 6,
    "start_time": "2022-09-15T18:27:08.522Z"
   },
   {
    "duration": 8,
    "start_time": "2022-09-15T18:27:08.531Z"
   },
   {
    "duration": 9,
    "start_time": "2022-09-15T18:27:08.540Z"
   },
   {
    "duration": 11,
    "start_time": "2022-09-15T18:27:08.550Z"
   },
   {
    "duration": 8,
    "start_time": "2022-09-15T18:27:08.576Z"
   },
   {
    "duration": 9,
    "start_time": "2022-09-15T18:27:08.585Z"
   },
   {
    "duration": 6,
    "start_time": "2022-09-15T18:27:08.595Z"
   },
   {
    "duration": 5,
    "start_time": "2022-09-15T18:27:08.603Z"
   },
   {
    "duration": 422,
    "start_time": "2022-09-15T18:27:08.609Z"
   },
   {
    "duration": 5,
    "start_time": "2022-09-15T18:27:09.033Z"
   },
   {
    "duration": 5,
    "start_time": "2022-09-15T18:27:09.039Z"
   },
   {
    "duration": 772,
    "start_time": "2022-09-15T18:27:09.045Z"
   },
   {
    "duration": 1242,
    "start_time": "2022-09-15T18:27:09.819Z"
   },
   {
    "duration": 905,
    "start_time": "2022-09-15T18:27:11.063Z"
   },
   {
    "duration": 1747,
    "start_time": "2022-09-15T18:27:11.970Z"
   },
   {
    "duration": 684,
    "start_time": "2022-09-15T18:27:13.719Z"
   },
   {
    "duration": 1233,
    "start_time": "2022-09-15T18:27:14.404Z"
   },
   {
    "duration": 4,
    "start_time": "2022-09-15T18:27:15.638Z"
   },
   {
    "duration": 116,
    "start_time": "2022-09-15T18:27:15.643Z"
   },
   {
    "duration": 29,
    "start_time": "2022-09-15T18:27:15.762Z"
   },
   {
    "duration": 418,
    "start_time": "2022-09-15T18:27:15.792Z"
   },
   {
    "duration": 2,
    "start_time": "2022-09-15T18:27:16.212Z"
   },
   {
    "duration": 1169,
    "start_time": "2022-09-15T18:27:16.215Z"
   },
   {
    "duration": 1629,
    "start_time": "2022-09-15T18:27:17.386Z"
   },
   {
    "duration": 1704,
    "start_time": "2022-09-15T18:27:19.017Z"
   },
   {
    "duration": 2217,
    "start_time": "2022-09-15T18:27:20.722Z"
   },
   {
    "duration": 883,
    "start_time": "2022-09-16T09:47:23.765Z"
   },
   {
    "duration": 1031,
    "start_time": "2022-09-16T09:47:24.650Z"
   },
   {
    "duration": 46,
    "start_time": "2022-09-16T09:47:25.683Z"
   },
   {
    "duration": 39,
    "start_time": "2022-09-16T09:47:25.731Z"
   },
   {
    "duration": 155,
    "start_time": "2022-09-16T09:47:25.772Z"
   },
   {
    "duration": 2494,
    "start_time": "2022-09-16T09:47:25.937Z"
   },
   {
    "duration": 97,
    "start_time": "2022-09-16T09:47:28.432Z"
   },
   {
    "duration": 217,
    "start_time": "2022-09-16T09:47:28.530Z"
   },
   {
    "duration": 6,
    "start_time": "2022-09-16T09:47:28.748Z"
   },
   {
    "duration": 15,
    "start_time": "2022-09-16T09:47:28.756Z"
   },
   {
    "duration": 20,
    "start_time": "2022-09-16T09:47:28.772Z"
   },
   {
    "duration": 44,
    "start_time": "2022-09-16T09:47:28.793Z"
   },
   {
    "duration": 19,
    "start_time": "2022-09-16T09:47:28.839Z"
   },
   {
    "duration": 12,
    "start_time": "2022-09-16T09:47:28.860Z"
   },
   {
    "duration": 10,
    "start_time": "2022-09-16T09:47:28.874Z"
   },
   {
    "duration": 7,
    "start_time": "2022-09-16T09:47:28.886Z"
   },
   {
    "duration": 477,
    "start_time": "2022-09-16T09:47:28.894Z"
   },
   {
    "duration": 5,
    "start_time": "2022-09-16T09:47:29.372Z"
   },
   {
    "duration": 5,
    "start_time": "2022-09-16T09:47:29.378Z"
   },
   {
    "duration": 876,
    "start_time": "2022-09-16T09:47:29.385Z"
   },
   {
    "duration": 1345,
    "start_time": "2022-09-16T09:47:30.262Z"
   },
   {
    "duration": 1069,
    "start_time": "2022-09-16T09:47:31.608Z"
   },
   {
    "duration": 1957,
    "start_time": "2022-09-16T09:47:32.679Z"
   },
   {
    "duration": 714,
    "start_time": "2022-09-16T09:47:34.638Z"
   },
   {
    "duration": 1444,
    "start_time": "2022-09-16T09:47:35.354Z"
   },
   {
    "duration": 32,
    "start_time": "2022-09-16T09:47:36.799Z"
   },
   {
    "duration": 129,
    "start_time": "2022-09-16T09:47:36.834Z"
   },
   {
    "duration": 22,
    "start_time": "2022-09-16T09:47:36.965Z"
   },
   {
    "duration": 447,
    "start_time": "2022-09-16T09:47:36.988Z"
   },
   {
    "duration": 13,
    "start_time": "2022-09-16T09:47:37.437Z"
   },
   {
    "duration": 1120,
    "start_time": "2022-09-16T09:47:37.451Z"
   },
   {
    "duration": 1586,
    "start_time": "2022-09-16T09:47:38.573Z"
   },
   {
    "duration": 1644,
    "start_time": "2022-09-16T09:47:40.161Z"
   },
   {
    "duration": 2116,
    "start_time": "2022-09-16T09:47:41.807Z"
   },
   {
    "duration": 51,
    "start_time": "2022-09-29T11:28:46.110Z"
   },
   {
    "duration": 862,
    "start_time": "2022-09-29T11:28:51.034Z"
   },
   {
    "duration": 2432,
    "start_time": "2022-09-29T11:28:51.905Z"
   },
   {
    "duration": 32,
    "start_time": "2022-09-29T11:28:54.339Z"
   },
   {
    "duration": 40,
    "start_time": "2022-09-29T11:28:54.373Z"
   },
   {
    "duration": 122,
    "start_time": "2022-09-29T11:28:54.416Z"
   },
   {
    "duration": 2705,
    "start_time": "2022-09-29T11:28:54.540Z"
   },
   {
    "duration": 100,
    "start_time": "2022-09-29T11:28:57.247Z"
   },
   {
    "duration": 239,
    "start_time": "2022-09-29T11:28:57.349Z"
   },
   {
    "duration": 14,
    "start_time": "2022-09-29T11:28:57.595Z"
   },
   {
    "duration": 10,
    "start_time": "2022-09-29T11:28:57.614Z"
   },
   {
    "duration": 26,
    "start_time": "2022-09-29T11:28:57.626Z"
   },
   {
    "duration": 15,
    "start_time": "2022-09-29T11:28:57.654Z"
   },
   {
    "duration": 12,
    "start_time": "2022-09-29T11:28:57.671Z"
   },
   {
    "duration": 22,
    "start_time": "2022-09-29T11:28:57.686Z"
   },
   {
    "duration": 11,
    "start_time": "2022-09-29T11:28:57.709Z"
   },
   {
    "duration": 8,
    "start_time": "2022-09-29T11:28:57.722Z"
   },
   {
    "duration": 516,
    "start_time": "2022-09-29T11:28:57.732Z"
   },
   {
    "duration": 6,
    "start_time": "2022-09-29T11:28:58.250Z"
   },
   {
    "duration": 8,
    "start_time": "2022-09-29T11:28:58.258Z"
   },
   {
    "duration": 109,
    "start_time": "2022-09-29T11:28:58.268Z"
   },
   {
    "duration": 29,
    "start_time": "2022-09-29T11:29:00.416Z"
   },
   {
    "duration": 268,
    "start_time": "2022-09-29T11:29:02.141Z"
   },
   {
    "duration": 46,
    "start_time": "2022-09-29T11:31:13.271Z"
   },
   {
    "duration": 103,
    "start_time": "2022-09-29T11:34:12.511Z"
   },
   {
    "duration": 533,
    "start_time": "2022-09-29T11:35:11.581Z"
   },
   {
    "duration": 182,
    "start_time": "2022-09-29T11:36:01.911Z"
   },
   {
    "duration": 82,
    "start_time": "2022-09-29T11:38:16.465Z"
   },
   {
    "duration": 300,
    "start_time": "2022-09-29T11:38:27.184Z"
   },
   {
    "duration": 58,
    "start_time": "2022-09-29T11:40:10.857Z"
   },
   {
    "duration": 678,
    "start_time": "2022-09-29T11:40:36.278Z"
   },
   {
    "duration": 40,
    "start_time": "2022-09-29T11:48:07.418Z"
   },
   {
    "duration": 80,
    "start_time": "2022-09-29T11:51:08.272Z"
   },
   {
    "duration": 38,
    "start_time": "2022-09-29T11:51:17.093Z"
   },
   {
    "duration": 40,
    "start_time": "2022-09-29T11:51:54.275Z"
   },
   {
    "duration": 29,
    "start_time": "2022-09-29T11:51:58.151Z"
   },
   {
    "duration": 32,
    "start_time": "2022-09-29T11:52:57.223Z"
   },
   {
    "duration": 43,
    "start_time": "2022-09-29T11:55:25.641Z"
   },
   {
    "duration": 49,
    "start_time": "2022-09-29T11:55:34.288Z"
   },
   {
    "duration": 50,
    "start_time": "2022-09-29T11:55:46.604Z"
   },
   {
    "duration": 3,
    "start_time": "2022-09-29T11:55:51.707Z"
   },
   {
    "duration": 665,
    "start_time": "2022-09-29T11:55:51.713Z"
   },
   {
    "duration": 33,
    "start_time": "2022-09-29T11:55:52.380Z"
   },
   {
    "duration": 26,
    "start_time": "2022-09-29T11:55:52.415Z"
   },
   {
    "duration": 121,
    "start_time": "2022-09-29T11:55:52.444Z"
   },
   {
    "duration": 2616,
    "start_time": "2022-09-29T11:55:52.566Z"
   },
   {
    "duration": 123,
    "start_time": "2022-09-29T11:55:55.184Z"
   },
   {
    "duration": 198,
    "start_time": "2022-09-29T11:55:55.309Z"
   },
   {
    "duration": 7,
    "start_time": "2022-09-29T11:55:55.508Z"
   },
   {
    "duration": 9,
    "start_time": "2022-09-29T11:55:55.516Z"
   },
   {
    "duration": 12,
    "start_time": "2022-09-29T11:55:55.527Z"
   },
   {
    "duration": 16,
    "start_time": "2022-09-29T11:55:55.541Z"
   },
   {
    "duration": 10,
    "start_time": "2022-09-29T11:55:55.558Z"
   },
   {
    "duration": 11,
    "start_time": "2022-09-29T11:55:55.571Z"
   },
   {
    "duration": 13,
    "start_time": "2022-09-29T11:55:55.583Z"
   },
   {
    "duration": 17,
    "start_time": "2022-09-29T11:55:55.606Z"
   },
   {
    "duration": 461,
    "start_time": "2022-09-29T11:55:55.625Z"
   },
   {
    "duration": 20,
    "start_time": "2022-09-29T11:55:56.088Z"
   },
   {
    "duration": 6,
    "start_time": "2022-09-29T11:55:57.508Z"
   },
   {
    "duration": 60,
    "start_time": "2022-09-29T11:55:58.854Z"
   },
   {
    "duration": 48,
    "start_time": "2022-09-29T11:57:36.209Z"
   },
   {
    "duration": 48,
    "start_time": "2022-09-29T11:57:50.855Z"
   },
   {
    "duration": 34,
    "start_time": "2022-09-29T11:58:20.717Z"
   },
   {
    "duration": 35,
    "start_time": "2022-09-29T11:58:34.153Z"
   },
   {
    "duration": 57,
    "start_time": "2022-09-29T11:59:06.121Z"
   },
   {
    "duration": 48,
    "start_time": "2022-09-29T12:01:06.815Z"
   },
   {
    "duration": 53,
    "start_time": "2022-09-29T12:01:26.052Z"
   },
   {
    "duration": 36,
    "start_time": "2022-09-29T12:06:49.480Z"
   },
   {
    "duration": 34,
    "start_time": "2022-09-29T12:11:14.785Z"
   },
   {
    "duration": 39,
    "start_time": "2022-09-29T12:11:32.376Z"
   },
   {
    "duration": 38,
    "start_time": "2022-09-29T12:12:38.431Z"
   },
   {
    "duration": 38,
    "start_time": "2022-09-29T12:14:16.587Z"
   },
   {
    "duration": 41,
    "start_time": "2022-09-29T12:15:57.565Z"
   },
   {
    "duration": 41,
    "start_time": "2022-09-29T12:16:42.030Z"
   },
   {
    "duration": 38,
    "start_time": "2022-09-29T12:18:44.745Z"
   },
   {
    "duration": 76,
    "start_time": "2022-09-29T12:19:41.819Z"
   },
   {
    "duration": 4,
    "start_time": "2022-09-29T12:19:55.661Z"
   },
   {
    "duration": 16,
    "start_time": "2022-09-29T12:20:22.529Z"
   },
   {
    "duration": 1380,
    "start_time": "2022-09-29T12:20:24.662Z"
   },
   {
    "duration": 1688,
    "start_time": "2022-09-29T12:20:39.119Z"
   },
   {
    "duration": 1747,
    "start_time": "2022-09-29T12:20:48.337Z"
   },
   {
    "duration": 2329,
    "start_time": "2022-09-29T12:20:50.086Z"
   },
   {
    "duration": 3,
    "start_time": "2022-09-29T12:50:21.422Z"
   },
   {
    "duration": 657,
    "start_time": "2022-09-29T12:50:21.427Z"
   },
   {
    "duration": 30,
    "start_time": "2022-09-29T12:50:22.086Z"
   },
   {
    "duration": 23,
    "start_time": "2022-09-29T12:50:22.118Z"
   },
   {
    "duration": 127,
    "start_time": "2022-09-29T12:50:22.143Z"
   },
   {
    "duration": 2653,
    "start_time": "2022-09-29T12:50:22.272Z"
   },
   {
    "duration": 97,
    "start_time": "2022-09-29T12:50:24.927Z"
   },
   {
    "duration": 214,
    "start_time": "2022-09-29T12:50:25.025Z"
   },
   {
    "duration": 6,
    "start_time": "2022-09-29T12:50:25.241Z"
   },
   {
    "duration": 12,
    "start_time": "2022-09-29T12:50:25.249Z"
   },
   {
    "duration": 9,
    "start_time": "2022-09-29T12:50:25.262Z"
   },
   {
    "duration": 24,
    "start_time": "2022-09-29T12:50:25.272Z"
   },
   {
    "duration": 13,
    "start_time": "2022-09-29T12:50:25.298Z"
   },
   {
    "duration": 11,
    "start_time": "2022-09-29T12:50:25.314Z"
   },
   {
    "duration": 6,
    "start_time": "2022-09-29T12:50:25.327Z"
   },
   {
    "duration": 6,
    "start_time": "2022-09-29T12:50:25.335Z"
   },
   {
    "duration": 477,
    "start_time": "2022-09-29T12:50:25.343Z"
   },
   {
    "duration": 6,
    "start_time": "2022-09-29T12:50:25.822Z"
   },
   {
    "duration": 46,
    "start_time": "2022-09-29T12:50:25.829Z"
   },
   {
    "duration": 55,
    "start_time": "2022-09-29T12:50:25.877Z"
   },
   {
    "duration": 37,
    "start_time": "2022-09-29T12:50:25.934Z"
   },
   {
    "duration": 4,
    "start_time": "2022-09-29T12:50:25.994Z"
   },
   {
    "duration": 13,
    "start_time": "2022-09-29T12:50:26.000Z"
   },
   {
    "duration": 28,
    "start_time": "2022-09-29T12:50:26.014Z"
   },
   {
    "duration": 77,
    "start_time": "2022-09-29T12:50:26.043Z"
   },
   {
    "duration": 676,
    "start_time": "2022-09-29T12:50:26.122Z"
   },
   {
    "duration": 419,
    "start_time": "2022-09-29T12:50:26.799Z"
   },
   {
    "duration": 4,
    "start_time": "2022-09-29T12:50:27.220Z"
   },
   {
    "duration": 857,
    "start_time": "2022-09-29T12:50:27.226Z"
   },
   {
    "duration": 1483,
    "start_time": "2022-09-29T12:50:28.086Z"
   },
   {
    "duration": 1076,
    "start_time": "2022-09-29T12:50:29.571Z"
   },
   {
    "duration": 1902,
    "start_time": "2022-09-29T12:50:30.649Z"
   },
   {
    "duration": 981,
    "start_time": "2022-09-29T12:50:32.553Z"
   },
   {
    "duration": 1489,
    "start_time": "2022-09-29T12:50:33.536Z"
   },
   {
    "duration": 14,
    "start_time": "2022-09-29T12:50:35.028Z"
   },
   {
    "duration": 1402,
    "start_time": "2022-09-29T12:50:35.044Z"
   },
   {
    "duration": 1921,
    "start_time": "2022-09-29T12:50:36.447Z"
   },
   {
    "duration": 1694,
    "start_time": "2022-09-29T12:50:38.370Z"
   },
   {
    "duration": 2335,
    "start_time": "2022-09-29T12:50:40.066Z"
   },
   {
    "duration": 670,
    "start_time": "2022-09-29T13:31:28.222Z"
   },
   {
    "duration": 599,
    "start_time": "2022-09-29T13:31:28.893Z"
   },
   {
    "duration": 39,
    "start_time": "2022-09-29T13:31:29.493Z"
   },
   {
    "duration": 32,
    "start_time": "2022-09-29T13:31:29.533Z"
   },
   {
    "duration": 125,
    "start_time": "2022-09-29T13:31:29.567Z"
   },
   {
    "duration": 2478,
    "start_time": "2022-09-29T13:31:29.694Z"
   },
   {
    "duration": 89,
    "start_time": "2022-09-29T13:31:32.174Z"
   },
   {
    "duration": 214,
    "start_time": "2022-09-29T13:31:32.265Z"
   },
   {
    "duration": 6,
    "start_time": "2022-09-29T13:31:32.481Z"
   },
   {
    "duration": 21,
    "start_time": "2022-09-29T13:31:32.488Z"
   },
   {
    "duration": 44,
    "start_time": "2022-09-29T13:31:32.510Z"
   },
   {
    "duration": 13,
    "start_time": "2022-09-29T13:31:32.556Z"
   },
   {
    "duration": 53,
    "start_time": "2022-09-29T13:31:32.571Z"
   },
   {
    "duration": 67,
    "start_time": "2022-09-29T13:31:32.629Z"
   },
   {
    "duration": 64,
    "start_time": "2022-09-29T13:31:32.698Z"
   },
   {
    "duration": 34,
    "start_time": "2022-09-29T13:31:32.764Z"
   },
   {
    "duration": 551,
    "start_time": "2022-09-29T13:31:32.800Z"
   },
   {
    "duration": 5,
    "start_time": "2022-09-29T13:31:33.353Z"
   },
   {
    "duration": 78,
    "start_time": "2022-09-29T13:31:33.360Z"
   },
   {
    "duration": 36,
    "start_time": "2022-09-29T13:31:33.439Z"
   },
   {
    "duration": 50,
    "start_time": "2022-09-29T13:31:33.476Z"
   },
   {
    "duration": 3,
    "start_time": "2022-09-29T13:31:33.528Z"
   },
   {
    "duration": 99,
    "start_time": "2022-09-29T13:31:33.533Z"
   },
   {
    "duration": 25,
    "start_time": "2022-09-29T13:31:33.634Z"
   },
   {
    "duration": 57,
    "start_time": "2022-09-29T13:31:33.661Z"
   },
   {
    "duration": 603,
    "start_time": "2022-09-29T13:31:33.725Z"
   },
   {
    "duration": 450,
    "start_time": "2022-09-29T13:31:34.330Z"
   },
   {
    "duration": 3,
    "start_time": "2022-09-29T13:31:34.782Z"
   },
   {
    "duration": 883,
    "start_time": "2022-09-29T13:31:34.787Z"
   },
   {
    "duration": 1466,
    "start_time": "2022-09-29T13:31:35.672Z"
   },
   {
    "duration": 1059,
    "start_time": "2022-09-29T13:31:37.140Z"
   },
   {
    "duration": 1791,
    "start_time": "2022-09-29T13:31:38.201Z"
   },
   {
    "duration": 784,
    "start_time": "2022-09-29T13:31:39.994Z"
   },
   {
    "duration": 1480,
    "start_time": "2022-09-29T13:31:40.780Z"
   },
   {
    "duration": 16,
    "start_time": "2022-09-29T13:31:42.262Z"
   },
   {
    "duration": 1286,
    "start_time": "2022-09-29T13:31:42.280Z"
   },
   {
    "duration": 1715,
    "start_time": "2022-09-29T13:31:43.568Z"
   },
   {
    "duration": 1648,
    "start_time": "2022-09-29T13:31:45.284Z"
   },
   {
    "duration": 2194,
    "start_time": "2022-09-29T13:31:46.933Z"
   },
   {
    "duration": 848,
    "start_time": "2023-02-06T18:35:44.557Z"
   },
   {
    "duration": 2083,
    "start_time": "2023-02-06T18:35:45.408Z"
   },
   {
    "duration": 44,
    "start_time": "2023-02-06T18:35:47.493Z"
   },
   {
    "duration": 39,
    "start_time": "2023-02-06T18:35:47.539Z"
   },
   {
    "duration": 113,
    "start_time": "2023-02-06T18:35:47.580Z"
   },
   {
    "duration": 2354,
    "start_time": "2023-02-06T18:35:47.695Z"
   },
   {
    "duration": 112,
    "start_time": "2023-02-06T18:35:50.051Z"
   },
   {
    "duration": 325,
    "start_time": "2023-02-06T18:35:50.165Z"
   },
   {
    "duration": 12,
    "start_time": "2023-02-06T18:35:50.492Z"
   },
   {
    "duration": 24,
    "start_time": "2023-02-06T18:35:50.507Z"
   },
   {
    "duration": 12,
    "start_time": "2023-02-06T18:35:50.533Z"
   },
   {
    "duration": 22,
    "start_time": "2023-02-06T18:35:50.547Z"
   },
   {
    "duration": 12,
    "start_time": "2023-02-06T18:35:50.571Z"
   },
   {
    "duration": 19,
    "start_time": "2023-02-06T18:35:50.585Z"
   },
   {
    "duration": 17,
    "start_time": "2023-02-06T18:35:50.606Z"
   },
   {
    "duration": 9,
    "start_time": "2023-02-06T18:35:50.628Z"
   },
   {
    "duration": 484,
    "start_time": "2023-02-06T18:35:50.639Z"
   },
   {
    "duration": 6,
    "start_time": "2023-02-06T18:35:51.127Z"
   },
   {
    "duration": 54,
    "start_time": "2023-02-06T18:35:51.134Z"
   },
   {
    "duration": 56,
    "start_time": "2023-02-06T18:35:51.190Z"
   },
   {
    "duration": 34,
    "start_time": "2023-02-06T18:35:51.247Z"
   },
   {
    "duration": 4,
    "start_time": "2023-02-06T18:35:51.284Z"
   },
   {
    "duration": 144,
    "start_time": "2023-02-06T18:35:51.290Z"
   },
   {
    "duration": 36,
    "start_time": "2023-02-06T18:35:51.436Z"
   },
   {
    "duration": 70,
    "start_time": "2023-02-06T18:35:51.474Z"
   },
   {
    "duration": 631,
    "start_time": "2023-02-06T18:35:51.546Z"
   },
   {
    "duration": 538,
    "start_time": "2023-02-06T18:35:52.178Z"
   },
   {
    "duration": 8,
    "start_time": "2023-02-06T18:35:52.720Z"
   },
   {
    "duration": 983,
    "start_time": "2023-02-06T18:35:52.730Z"
   },
   {
    "duration": 1409,
    "start_time": "2023-02-06T18:35:53.716Z"
   },
   {
    "duration": 980,
    "start_time": "2023-02-06T18:35:55.127Z"
   },
   {
    "duration": 1793,
    "start_time": "2023-02-06T18:35:56.109Z"
   },
   {
    "duration": 786,
    "start_time": "2023-02-06T18:35:57.905Z"
   },
   {
    "duration": 1340,
    "start_time": "2023-02-06T18:35:58.693Z"
   },
   {
    "duration": 14,
    "start_time": "2023-02-06T18:36:00.034Z"
   },
   {
    "duration": 1173,
    "start_time": "2023-02-06T18:36:00.049Z"
   },
   {
    "duration": 1612,
    "start_time": "2023-02-06T18:36:01.223Z"
   },
   {
    "duration": 1546,
    "start_time": "2023-02-06T18:36:02.837Z"
   },
   {
    "duration": 2085,
    "start_time": "2023-02-06T18:36:04.385Z"
   },
   {
    "duration": 17,
    "start_time": "2023-02-06T18:37:06.954Z"
   }
  ],
  "kernelspec": {
   "display_name": "Python 3 (ipykernel)",
   "language": "python",
   "name": "python3"
  },
  "language_info": {
   "codemirror_mode": {
    "name": "ipython",
    "version": 3
   },
   "file_extension": ".py",
   "mimetype": "text/x-python",
   "name": "python",
   "nbconvert_exporter": "python",
   "pygments_lexer": "ipython3",
   "version": "3.9.13"
  },
  "toc": {
   "base_numbering": 1,
   "nav_menu": {},
   "number_sections": true,
   "sideBar": true,
   "skip_h1_title": true,
   "title_cell": "Table of Contents",
   "title_sidebar": "Contents",
   "toc_cell": false,
   "toc_position": {
    "height": "calc(100% - 180px)",
    "left": "10px",
    "top": "150px",
    "width": "252.188px"
   },
   "toc_section_display": true,
   "toc_window_display": false
  }
 },
 "nbformat": 4,
 "nbformat_minor": 4
}
