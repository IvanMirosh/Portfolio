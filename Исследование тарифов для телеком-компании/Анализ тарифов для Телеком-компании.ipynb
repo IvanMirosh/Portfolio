version https://git-lfs.github.com/spec/v1
oid sha256:b24b5c81de8315ee53e5ba27ad9607b9c4fea7c05316e1efed862cd5d9022982
size 46060838
