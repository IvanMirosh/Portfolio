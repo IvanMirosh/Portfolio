version https://git-lfs.github.com/spec/v1
oid sha256:4f57398850b886d330e3a66a92d4c4b33f971ae09a5faf25569a8b2cea9fbe81
size 49875157
