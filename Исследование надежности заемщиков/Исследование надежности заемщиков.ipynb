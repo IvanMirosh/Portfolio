{
 "cells": [
  {
   "cell_type": "markdown",
   "id": "789dac30",
   "metadata": {},
   "source": [
    "# Исследование надежности заемщиков\n",
    "---\n",
    "\n",
    "## Контекст задачи\n",
    "\n",
    "Нужно разобраться, влияет ли семейное положение и количество детей клиента на факт погашения кредита в срок. Входные данные от банка — статистика о платёжеспособности клиентов."
   ]
  },
  {
   "cell_type": "markdown",
   "id": "d6a8283e",
   "metadata": {},
   "source": [
    "## Инструкция по выполнению\n",
    "\n",
    "`Шаг 1.` Откроем таблицу и изучим общую информацию о данных\n",
    "\n",
    "\n",
    "`Шаг 2.` Предобработка данных\n",
    "\n",
    "* Обработаем пропущенные данные \n",
    "* Найдем артефакты(аномалии)\n",
    "* Заменим вещественные типы данных\n",
    "* Обработаем дубликаты\n",
    "* Создадим функцию, которая на основании данных из столбца `purpose` сформирует новый столбец `purpose_category`\n",
    "\n",
    "`Шаг 3.` Ответим на вопросы\n",
    " \n",
    "* Узнаем, есть ли зависимость между количеством детей и возвратом кредита в срок\n",
    "* Узнаем, есть ли зависимость между семейным положением и возвратом кредита в срок\n",
    "* Узнаем, есть ли зависимость между уровнем дохода и возвратом кредита в срок\n",
    "* Узнаем, как разные цели кредита влияют на его возврат в срок\n",
    "\n",
    "`Шаг 4.` Напишем общий вывод\n",
    "\n"
   ]
  },
  {
   "cell_type": "markdown",
   "id": "57cd54c2",
   "metadata": {},
   "source": [
    "## Описание данных\n",
    "\n",
    "* `children` — количество детей в семье\n",
    "* `days_employed` — общий трудовой стаж в днях\n",
    "* `dob_years` — возраст клиента в годах\n",
    "* `education` — уровень образования клиента\n",
    "* `education_id` — идентификатор уровня образования\n",
    "* `family_status` — семейное положение\n",
    "* `family_status_id` — идентификатор семейного положения\n",
    "* `gender` — пол клиента\n",
    "* `income_type` — тип занятости\n",
    "* `debt` — имел ли задолженность по возврату кредитов\n",
    "* `total_income` — ежемесячный доход\n",
    "* `purpose` — цель получения кредита"
   ]
  },
  {
   "cell_type": "markdown",
   "id": "34ce56ef",
   "metadata": {},
   "source": [
    "##   Обзор данных"
   ]
  },
  {
   "cell_type": "code",
   "execution_count": 2,
   "id": "5a73bee9",
   "metadata": {},
   "outputs": [],
   "source": [
    "import pandas as pd"
   ]
  },
  {
   "cell_type": "code",
   "execution_count": 3,
   "id": "19d6300b",
   "metadata": {},
   "outputs": [],
   "source": [
    "try:\n",
    "    data = pd.read_csv('/datasets/data.csv')\n",
    "except:\n",
    "    data = pd.read_csv('/Users/ivan_miroshnichenko/Downloads/datasets/data.csv')"
   ]
  },
  {
   "cell_type": "code",
   "execution_count": null,
   "id": "378070ac",
   "metadata": {},
   "outputs": [],
   "source": [
    "display(data.tail(10))\n",
    "data.info()"
   ]
  },
  {
   "cell_type": "markdown",
   "id": "f66d3c0f",
   "metadata": {},
   "source": [
    "##  Заполнение пропусков"
   ]
  },
  {
   "cell_type": "markdown",
   "id": "9acc0788",
   "metadata": {},
   "source": [
    "Обнаружены пропуски в столбцах `days_employed` и `total_income`. Скорее всего пропуски в этих столбцах связаны с тем, что пользователь решил не заполнять их в форме заявки банка. Количество пропусков в обоих столбцах одинаковое. `Пропуски` составляют `10%` от обшего числа данных. Это весомое, но не очень критичное количество. Для дальнейшей корректной работы эти пропуски необходимо заполнить. В данном случае, так как речь идет о количественных переменных, верннее всего было бы заполнить пропуски значением медианы для каждого столбца. Выбираем медиану потому что она робастна к выбросам, то есть исключает влияние преобладания крайне высоких и крайне низких значений. "
   ]
  },
  {
   "cell_type": "code",
   "execution_count": 4,
   "id": "2b9d2d68",
   "metadata": {},
   "outputs": [
    {
     "data": {
      "text/plain": [
       "children               0\n",
       "days_employed       2174\n",
       "dob_years              0\n",
       "education              0\n",
       "education_id           0\n",
       "family_status          0\n",
       "family_status_id       0\n",
       "gender                 0\n",
       "income_type            0\n",
       "debt                   0\n",
       "total_income        2174\n",
       "purpose                0\n",
       "dtype: int64"
      ]
     },
     "metadata": {},
     "output_type": "display_data"
    },
    {
     "data": {
      "text/plain": [
       "145017.93753253992"
      ]
     },
     "metadata": {},
     "output_type": "display_data"
    },
    {
     "name": "stdout",
     "output_type": "stream",
     "text": [
      "<class 'pandas.core.frame.DataFrame'>\n",
      "RangeIndex: 21525 entries, 0 to 21524\n",
      "Data columns (total 12 columns):\n",
      " #   Column            Non-Null Count  Dtype  \n",
      "---  ------            --------------  -----  \n",
      " 0   children          21525 non-null  int64  \n",
      " 1   days_employed     19351 non-null  float64\n",
      " 2   dob_years         21525 non-null  int64  \n",
      " 3   education         21525 non-null  object \n",
      " 4   education_id      21525 non-null  int64  \n",
      " 5   family_status     21525 non-null  object \n",
      " 6   family_status_id  21525 non-null  int64  \n",
      " 7   gender            21525 non-null  object \n",
      " 8   income_type       21525 non-null  object \n",
      " 9   debt              21525 non-null  int64  \n",
      " 10  total_income      21525 non-null  float64\n",
      " 11  purpose           21525 non-null  object \n",
      "dtypes: float64(2), int64(5), object(5)\n",
      "memory usage: 2.0+ MB\n"
     ]
    }
   ],
   "source": [
    "display(data.isna().sum())\n",
    "#print(data['total_income'].isna().sum() / (len(data['total_income']) / 100)) #какой процент от общего числа значений составляют пропуски\n",
    "display(data['total_income'].median())\n",
    "data['total_income'] = data['total_income'].fillna(data['total_income'].median())\n",
    "data.info()\n",
    "\n"
   ]
  },
  {
   "cell_type": "markdown",
   "id": "35ef801b",
   "metadata": {},
   "source": [
    "В столбцах `days_employed` и `children` найдены аномалии с отрицательными значениями в столбцах. В случае с `days_employed` возможно это связано с некорректным переводом в `unix time` формат. Чтобы решить эту проблему, привели все значения по модулю."
   ]
  },
  {
   "cell_type": "code",
   "execution_count": 5,
   "id": "6abc947b",
   "metadata": {},
   "outputs": [
    {
     "data": {
      "text/plain": [
       "'Максимальный трудовой стаж: 401755.40047533; Минимальный трудовой стаж: -18388.949900568383'"
      ]
     },
     "metadata": {},
     "output_type": "display_data"
    },
    {
     "data": {
      "text/plain": [
       "'Максимальное кол-во детей: 20; Минимальное кол-во детей: -1'"
      ]
     },
     "metadata": {},
     "output_type": "display_data"
    },
    {
     "name": "stdout",
     "output_type": "stream",
     "text": [
      "<class 'pandas.core.frame.DataFrame'>\n",
      "RangeIndex: 21525 entries, 0 to 21524\n",
      "Data columns (total 12 columns):\n",
      " #   Column            Non-Null Count  Dtype  \n",
      "---  ------            --------------  -----  \n",
      " 0   children          21525 non-null  int64  \n",
      " 1   days_employed     21525 non-null  float64\n",
      " 2   dob_years         21525 non-null  int64  \n",
      " 3   education         21525 non-null  object \n",
      " 4   education_id      21525 non-null  int64  \n",
      " 5   family_status     21525 non-null  object \n",
      " 6   family_status_id  21525 non-null  int64  \n",
      " 7   gender            21525 non-null  object \n",
      " 8   income_type       21525 non-null  object \n",
      " 9   debt              21525 non-null  int64  \n",
      " 10  total_income      21525 non-null  float64\n",
      " 11  purpose           21525 non-null  object \n",
      "dtypes: float64(2), int64(5), object(5)\n",
      "memory usage: 2.0+ MB\n"
     ]
    }
   ],
   "source": [
    "display(f\"Максимальный трудовой стаж: {data['days_employed'].max()}; Минимальный трудовой стаж: {data['days_employed'].min()}\")\n",
    "display(f\"Максимальное кол-во детей: {data['children'].max()}; Минимальное кол-во детей: {data['children'].min()}\")\n",
    "data['days_employed'] = data['days_employed'].abs()\n",
    "data['children'] = data['children'].abs()\n",
    "data['days_employed'] = data['days_employed'].fillna(data['days_employed'].median())\n",
    "data.info()"
   ]
  },
  {
   "cell_type": "markdown",
   "id": "be32ac41",
   "metadata": {},
   "source": [
    "## Проверка данных на аномалии и исправления."
   ]
  },
  {
   "cell_type": "code",
   "execution_count": 6,
   "id": "f1759f16",
   "metadata": {},
   "outputs": [
    {
     "name": "stdout",
     "output_type": "stream",
     "text": [
      "<class 'pandas.core.frame.DataFrame'>\n",
      "RangeIndex: 21525 entries, 0 to 21524\n",
      "Data columns (total 12 columns):\n",
      " #   Column            Non-Null Count  Dtype  \n",
      "---  ------            --------------  -----  \n",
      " 0   children          21525 non-null  int64  \n",
      " 1   days_employed     21525 non-null  float64\n",
      " 2   dob_years         21525 non-null  int64  \n",
      " 3   education         21525 non-null  object \n",
      " 4   education_id      21525 non-null  int64  \n",
      " 5   family_status     21525 non-null  object \n",
      " 6   family_status_id  21525 non-null  int64  \n",
      " 7   gender            21525 non-null  object \n",
      " 8   income_type       21525 non-null  object \n",
      " 9   debt              21525 non-null  int64  \n",
      " 10  total_income      21525 non-null  float64\n",
      " 11  purpose           21525 non-null  object \n",
      "dtypes: float64(2), int64(5), object(5)\n",
      "memory usage: 2.0+ MB\n"
     ]
    },
    {
     "data": {
      "text/plain": [
       "0     14149\n",
       "1      4865\n",
       "2      2055\n",
       "3       330\n",
       "20       76\n",
       "4        41\n",
       "5         9\n",
       "Name: children, dtype: int64"
      ]
     },
     "metadata": {},
     "output_type": "display_data"
    }
   ],
   "source": [
    "data.info()\n",
    "display(data['children'].value_counts())\n",
    "data.loc[data['children'] == 20, 'children'] = 2\n",
    "#display(data.loc[data['children'] == 20])"
   ]
  },
  {
   "cell_type": "markdown",
   "id": "d6f5d52d",
   "metadata": {},
   "source": [
    "## Изменение типов данных."
   ]
  },
  {
   "cell_type": "code",
   "execution_count": 7,
   "id": "036d506d",
   "metadata": {},
   "outputs": [],
   "source": [
    "data['total_income'] = data['total_income'].astype('int')\n",
    "data['days_employed'] = data['days_employed'].astype('int')"
   ]
  },
  {
   "cell_type": "markdown",
   "id": "630e8569",
   "metadata": {},
   "source": [
    "## Удаление дубликатов.\n",
    "\n",
    "В столбце `education` встречаются дубликаты значений записаные разным регистром. Наиболее быстрый способ избавиться от дубликатов - применить метод `lower()` к каждому значению столбца. Дубликаты появились из-за того что пользователь не выбирал статус образования заданый формой, а заполнял форму сам, поэтому множились различные варианты записи одних и тех же статусов."
   ]
  },
  {
   "cell_type": "code",
   "execution_count": 8,
   "id": "36b6a79d",
   "metadata": {},
   "outputs": [
    {
     "data": {
      "text/plain": [
       "среднее                15188\n",
       "высшее                  5251\n",
       "неоконченное высшее      744\n",
       "начальное                282\n",
       "ученая степень             6\n",
       "Name: education, dtype: int64"
      ]
     },
     "execution_count": 8,
     "metadata": {},
     "output_type": "execute_result"
    }
   ],
   "source": [
    "#print(f\"Общее кол-во дубликатов: {data.duplicated().sum()}\")\n",
    "data = data.drop_duplicates().reset_index(drop=True)\n",
    "#print(data['education'].value_counts())\n",
    "\n",
    "data['education'] = data['education'].str.lower()\n",
    "\n",
    "data['education'].value_counts() #проверка замены дубликатов"
   ]
  },
  {
   "cell_type": "markdown",
   "id": "6806d0e7",
   "metadata": {},
   "source": [
    "## Формирование дополнительных датафреймов словарей, декомпозиция исходного датафрейма."
   ]
  },
  {
   "cell_type": "code",
   "execution_count": 9,
   "id": "f4d22a71",
   "metadata": {},
   "outputs": [
    {
     "name": "stdout",
     "output_type": "stream",
     "text": [
      "   education_id            education\n",
      "0             0               высшее\n",
      "1             1              среднее\n",
      "2             2  неоконченное высшее\n",
      "3             3            начальное\n",
      "4             4       ученая степень\n",
      "   family_status_id          family_status\n",
      "0                 0        женат / замужем\n",
      "1                 1       гражданский брак\n",
      "2                 2         вдовец / вдова\n",
      "3                 3              в разводе\n",
      "4                 4  Не женат / не замужем\n"
     ]
    }
   ],
   "source": [
    "education_dict = data[['education_id','education']]\n",
    "education_dict = education_dict.drop_duplicates().reset_index(drop=True)\n",
    "print(education_dict.sort_values('education_id'))\n",
    "\n",
    "family_status_dict = data[['family_status_id','family_status']]\n",
    "family_status_dict = family_status_dict.drop_duplicates().reset_index(drop=True)\n",
    "print(family_status_dict.sort_values('family_status_id'))\n"
   ]
  },
  {
   "cell_type": "code",
   "execution_count": 10,
   "id": "0f2ee711",
   "metadata": {},
   "outputs": [
    {
     "data": {
      "text/html": [
       "<div>\n",
       "<style scoped>\n",
       "    .dataframe tbody tr th:only-of-type {\n",
       "        vertical-align: middle;\n",
       "    }\n",
       "\n",
       "    .dataframe tbody tr th {\n",
       "        vertical-align: top;\n",
       "    }\n",
       "\n",
       "    .dataframe thead th {\n",
       "        text-align: right;\n",
       "    }\n",
       "</style>\n",
       "<table border=\"1\" class=\"dataframe\">\n",
       "  <thead>\n",
       "    <tr style=\"text-align: right;\">\n",
       "      <th></th>\n",
       "      <th>children</th>\n",
       "      <th>days_employed</th>\n",
       "      <th>dob_years</th>\n",
       "      <th>education_id</th>\n",
       "      <th>family_status_id</th>\n",
       "      <th>gender</th>\n",
       "      <th>income_type</th>\n",
       "      <th>debt</th>\n",
       "      <th>total_income</th>\n",
       "      <th>purpose</th>\n",
       "    </tr>\n",
       "  </thead>\n",
       "  <tbody>\n",
       "    <tr>\n",
       "      <th>0</th>\n",
       "      <td>1</td>\n",
       "      <td>8437</td>\n",
       "      <td>42</td>\n",
       "      <td>0</td>\n",
       "      <td>0</td>\n",
       "      <td>F</td>\n",
       "      <td>сотрудник</td>\n",
       "      <td>0</td>\n",
       "      <td>253875</td>\n",
       "      <td>покупка жилья</td>\n",
       "    </tr>\n",
       "    <tr>\n",
       "      <th>1</th>\n",
       "      <td>1</td>\n",
       "      <td>4024</td>\n",
       "      <td>36</td>\n",
       "      <td>1</td>\n",
       "      <td>0</td>\n",
       "      <td>F</td>\n",
       "      <td>сотрудник</td>\n",
       "      <td>0</td>\n",
       "      <td>112080</td>\n",
       "      <td>приобретение автомобиля</td>\n",
       "    </tr>\n",
       "    <tr>\n",
       "      <th>2</th>\n",
       "      <td>0</td>\n",
       "      <td>5623</td>\n",
       "      <td>33</td>\n",
       "      <td>1</td>\n",
       "      <td>0</td>\n",
       "      <td>M</td>\n",
       "      <td>сотрудник</td>\n",
       "      <td>0</td>\n",
       "      <td>145885</td>\n",
       "      <td>покупка жилья</td>\n",
       "    </tr>\n",
       "    <tr>\n",
       "      <th>3</th>\n",
       "      <td>3</td>\n",
       "      <td>4124</td>\n",
       "      <td>32</td>\n",
       "      <td>1</td>\n",
       "      <td>0</td>\n",
       "      <td>M</td>\n",
       "      <td>сотрудник</td>\n",
       "      <td>0</td>\n",
       "      <td>267628</td>\n",
       "      <td>дополнительное образование</td>\n",
       "    </tr>\n",
       "    <tr>\n",
       "      <th>4</th>\n",
       "      <td>0</td>\n",
       "      <td>340266</td>\n",
       "      <td>53</td>\n",
       "      <td>1</td>\n",
       "      <td>1</td>\n",
       "      <td>F</td>\n",
       "      <td>пенсионер</td>\n",
       "      <td>0</td>\n",
       "      <td>158616</td>\n",
       "      <td>сыграть свадьбу</td>\n",
       "    </tr>\n",
       "    <tr>\n",
       "      <th>...</th>\n",
       "      <td>...</td>\n",
       "      <td>...</td>\n",
       "      <td>...</td>\n",
       "      <td>...</td>\n",
       "      <td>...</td>\n",
       "      <td>...</td>\n",
       "      <td>...</td>\n",
       "      <td>...</td>\n",
       "      <td>...</td>\n",
       "      <td>...</td>\n",
       "    </tr>\n",
       "    <tr>\n",
       "      <th>21466</th>\n",
       "      <td>1</td>\n",
       "      <td>4529</td>\n",
       "      <td>43</td>\n",
       "      <td>1</td>\n",
       "      <td>1</td>\n",
       "      <td>F</td>\n",
       "      <td>компаньон</td>\n",
       "      <td>0</td>\n",
       "      <td>224791</td>\n",
       "      <td>операции с жильем</td>\n",
       "    </tr>\n",
       "    <tr>\n",
       "      <th>21467</th>\n",
       "      <td>0</td>\n",
       "      <td>343937</td>\n",
       "      <td>67</td>\n",
       "      <td>1</td>\n",
       "      <td>0</td>\n",
       "      <td>F</td>\n",
       "      <td>пенсионер</td>\n",
       "      <td>0</td>\n",
       "      <td>155999</td>\n",
       "      <td>сделка с автомобилем</td>\n",
       "    </tr>\n",
       "    <tr>\n",
       "      <th>21468</th>\n",
       "      <td>1</td>\n",
       "      <td>2113</td>\n",
       "      <td>38</td>\n",
       "      <td>1</td>\n",
       "      <td>1</td>\n",
       "      <td>M</td>\n",
       "      <td>сотрудник</td>\n",
       "      <td>1</td>\n",
       "      <td>89672</td>\n",
       "      <td>недвижимость</td>\n",
       "    </tr>\n",
       "    <tr>\n",
       "      <th>21469</th>\n",
       "      <td>3</td>\n",
       "      <td>3112</td>\n",
       "      <td>38</td>\n",
       "      <td>1</td>\n",
       "      <td>0</td>\n",
       "      <td>M</td>\n",
       "      <td>сотрудник</td>\n",
       "      <td>1</td>\n",
       "      <td>244093</td>\n",
       "      <td>на покупку своего автомобиля</td>\n",
       "    </tr>\n",
       "    <tr>\n",
       "      <th>21470</th>\n",
       "      <td>2</td>\n",
       "      <td>1984</td>\n",
       "      <td>40</td>\n",
       "      <td>1</td>\n",
       "      <td>0</td>\n",
       "      <td>F</td>\n",
       "      <td>сотрудник</td>\n",
       "      <td>0</td>\n",
       "      <td>82047</td>\n",
       "      <td>на покупку автомобиля</td>\n",
       "    </tr>\n",
       "  </tbody>\n",
       "</table>\n",
       "<p>21471 rows × 10 columns</p>\n",
       "</div>"
      ],
      "text/plain": [
       "       children  days_employed  dob_years  education_id  family_status_id  \\\n",
       "0             1           8437         42             0                 0   \n",
       "1             1           4024         36             1                 0   \n",
       "2             0           5623         33             1                 0   \n",
       "3             3           4124         32             1                 0   \n",
       "4             0         340266         53             1                 1   \n",
       "...         ...            ...        ...           ...               ...   \n",
       "21466         1           4529         43             1                 1   \n",
       "21467         0         343937         67             1                 0   \n",
       "21468         1           2113         38             1                 1   \n",
       "21469         3           3112         38             1                 0   \n",
       "21470         2           1984         40             1                 0   \n",
       "\n",
       "      gender income_type  debt  total_income                       purpose  \n",
       "0          F   сотрудник     0        253875                 покупка жилья  \n",
       "1          F   сотрудник     0        112080       приобретение автомобиля  \n",
       "2          M   сотрудник     0        145885                 покупка жилья  \n",
       "3          M   сотрудник     0        267628    дополнительное образование  \n",
       "4          F   пенсионер     0        158616               сыграть свадьбу  \n",
       "...      ...         ...   ...           ...                           ...  \n",
       "21466      F   компаньон     0        224791             операции с жильем  \n",
       "21467      F   пенсионер     0        155999          сделка с автомобилем  \n",
       "21468      M   сотрудник     1         89672                  недвижимость  \n",
       "21469      M   сотрудник     1        244093  на покупку своего автомобиля  \n",
       "21470      F   сотрудник     0         82047         на покупку автомобиля  \n",
       "\n",
       "[21471 rows x 10 columns]"
      ]
     },
     "execution_count": 10,
     "metadata": {},
     "output_type": "execute_result"
    }
   ],
   "source": [
    "data.pop('education')\n",
    "data.pop('family_status')\n",
    "data"
   ]
  },
  {
   "cell_type": "markdown",
   "id": "03260248",
   "metadata": {},
   "source": [
    "## Категоризация дохода."
   ]
  },
  {
   "cell_type": "code",
   "execution_count": 11,
   "id": "b101e691",
   "metadata": {},
   "outputs": [],
   "source": [
    "def total_income_group(total_income):\n",
    "    if total_income <= 30000:\n",
    "        return 'E'\n",
    "    if 30001 <= total_income <= 50000: \n",
    "        return 'D'\n",
    "    if 50001 <= total_income <= 200000: \n",
    "        return 'C'\n",
    "    if 200001 <= total_income <= 1000000: \n",
    "        return 'B' \n",
    "    if total_income > 1000001:\n",
    "        return 'A'\n",
    "    "
   ]
  },
  {
   "cell_type": "code",
   "execution_count": 12,
   "id": "e144fb0e",
   "metadata": {},
   "outputs": [
    {
     "data": {
      "text/plain": [
       "C    16033\n",
       "B     5041\n",
       "D      350\n",
       "A       25\n",
       "E       22\n",
       "Name: total_income_category, dtype: int64"
      ]
     },
     "execution_count": 12,
     "metadata": {},
     "output_type": "execute_result"
    }
   ],
   "source": [
    "data['total_income_category'] = data['total_income'].apply(total_income_group)    \n",
    "data['total_income_category'].value_counts()"
   ]
  },
  {
   "cell_type": "markdown",
   "id": "71afd729",
   "metadata": {},
   "source": [
    "## Категоризация целей кредита."
   ]
  },
  {
   "cell_type": "code",
   "execution_count": 13,
   "id": "b123443c",
   "metadata": {},
   "outputs": [],
   "source": [
    "def purpose_group(purpose):\n",
    "    try:\n",
    "        if 'образов' in purpose:\n",
    "            return 'получение образования'\n",
    "        if 'авто' in purpose:\n",
    "            return 'операции с автомобилем' \n",
    "        if 'свадьб' in purpose:\n",
    "            return 'проведение свадьбы'\n",
    "        if 'жиль' or 'недвиж' in purpose:\n",
    "            return 'операции с недвижимостью'\n",
    "    except:\n",
    "        return 'неизвестная категория'"
   ]
  },
  {
   "cell_type": "code",
   "execution_count": 14,
   "id": "ceb026f4",
   "metadata": {},
   "outputs": [
    {
     "data": {
      "text/plain": [
       "операции с недвижимостью    10814\n",
       "операции с автомобилем       4308\n",
       "получение образования        4014\n",
       "проведение свадьбы           2335\n",
       "Name: purpose_category, dtype: int64"
      ]
     },
     "execution_count": 14,
     "metadata": {},
     "output_type": "execute_result"
    }
   ],
   "source": [
    "data['purpose_category'] = data['purpose'].apply(purpose_group)\n",
    "data['purpose_category'].value_counts()"
   ]
  },
  {
   "cell_type": "markdown",
   "id": "01c32fc6",
   "metadata": {},
   "source": [
    "## Ответы на вопросы."
   ]
  },
  {
   "cell_type": "markdown",
   "id": "1d4fce7f",
   "metadata": {},
   "source": [
    "### Зависимость между количеством детей и возвратом кредита в срок.\n",
    "Чтобы ответить на вопрос есть ли зависимость между количеством детей и возвратом кредита в срок, нам необходимо создать сводную таблицу по количеству детей и наличию или отсутствию долга."
   ]
  },
  {
   "cell_type": "code",
   "execution_count": 15,
   "id": "e09f4216",
   "metadata": {},
   "outputs": [
    {
     "data": {
      "text/html": [
       "<div>\n",
       "<style scoped>\n",
       "    .dataframe tbody tr th:only-of-type {\n",
       "        vertical-align: middle;\n",
       "    }\n",
       "\n",
       "    .dataframe tbody tr th {\n",
       "        vertical-align: top;\n",
       "    }\n",
       "\n",
       "    .dataframe thead th {\n",
       "        text-align: right;\n",
       "    }\n",
       "</style>\n",
       "<table border=\"1\" class=\"dataframe\">\n",
       "  <thead>\n",
       "    <tr style=\"text-align: right;\">\n",
       "      <th></th>\n",
       "      <th>debt</th>\n",
       "      <th>without_debt</th>\n",
       "      <th>share_of_debt(%)</th>\n",
       "    </tr>\n",
       "    <tr>\n",
       "      <th>children</th>\n",
       "      <th></th>\n",
       "      <th></th>\n",
       "      <th></th>\n",
       "    </tr>\n",
       "  </thead>\n",
       "  <tbody>\n",
       "    <tr>\n",
       "      <th>0</th>\n",
       "      <td>1063</td>\n",
       "      <td>14107</td>\n",
       "      <td>7.535266</td>\n",
       "    </tr>\n",
       "    <tr>\n",
       "      <th>1</th>\n",
       "      <td>445</td>\n",
       "      <td>4856</td>\n",
       "      <td>9.163921</td>\n",
       "    </tr>\n",
       "    <tr>\n",
       "      <th>2</th>\n",
       "      <td>202</td>\n",
       "      <td>2128</td>\n",
       "      <td>9.492481</td>\n",
       "    </tr>\n",
       "    <tr>\n",
       "      <th>3</th>\n",
       "      <td>27</td>\n",
       "      <td>330</td>\n",
       "      <td>8.181818</td>\n",
       "    </tr>\n",
       "    <tr>\n",
       "      <th>4</th>\n",
       "      <td>4</td>\n",
       "      <td>41</td>\n",
       "      <td>9.756098</td>\n",
       "    </tr>\n",
       "    <tr>\n",
       "      <th>5</th>\n",
       "      <td>0</td>\n",
       "      <td>9</td>\n",
       "      <td>0.000000</td>\n",
       "    </tr>\n",
       "  </tbody>\n",
       "</table>\n",
       "</div>"
      ],
      "text/plain": [
       "          debt  without_debt  share_of_debt(%)\n",
       "children                                      \n",
       "0         1063         14107          7.535266\n",
       "1          445          4856          9.163921\n",
       "2          202          2128          9.492481\n",
       "3           27           330          8.181818\n",
       "4            4            41          9.756098\n",
       "5            0             9          0.000000"
      ]
     },
     "execution_count": 15,
     "metadata": {},
     "output_type": "execute_result"
    }
   ],
   "source": [
    "debt_to_child_pivot = data.pivot_table(index='children', values='debt', aggfunc=sum)\n",
    "debt_to_child_pivot['without_debt'] = data['children'].value_counts()\n",
    "debt_to_child_pivot['share_of_debt(%)'] = debt_to_child_pivot['debt'] / (debt_to_child_pivot['without_debt'] /100)\n",
    "debt_to_child_pivot"
   ]
  },
  {
   "cell_type": "markdown",
   "id": "90e2b1d0",
   "metadata": {},
   "source": [
    "#### Вывод:\n",
    "По сводной таблице выше видно, что кол-во детей не влияет на возвращаемость кредита, потому что в каждой из категорий процент клиентов с долгом 7-9%. Однако, наименьший процент все таки составляет категория заемщиков без детей."
   ]
  },
  {
   "cell_type": "markdown",
   "id": "6ac22d5d",
   "metadata": {},
   "source": [
    "### Зависимость между семейным положением и возвратом кредита в срок.\n",
    "Чтобы ответить на вопрос есть ли Зависимость между семейным положением и возвратом кредита в срок, нам необходимо создать сводную таблицу по количеству детей и наличию или отсутствию долга."
   ]
  },
  {
   "cell_type": "code",
   "execution_count": 16,
   "id": "9b513643",
   "metadata": {},
   "outputs": [
    {
     "data": {
      "text/html": [
       "<div>\n",
       "<style scoped>\n",
       "    .dataframe tbody tr th:only-of-type {\n",
       "        vertical-align: middle;\n",
       "    }\n",
       "\n",
       "    .dataframe tbody tr th {\n",
       "        vertical-align: top;\n",
       "    }\n",
       "\n",
       "    .dataframe thead th {\n",
       "        text-align: right;\n",
       "    }\n",
       "</style>\n",
       "<table border=\"1\" class=\"dataframe\">\n",
       "  <thead>\n",
       "    <tr style=\"text-align: right;\">\n",
       "      <th></th>\n",
       "      <th>debt</th>\n",
       "      <th>without_debt</th>\n",
       "      <th>share_of_debt(%)</th>\n",
       "    </tr>\n",
       "    <tr>\n",
       "      <th>family_status_id</th>\n",
       "      <th></th>\n",
       "      <th></th>\n",
       "      <th></th>\n",
       "    </tr>\n",
       "  </thead>\n",
       "  <tbody>\n",
       "    <tr>\n",
       "      <th>0</th>\n",
       "      <td>931</td>\n",
       "      <td>12344</td>\n",
       "      <td>7.542126</td>\n",
       "    </tr>\n",
       "    <tr>\n",
       "      <th>1</th>\n",
       "      <td>388</td>\n",
       "      <td>4163</td>\n",
       "      <td>9.320202</td>\n",
       "    </tr>\n",
       "    <tr>\n",
       "      <th>2</th>\n",
       "      <td>63</td>\n",
       "      <td>959</td>\n",
       "      <td>6.569343</td>\n",
       "    </tr>\n",
       "    <tr>\n",
       "      <th>3</th>\n",
       "      <td>85</td>\n",
       "      <td>1195</td>\n",
       "      <td>7.112971</td>\n",
       "    </tr>\n",
       "    <tr>\n",
       "      <th>4</th>\n",
       "      <td>274</td>\n",
       "      <td>2810</td>\n",
       "      <td>9.750890</td>\n",
       "    </tr>\n",
       "  </tbody>\n",
       "</table>\n",
       "</div>"
      ],
      "text/plain": [
       "                  debt  without_debt  share_of_debt(%)\n",
       "family_status_id                                      \n",
       "0                  931         12344          7.542126\n",
       "1                  388          4163          9.320202\n",
       "2                   63           959          6.569343\n",
       "3                   85          1195          7.112971\n",
       "4                  274          2810          9.750890"
      ]
     },
     "execution_count": 16,
     "metadata": {},
     "output_type": "execute_result"
    }
   ],
   "source": [
    "debt_to_family_status_pivot = data.pivot_table(index='family_status_id', values='debt', aggfunc=sum)\n",
    "debt_to_family_status_pivot['without_debt'] = data['family_status_id'].value_counts()\n",
    "debt_to_family_status_pivot['share_of_debt(%)'] = debt_to_family_status_pivot['debt'] / (debt_to_family_status_pivot['without_debt'] /100)\n",
    "debt_to_family_status_pivot "
   ]
  },
  {
   "cell_type": "markdown",
   "id": "50b11889",
   "metadata": {},
   "source": [
    "#### Вывод:\n",
    "По сводной таблице выше видно, что вдовы/вдовцы, разведенные и люди состоящие в браке реже имеют задолженности по кредиту, чем люди состоящие в  гражданском браке или не замужем/не женатые."
   ]
  },
  {
   "cell_type": "markdown",
   "id": "9d90ca06",
   "metadata": {},
   "source": [
    "### Зависимость между уровнем дохода и возвратом кредита в срок."
   ]
  },
  {
   "cell_type": "code",
   "execution_count": 17,
   "id": "a29f6bcb",
   "metadata": {},
   "outputs": [
    {
     "data": {
      "text/html": [
       "<div>\n",
       "<style scoped>\n",
       "    .dataframe tbody tr th:only-of-type {\n",
       "        vertical-align: middle;\n",
       "    }\n",
       "\n",
       "    .dataframe tbody tr th {\n",
       "        vertical-align: top;\n",
       "    }\n",
       "\n",
       "    .dataframe thead th {\n",
       "        text-align: right;\n",
       "    }\n",
       "</style>\n",
       "<table border=\"1\" class=\"dataframe\">\n",
       "  <thead>\n",
       "    <tr style=\"text-align: right;\">\n",
       "      <th></th>\n",
       "      <th>debt</th>\n",
       "      <th>without_debt</th>\n",
       "      <th>share_of_debt(%)</th>\n",
       "    </tr>\n",
       "    <tr>\n",
       "      <th>total_income_category</th>\n",
       "      <th></th>\n",
       "      <th></th>\n",
       "      <th></th>\n",
       "    </tr>\n",
       "  </thead>\n",
       "  <tbody>\n",
       "    <tr>\n",
       "      <th>A</th>\n",
       "      <td>2</td>\n",
       "      <td>25</td>\n",
       "      <td>8.000000</td>\n",
       "    </tr>\n",
       "    <tr>\n",
       "      <th>B</th>\n",
       "      <td>356</td>\n",
       "      <td>5041</td>\n",
       "      <td>7.062091</td>\n",
       "    </tr>\n",
       "    <tr>\n",
       "      <th>C</th>\n",
       "      <td>1360</td>\n",
       "      <td>16033</td>\n",
       "      <td>8.482505</td>\n",
       "    </tr>\n",
       "    <tr>\n",
       "      <th>D</th>\n",
       "      <td>21</td>\n",
       "      <td>350</td>\n",
       "      <td>6.000000</td>\n",
       "    </tr>\n",
       "    <tr>\n",
       "      <th>E</th>\n",
       "      <td>2</td>\n",
       "      <td>22</td>\n",
       "      <td>9.090909</td>\n",
       "    </tr>\n",
       "  </tbody>\n",
       "</table>\n",
       "</div>"
      ],
      "text/plain": [
       "                       debt  without_debt  share_of_debt(%)\n",
       "total_income_category                                      \n",
       "A                         2            25          8.000000\n",
       "B                       356          5041          7.062091\n",
       "C                      1360         16033          8.482505\n",
       "D                        21           350          6.000000\n",
       "E                         2            22          9.090909"
      ]
     },
     "execution_count": 17,
     "metadata": {},
     "output_type": "execute_result"
    }
   ],
   "source": [
    "debt_to_income_pivot = data.pivot_table(index='total_income_category', values='debt', aggfunc=sum)\n",
    "debt_to_income_pivot['without_debt'] = data['total_income_category'].value_counts()\n",
    "debt_to_income_pivot['share_of_debt(%)'] = debt_to_income_pivot['debt'] / (debt_to_income_pivot['without_debt'] /100)\n",
    "debt_to_income_pivot"
   ]
  },
  {
   "cell_type": "markdown",
   "id": "237553a4",
   "metadata": {},
   "source": [
    "#### Вывод:\n",
    "По сводной таблице выше видно, что люди с доходом выше среднего(B) и с доходом ниже среднего(D) чаще возвращают кредиты."
   ]
  },
  {
   "cell_type": "markdown",
   "id": "8b322708",
   "metadata": {},
   "source": [
    "### Как разные цели кредита влияют на его возврат в срок?"
   ]
  },
  {
   "cell_type": "code",
   "execution_count": 18,
   "id": "ec1ecca7",
   "metadata": {},
   "outputs": [
    {
     "data": {
      "text/html": [
       "<div>\n",
       "<style scoped>\n",
       "    .dataframe tbody tr th:only-of-type {\n",
       "        vertical-align: middle;\n",
       "    }\n",
       "\n",
       "    .dataframe tbody tr th {\n",
       "        vertical-align: top;\n",
       "    }\n",
       "\n",
       "    .dataframe thead th {\n",
       "        text-align: right;\n",
       "    }\n",
       "</style>\n",
       "<table border=\"1\" class=\"dataframe\">\n",
       "  <thead>\n",
       "    <tr style=\"text-align: right;\">\n",
       "      <th></th>\n",
       "      <th>debt</th>\n",
       "      <th>without_debt</th>\n",
       "      <th>share_of_debt(%)</th>\n",
       "    </tr>\n",
       "    <tr>\n",
       "      <th>purpose_category</th>\n",
       "      <th></th>\n",
       "      <th></th>\n",
       "      <th></th>\n",
       "    </tr>\n",
       "  </thead>\n",
       "  <tbody>\n",
       "    <tr>\n",
       "      <th>операции с автомобилем</th>\n",
       "      <td>403</td>\n",
       "      <td>4308</td>\n",
       "      <td>9.354689</td>\n",
       "    </tr>\n",
       "    <tr>\n",
       "      <th>операции с недвижимостью</th>\n",
       "      <td>782</td>\n",
       "      <td>10814</td>\n",
       "      <td>7.231367</td>\n",
       "    </tr>\n",
       "    <tr>\n",
       "      <th>получение образования</th>\n",
       "      <td>370</td>\n",
       "      <td>4014</td>\n",
       "      <td>9.217738</td>\n",
       "    </tr>\n",
       "    <tr>\n",
       "      <th>проведение свадьбы</th>\n",
       "      <td>186</td>\n",
       "      <td>2335</td>\n",
       "      <td>7.965739</td>\n",
       "    </tr>\n",
       "  </tbody>\n",
       "</table>\n",
       "</div>"
      ],
      "text/plain": [
       "                          debt  without_debt  share_of_debt(%)\n",
       "purpose_category                                              \n",
       "операции с автомобилем     403          4308          9.354689\n",
       "операции с недвижимостью   782         10814          7.231367\n",
       "получение образования      370          4014          9.217738\n",
       "проведение свадьбы         186          2335          7.965739"
      ]
     },
     "execution_count": 18,
     "metadata": {},
     "output_type": "execute_result"
    }
   ],
   "source": [
    "debt_to_purpose_pivot = data.pivot_table(index='purpose_category', values='debt', aggfunc='sum')\n",
    "debt_to_purpose_pivot['without_debt'] = data['purpose_category'].value_counts()\n",
    "debt_to_purpose_pivot['share_of_debt(%)'] = debt_to_purpose_pivot['debt'] / (debt_to_purpose_pivot['without_debt'] /100)\n",
    "debt_to_purpose_pivot "
   ]
  },
  {
   "cell_type": "markdown",
   "id": "30d881fe",
   "metadata": {},
   "source": [
    "#### Вывод:\n",
    "По сводной таблице выше видно, что наибольшие риски с точки зрения задолженности несут кредиты выданные на операции с автомобилем и образование, в то время как операции с недвижимостью имеют меньший риск."
   ]
  },
  {
   "cell_type": "markdown",
   "id": "eed590d4",
   "metadata": {},
   "source": [
    "---\n",
    "## Общий вывод:"
   ]
  },
  {
   "cell_type": "markdown",
   "id": "64d718d8",
   "metadata": {},
   "source": [
    "На основании исследования можно сделать вывод, что наибольшей группой риска являются клиенты, несостоящие в браке, имеющие детей, имеющие средний уровень дохода, а целью оформления кредита являются операции с автомобилем или образованием. Наиболее благоприятными замещиками являются семейные пары, неимеющие детейл, с доходом ниже или выше среднего."
   ]
  }
 ],
 "metadata": {
  "ExecuteTimeLog": [
   {
    "duration": 496,
    "start_time": "2022-03-27T09:08:40.091Z"
   },
   {
    "duration": 83,
    "start_time": "2022-03-27T09:11:04.506Z"
   },
   {
    "duration": 43,
    "start_time": "2022-03-27T10:38:38.934Z"
   },
   {
    "duration": 451,
    "start_time": "2022-03-27T10:38:41.658Z"
   },
   {
    "duration": 27,
    "start_time": "2022-03-27T10:38:45.254Z"
   },
   {
    "duration": 36,
    "start_time": "2022-03-27T10:38:59.035Z"
   },
   {
    "duration": 79,
    "start_time": "2022-03-27T10:41:00.716Z"
   },
   {
    "duration": 83,
    "start_time": "2022-03-27T10:41:54.337Z"
   },
   {
    "duration": 8,
    "start_time": "2022-03-27T10:42:55.573Z"
   },
   {
    "duration": 7,
    "start_time": "2022-03-27T10:46:38.352Z"
   },
   {
    "duration": 84,
    "start_time": "2022-03-27T10:55:42.297Z"
   },
   {
    "duration": 8,
    "start_time": "2022-03-27T10:56:37.848Z"
   },
   {
    "duration": 7,
    "start_time": "2022-03-27T10:56:52.001Z"
   },
   {
    "duration": 9,
    "start_time": "2022-03-27T10:59:22.309Z"
   },
   {
    "duration": 11,
    "start_time": "2022-03-27T10:59:35.262Z"
   },
   {
    "duration": 523,
    "start_time": "2022-03-27T11:01:52.501Z"
   },
   {
    "duration": 31,
    "start_time": "2022-03-27T11:01:57.897Z"
   },
   {
    "duration": 11,
    "start_time": "2022-03-27T11:02:48.328Z"
   },
   {
    "duration": 10,
    "start_time": "2022-03-27T11:02:58.080Z"
   },
   {
    "duration": 6,
    "start_time": "2022-03-27T11:03:08.944Z"
   },
   {
    "duration": 7,
    "start_time": "2022-03-27T11:04:02.595Z"
   },
   {
    "duration": 9,
    "start_time": "2022-03-27T11:05:19.121Z"
   },
   {
    "duration": 9,
    "start_time": "2022-03-27T11:05:35.411Z"
   },
   {
    "duration": 11,
    "start_time": "2022-03-27T11:05:51.117Z"
   },
   {
    "duration": 21,
    "start_time": "2022-03-27T11:08:00.165Z"
   },
   {
    "duration": 10,
    "start_time": "2022-03-27T11:09:36.301Z"
   },
   {
    "duration": 7,
    "start_time": "2022-03-27T11:09:47.824Z"
   },
   {
    "duration": 8,
    "start_time": "2022-03-27T11:09:58.123Z"
   },
   {
    "duration": 11,
    "start_time": "2022-03-27T11:10:16.357Z"
   },
   {
    "duration": 7,
    "start_time": "2022-03-27T11:10:57.042Z"
   },
   {
    "duration": 8,
    "start_time": "2022-03-27T11:11:09.815Z"
   },
   {
    "duration": 6,
    "start_time": "2022-03-27T11:11:46.682Z"
   },
   {
    "duration": 6,
    "start_time": "2022-03-27T11:11:57.157Z"
   },
   {
    "duration": 5,
    "start_time": "2022-03-27T11:12:13.306Z"
   },
   {
    "duration": 7,
    "start_time": "2022-03-27T11:13:28.313Z"
   },
   {
    "duration": 7,
    "start_time": "2022-03-27T11:13:42.785Z"
   },
   {
    "duration": 86,
    "start_time": "2022-03-27T11:14:14.358Z"
   },
   {
    "duration": 17,
    "start_time": "2022-03-27T11:14:48.972Z"
   },
   {
    "duration": 7,
    "start_time": "2022-03-27T11:22:20.568Z"
   },
   {
    "duration": 7,
    "start_time": "2022-03-27T11:23:55.715Z"
   },
   {
    "duration": 8,
    "start_time": "2022-03-27T11:24:14.002Z"
   },
   {
    "duration": 8,
    "start_time": "2022-03-27T11:24:59.769Z"
   },
   {
    "duration": 8,
    "start_time": "2022-03-27T11:26:21.811Z"
   },
   {
    "duration": 5,
    "start_time": "2022-03-27T11:38:56.742Z"
   },
   {
    "duration": 18,
    "start_time": "2022-03-27T11:39:17.539Z"
   },
   {
    "duration": 17,
    "start_time": "2022-03-27T11:39:27.937Z"
   },
   {
    "duration": 18,
    "start_time": "2022-03-27T11:44:56.558Z"
   },
   {
    "duration": 12,
    "start_time": "2022-03-27T12:03:10.522Z"
   },
   {
    "duration": 10,
    "start_time": "2022-03-27T12:03:59.510Z"
   },
   {
    "duration": 9,
    "start_time": "2022-03-27T12:05:13.333Z"
   },
   {
    "duration": 5,
    "start_time": "2022-03-27T12:11:02.473Z"
   },
   {
    "duration": 5,
    "start_time": "2022-03-27T12:11:13.221Z"
   },
   {
    "duration": 13,
    "start_time": "2022-03-27T12:12:38.521Z"
   },
   {
    "duration": 13,
    "start_time": "2022-03-27T12:13:07.115Z"
   },
   {
    "duration": 12,
    "start_time": "2022-03-27T12:13:09.909Z"
   },
   {
    "duration": 11,
    "start_time": "2022-03-27T12:13:24.494Z"
   },
   {
    "duration": 5,
    "start_time": "2022-03-27T12:13:31.289Z"
   },
   {
    "duration": 6,
    "start_time": "2022-03-27T12:14:00.205Z"
   },
   {
    "duration": 17,
    "start_time": "2022-03-27T12:14:42.345Z"
   },
   {
    "duration": 6,
    "start_time": "2022-03-27T12:15:17.928Z"
   },
   {
    "duration": 10,
    "start_time": "2022-03-27T12:16:58.834Z"
   },
   {
    "duration": 12,
    "start_time": "2022-03-27T12:17:08.261Z"
   },
   {
    "duration": 11,
    "start_time": "2022-03-27T12:17:35.513Z"
   },
   {
    "duration": 11,
    "start_time": "2022-03-27T12:17:43.975Z"
   },
   {
    "duration": 4,
    "start_time": "2022-03-27T12:17:55.021Z"
   },
   {
    "duration": 6,
    "start_time": "2022-03-27T12:18:06.743Z"
   },
   {
    "duration": 15,
    "start_time": "2022-03-27T12:19:38.543Z"
   },
   {
    "duration": 18,
    "start_time": "2022-03-27T12:20:51.143Z"
   },
   {
    "duration": 734,
    "start_time": "2022-03-27T12:23:06.690Z"
   },
   {
    "duration": 16,
    "start_time": "2022-03-27T12:23:17.418Z"
   },
   {
    "duration": 14,
    "start_time": "2022-03-27T12:23:29.055Z"
   },
   {
    "duration": 15,
    "start_time": "2022-03-27T12:23:38.324Z"
   },
   {
    "duration": 10,
    "start_time": "2022-03-27T12:23:44.191Z"
   },
   {
    "duration": 11,
    "start_time": "2022-03-27T12:24:09.723Z"
   },
   {
    "duration": 16,
    "start_time": "2022-03-27T12:24:14.224Z"
   },
   {
    "duration": 16,
    "start_time": "2022-03-27T12:24:23.356Z"
   },
   {
    "duration": 607,
    "start_time": "2022-03-27T12:31:09.796Z"
   },
   {
    "duration": 11,
    "start_time": "2022-03-27T12:31:11.671Z"
   },
   {
    "duration": 12,
    "start_time": "2022-03-27T12:31:20.457Z"
   },
   {
    "duration": 135,
    "start_time": "2022-03-27T12:31:29.873Z"
   },
   {
    "duration": 24,
    "start_time": "2022-03-27T12:31:32.570Z"
   },
   {
    "duration": 105,
    "start_time": "2022-03-27T12:32:21.810Z"
   },
   {
    "duration": 26,
    "start_time": "2022-03-27T12:32:24.069Z"
   },
   {
    "duration": 24,
    "start_time": "2022-03-27T12:32:28.856Z"
   },
   {
    "duration": 7,
    "start_time": "2022-03-27T12:32:32.480Z"
   },
   {
    "duration": 6,
    "start_time": "2022-03-27T12:32:33.807Z"
   },
   {
    "duration": 8,
    "start_time": "2022-03-27T12:32:56.791Z"
   },
   {
    "duration": 32,
    "start_time": "2022-03-27T12:35:29.813Z"
   },
   {
    "duration": 27,
    "start_time": "2022-03-27T12:36:53.280Z"
   },
   {
    "duration": 28,
    "start_time": "2022-03-27T12:36:56.507Z"
   },
   {
    "duration": 30,
    "start_time": "2022-03-27T12:38:05.210Z"
   },
   {
    "duration": 27,
    "start_time": "2022-03-27T12:38:12.322Z"
   },
   {
    "duration": 38,
    "start_time": "2022-03-27T12:50:39.374Z"
   },
   {
    "duration": 49,
    "start_time": "2022-03-27T12:50:53.399Z"
   },
   {
    "duration": 67,
    "start_time": "2022-03-27T12:51:57.407Z"
   },
   {
    "duration": 6,
    "start_time": "2022-03-27T12:53:52.564Z"
   },
   {
    "duration": 104,
    "start_time": "2022-03-27T12:53:54.129Z"
   },
   {
    "duration": 62,
    "start_time": "2022-03-27T12:54:12.728Z"
   },
   {
    "duration": 71,
    "start_time": "2022-03-27T12:59:39.749Z"
   },
   {
    "duration": 3206,
    "start_time": "2022-03-27T13:06:28.016Z"
   },
   {
    "duration": 0,
    "start_time": "2022-03-27T13:07:00.400Z"
   },
   {
    "duration": 3142,
    "start_time": "2022-03-27T13:07:02.653Z"
   },
   {
    "duration": 6,
    "start_time": "2022-03-27T13:07:22.277Z"
   },
   {
    "duration": 11,
    "start_time": "2022-03-27T13:08:10.680Z"
   },
   {
    "duration": 7,
    "start_time": "2022-03-27T13:08:26.547Z"
   },
   {
    "duration": 7,
    "start_time": "2022-03-27T13:08:40.153Z"
   },
   {
    "duration": 27,
    "start_time": "2022-03-27T13:09:05.630Z"
   },
   {
    "duration": 648,
    "start_time": "2022-03-28T12:53:21.223Z"
   },
   {
    "duration": 33,
    "start_time": "2022-03-28T12:53:24.111Z"
   },
   {
    "duration": 23,
    "start_time": "2022-03-28T12:53:26.839Z"
   },
   {
    "duration": 6,
    "start_time": "2022-03-28T12:53:29.579Z"
   },
   {
    "duration": 68,
    "start_time": "2022-03-28T12:53:31.854Z"
   },
   {
    "duration": 31,
    "start_time": "2022-03-28T12:54:05.203Z"
   },
   {
    "duration": 104,
    "start_time": "2022-03-28T13:03:40.762Z"
   },
   {
    "duration": 97,
    "start_time": "2022-03-28T13:03:57.284Z"
   },
   {
    "duration": 11,
    "start_time": "2022-03-28T13:06:45.462Z"
   },
   {
    "duration": 23,
    "start_time": "2022-03-28T13:07:11.100Z"
   },
   {
    "duration": 13,
    "start_time": "2022-03-28T13:07:34.043Z"
   },
   {
    "duration": 17,
    "start_time": "2022-03-28T13:10:58.691Z"
   },
   {
    "duration": 11,
    "start_time": "2022-03-28T13:11:38.302Z"
   },
   {
    "duration": 12,
    "start_time": "2022-03-28T13:20:48.248Z"
   },
   {
    "duration": 35,
    "start_time": "2022-03-28T13:25:09.022Z"
   },
   {
    "duration": 2031,
    "start_time": "2022-03-28T13:25:32.444Z"
   },
   {
    "duration": 12,
    "start_time": "2022-03-28T13:25:57.864Z"
   },
   {
    "duration": 1801,
    "start_time": "2022-03-28T13:26:09.249Z"
   },
   {
    "duration": 1773,
    "start_time": "2022-03-28T13:26:54.836Z"
   },
   {
    "duration": 1635,
    "start_time": "2022-03-28T13:27:42.990Z"
   },
   {
    "duration": 2125,
    "start_time": "2022-03-28T13:27:54.486Z"
   },
   {
    "duration": 1606,
    "start_time": "2022-03-28T13:28:39.351Z"
   },
   {
    "duration": 17,
    "start_time": "2022-03-28T13:28:55.393Z"
   },
   {
    "duration": 16,
    "start_time": "2022-03-28T13:29:11.697Z"
   },
   {
    "duration": 17,
    "start_time": "2022-03-28T13:29:22.853Z"
   },
   {
    "duration": 26,
    "start_time": "2022-03-28T13:29:32.956Z"
   },
   {
    "duration": 17,
    "start_time": "2022-03-28T13:29:44.622Z"
   },
   {
    "duration": 1900,
    "start_time": "2022-03-28T13:30:20.238Z"
   },
   {
    "duration": 1586,
    "start_time": "2022-03-28T13:30:22.278Z"
   },
   {
    "duration": 102,
    "start_time": "2022-03-28T13:30:44.601Z"
   },
   {
    "duration": 31,
    "start_time": "2022-03-28T13:30:48.529Z"
   },
   {
    "duration": 22,
    "start_time": "2022-03-28T13:30:50.045Z"
   },
   {
    "duration": 11,
    "start_time": "2022-03-28T13:30:53.347Z"
   },
   {
    "duration": 66,
    "start_time": "2022-03-28T13:30:55.072Z"
   },
   {
    "duration": 19,
    "start_time": "2022-03-28T13:31:21.987Z"
   },
   {
    "duration": 22,
    "start_time": "2022-03-28T13:31:41.385Z"
   },
   {
    "duration": 22,
    "start_time": "2022-03-28T13:32:22.885Z"
   },
   {
    "duration": 29,
    "start_time": "2022-03-28T13:32:53.771Z"
   },
   {
    "duration": 26,
    "start_time": "2022-03-28T13:33:11.060Z"
   },
   {
    "duration": 30,
    "start_time": "2022-03-28T13:33:24.337Z"
   },
   {
    "duration": 20,
    "start_time": "2022-03-28T13:33:43.294Z"
   },
   {
    "duration": 11,
    "start_time": "2022-03-28T13:35:40.600Z"
   },
   {
    "duration": 16,
    "start_time": "2022-03-28T13:35:57.931Z"
   },
   {
    "duration": 132,
    "start_time": "2022-03-28T13:36:06.886Z"
   },
   {
    "duration": 41,
    "start_time": "2022-03-28T13:36:09.511Z"
   },
   {
    "duration": 23,
    "start_time": "2022-03-28T13:36:10.744Z"
   },
   {
    "duration": 6,
    "start_time": "2022-03-28T13:36:12.951Z"
   },
   {
    "duration": 67,
    "start_time": "2022-03-28T13:36:13.893Z"
   },
   {
    "duration": 20,
    "start_time": "2022-03-28T13:36:15.456Z"
   },
   {
    "duration": 18,
    "start_time": "2022-03-28T13:58:17.160Z"
   },
   {
    "duration": 1706,
    "start_time": "2022-03-28T13:58:51.015Z"
   },
   {
    "duration": 1798,
    "start_time": "2022-03-28T13:58:53.607Z"
   },
   {
    "duration": 126,
    "start_time": "2022-03-28T13:59:07.017Z"
   },
   {
    "duration": 32,
    "start_time": "2022-03-28T13:59:08.873Z"
   },
   {
    "duration": 24,
    "start_time": "2022-03-28T13:59:09.926Z"
   },
   {
    "duration": 8,
    "start_time": "2022-03-28T13:59:16.041Z"
   },
   {
    "duration": 64,
    "start_time": "2022-03-28T13:59:17.144Z"
   },
   {
    "duration": 894,
    "start_time": "2022-03-28T13:59:19.615Z"
   },
   {
    "duration": 20,
    "start_time": "2022-03-28T13:59:35.894Z"
   },
   {
    "duration": 13,
    "start_time": "2022-03-28T13:59:48.974Z"
   },
   {
    "duration": 17,
    "start_time": "2022-03-28T14:00:20.039Z"
   },
   {
    "duration": 99,
    "start_time": "2022-03-28T14:13:21.783Z"
   },
   {
    "duration": 30,
    "start_time": "2022-03-28T14:13:22.602Z"
   },
   {
    "duration": 22,
    "start_time": "2022-03-28T14:13:23.860Z"
   },
   {
    "duration": 6,
    "start_time": "2022-03-28T14:13:26.103Z"
   },
   {
    "duration": 67,
    "start_time": "2022-03-28T14:13:27.271Z"
   },
   {
    "duration": 119,
    "start_time": "2022-03-28T14:13:31.959Z"
   },
   {
    "duration": 16,
    "start_time": "2022-03-28T14:13:41.899Z"
   },
   {
    "duration": 14,
    "start_time": "2022-03-28T14:16:17.853Z"
   },
   {
    "duration": 14,
    "start_time": "2022-03-28T14:16:20.352Z"
   },
   {
    "duration": 152,
    "start_time": "2022-03-28T14:16:32.651Z"
   },
   {
    "duration": 34,
    "start_time": "2022-03-28T14:16:33.923Z"
   },
   {
    "duration": 24,
    "start_time": "2022-03-28T14:16:35.077Z"
   },
   {
    "duration": 8,
    "start_time": "2022-03-28T14:16:37.769Z"
   },
   {
    "duration": 65,
    "start_time": "2022-03-28T14:16:40.218Z"
   },
   {
    "duration": 28,
    "start_time": "2022-03-28T14:16:42.419Z"
   },
   {
    "duration": 14,
    "start_time": "2022-03-28T14:17:22.317Z"
   },
   {
    "duration": 98,
    "start_time": "2022-03-28T14:17:30.684Z"
   },
   {
    "duration": 32,
    "start_time": "2022-03-28T14:17:32.340Z"
   },
   {
    "duration": 24,
    "start_time": "2022-03-28T14:17:34.064Z"
   },
   {
    "duration": 6,
    "start_time": "2022-03-28T14:17:37.301Z"
   },
   {
    "duration": 70,
    "start_time": "2022-03-28T14:17:38.473Z"
   },
   {
    "duration": 27,
    "start_time": "2022-03-28T14:17:46.991Z"
   },
   {
    "duration": 16,
    "start_time": "2022-03-28T14:19:37.831Z"
   },
   {
    "duration": 15,
    "start_time": "2022-03-28T14:19:40.366Z"
   },
   {
    "duration": 104,
    "start_time": "2022-03-28T14:19:52.689Z"
   },
   {
    "duration": 31,
    "start_time": "2022-03-28T14:19:53.339Z"
   },
   {
    "duration": 24,
    "start_time": "2022-03-28T14:19:53.990Z"
   },
   {
    "duration": 6,
    "start_time": "2022-03-28T14:19:55.799Z"
   },
   {
    "duration": 79,
    "start_time": "2022-03-28T14:19:56.659Z"
   },
   {
    "duration": 30,
    "start_time": "2022-03-28T14:19:57.999Z"
   },
   {
    "duration": 322,
    "start_time": "2022-03-28T14:36:49.396Z"
   },
   {
    "duration": 51,
    "start_time": "2022-03-28T14:37:07.452Z"
   },
   {
    "duration": 525,
    "start_time": "2022-03-28T14:37:15.155Z"
   },
   {
    "duration": 26,
    "start_time": "2022-03-28T14:37:16.904Z"
   },
   {
    "duration": 18,
    "start_time": "2022-03-28T14:37:18.265Z"
   },
   {
    "duration": 6,
    "start_time": "2022-03-28T14:37:21.799Z"
   },
   {
    "duration": 51,
    "start_time": "2022-03-28T14:37:24.250Z"
   },
   {
    "duration": 26,
    "start_time": "2022-03-28T14:37:26.900Z"
   },
   {
    "duration": 8,
    "start_time": "2022-03-28T14:37:30.548Z"
   },
   {
    "duration": 18,
    "start_time": "2022-03-28T14:38:25.539Z"
   },
   {
    "duration": 9,
    "start_time": "2022-03-28T14:39:52.895Z"
   },
   {
    "duration": 9,
    "start_time": "2022-03-28T14:39:55.839Z"
   },
   {
    "duration": 19,
    "start_time": "2022-03-28T14:40:04.544Z"
   },
   {
    "duration": 10,
    "start_time": "2022-03-28T14:40:21.988Z"
   },
   {
    "duration": 13,
    "start_time": "2022-03-28T14:40:37.487Z"
   },
   {
    "duration": 13,
    "start_time": "2022-03-28T14:40:44.794Z"
   },
   {
    "duration": 36,
    "start_time": "2022-03-28T14:41:04.121Z"
   },
   {
    "duration": 14,
    "start_time": "2022-03-28T14:41:05.914Z"
   },
   {
    "duration": 13,
    "start_time": "2022-03-28T14:42:07.528Z"
   },
   {
    "duration": 13,
    "start_time": "2022-03-28T14:42:17.660Z"
   },
   {
    "duration": 15,
    "start_time": "2022-03-28T14:42:27.361Z"
   },
   {
    "duration": 12,
    "start_time": "2022-03-28T15:15:15.334Z"
   },
   {
    "duration": 3001,
    "start_time": "2022-03-28T15:15:22.575Z"
   },
   {
    "duration": 11,
    "start_time": "2022-03-28T15:15:33.192Z"
   },
   {
    "duration": 15,
    "start_time": "2022-03-28T15:15:44.749Z"
   },
   {
    "duration": 79,
    "start_time": "2022-03-28T15:17:06.371Z"
   },
   {
    "duration": 26,
    "start_time": "2022-03-28T15:17:08.508Z"
   },
   {
    "duration": 19,
    "start_time": "2022-03-28T15:17:09.687Z"
   },
   {
    "duration": 5,
    "start_time": "2022-03-28T15:17:12.008Z"
   },
   {
    "duration": 47,
    "start_time": "2022-03-28T15:17:13.524Z"
   },
   {
    "duration": 34,
    "start_time": "2022-03-28T15:17:16.095Z"
   },
   {
    "duration": 20,
    "start_time": "2022-03-28T15:17:47.166Z"
   },
   {
    "duration": 17,
    "start_time": "2022-03-28T15:18:09.443Z"
   },
   {
    "duration": 19,
    "start_time": "2022-03-28T15:18:23.624Z"
   },
   {
    "duration": 96,
    "start_time": "2022-03-28T15:18:37.706Z"
   },
   {
    "duration": 24,
    "start_time": "2022-03-28T15:18:40.714Z"
   },
   {
    "duration": 17,
    "start_time": "2022-03-28T15:18:41.605Z"
   },
   {
    "duration": 5,
    "start_time": "2022-03-28T15:18:43.442Z"
   },
   {
    "duration": 50,
    "start_time": "2022-03-28T15:18:44.537Z"
   },
   {
    "duration": 24,
    "start_time": "2022-03-28T15:18:46.159Z"
   },
   {
    "duration": 24,
    "start_time": "2022-03-28T15:19:03.549Z"
   },
   {
    "duration": 13,
    "start_time": "2022-03-28T15:19:23.758Z"
   },
   {
    "duration": 18,
    "start_time": "2022-03-28T15:19:27.890Z"
   },
   {
    "duration": 12,
    "start_time": "2022-03-28T15:19:33.680Z"
   },
   {
    "duration": 86,
    "start_time": "2022-03-28T15:19:38.956Z"
   },
   {
    "duration": 25,
    "start_time": "2022-03-28T15:19:40.587Z"
   },
   {
    "duration": 19,
    "start_time": "2022-03-28T15:19:42.739Z"
   },
   {
    "duration": 4,
    "start_time": "2022-03-28T15:19:44.991Z"
   },
   {
    "duration": 47,
    "start_time": "2022-03-28T15:19:47.890Z"
   },
   {
    "duration": 18,
    "start_time": "2022-03-28T15:19:50.221Z"
   },
   {
    "duration": 11,
    "start_time": "2022-03-28T15:19:58.061Z"
   },
   {
    "duration": 16,
    "start_time": "2022-03-28T15:20:04.022Z"
   },
   {
    "duration": 0,
    "start_time": "2022-03-28T15:22:08.703Z"
   },
   {
    "duration": 84,
    "start_time": "2022-03-28T15:22:18.371Z"
   },
   {
    "duration": 24,
    "start_time": "2022-03-28T15:22:19.814Z"
   },
   {
    "duration": 18,
    "start_time": "2022-03-28T15:22:21.423Z"
   },
   {
    "duration": 4,
    "start_time": "2022-03-28T15:22:23.907Z"
   },
   {
    "duration": 53,
    "start_time": "2022-03-28T15:22:25.732Z"
   },
   {
    "duration": 51,
    "start_time": "2022-03-28T15:22:40.699Z"
   },
   {
    "duration": 13,
    "start_time": "2022-03-28T15:30:10.480Z"
   },
   {
    "duration": 13,
    "start_time": "2022-03-28T15:30:24.515Z"
   },
   {
    "duration": 14,
    "start_time": "2022-03-28T15:32:51.813Z"
   },
   {
    "duration": 14,
    "start_time": "2022-03-28T15:33:03.681Z"
   },
   {
    "duration": 14,
    "start_time": "2022-03-28T15:43:41.783Z"
   },
   {
    "duration": 8,
    "start_time": "2022-03-28T15:46:06.663Z"
   },
   {
    "duration": 94,
    "start_time": "2022-03-28T15:46:15.372Z"
   },
   {
    "duration": 24,
    "start_time": "2022-03-28T15:46:18.566Z"
   },
   {
    "duration": 19,
    "start_time": "2022-03-28T15:46:19.673Z"
   },
   {
    "duration": 5,
    "start_time": "2022-03-28T15:46:21.647Z"
   },
   {
    "duration": 51,
    "start_time": "2022-03-28T15:46:22.746Z"
   },
   {
    "duration": 18,
    "start_time": "2022-03-28T15:46:24.004Z"
   },
   {
    "duration": 10,
    "start_time": "2022-03-28T15:46:24.712Z"
   },
   {
    "duration": 14,
    "start_time": "2022-03-28T15:46:27.734Z"
   },
   {
    "duration": 13,
    "start_time": "2022-03-28T15:46:29.146Z"
   },
   {
    "duration": 4,
    "start_time": "2022-03-28T15:46:29.872Z"
   },
   {
    "duration": 5,
    "start_time": "2022-03-28T15:46:46.727Z"
   },
   {
    "duration": 6,
    "start_time": "2022-03-28T15:49:19.786Z"
   },
   {
    "duration": 5,
    "start_time": "2022-03-28T15:49:45.438Z"
   },
   {
    "duration": 38,
    "start_time": "2022-03-28T15:54:44.401Z"
   },
   {
    "duration": 20,
    "start_time": "2022-03-28T15:55:37.305Z"
   },
   {
    "duration": 18,
    "start_time": "2022-03-28T15:57:06.334Z"
   },
   {
    "duration": 4,
    "start_time": "2022-03-28T15:57:12.008Z"
   },
   {
    "duration": 2718,
    "start_time": "2022-03-28T15:57:13.968Z"
   },
   {
    "duration": 11,
    "start_time": "2022-03-28T15:57:16.880Z"
   },
   {
    "duration": 81,
    "start_time": "2022-03-28T15:57:30.685Z"
   },
   {
    "duration": 24,
    "start_time": "2022-03-28T15:57:32.564Z"
   },
   {
    "duration": 18,
    "start_time": "2022-03-28T15:57:33.784Z"
   },
   {
    "duration": 5,
    "start_time": "2022-03-28T15:57:35.854Z"
   },
   {
    "duration": 51,
    "start_time": "2022-03-28T15:57:37.367Z"
   },
   {
    "duration": 44,
    "start_time": "2022-03-28T15:57:54.902Z"
   },
   {
    "duration": 18,
    "start_time": "2022-03-28T15:57:56.968Z"
   },
   {
    "duration": 11,
    "start_time": "2022-03-28T15:58:01.617Z"
   },
   {
    "duration": 15,
    "start_time": "2022-03-28T15:58:08.740Z"
   },
   {
    "duration": 14,
    "start_time": "2022-03-28T15:58:10.599Z"
   },
   {
    "duration": 20,
    "start_time": "2022-03-28T15:58:11.680Z"
   },
   {
    "duration": 19,
    "start_time": "2022-03-28T15:58:31.447Z"
   },
   {
    "duration": 21,
    "start_time": "2022-03-28T15:59:11.263Z"
   },
   {
    "duration": 13,
    "start_time": "2022-03-28T16:03:16.183Z"
   },
   {
    "duration": 12,
    "start_time": "2022-03-28T16:03:43.333Z"
   },
   {
    "duration": 12,
    "start_time": "2022-03-28T16:03:55.939Z"
   },
   {
    "duration": 45,
    "start_time": "2022-03-28T16:05:44.764Z"
   },
   {
    "duration": 14,
    "start_time": "2022-03-28T16:06:17.236Z"
   },
   {
    "duration": 14,
    "start_time": "2022-03-28T16:07:03.898Z"
   },
   {
    "duration": 12,
    "start_time": "2022-03-28T16:08:54.951Z"
   },
   {
    "duration": 12,
    "start_time": "2022-03-28T16:08:55.692Z"
   },
   {
    "duration": 13,
    "start_time": "2022-03-28T16:08:56.533Z"
   },
   {
    "duration": 14,
    "start_time": "2022-03-28T16:08:57.197Z"
   },
   {
    "duration": 13,
    "start_time": "2022-03-28T16:12:03.995Z"
   },
   {
    "duration": 3,
    "start_time": "2022-03-28T16:13:05.558Z"
   },
   {
    "duration": 2134,
    "start_time": "2022-03-28T16:16:54.713Z"
   },
   {
    "duration": 18,
    "start_time": "2022-03-28T16:20:52.429Z"
   },
   {
    "duration": 19,
    "start_time": "2022-03-28T16:21:06.855Z"
   },
   {
    "duration": 14,
    "start_time": "2022-03-28T16:21:47.367Z"
   },
   {
    "duration": 13,
    "start_time": "2022-03-28T16:23:18.938Z"
   },
   {
    "duration": 16,
    "start_time": "2022-03-28T16:36:42.211Z"
   },
   {
    "duration": 16,
    "start_time": "2022-03-28T16:37:17.262Z"
   },
   {
    "duration": 15,
    "start_time": "2022-03-28T16:38:44.386Z"
   },
   {
    "duration": 15,
    "start_time": "2022-03-28T16:40:19.453Z"
   },
   {
    "duration": 15,
    "start_time": "2022-03-28T16:41:07.242Z"
   },
   {
    "duration": 550,
    "start_time": "2022-03-28T16:41:07.955Z"
   },
   {
    "duration": 19,
    "start_time": "2022-03-28T16:46:35.556Z"
   },
   {
    "duration": 19,
    "start_time": "2022-03-28T16:48:01.742Z"
   },
   {
    "duration": 12,
    "start_time": "2022-03-28T16:48:55.856Z"
   },
   {
    "duration": 12,
    "start_time": "2022-03-28T16:49:23.198Z"
   },
   {
    "duration": 42,
    "start_time": "2022-03-28T18:57:23.446Z"
   },
   {
    "duration": 7,
    "start_time": "2022-03-28T18:57:29.048Z"
   },
   {
    "duration": 491,
    "start_time": "2022-03-28T19:01:02.971Z"
   },
   {
    "duration": 77,
    "start_time": "2022-03-28T19:01:05.981Z"
   },
   {
    "duration": 25,
    "start_time": "2022-03-28T19:01:06.060Z"
   },
   {
    "duration": 16,
    "start_time": "2022-03-28T19:01:06.086Z"
   },
   {
    "duration": 4,
    "start_time": "2022-03-28T19:01:06.103Z"
   },
   {
    "duration": 53,
    "start_time": "2022-03-28T19:01:06.110Z"
   },
   {
    "duration": 30,
    "start_time": "2022-03-28T19:01:06.164Z"
   },
   {
    "duration": 10,
    "start_time": "2022-03-28T19:01:06.195Z"
   },
   {
    "duration": 12,
    "start_time": "2022-03-28T19:01:06.207Z"
   },
   {
    "duration": 22,
    "start_time": "2022-03-28T19:01:06.221Z"
   },
   {
    "duration": 39,
    "start_time": "2022-03-28T19:01:06.245Z"
   },
   {
    "duration": 11,
    "start_time": "2022-03-28T19:01:06.285Z"
   },
   {
    "duration": 10,
    "start_time": "2022-03-28T19:01:06.297Z"
   },
   {
    "duration": 13,
    "start_time": "2022-03-28T19:01:06.308Z"
   },
   {
    "duration": 14,
    "start_time": "2022-03-28T19:06:55.512Z"
   },
   {
    "duration": 15,
    "start_time": "2022-03-28T19:07:12.195Z"
   },
   {
    "duration": 12,
    "start_time": "2022-03-28T19:07:27.171Z"
   },
   {
    "duration": 14,
    "start_time": "2022-03-28T19:07:38.157Z"
   },
   {
    "duration": 83,
    "start_time": "2022-03-28T20:03:11.021Z"
   },
   {
    "duration": 22,
    "start_time": "2022-03-28T20:03:13.730Z"
   },
   {
    "duration": 16,
    "start_time": "2022-03-28T20:03:15.421Z"
   },
   {
    "duration": 19,
    "start_time": "2022-03-28T20:03:19.323Z"
   },
   {
    "duration": 4,
    "start_time": "2022-03-28T20:03:22.982Z"
   },
   {
    "duration": 44,
    "start_time": "2022-03-28T20:03:28.322Z"
   },
   {
    "duration": 40,
    "start_time": "2022-03-28T20:03:42.555Z"
   },
   {
    "duration": 42,
    "start_time": "2022-03-28T20:04:15.986Z"
   },
   {
    "duration": 28,
    "start_time": "2022-03-28T20:06:11.974Z"
   },
   {
    "duration": 16,
    "start_time": "2022-03-28T20:06:18.405Z"
   },
   {
    "duration": 14,
    "start_time": "2022-03-28T20:06:27.155Z"
   },
   {
    "duration": 3048,
    "start_time": "2022-03-28T20:10:00.299Z"
   },
   {
    "duration": 79,
    "start_time": "2022-03-28T20:10:20.977Z"
   },
   {
    "duration": 20,
    "start_time": "2022-03-28T20:10:23.190Z"
   },
   {
    "duration": 16,
    "start_time": "2022-03-28T20:10:24.904Z"
   },
   {
    "duration": 13,
    "start_time": "2022-03-28T20:10:26.269Z"
   },
   {
    "duration": 4,
    "start_time": "2022-03-28T20:10:34.120Z"
   },
   {
    "duration": 25,
    "start_time": "2022-03-28T20:10:44.956Z"
   },
   {
    "duration": 3,
    "start_time": "2022-03-28T20:11:18.938Z"
   },
   {
    "duration": 27,
    "start_time": "2022-03-28T20:11:20.295Z"
   },
   {
    "duration": 17,
    "start_time": "2022-03-28T20:11:23.498Z"
   },
   {
    "duration": 14,
    "start_time": "2022-03-28T20:11:25.166Z"
   },
   {
    "duration": 12,
    "start_time": "2022-03-28T20:11:39.638Z"
   },
   {
    "duration": 13,
    "start_time": "2022-03-28T20:11:50.596Z"
   },
   {
    "duration": 13,
    "start_time": "2022-03-28T20:12:01.153Z"
   },
   {
    "duration": 15,
    "start_time": "2022-03-28T20:12:03.780Z"
   },
   {
    "duration": 13,
    "start_time": "2022-03-28T20:12:07.618Z"
   },
   {
    "duration": 13,
    "start_time": "2022-03-28T20:12:10.059Z"
   },
   {
    "duration": 15,
    "start_time": "2022-03-28T20:12:12.051Z"
   },
   {
    "duration": 944,
    "start_time": "2022-04-08T13:04:57.158Z"
   },
   {
    "duration": 38,
    "start_time": "2022-04-08T13:04:58.105Z"
   },
   {
    "duration": 22,
    "start_time": "2022-04-08T13:04:58.145Z"
   },
   {
    "duration": 45,
    "start_time": "2022-04-08T13:04:58.170Z"
   },
   {
    "duration": 7,
    "start_time": "2022-04-08T13:04:58.243Z"
   },
   {
    "duration": 53,
    "start_time": "2022-04-08T13:04:58.252Z"
   },
   {
    "duration": 51,
    "start_time": "2022-04-08T13:04:58.307Z"
   },
   {
    "duration": 25,
    "start_time": "2022-04-08T13:04:58.360Z"
   },
   {
    "duration": 23,
    "start_time": "2022-04-08T13:04:58.388Z"
   },
   {
    "duration": 20,
    "start_time": "2022-04-08T13:04:58.443Z"
   },
   {
    "duration": 31,
    "start_time": "2022-04-08T13:04:58.465Z"
   },
   {
    "duration": 19,
    "start_time": "2022-04-08T13:04:58.498Z"
   },
   {
    "duration": 42,
    "start_time": "2022-04-08T13:04:58.519Z"
   },
   {
    "duration": 21,
    "start_time": "2022-04-08T13:04:58.563Z"
   },
   {
    "duration": 813,
    "start_time": "2022-04-08T13:34:33.314Z"
   },
   {
    "duration": 35,
    "start_time": "2022-04-08T13:34:34.129Z"
   },
   {
    "duration": 24,
    "start_time": "2022-04-08T13:34:34.166Z"
   },
   {
    "duration": 78,
    "start_time": "2022-04-08T13:34:34.192Z"
   },
   {
    "duration": 6,
    "start_time": "2022-04-08T13:34:34.273Z"
   },
   {
    "duration": 94,
    "start_time": "2022-04-08T13:34:34.282Z"
   },
   {
    "duration": 25,
    "start_time": "2022-04-08T13:34:34.379Z"
   },
   {
    "duration": 48,
    "start_time": "2022-04-08T13:34:34.406Z"
   },
   {
    "duration": 22,
    "start_time": "2022-04-08T13:34:34.456Z"
   },
   {
    "duration": 20,
    "start_time": "2022-04-08T13:34:34.481Z"
   },
   {
    "duration": 60,
    "start_time": "2022-04-08T13:34:34.503Z"
   },
   {
    "duration": 18,
    "start_time": "2022-04-08T13:34:34.565Z"
   },
   {
    "duration": 25,
    "start_time": "2022-04-08T13:34:34.585Z"
   },
   {
    "duration": 46,
    "start_time": "2022-04-08T13:34:34.612Z"
   },
   {
    "duration": 408,
    "start_time": "2022-04-11T08:48:49.847Z"
   },
   {
    "duration": 86,
    "start_time": "2022-04-11T08:48:50.775Z"
   },
   {
    "duration": 24,
    "start_time": "2022-04-11T08:48:57.940Z"
   },
   {
    "duration": 19,
    "start_time": "2022-04-11T08:52:12.038Z"
   },
   {
    "duration": 17,
    "start_time": "2022-04-11T08:52:25.248Z"
   },
   {
    "duration": 131,
    "start_time": "2022-04-11T08:52:39.194Z"
   },
   {
    "duration": 23,
    "start_time": "2022-04-11T08:52:51.082Z"
   },
   {
    "duration": 19,
    "start_time": "2022-04-11T08:58:50.033Z"
   },
   {
    "duration": 129,
    "start_time": "2022-04-11T08:59:17.673Z"
   },
   {
    "duration": 135,
    "start_time": "2022-04-11T08:59:51.048Z"
   },
   {
    "duration": 20,
    "start_time": "2022-04-11T08:59:59.029Z"
   },
   {
    "duration": 2,
    "start_time": "2022-04-11T09:01:23.019Z"
   },
   {
    "duration": 73,
    "start_time": "2022-04-11T09:01:23.502Z"
   },
   {
    "duration": 24,
    "start_time": "2022-04-11T09:01:30.224Z"
   },
   {
    "duration": 20,
    "start_time": "2022-04-11T09:01:37.492Z"
   },
   {
    "duration": 38,
    "start_time": "2022-04-11T09:08:56.959Z"
   },
   {
    "duration": 19,
    "start_time": "2022-04-11T09:10:00.944Z"
   },
   {
    "duration": 79,
    "start_time": "2022-04-11T09:11:43.459Z"
   },
   {
    "duration": 19,
    "start_time": "2022-04-11T09:12:08.762Z"
   },
   {
    "duration": 14,
    "start_time": "2022-04-11T09:18:58.123Z"
   },
   {
    "duration": 5,
    "start_time": "2022-04-11T09:19:02.111Z"
   },
   {
    "duration": 32,
    "start_time": "2022-04-11T09:19:04.524Z"
   },
   {
    "duration": 17,
    "start_time": "2022-04-11T09:19:08.344Z"
   },
   {
    "duration": 16,
    "start_time": "2022-04-11T09:19:10.137Z"
   },
   {
    "duration": 4,
    "start_time": "2022-04-11T09:19:15.629Z"
   },
   {
    "duration": 14,
    "start_time": "2022-04-11T09:19:16.484Z"
   },
   {
    "duration": 15,
    "start_time": "2022-04-11T09:19:22.385Z"
   },
   {
    "duration": 18,
    "start_time": "2022-04-11T09:20:43.226Z"
   },
   {
    "duration": 20,
    "start_time": "2022-04-11T09:20:53.725Z"
   },
   {
    "duration": 30,
    "start_time": "2022-04-11T09:22:19.538Z"
   },
   {
    "duration": 29,
    "start_time": "2022-04-11T09:23:39.609Z"
   },
   {
    "duration": 23,
    "start_time": "2022-04-11T09:24:27.906Z"
   },
   {
    "duration": 26,
    "start_time": "2022-04-11T09:26:00.424Z"
   },
   {
    "duration": 29,
    "start_time": "2022-04-11T09:26:43.037Z"
   },
   {
    "duration": 16,
    "start_time": "2022-04-11T09:30:16.697Z"
   },
   {
    "duration": 27,
    "start_time": "2022-04-11T09:31:02.272Z"
   },
   {
    "duration": 26,
    "start_time": "2022-04-11T09:33:17.496Z"
   },
   {
    "duration": 43,
    "start_time": "2022-04-11T09:37:02.101Z"
   },
   {
    "duration": 31,
    "start_time": "2022-04-11T09:44:10.457Z"
   },
   {
    "duration": 23,
    "start_time": "2022-04-11T09:44:21.645Z"
   },
   {
    "duration": 22,
    "start_time": "2022-04-11T09:44:36.120Z"
   },
   {
    "duration": 3,
    "start_time": "2022-04-11T09:45:29.495Z"
   },
   {
    "duration": 72,
    "start_time": "2022-04-11T09:45:29.499Z"
   },
   {
    "duration": 23,
    "start_time": "2022-04-11T09:45:29.573Z"
   },
   {
    "duration": 20,
    "start_time": "2022-04-11T09:45:29.597Z"
   },
   {
    "duration": 41,
    "start_time": "2022-04-11T09:45:29.619Z"
   },
   {
    "duration": 4,
    "start_time": "2022-04-11T09:45:29.661Z"
   },
   {
    "duration": 32,
    "start_time": "2022-04-11T09:45:29.666Z"
   },
   {
    "duration": 18,
    "start_time": "2022-04-11T09:45:29.699Z"
   },
   {
    "duration": 44,
    "start_time": "2022-04-11T09:45:29.719Z"
   },
   {
    "duration": 5,
    "start_time": "2022-04-11T09:45:29.765Z"
   },
   {
    "duration": 15,
    "start_time": "2022-04-11T09:45:29.771Z"
   },
   {
    "duration": 4,
    "start_time": "2022-04-11T09:45:29.788Z"
   },
   {
    "duration": 19,
    "start_time": "2022-04-11T09:45:29.793Z"
   },
   {
    "duration": 12,
    "start_time": "2022-04-11T09:45:29.815Z"
   },
   {
    "duration": 33,
    "start_time": "2022-04-11T09:45:29.829Z"
   },
   {
    "duration": 14,
    "start_time": "2022-04-11T09:45:29.863Z"
   },
   {
    "duration": 15,
    "start_time": "2022-04-11T09:45:29.878Z"
   },
   {
    "duration": 135,
    "start_time": "2022-04-11T09:52:30.308Z"
   },
   {
    "duration": 3,
    "start_time": "2022-04-11T09:52:39.652Z"
   },
   {
    "duration": 105,
    "start_time": "2022-04-11T09:52:39.658Z"
   },
   {
    "duration": 27,
    "start_time": "2022-04-11T09:52:39.765Z"
   },
   {
    "duration": 23,
    "start_time": "2022-04-11T09:52:39.794Z"
   },
   {
    "duration": 54,
    "start_time": "2022-04-11T09:52:39.819Z"
   },
   {
    "duration": 5,
    "start_time": "2022-04-11T09:52:39.875Z"
   },
   {
    "duration": 37,
    "start_time": "2022-04-11T09:52:39.882Z"
   },
   {
    "duration": 46,
    "start_time": "2022-04-11T09:52:39.920Z"
   },
   {
    "duration": 20,
    "start_time": "2022-04-11T09:52:39.969Z"
   },
   {
    "duration": 4,
    "start_time": "2022-04-11T09:52:39.991Z"
   },
   {
    "duration": 31,
    "start_time": "2022-04-11T09:52:39.997Z"
   },
   {
    "duration": 6,
    "start_time": "2022-04-11T09:52:40.031Z"
   },
   {
    "duration": 20,
    "start_time": "2022-04-11T09:52:40.058Z"
   },
   {
    "duration": 137,
    "start_time": "2022-04-11T09:52:40.080Z"
   },
   {
    "duration": 0,
    "start_time": "2022-04-11T09:52:40.219Z"
   },
   {
    "duration": 0,
    "start_time": "2022-04-11T09:52:40.221Z"
   },
   {
    "duration": 0,
    "start_time": "2022-04-11T09:52:40.223Z"
   },
   {
    "duration": 20,
    "start_time": "2022-04-11T09:53:04.797Z"
   },
   {
    "duration": 19,
    "start_time": "2022-04-11T09:53:56.697Z"
   },
   {
    "duration": 12,
    "start_time": "2022-04-11T09:55:02.093Z"
   },
   {
    "duration": 10,
    "start_time": "2022-04-11T09:56:05.278Z"
   },
   {
    "duration": 13,
    "start_time": "2022-04-11T09:56:19.071Z"
   },
   {
    "duration": 15,
    "start_time": "2022-04-11T09:59:47.444Z"
   },
   {
    "duration": 17,
    "start_time": "2022-04-11T10:01:10.037Z"
   },
   {
    "duration": 16,
    "start_time": "2022-04-11T10:01:31.758Z"
   },
   {
    "duration": 15,
    "start_time": "2022-04-11T10:02:14.959Z"
   },
   {
    "duration": 2502,
    "start_time": "2022-04-11T10:09:12.103Z"
   },
   {
    "duration": 2154,
    "start_time": "2022-04-11T10:09:17.505Z"
   },
   {
    "duration": 16,
    "start_time": "2022-04-11T10:09:43.152Z"
   },
   {
    "duration": 2450,
    "start_time": "2022-04-11T10:17:13.657Z"
   },
   {
    "duration": 19,
    "start_time": "2022-04-11T10:17:31.626Z"
   },
   {
    "duration": 187,
    "start_time": "2022-04-11T10:21:01.125Z"
   },
   {
    "duration": 147,
    "start_time": "2022-04-11T10:21:13.391Z"
   },
   {
    "duration": 16,
    "start_time": "2022-04-11T10:21:22.059Z"
   },
   {
    "duration": 2397,
    "start_time": "2022-04-11T10:23:19.486Z"
   },
   {
    "duration": 18,
    "start_time": "2022-04-11T10:23:30.318Z"
   },
   {
    "duration": 15,
    "start_time": "2022-04-11T10:37:55.266Z"
   },
   {
    "duration": 2,
    "start_time": "2022-04-11T10:50:37.613Z"
   },
   {
    "duration": 118,
    "start_time": "2022-04-11T10:50:37.618Z"
   },
   {
    "duration": 34,
    "start_time": "2022-04-11T10:50:37.738Z"
   },
   {
    "duration": 20,
    "start_time": "2022-04-11T10:50:37.774Z"
   },
   {
    "duration": 16,
    "start_time": "2022-04-11T10:50:37.796Z"
   },
   {
    "duration": 4,
    "start_time": "2022-04-11T10:50:37.813Z"
   },
   {
    "duration": 71,
    "start_time": "2022-04-11T10:50:37.818Z"
   },
   {
    "duration": 18,
    "start_time": "2022-04-11T10:50:37.891Z"
   },
   {
    "duration": 15,
    "start_time": "2022-04-11T10:50:37.911Z"
   },
   {
    "duration": 5,
    "start_time": "2022-04-11T10:50:37.927Z"
   },
   {
    "duration": 14,
    "start_time": "2022-04-11T10:50:37.958Z"
   },
   {
    "duration": 4,
    "start_time": "2022-04-11T10:50:37.974Z"
   },
   {
    "duration": 16,
    "start_time": "2022-04-11T10:50:37.980Z"
   },
   {
    "duration": 17,
    "start_time": "2022-04-11T10:50:37.999Z"
   },
   {
    "duration": 48,
    "start_time": "2022-04-11T10:50:38.018Z"
   },
   {
    "duration": 19,
    "start_time": "2022-04-11T10:50:38.068Z"
   },
   {
    "duration": 27,
    "start_time": "2022-04-11T10:50:38.089Z"
   },
   {
    "duration": 18,
    "start_time": "2022-04-11T10:56:10.883Z"
   },
   {
    "duration": 4,
    "start_time": "2022-04-11T10:56:12.451Z"
   },
   {
    "duration": 2603,
    "start_time": "2022-04-11T10:56:13.234Z"
   },
   {
    "duration": 0,
    "start_time": "2022-04-11T10:56:15.839Z"
   },
   {
    "duration": 0,
    "start_time": "2022-04-11T10:56:15.840Z"
   },
   {
    "duration": 0,
    "start_time": "2022-04-11T10:56:15.841Z"
   },
   {
    "duration": 0,
    "start_time": "2022-04-11T10:56:15.842Z"
   },
   {
    "duration": 4,
    "start_time": "2022-04-11T10:56:16.019Z"
   },
   {
    "duration": 13,
    "start_time": "2022-04-11T10:56:16.273Z"
   },
   {
    "duration": 15,
    "start_time": "2022-04-11T10:56:17.246Z"
   },
   {
    "duration": 15,
    "start_time": "2022-04-11T10:56:18.252Z"
   },
   {
    "duration": 17,
    "start_time": "2022-04-11T10:56:19.441Z"
   },
   {
    "duration": 18,
    "start_time": "2022-04-11T10:56:20.668Z"
   },
   {
    "duration": 2220,
    "start_time": "2022-04-11T10:58:35.877Z"
   },
   {
    "duration": 3,
    "start_time": "2022-04-11T10:59:04.213Z"
   },
   {
    "duration": 3,
    "start_time": "2022-04-11T10:59:07.326Z"
   },
   {
    "duration": 76,
    "start_time": "2022-04-11T10:59:07.332Z"
   },
   {
    "duration": 22,
    "start_time": "2022-04-11T10:59:07.410Z"
   },
   {
    "duration": 41,
    "start_time": "2022-04-11T10:59:07.434Z"
   },
   {
    "duration": 25,
    "start_time": "2022-04-11T10:59:07.477Z"
   },
   {
    "duration": 5,
    "start_time": "2022-04-11T10:59:07.504Z"
   },
   {
    "duration": 80,
    "start_time": "2022-04-11T10:59:07.511Z"
   },
   {
    "duration": 25,
    "start_time": "2022-04-11T10:59:07.593Z"
   },
   {
    "duration": 41,
    "start_time": "2022-04-11T10:59:07.623Z"
   },
   {
    "duration": 4,
    "start_time": "2022-04-11T10:59:07.665Z"
   },
   {
    "duration": 15,
    "start_time": "2022-04-11T10:59:07.671Z"
   },
   {
    "duration": 6,
    "start_time": "2022-04-11T10:59:07.687Z"
   },
   {
    "duration": 15,
    "start_time": "2022-04-11T10:59:07.694Z"
   },
   {
    "duration": 16,
    "start_time": "2022-04-11T10:59:07.710Z"
   },
   {
    "duration": 45,
    "start_time": "2022-04-11T10:59:07.727Z"
   },
   {
    "duration": 18,
    "start_time": "2022-04-11T10:59:07.774Z"
   },
   {
    "duration": 19,
    "start_time": "2022-04-11T10:59:07.794Z"
   },
   {
    "duration": 397,
    "start_time": "2022-04-11T15:45:11.756Z"
   },
   {
    "duration": 88,
    "start_time": "2022-04-11T15:45:12.155Z"
   },
   {
    "duration": 29,
    "start_time": "2022-04-11T15:45:12.244Z"
   },
   {
    "duration": 19,
    "start_time": "2022-04-11T15:45:12.276Z"
   },
   {
    "duration": 18,
    "start_time": "2022-04-11T15:45:12.296Z"
   },
   {
    "duration": 4,
    "start_time": "2022-04-11T15:45:12.315Z"
   },
   {
    "duration": 65,
    "start_time": "2022-04-11T15:45:12.321Z"
   },
   {
    "duration": 17,
    "start_time": "2022-04-11T15:45:12.387Z"
   },
   {
    "duration": 15,
    "start_time": "2022-04-11T15:45:12.406Z"
   },
   {
    "duration": 7,
    "start_time": "2022-04-11T15:45:12.423Z"
   },
   {
    "duration": 34,
    "start_time": "2022-04-11T15:45:12.432Z"
   },
   {
    "duration": 3,
    "start_time": "2022-04-11T15:45:12.467Z"
   },
   {
    "duration": 24,
    "start_time": "2022-04-11T15:45:12.471Z"
   },
   {
    "duration": 18,
    "start_time": "2022-04-11T15:45:12.496Z"
   },
   {
    "duration": 14,
    "start_time": "2022-04-11T15:45:12.515Z"
   },
   {
    "duration": 33,
    "start_time": "2022-04-11T15:45:12.531Z"
   },
   {
    "duration": 17,
    "start_time": "2022-04-11T15:45:12.565Z"
   }
  ],
  "kernelspec": {
   "display_name": "Python 3 (ipykernel)",
   "language": "python",
   "name": "python3"
  },
  "language_info": {
   "codemirror_mode": {
    "name": "ipython",
    "version": 3
   },
   "file_extension": ".py",
   "mimetype": "text/x-python",
   "name": "python",
   "nbconvert_exporter": "python",
   "pygments_lexer": "ipython3",
   "version": "3.9.13"
  },
  "toc": {
   "base_numbering": 1,
   "nav_menu": {},
   "number_sections": true,
   "sideBar": true,
   "skip_h1_title": true,
   "title_cell": "Table of Contents",
   "title_sidebar": "Contents",
   "toc_cell": false,
   "toc_position": {},
   "toc_section_display": true,
   "toc_window_display": false
  }
 },
 "nbformat": 4,
 "nbformat_minor": 5
}
